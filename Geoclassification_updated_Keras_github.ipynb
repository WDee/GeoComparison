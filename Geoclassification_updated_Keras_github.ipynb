{
 "cells": [
  {
   "cell_type": "code",
   "execution_count": 174,
   "metadata": {},
   "outputs": [
    {
     "name": "stdout",
     "output_type": "stream",
     "text": [
      "python sys.version_info(major=2, minor=7, micro=16, releaselevel='final', serial=0)\n",
      "pandas 0.24.2\n",
      "numpy 1.16.5\n",
      "sklearn 0.20.3\n",
      "\n",
      "['lin_reg', 'log_clfn', 'keras_reg', 'keras_clfn', 'pca']  = active algos\n"
     ]
    }
   ],
   "source": [
    "#!pip install -U kaleido\n",
    "from __future__ import print_function\n",
    "import math\n",
    "from sklearn import linear_model\n",
    "from sklearn.model_selection import (cross_val_predict, cross_val_score, train_test_split, \n",
    "                                     LeaveOneGroupOut, GridSearchCV, cross_validate,\n",
    "                                     StratifiedKFold, GroupKFold, KFold\n",
    "                                    )\n",
    "from sklearn.linear_model import (SGDClassifier,SGDRegressor,LogisticRegression)\n",
    "from sklearn.metrics import accuracy_score, mean_squared_error\n",
    "from sklearn.pipeline import Pipeline\n",
    "from sklearn.utils.validation import check_array, column_or_1d\n",
    "from sklearn.utils.multiclass import type_of_target\n",
    "from sklearn.decomposition import PCA\n",
    "from sklearn.externals.joblib import parallel_backend\n",
    "from sklearn.metrics.pairwise import paired_distances\n",
    "from sklearn.metrics.pairwise import manhattan_distances\n",
    "\n",
    "import sklearn\n",
    "import numpy as np\n",
    "import pandas as pd\n",
    "import time\n",
    "import os \n",
    "import sys\n",
    "import plotly.express as px\n",
    "import plotly.graph_objects as go\n",
    "from matplotlib import pyplot as plt\n",
    "from functools import wraps\n",
    "import pickle\n",
    "\n",
    "print('python', sys.version_info)\n",
    "print('pandas', pd.__version__)\n",
    "print('numpy', np.__version__)\n",
    "print('sklearn', sklearn.__version__)\n",
    "\n",
    "t1 = time.time()\n",
    "\n",
    "local_desktop_run=0 \n",
    "total_algo_list=[\"lin_reg\",\"log_clfn\",\"keras_reg\",\"keras_clfn\",\"pca\"]\n",
    "algo_active_list=total_algo_list[:]\n",
    "print(\"\")\n",
    "print(algo_active_list,\" = active algos\")"
   ]
  },
  {
   "cell_type": "code",
   "execution_count": 175,
   "metadata": {
    "scrolled": true
   },
   "outputs": [
    {
     "name": "stdout",
     "output_type": "stream",
     "text": [
      "fp  = active source data\n"
     ]
    }
   ],
   "source": [
    "source_selection=0\n",
    "sourcelist=[\"fp\",\"vivax\"]\n",
    "source=sourcelist[source_selection]\n",
    "print(source,\" = active source data\")"
   ]
  },
  {
   "cell_type": "code",
   "execution_count": 176,
   "metadata": {},
   "outputs": [],
   "source": [
    "###key settings\n",
    "use_simulated_data=1\n",
    "use_real_data=0\n",
    "calculate_out_of_folds=1\n",
    "plotting_enabled=0\n",
    "\n",
    "cross_validate_new=0\n",
    "CV_FOLDS = 4\n",
    "\n",
    "select_subset_columns=0\n",
    "subset_columns=1000\n",
    "sub_sample_samples=1\n",
    "number_sub_samples=10000\n",
    "remove_small_values=1\n",
    "n_jobs_log_clfn=-1\n",
    "n_jobs_2reg=-1\n",
    "\n",
    "patience_setting=1000 \n",
    "optimizer_selected=\"SGD\""
   ]
  },
  {
   "cell_type": "code",
   "execution_count": 177,
   "metadata": {},
   "outputs": [
    {
     "name": "stdout",
     "output_type": "stream",
     "text": [
      "geopy 1.23.0\n",
      "tensorflow 2.1.0\n",
      "[0.001      0.00316228 0.01       0.03162278 0.1        0.31622777\n",
      " 1.        ]\n",
      "[0.001      0.00316228 0.01       0.03162278 0.1        0.31622777\n",
      " 1.        ]\n",
      "{'clf__alpha': 0.1}\n"
     ]
    }
   ],
   "source": [
    "###imputation\n",
    "replaceN=1\n",
    "replace_05=1\n",
    "recode_float=1\n",
    "verbose=0\n",
    "\n",
    "###CNN\n",
    "cnn_nlayers=8 \n",
    "cnn_width=64 \n",
    "cnn_dropout_prop=0.25\n",
    "cnn_max_epochs=1200 \n",
    "cnn_batch_size=64\n",
    "keras_verbose = 0\n",
    "\n",
    "###test_training_set\n",
    "holdout_size_perc = 0.2  \n",
    "test_perc=0.5 ###percentage to split holidout in test and validation \n",
    "\n",
    "### seed\n",
    "seed_value=1\n",
    "\n",
    "rudimentary_calculation = 0\n",
    "import geopy.distance as geo_distance\n",
    "import geopy\n",
    "import tensorflow as tf\n",
    "from tensorflow.keras import backend as K\n",
    "print('geopy', geopy.__version__)\n",
    "print('tensorflow', tf.__version__)\n",
    "\n",
    "###cross_validation_range and files\n",
    "cv_params_regression=np.logspace(-3, 0, 7); print(cv_params_regression)\n",
    "cv_params_classifier=np.logspace(-3, 0, 7); print(cv_params_classifier)\n",
    "\n",
    "if source==\"fp\":\n",
    "    if use_simulated_data==1:\n",
    "        logistic_classifier_input_file='clf_sim.dat'\n",
    "        linear_regression_input_file='2reg_sim.dat'\n",
    "    else:\n",
    "        pass\n",
    "elif source==\"vivax\":\n",
    "    if use_simulated_data==1:\n",
    "        logistic_classifier_input_file='clf_vivax_sim.dat'\n",
    "        linear_regression_input_file='2reg_vivax_sim.dat'\n",
    "    else:\n",
    "        pass\n",
    "    \n",
    "#######################################################################\n",
    "##### logistic classification wrapper\n",
    "if \"log_clfn\" in algo_active_list:\n",
    "    try:\n",
    "        print(sklearn.externals.joblib.load(logistic_classifier_input_file))\n",
    "    except:\n",
    "        pass\n",
    "        \n",
    "    if cross_validate_new==1:\n",
    "        try:\n",
    "            os.remove(logistic_classifier_input_file)\n",
    "            grid_search_title=logistic_classifier_input_file+\".grid_search\"\n",
    "            os.remove(grid_search_title)\n",
    "        except:\n",
    "            pass\n",
    "    else: \n",
    "        pass\n",
    "\n",
    "#######################################################################\n",
    "##### Linear Regressor wrapper\n",
    "if \"lin_reg\" in algo_active_list:\n",
    "    try:\n",
    "        sklearn.externals.joblib.load(linear_regression_input_file)\n",
    "    except:\n",
    "        pass\n",
    "\n",
    "    if cross_validate_new==1:\n",
    "        try:\n",
    "            os.remove(linear_regression_input_file)\n",
    "            grid_search_title=linear_regression_input_file+\".grid_search_vivax\"\n",
    "            os.remove(grid_search_title)\n",
    "        except:\n",
    "            pass\n",
    "    else: \n",
    "        pass\n",
    "\n",
    "# Set a seed value\n",
    "# 1. Set `PYTHONHASHSEED` environment variable at a fixed value\n",
    "os.environ['PYTHONHASHSEED']=str(seed_value)\n",
    "# 2. Set `python` built-in pseudo-random generator at a fixed value\n",
    "import random\n",
    "random.seed(seed_value)\n",
    "# 3. Set `numpy` pseudo-random generator at a fixed value\n",
    "import numpy as np\n",
    "np.random.seed(seed_value)\n",
    "# 4. Set `tensorflow` pseudo-random generator at a fixed value\n",
    "import tensorflow as tf\n",
    "tf.random.set_seed(seed_value)\n",
    "#from https://medium.com/@ODSC/properly-setting-the-random-seed-in-ml-experiments-not-as-simple-as-you-might-imagine-219969c84752\n",
    "\n",
    "####filenaming\n",
    "def relabel_title_to_simdata(title):\n",
    "    return(title.rsplit('.', 1)[0]+\"_simdata.\"+title.rsplit('.', 1)[1])\n",
    "\n",
    "def relabel_title_to_vivax(title):\n",
    "    return(title.rsplit('.', 1)[0]+\"_vivax.\"+title.rsplit('.', 1)[1])\n",
    "\n",
    "file_out_dict={\"file_out_lin_regr_plot\": \"linear_regr_eval_map_plot.png\",\n",
    "\"file_out_log_clfn_plot\": \"log_clfn_eval_map_plot.png\",\n",
    "\"file_out_keras_regr_plot\": \"keras_regr_eval_map_plot.png\",\n",
    "\"file_out_keras_clfn_plot\":\"keras_clfn_eval_map_plot.png\",  \n",
    "\n",
    "\"file_out_lin_regr_holdout\": \"linear_regr_eval_on_holdout.csv\",\n",
    "\"file_out_log_clfn_holdout\": \"log_classification_eval_on_holdout.csv\",\n",
    "\"file_out_keras_regr_holdout\": \"keras_regr_eval_on_holdout.csv\",\n",
    "\"file_out_keras_clfn_holdout\": \"keras_clfn_eval_on_holdout.csv\",\n",
    "\n",
    "\"file_out_lin_regr_holdout_grouped\": \"linear_regr_eval_on_holdout_grouped.csv\",\n",
    "\"file_out_log_clfn_holdout_grouped\": \"log_classification_eval_on_holdout_grouped.csv\",\n",
    "\"file_out_keras_regr_holdout_grouped\": \"keras_regr_eval_on_holdout_grouped.csv\",\n",
    "\"file_out_keras_clfn_holdout_grouped\": \"keras_clfn_eval_on_holdout_grouped.csv\",\n",
    "\n",
    "\"file_out_lin_regr_oof_preds\":\"linear_regr_oof_predictions.csv\",\n",
    "\"file_out_log_clfn_oof_preds\":\"log_classification_oof_predictions.csv\",\n",
    "\"file_out_keras_regr_oof_preds\":\"keras_regr_oof_predictions.csv\",\n",
    "\"file_out_keras_clfn_oof_preds\":\"keras_clfn_oof_predictions.csv\",\n",
    "\n",
    "\"file_out_lin_regr_coef\":\"linear_regr_coef.csv\",\n",
    "\"file_out_log_clfn_coef\":\"log_classification_coef.csv\",\n",
    "\"file_out_keras_regr_coef\":\"keras_regr_coef.csv\",\n",
    "\"file_out_keras_clfn_coef\":\"keras_clfn_coef.csv\",\n",
    "               \n",
    "\"file_out_snp_diversity\":\"snp_diversity.csv\",\n",
    "\n",
    "\"file_out_model_by_geography\": \"model_comparison_by_geography.csv\"}\n",
    "\n",
    "if use_simulated_data==1:\n",
    "    file_out_dict={key:relabel_title_to_simdata(values) for key,values in file_out_dict.items()} \n",
    "else:\n",
    "    print(\"error\")\n",
    "\n",
    "if source==\"vivax\":\n",
    "    file_out_dict={key:relabel_title_to_vivax(values) for key,values in file_out_dict.items()} \n",
    "else:\n",
    "    pass"
   ]
  },
  {
   "cell_type": "code",
   "execution_count": 178,
   "metadata": {},
   "outputs": [],
   "source": [
    "if source==\"fp\":\n",
    "    code_running_success=\"code_running_success_fp.txt\"\n",
    "    read_in_success=\"read_in_success_fp.txt\"\n",
    "    lin_regr_success=\"lin_regr_success_fp.txt\"\n",
    "    log_class_success=\"log_class_success_fp.txt\"\n",
    "    keras_regr_success=\"keras_regr_success_fp.txt\"\n",
    "    keras_classifier_success=\"keras_classifier_success_fp.txt\"\n",
    "elif source==\"vivax\":\n",
    "    code_running_success=\"code_running_success_vivax.txt\"\n",
    "    read_in_success=\"read_in_success_vivax.txt\"\n",
    "    lin_regr_success=\"lin_regr_success_vivax.txt\"\n",
    "    log_class_success=\"log_class_success_vivax.txt\"\n",
    "    keras_regr_success=\"keras_regr_success_vivax.txt\"\n",
    "    keras_classifier_success=\"keras_classifier_success_vivax.txt\"\n",
    "else:\n",
    "    pass"
   ]
  },
  {
   "cell_type": "code",
   "execution_count": 179,
   "metadata": {},
   "outputs": [],
   "source": [
    "###input files\n",
    "simulated_inputfile_genome = simulated_inputfile_geo = inputfile = \"Dummy_Dataset_2A.xlsx\"\n",
    "holdout_locs = [\"Bahamas\"]  ###this is for the simulated data\n",
    "OOF_SELECTED_LOCATIONS = [u'Tanzania', u'Peru']"
   ]
  },
  {
   "cell_type": "code",
   "execution_count": 180,
   "metadata": {},
   "outputs": [
    {
     "data": {
      "text/plain": [
       "{'file_out_keras_clfn_coef': 'keras_clfn_coef_simdata.csv',\n",
       " 'file_out_keras_clfn_holdout': 'keras_clfn_eval_on_holdout_simdata.csv',\n",
       " 'file_out_keras_clfn_holdout_grouped': 'keras_clfn_eval_on_holdout_grouped_simdata.csv',\n",
       " 'file_out_keras_clfn_oof_preds': 'keras_clfn_oof_predictions_simdata.csv',\n",
       " 'file_out_keras_clfn_plot': 'keras_clfn_eval_map_plot_simdata.png',\n",
       " 'file_out_keras_regr_coef': 'keras_regr_coef_simdata.csv',\n",
       " 'file_out_keras_regr_holdout': 'keras_regr_eval_on_holdout_simdata.csv',\n",
       " 'file_out_keras_regr_holdout_grouped': 'keras_regr_eval_on_holdout_grouped_simdata.csv',\n",
       " 'file_out_keras_regr_oof_preds': 'keras_regr_oof_predictions_simdata.csv',\n",
       " 'file_out_keras_regr_plot': 'keras_regr_eval_map_plot_simdata.png',\n",
       " 'file_out_lin_regr_coef': 'linear_regr_coef_simdata.csv',\n",
       " 'file_out_lin_regr_holdout': 'linear_regr_eval_on_holdout_simdata.csv',\n",
       " 'file_out_lin_regr_holdout_grouped': 'linear_regr_eval_on_holdout_grouped_simdata.csv',\n",
       " 'file_out_lin_regr_oof_preds': 'linear_regr_oof_predictions_simdata.csv',\n",
       " 'file_out_lin_regr_plot': 'linear_regr_eval_map_plot_simdata.png',\n",
       " 'file_out_log_clfn_coef': 'log_classification_coef_simdata.csv',\n",
       " 'file_out_log_clfn_holdout': 'log_classification_eval_on_holdout_simdata.csv',\n",
       " 'file_out_log_clfn_holdout_grouped': 'log_classification_eval_on_holdout_grouped_simdata.csv',\n",
       " 'file_out_log_clfn_oof_preds': 'log_classification_oof_predictions_simdata.csv',\n",
       " 'file_out_log_clfn_plot': 'log_clfn_eval_map_plot_simdata.png',\n",
       " 'file_out_model_by_geography': 'model_comparison_by_geography_simdata.csv',\n",
       " 'file_out_snp_diversity': 'snp_diversity_simdata.csv'}"
      ]
     },
     "execution_count": 180,
     "metadata": {},
     "output_type": "execute_result"
    }
   ],
   "source": [
    "file_out_dict"
   ]
  },
  {
   "cell_type": "code",
   "execution_count": 181,
   "metadata": {},
   "outputs": [
    {
     "name": "stdout",
     "output_type": "stream",
     "text": [
      "round( 1234.5 ) =  1230.0\n",
      "test points (3.144, 46.471) (10.885, -1.086)\n",
      "rounded euclidean distance =  5621.669013736046\n",
      "geo_distance =  5317.40147335\n"
     ]
    }
   ],
   "source": [
    "def open_excel(filename,sheet):\n",
    "    xl = pd.ExcelFile(filename)\n",
    "    print(xl.sheet_names)\n",
    "    df = xl.parse(sheet)\n",
    "    return df\n",
    "\n",
    "def read_data(inputfile, holdout_locs): ###original function from AP\n",
    "    ###read in the dataset\n",
    "    df = pd.read_excel(inputfile, sheet_name=\"Matrix\", index=True)\n",
    "    drop_column = 'Second_ID' if 'Second_ID' in df.columns else \"Position\"\n",
    "    if df.columns[0] == 'Sample':\n",
    "        df.rename(columns={'Sample': 'Geography'}, inplace=True)\n",
    "        \n",
    "    df.drop(columns=[drop_column], inplace=True) #drop the position column, the sample identifier should be the index \n",
    "    print('data shape: ', df.shape)\n",
    "    df_geo = pd.read_excel(inputfile, sheet_name=\"Geo_data\")[['Sample', 'Location', 'Lat', 'Long']]\n",
    "    print('geo shape: ', df_geo.shape)\n",
    "    df_merged = pd.merge(df, df_geo, how='left', left_on='Geography', right_on='Sample')\n",
    "    print('merged shape: ', df_merged.shape)\n",
    "    \n",
    "    # drop unmatched rows\n",
    "    location_cols = ['Location', 'Lat', 'Long']\n",
    "    empty_vals = df_merged[location_cols].isna().sum(axis=0)\n",
    "    print('number of columns with missing values:', (empty_vals > 0).sum())\n",
    "    print(empty_vals[empty_vals > 0].to_frame().T)\n",
    "    df_merged.dropna(subset=location_cols, axis=0, how='any', inplace=True)\n",
    "    print('after dropping columns with missing values merged shape = ', df_merged.shape)\n",
    "    \n",
    "    # split merged data into parts\n",
    "    geography = df_merged.Geography.to_frame()\n",
    "    df_geo = df_merged[df_geo.columns].copy()\n",
    "    df = df_merged[df.columns].drop(columns='Geography').copy()\n",
    "    \n",
    "    # get X and y for training\n",
    "    y_label = df_geo[\"Location\"] \n",
    "    label_enc = sklearn.preprocessing.LabelEncoder()\n",
    "    y = pd.Series(label_enc.fit_transform(y_label))\n",
    "    y_lat = df_geo[\"Lat\"] \n",
    "    y_lon = df_geo[\"Long\"]         \n",
    "    hold_out_indicator = y_label.isin(holdout_locs)\n",
    "    \n",
    "    location_dict = df_geo.drop(columns='Sample').groupby('Location').first().to_dict(orient='index')\n",
    "    \n",
    "    return df, y, y_label, y_lat, y_lon, df_geo, hold_out_indicator, label_enc, location_dict\n",
    "\n",
    "def load_dataset_simulated_genomic_data(inputfile_genome, holdout_locs):\n",
    "    df = pd.read_excel(inputfile_genome, sheet_name=\"Matrix\", index=True)\n",
    "    drop_column = 'Second_ID' if 'Second_ID' in df.columns else \"Position\"\n",
    "    df.drop(columns=[drop_column], inplace=True) #drop the position column, the sample identifier should be the index \n",
    "    print('data shape: ', df.shape)\n",
    "    return df \n",
    "\n",
    "def load_dataset_simulated_geo_data(inputfile_geo,holdout_locs):\n",
    "    df_geo = pd.read_excel(inputfile_geo, sheet_name=\"Geo_data\")[['Sample', 'Location', 'Lat', 'Long']]\n",
    "    print('geo shape: ', df_geo.shape)\n",
    "    return df_geo\n",
    "    \n",
    "def combine_and_clean_data(df, df_geo,holdout_locs):\n",
    "    # in the dummy dataset - the samples in df and df_geo are in the same order, \n",
    "    # but that might not be the case in all datasets, \n",
    "    # so we might want to merge and subsequently split to esnsure no issues here\n",
    "    df_merged = pd.merge(df, df_geo, how='left', left_on='Sample', right_on='Sample')\n",
    "    print('merged shape: ', df_merged.shape)\n",
    "    \n",
    "    # drop unmatched rows\n",
    "    location_cols = ['Location', 'Lat', 'Long']\n",
    "    empty_vals = df_merged[location_cols].isna().sum(axis=0)\n",
    "    print('number of columns with missing values:', (empty_vals > 0).sum())\n",
    "    print(empty_vals[empty_vals > 0].to_frame().T)\n",
    "    df_merged.dropna(subset=location_cols, axis=0, how='any', inplace=True)\n",
    "    print('after dropping columns with missing values merged shape = ', df_merged.shape)\n",
    "    \n",
    "    # split merged data into parts\n",
    "    #geography = df_merged.Geography.to_frame()\n",
    "    df_geo = df_merged[df_geo.columns].copy()\n",
    "    df = df_merged[df.columns].drop(columns='Sample').copy()\n",
    "    \n",
    "    # get X and y for training\n",
    "    y_label = df_geo[\"Location\"] \n",
    "    label_enc = sklearn.preprocessing.LabelEncoder()\n",
    "    y = pd.Series(label_enc.fit_transform(y_label))\n",
    "    y_lat = df_geo[\"Lat\"] \n",
    "    y_lon = df_geo[\"Long\"]         \n",
    "    hold_out_indicator = y_label.isin(holdout_locs)\n",
    "    \n",
    "    location_dict = df_geo.drop(columns='Sample').groupby('Location').first().to_dict(orient='index')\n",
    "    \n",
    "    return df, y, y_label, y_lat, y_lon, df_geo, hold_out_indicator, label_enc, location_dict\n",
    "\n",
    "def subset_array_based_on_filter_out_list(inputarray,array_with_values_to_keep,extra_values_to_keep):\n",
    "    extra_values_to_keep=np.array(extra_values_to_keep)\n",
    "    array_with_values_to_keep=np.concatenate((extra_values_to_keep, array_with_values_to_keep)) \n",
    "    boolean_vector=np.in1d(inputarray,array_with_values_to_keep)\n",
    "    return(boolean_vector)\n",
    "\n",
    "if verbose==1:\n",
    "    a=np.array([1,2,3,4,5]);test = np.array([3,4]);extra=[2]\n",
    "    bool_vector=subset_array_based_on_filter_out_list(a,test,extra); print(bool_vector)\n",
    "\n",
    "def change_index_to_column(dm,colname): \n",
    "    dm[colname] = dm.index\n",
    "    cols = list(dm)\n",
    "    cols.insert(0, cols.pop(cols.index(colname))) ###move the prevous index column to the first column\n",
    "    dm = dm.ix[:, cols]\n",
    "    dm.reset_index(drop=True, inplace=True) ###remove index column\n",
    "    dm.columns.name = None ###remove index column name\n",
    "    return(dm)\n",
    "\n",
    "def rounding_to_ten(input, round_value=10):\n",
    "    return(np.round(np.true_divide(input, round_value),0) * round_value)\n",
    "\n",
    "a=1234.5\n",
    "print('round(', a, ') = ', rounding_to_ten(a))\n",
    "\n",
    "def rounded_euclidean_distance_km(point_1, point_2, round_value=10):\n",
    "    kilometers_in_one_degree = 110.25\n",
    "    lat1, lat2 = [rounding_to_ten(p[0], round_value=round_value) \n",
    "                  for p in [point_1, point_2]] \n",
    "    lng1, lng2 = [rounding_to_ten(p[1], round_value=round_value) \n",
    "                  for p in [point_1, point_2]] \n",
    "    x = lat2 - lat1\n",
    "    y = (lng2 - lng1) * np.cos(lat1)\n",
    "    return np.sqrt(x*x + y*y) * kilometers_in_one_degree\n",
    "\n",
    "test_point_1, test_point_2 = (3.144, 46.471),  (10.885, -1.086)\n",
    "print('test points', test_point_1, test_point_2)\n",
    "print('rounded euclidean distance = ', rounded_euclidean_distance_km(test_point_1, test_point_2))\n",
    "\n",
    "if local_desktop_run==0:\n",
    "    print('geo_distance = ', geo_distance.distance(test_point_1, test_point_2).km)\n",
    "\n",
    "def chunks(lst, n):\n",
    "    \"\"\"Yield successive n-sized chunks from lst.\"\"\"\n",
    "    for i in range(0, len(lst), n):\n",
    "        yield lst[i:i + n]\n",
    "        \n",
    "def ml_data_holdout_split(hold_out_indicator, *dataframes, **options):\n",
    "    \"\"\"\n",
    "    spcdlits each of dataframes into 2 frames:\n",
    "        - second contains all from hold_out_indicator and `test_size` rows from other locations\n",
    "        - first contains all remaining rows\n",
    "    \"\"\"\n",
    "    df_ho_list = [_df[hold_out_indicator].copy() for _df in dataframes]\n",
    "    df_ml_data_list = [_df[~hold_out_indicator].copy() for _df in dataframes]\n",
    "    \n",
    "    splitted = train_test_split(*df_ml_data_list, **options)\n",
    "    result = []\n",
    "    for df_ho, (df_ml_data, df_holdout) in zip(df_ho_list, chunks(splitted, 2)):\n",
    "        df_holdout_full = pd.concat([df_ho, df_holdout], axis=0, ignore_index=True)\n",
    "        result.extend([df_ml_data.reset_index(drop=True), ### check result\n",
    "                       df_holdout_full.reset_index(drop=True)]) ### check result\n",
    "    return result\n",
    "\n",
    "class BinomialImputer(sklearn.base.BaseEstimator, sklearn.base.TransformerMixin):\n",
    "        \n",
    "    def fit(self, X, y, **params):\n",
    "        self.p_per_column = np.true_divide(np.sum(X==1, axis=0), \n",
    "                                           np.sum((X==0) | (X==1), axis=0))\n",
    "        return self\n",
    "        \n",
    "    def transform(self, X):\n",
    "        result = X.copy()\n",
    "        for col, p in zip(X.columns, self.p_per_column):\n",
    "            \n",
    "            na_idx = result[col].isna()\n",
    "            na_count = na_idx.sum()\n",
    "            if na_count > 0:\n",
    "                #print(p)\n",
    "                result.loc[na_idx, col] = np.random.binomial(1, p, size=na_count)\n",
    "        return result\n",
    "    \n",
    "class StratifiedKFoldByGroup(StratifiedKFold):\n",
    "\n",
    "    def _make_test_folds(self, X, yyy=None, groups=None):\n",
    "        rng = self.random_state\n",
    "        groups = np.asarray(groups)\n",
    "        groups = column_or_1d(groups)\n",
    "        n_samples = groups.shape[0]\n",
    "        unique_groups, groups_inversed = np.unique(groups, return_inverse=True)\n",
    "        groups_counts = np.bincount(groups_inversed)\n",
    "        min_groups = np.min(groups_counts)\n",
    "        if np.all(self.n_splits > groups_counts):\n",
    "            raise ValueError(\"n_splits=%d cannot be greater than the\"\n",
    "                             \" number of members in each group.\"\n",
    "                             % (self.n_splits))\n",
    "        if self.n_splits > min_groups:\n",
    "            warnings.warn((\"The least populated class in y has only %d\"\n",
    "                           \" members, which is too few. The minimum\"\n",
    "                           \" number of members in any class cannot\"\n",
    "                           \" be less than n_splits=%d.\"\n",
    "                           % (min_groups, self.n_splits)), Warning)\n",
    "\n",
    "        # pre-assign each sample to a test fold index using individual KFold\n",
    "        # splitting strategies for each class so as to respect the balance of\n",
    "        # classes\n",
    "        # NOTE: Passing the data corresponding to ith class say X[y==class_i]\n",
    "        # will break when the data is not 100% stratifiable for all classes.\n",
    "        # So we pass np.zeroes(max(c, n_splits)) as data to the KFold\n",
    "        per_cls_cvs = [\n",
    "            KFold(self.n_splits, \n",
    "                  shuffle=self.shuffle,\n",
    "                  random_state=rng).split(np.zeros(max(count, self.n_splits)))\n",
    "            for count in groups_counts]\n",
    "\n",
    "        test_folds = np.zeros(n_samples, dtype=np.int)\n",
    "        for test_fold_indices, per_cls_splits in enumerate(zip(*per_cls_cvs)):\n",
    "            for cls, (_, test_split) in zip(unique_groups, per_cls_splits):\n",
    "                cls_test_folds = test_folds[groups == cls]\n",
    "                #print(test_fold_indices, cls, np.sum(groups == cls), len(cls_test_folds), test_split)\n",
    "                \n",
    "                # the test split can be too big because we used\n",
    "                # KFold(...).split(X[:max(c, n_splits)]) when data is not 100%\n",
    "                # stratifiable for all the classes\n",
    "                # (we use a warning instead of raising an exception)\n",
    "                # If this is the case, let's trim it:\n",
    "                test_split = test_split[test_split < len(cls_test_folds)]\n",
    "                cls_test_folds[test_split] = test_fold_indices\n",
    "                test_folds[groups == cls] = cls_test_folds\n",
    "\n",
    "        return test_folds\n",
    "\n",
    "    def _iter_test_masks(self, X, y=None, groups=None):\n",
    "        test_folds = self._make_test_folds(X, y, groups)\n",
    "        for i in range(self.n_splits):\n",
    "            yield test_folds == i\n",
    "\n",
    "    def split(self, X, y, groups=None):\n",
    "        y = check_array(y, ensure_2d=False, dtype=None)\n",
    "        groups = check_array(groups, ensure_2d=False, dtype=None)\n",
    "        return super(StratifiedKFoldByGroup, self).split(X, y, groups)\n",
    "    \n",
    "def calc_mid_point_with_coefs(lat_lon_points_in_degrees, coefs):\n",
    "    sum_x = 0\n",
    "    sum_y = 0\n",
    "    sum_z = 0\n",
    "    sum_coefs = 0\n",
    "\n",
    "    for ((lat_degree, lon_degree), coef) in zip(lat_lon_points_in_degrees, coefs):\n",
    "        lat = math.radians(lat_degree)\n",
    "        lng = math.radians(lon_degree)\n",
    "        \n",
    "        sum_x += coef * math.cos(lat) * math.cos(lng)\n",
    "        sum_y += coef * math.cos(lat) * math.sin(lng)\n",
    "        sum_z += coef * math.sin(lat)\n",
    "        \n",
    "        sum_coefs += coef\n",
    "\n",
    "    sum_x = sum_x / sum_coefs\n",
    "    sum_y = sum_y / sum_coefs\n",
    "    sum_z = sum_z / sum_coefs\n",
    "    \n",
    "    lng = math.atan2(sum_y, sum_x)\n",
    "    hyp = math.sqrt(sum_x ** 2 + sum_y ** 2)\n",
    "    lat = math.atan2(sum_z, hyp)\n",
    "\n",
    "    return {'latitude': math.degrees(lat),\n",
    "            'longitude': math.degrees(lng)}\n",
    "\n",
    "def calc_midpoint(preds_proba, loc_dict):\n",
    "    pairs = [((location['Lat'], location['Long']),\n",
    "              preds_proba[loc_name]) \n",
    "             for loc_name, location in loc_dict.items()\n",
    "             if loc_name in preds_proba]\n",
    "    lat_lon_points, coefs = zip(*pairs)\n",
    "    mid_point = calc_mid_point_with_coefs(lat_lon_points, coefs)\n",
    "    return pd.Series([mid_point['latitude'], mid_point['longitude']], \n",
    "                     index=['mid_lat', 'mid_long'])\n",
    "\n",
    "def distance_to_midpoint(row_proba):\n",
    "    mid_lat = row_proba['mid_lat']\n",
    "    mid_lon = row_proba['mid_long']\n",
    "    true_lat = row_proba['true_lat']\n",
    "    true_lon = row_proba['true_long']\n",
    "    if rudimentary_calculation==1:\n",
    "        return rounded_euclidean_distance_km((mid_lat, mid_lon), (true_lat, true_lon))\n",
    "    else:\n",
    "        return geo_distance.distance((mid_lat, mid_lon), (true_lat, true_lon)).km\n",
    "\n",
    "def predict_on_holdout(estimator, df_holdout, y_holdout, location_dict, label_encoder):\n",
    "    holdout_proba = estimator.predict_proba(df_holdout)\n",
    "    df_holdout_proba = pd.DataFrame(holdout_proba, \n",
    "                                 columns=[label_encoder.inverse_transform([cls])[0] \n",
    "                                          for cls in estimator.classes_])\n",
    "    holdout_pred = holdout_proba.argmax(axis=1)\n",
    "    df_holdout_proba['pred_location_label'] = label_encoder.inverse_transform(estimator.classes_[holdout_pred])\n",
    "    df_holdout_proba[['mid_lat', 'mid_long']] = df_holdout_proba.apply(calc_midpoint,\n",
    "                                                                 axis=1, \n",
    "                                                                 loc_dict=location_dict)\n",
    "    \n",
    "    df_holdout_proba['true_location_label'] = label_enc.inverse_transform(y_holdout)\n",
    "    df_holdout_proba['true_lat'] = df_holdout_proba['true_location_label'].map(lambda l: location_dict[l]['Lat'])\n",
    "    df_holdout_proba['true_long'] = df_holdout_proba['true_location_label'].map(lambda l: location_dict[l]['Long'])\n",
    "\n",
    "    df_holdout_proba['distance_to_midpoint'] = df_holdout_proba.apply(distance_to_midpoint, axis=1)\n",
    "    return df_holdout_proba\n",
    "\n",
    "def plot_eval_on_holdout_sample(eval_on_holdout_sample, save=0,save_fpath=None):\n",
    "    \n",
    "    fig = go.Figure()\n",
    "\n",
    "    for i, row in eval_on_holdout_sample.iterrows():\n",
    "        fig.add_trace(\n",
    "            go.Scattergeo(\n",
    "                    lon = [row['true_long'], row['mid_long']],\n",
    "                    lat = [row['true_lat'], row['mid_lat']],\n",
    "                    mode = 'lines',\n",
    "                    line = dict(width = 1,color = 'red'),\n",
    "                    opacity = .5,\n",
    "                    showlegend=False,\n",
    "                    hoverinfo='text',\n",
    "                    text='distance = %.2f km' % row['distance_to_midpoint']\n",
    "                )\n",
    "            )\n",
    "\n",
    "    text = ('Lat = ' + eval_on_holdout_sample.mid_lat.round(3).astype(str)\n",
    "            + ' Lon = ' + eval_on_holdout_sample.mid_long.round(3).astype(str)\n",
    "            + '<br>distance = ' + eval_on_holdout_sample['distance_to_midpoint'].round().astype(str) \n",
    "            + ' km')\n",
    "    fig.add_trace(go.Scattergeo(name='Predicted MidPoint',\n",
    "                                hoverinfo='text',\n",
    "                                lat=eval_on_holdout_sample['mid_lat'],\n",
    "                                lon=eval_on_holdout_sample['mid_long'],\n",
    "                                text=text, #eval_on_holdout_sample['distance_to_midpoint'],\n",
    "                                marker = dict(\n",
    "                                    color = 'rgb(255, 0, 0)',\n",
    "                                )\n",
    "                               )\n",
    "                 )\n",
    "    true_loc = eval_on_holdout_sample.drop_duplicates(subset=['true_location_label', 'true_lat', 'true_long'])\n",
    "    text = (true_loc['true_location_label'] \n",
    "            + '<br>Lat = ' + true_loc.mid_lat.round(3).astype(str)\n",
    "            + ' Lon = ' + true_loc.mid_long.round(3).astype(str))\n",
    "    fig.add_trace(go.Scattergeo(name='True Location',\n",
    "                                hoverinfo='text',\n",
    "                                lat=true_loc['true_lat'],\n",
    "                                lon=true_loc['true_long'],\n",
    "                                text=text,\n",
    "                                marker = dict(\n",
    "                                    color = 'rgb(0, 0, 255)',\n",
    "                                )\n",
    "                               )\n",
    "                 )\n",
    "\n",
    "\n",
    "    fig.update_layout(\n",
    "        geo = dict(\n",
    "            projection_type = 'natural earth',\n",
    "            showland = True,\n",
    "            landcolor = 'rgb(243, 243, 243)',\n",
    "            countrycolor = 'rgb(204, 204, 204)',\n",
    "        ),\n",
    "    )\n",
    "    config = {'displaylogo': False}\n",
    "    fig.show(config=config)\n",
    "    if save==1:\n",
    "        if save_fpath is not None:\n",
    "            fig.write_image(save_fpath, engine=\"orca\")\n",
    "    return fig\n",
    "\n",
    "def plot_history(history):\n",
    "    plt.plot(history.history['loss'])\n",
    "    plt.plot(history.history['val_loss'])\n",
    "    plt.title('model loss')\n",
    "    plt.ylabel('loss')\n",
    "    plt.xlabel('epoch')\n",
    "    plt.legend(['train', 'val'], loc='upper left')\n",
    "    plt.show()\n",
    "    \n",
    "def save_to_csv(func):\n",
    "    @wraps(func)\n",
    "    def decorator(*args, **kwargs):\n",
    "        data = func(*args, **kwargs)\n",
    "        if 'filename' in kwargs:\n",
    "            filename = kwargs['filename']\n",
    "            if filename is not None:\n",
    "                pd.DataFrame(data).to_csv(filename)\n",
    "        return data\n",
    "    return decorator\n",
    "\n",
    "def get_holdout_mean_distance_error(df):\n",
    "    return df.distance_to_midpoint.mean()\n",
    "\n",
    "def get_holdout_sd_distance_error(df):\n",
    "    return df.distance_to_midpoint.std()\n",
    "\n",
    "def add_suffix_columns(df,suffix):\n",
    "    df.columns=[x+suffix for x in df.columns]\n",
    "    df.columns.values[0] = \"true_location\"\n",
    "    return(df)\n",
    "\n",
    "def run_and_plot_PDA(df_full,df_geo_full,n_components=2):\n",
    "    pca = PCA(n_components)\n",
    "    pca_array = pca.fit_transform(df_full.values)\n",
    "    groupslist=list(df_geo_full.Location)\n",
    "\n",
    "    colors = ['r', 'b', 'g']\n",
    "    markers = ['s', 'x', 'o']\n",
    "\n",
    "    for l in np.unique(groupslist):\n",
    "        plt.scatter(pca_array[np.array(groupslist)==l, 0], \n",
    "                    pca_array[np.array(groupslist)==l, 1], \n",
    "                    label=l)    \n",
    "    #                    c=c, label=l, marker=m) \n",
    "    plt.xlabel('PC 1')\n",
    "    plt.ylabel('PC 2')\n",
    "    plt.legend(loc='upper right',bbox_to_anchor=(1.2, 1))\n",
    "    plt.show()\n",
    "\n",
    "def add_random_nans(df, nan_prob=0.1):\n",
    "    return df + np.random.choice([0, np.NaN], size=df.shape, p=[(1 - nan_prob), nan_prob])\n",
    "\n",
    "## base\n",
    "\n",
    "class BaseWrapper(sklearn.base.BaseEstimator):\n",
    "\n",
    "    @save_to_csv\n",
    "    def get_holdout_mean_distance_error(self, evaluation_result):\n",
    "        return evaluation_result.distance_to_midpoint.mean()\n",
    "    \n",
    "    def get_holdout_sd_distance_error(self, evaluation_result):\n",
    "        return evaluation_result.distance_to_midpoint.std()\n",
    "    \n",
    "    @save_to_csv\n",
    "    def get_grouped_holdout_stats(self, evaluation_result, \n",
    "                                  include_columns=[u'mid_lat', u'mid_long',\n",
    "                                                   u'true_lat', u'true_long',\n",
    "                                                   u'distance_to_midpoint'],filename=\"test_grouped_predictions.csv\"):\n",
    "        agg_dict = {col: 'mean' for col in include_columns}\n",
    "        agg_dict['true_location_label'] = 'count'\n",
    "        return (evaluation_result\n",
    "                .groupby('true_location_label')\n",
    "                .agg(agg_dict)\n",
    "                .rename(columns={'true_location_label': 'num_samples'})\n",
    "               )\n",
    "\n",
    "## Clf\n",
    "\n",
    "class ClassificatorWrapper(BaseWrapper):\n",
    "    def __init__(self, clf, cv_strategy, gridsearch_params, n_jobs=1):\n",
    "        self.clf = clf\n",
    "        self.cv_strategy = cv_strategy\n",
    "        self.pipeline = self._make_pipeline(clf)\n",
    "        self.gridsearch_params = {'clf__%s' % param_name: param_values  # format <name_of_step>__<name_of_param>\n",
    "                                  for param_name, param_values in gridsearch_params.items()} \n",
    "        self.gs = GridSearchCV(self.pipeline, self.gridsearch_params, \n",
    "                               scoring='accuracy', \n",
    "                               cv=self.cv_strategy, \n",
    "                               refit=True,  # Refit an estimator using the best found parameters on the whole dataset\n",
    "                               n_jobs=n_jobs,\n",
    "                               return_train_score=True,\n",
    "                               iid=False)\n",
    "        self.best_ = None\n",
    "        \n",
    "    def _make_pipeline(self, clf):\n",
    "        return Pipeline(steps=[\n",
    "                ('imputer', BinomialImputer()),\n",
    "                ('clf', clf),\n",
    "            ])\n",
    "    \n",
    "    def get_gridsearch(self):\n",
    "        if self.best_ is None:\n",
    "            print('model has not been fitted yet')\n",
    "        return self.gs\n",
    "    \n",
    "    def fit(self, X, y, restore_best_params_from=None, **params):\n",
    "        gs_filename = str(restore_best_params_from) + '.grid_search'\n",
    "        if ((restore_best_params_from is None) \n",
    "            or (not os.path.exists(restore_best_params_from))):\n",
    "            print('do gridsearch')\n",
    "            if not 'groups' in params:\n",
    "                raise ValueError(\"pass 'groups' parameter to make cv_strategy work correctly\")\n",
    "            with parallel_backend('threading',n_jobs=-1):\n",
    "                self.gs.fit(X, y, **params)\n",
    "            self.best_ = self.gs.best_estimator_\n",
    "            if restore_best_params_from is not None:\n",
    "                sklearn.externals.joblib.dump(self.gs.best_params_, \n",
    "                                              restore_best_params_from, \n",
    "                                              compress=0)\n",
    "                sklearn.externals.joblib.dump(self.gs, \n",
    "                                              gs_filename, \n",
    "                                              compress=0)\n",
    "        else:\n",
    "            print('restore best_params')\n",
    "            best_params = sklearn.externals.joblib.load(restore_best_params_from)\n",
    "            self.gs = sklearn.externals.joblib.load(gs_filename)\n",
    "            \n",
    "            pipe = self._make_pipeline(self.clf)\n",
    "            pipe.set_params(**best_params)\n",
    "            fit_params = params.copy()\n",
    "            if 'groups' in fit_params:\n",
    "                del fit_params['groups']\n",
    "            with parallel_backend('threading',n_jobs=-1):\n",
    "                pipe.fit(X, y, **fit_params)\n",
    "            self.best_ = pipe \n",
    "        return self\n",
    "    \n",
    "    def _prepare_y(self, y):\n",
    "        return y\n",
    "    \n",
    "    def _init_clf(self):\n",
    "        pass\n",
    "    \n",
    "    @save_to_csv\n",
    "    def get_oof_predictions(self, X, y, groups, cv_strategy=None, location_dict=None, label_enc=None, \n",
    "                            filename='test_clf_wrapper_oof_predict.csv'):\n",
    "        if cv_strategy is None:\n",
    "            cv = self.cv_strategy # we pass here exactly the same cv_strategy we used for GridSearch\n",
    "        else:\n",
    "            cv = cv_strategy  # use custom strategy\n",
    "        preds = []\n",
    "        y_test_folds = []\n",
    "        folds = []\n",
    "        _df_preds = []\n",
    "        for i, (train_index, test_index) in enumerate(cv.split(X, y, groups)):\n",
    "            if OOF_SELECTED_LOCATIONS is not None:\n",
    "                test_groups = groups.iloc[test_index]\n",
    "                if not set(test_groups).intersection(set(OOF_SELECTED_LOCATIONS)):\n",
    "                    continue\n",
    "            print(i,\"fold\")\n",
    "            y_test_fold = y.iloc[test_index]; print(y_test_fold, \"y_test\");\n",
    "            y_train_fold = y.iloc[train_index]; print(y_train_fold,\"y_train\");\n",
    "            print(np.sum(y_train_fold==4),\"check if any in y_train\")\n",
    "            X_test_fold = X.iloc[test_index]\n",
    "            X_train_fold = X.iloc[train_index]\n",
    "            \n",
    "            self._init_clf()\n",
    "            self.best_.fit(X_train_fold, self._prepare_y(y_train_fold))\n",
    "            \n",
    "            print(self._prepare_y(y_train_fold),\"prepare_yold\")\n",
    "            \n",
    "            pred = self.best_.predict(X_test_fold)\n",
    "            print(pred,\"pred\")\n",
    "            \n",
    "            preds.append(pred)\n",
    "            y_test_folds.append(y_test_fold)\n",
    "            folds += [i] * len(test_index)\n",
    "            \n",
    "            print(self.best_.classes_,\"classes\")\n",
    "            \n",
    "            print(self.best_.predict_proba(X_test_fold),\"proba_predict\")\n",
    "            \n",
    "            _df_preds.append(pd.DataFrame(self.best_.predict_proba(X_test_fold), \n",
    "                     columns=[label_enc.inverse_transform([cls])[0] \n",
    "                              for cls in self.best_.classes_]))\n",
    "            \n",
    "        _df_pred = pd.concat(_df_preds, axis=0, sort=False).fillna(0)\n",
    "            \n",
    "        result =  pd.DataFrame({'fold': folds,\n",
    "                             'pred_location': np.hstack(preds),\n",
    "                             'true_location': np.hstack(y_test_folds)})\n",
    "        #print(_df_preds.shape, result.shape)\n",
    "        if label_enc is not None:\n",
    "            for col in ['pred_location', 'true_location']:\n",
    "                result[col+'_label'] = label_enc.inverse_transform(result[col])\n",
    "                \n",
    "        result['mid_lat'] = np.NaN\n",
    "        result['mid_long'] = np.NaN    \n",
    "        result[['mid_lat', 'mid_long']] = _df_pred.apply(calc_midpoint,\n",
    "                                                         axis=1, \n",
    "                                                         loc_dict=location_dict).values\n",
    "    \n",
    "        result['true_lat'] = result['true_location_label'].map(lambda l: location_dict[l]['Lat'])\n",
    "        result['true_long'] = result['true_location_label'].map(lambda l: location_dict[l]['Long'])\n",
    "        \n",
    "        \n",
    "        result['distance_to_midpoint'] = result.apply(distance_to_midpoint, axis=1)\n",
    "\n",
    "        return result\n",
    "\n",
    "    @save_to_csv\n",
    "    def predict(self, X, filename='test_clf_wrapper_predict_vivax.csv'):\n",
    "        return self.best_.predict(X)\n",
    "    \n",
    "    @save_to_csv\n",
    "    def predict_proba(self, X, filename='test_clf_wrapper_predict_proba_vivax.csv'):\n",
    "        return self.best_.predict_proba(X)\n",
    "    \n",
    "    @save_to_csv\n",
    "    def evaluate_on_holdout(self, X_holdout, y_holdout, label_enc, location_dict, \n",
    "                            filename='test_clf_wrapper_evaluate_vivax.csv'):\n",
    "        return predict_on_holdout(self.best_, X_holdout, y_holdout, location_dict, label_enc)\n",
    "    \n",
    "    def get_holdout_accuracy(self, evaluation_result):\n",
    "        return accuracy_score(evaluation_result.true_location_label, evaluation_result.pred_location_label)\n",
    "\n",
    "## 2Reg\n",
    "\n",
    "class TwoRegressorsWrapper(BaseWrapper):\n",
    "    def __init__(self, reg_dict, cv_strategy, gridsearch_params, n_jobs=n_jobs_2reg): ##n_jobs was 1\n",
    "        self.reg_dict = reg_dict\n",
    "        self.n_jobs = n_jobs\n",
    "        self.cv_strategy = cv_strategy\n",
    "        self.gridsearch_params = {'reg__%s' % param_name: param_values  # format <name_of_step>__<name_of_param>\n",
    "                                  for param_name, param_values in gridsearch_params.items()} \n",
    "        self.gs_dict = {k: self._make_gs(reg) for k, reg in reg_dict.items()}\n",
    "        self.best_dict = {k: None for k in reg_dict.keys()}\n",
    "\n",
    "    def _make_pipeline(self, reg):\n",
    "        return Pipeline(steps=[\n",
    "            ('imputer', BinomialImputer()),\n",
    "            ('reg', reg),\n",
    "        ])\n",
    "        \n",
    "    def _make_gs(self, reg):\n",
    "        _pipeline = Pipeline(steps=[\n",
    "            ('imputer', BinomialImputer()),\n",
    "            ('reg', reg),\n",
    "        ])\n",
    "        return GridSearchCV(_pipeline, self.gridsearch_params, \n",
    "                               scoring='neg_mean_squared_error', \n",
    "                               cv=self.cv_strategy, \n",
    "                               refit=True,  # Refit an estimator using the best found parameters on the whole dataset\n",
    "                               n_jobs=self.n_jobs,\n",
    "                               return_train_score=True,\n",
    "                               iid=False)\n",
    "\n",
    "        \n",
    "    def fit(self, X, y, **params):\n",
    "        if not 'groups' in params:\n",
    "            raise ValueError(\"pass 'groups' parameter to make cv_strategy work correctly\")\n",
    "        for key, gs in self.gs_dict.items():\n",
    "            gs.fit(X, y[key], **params)\n",
    "            self.best_dict[key] = gs.best_estimator_\n",
    "        return self\n",
    "    \n",
    "    @save_to_csv\n",
    "    def get_oof_predictions(self, X, y, groups, cv_strategy=None, label_enc=None, \n",
    "                            filename='reg_wrapper_oof_predict.csv'):\n",
    "        if cv_strategy is None:\n",
    "            cv = self.cv_strategy # we pass here exactly the same cv_strategy we used for GridSearch\n",
    "        else:\n",
    "            cv = cv_strategy  # use custom strategy\n",
    "        result = {}\n",
    "        for key, _best in self.best_dict.items():\n",
    "            _y = y[key]\n",
    "            preds = []\n",
    "            y_test_folds = []\n",
    "            folds = []\n",
    "            true_loc_labels = []\n",
    "            for i, (train_index, test_index) in enumerate(cv.split(X, _y, groups)):\n",
    "                if OOF_SELECTED_LOCATIONS is not None:\n",
    "                    test_groups = groups.iloc[test_index]\n",
    "                    if not set(test_groups).intersection(set(OOF_SELECTED_LOCATIONS)):\n",
    "                        continue\n",
    "                print(i,\"fold\")\n",
    "                y_test_fold = _y.iloc[test_index]\n",
    "                y_train_fold = _y.iloc[train_index]\n",
    "                X_test_fold = X.iloc[test_index]\n",
    "                X_train_fold = X.iloc[train_index]\n",
    "                \n",
    "                true_loc_test_fold = y['Location'].iloc[test_index]\n",
    "\n",
    "                _best.fit(X_train_fold, y_train_fold)\n",
    "                pred = _best.predict(X_test_fold)\n",
    "\n",
    "                preds.append(pred)\n",
    "                y_test_folds.append(y_test_fold)\n",
    "                folds += [i] * len(test_index)\n",
    "                true_loc_labels.append(true_loc_test_fold)\n",
    "            result['fold'] = folds\n",
    "            result['mid_' + key.lower()] = np.hstack(preds)\n",
    "            result['true_' + key.lower()] = np.hstack(y_test_folds)\n",
    "            result['true_location_label'] = np.hstack(true_loc_labels)\n",
    "        df_res = pd.DataFrame(result)\n",
    "        df_res['distance_to_midpoint'] = df_res.apply(self.distance_to_midpoint, axis=1)\n",
    "        return df_res\n",
    "    \n",
    "    @save_to_csv\n",
    "    def predict(self, X, \n",
    "                filename='reg_wrapper_predict_vivax.csv'):\n",
    "        preds = {key: _best.predict(X)\n",
    "                 for key, _best in self.best_dict.items()}\n",
    "        return pd.DataFrame(preds)\n",
    "\n",
    "    def distance_to_midpoint(self, row_proba):\n",
    "        pred_loc = tuple([row_proba['mid_%s' % key.lower()] \n",
    "                          for key in sorted(self.best_dict.keys())])\n",
    "        true_loc = tuple([row_proba['true_%s' % key.lower()] \n",
    "                          for key in sorted(self.best_dict.keys())])\n",
    "        return geo_distance.distance(pred_loc, true_loc).km\n",
    "    \n",
    "    @save_to_csv\n",
    "    def evaluate_on_holdout(self, X_holdout, y_holdout, label_enc=None, location_dict=None, \n",
    "                            filename='test_reg_wrapper_evaluate_vivax.csv'):\n",
    "        \n",
    "        preds = {'mid_%s' % key.lower(): _best.predict(X_holdout)\n",
    "                     for key, _best in self.best_dict.items()}\n",
    "\n",
    "        df_pred = pd.DataFrame(preds)\n",
    "\n",
    "        for key in self.best_dict.keys():\n",
    "            df_pred['true_%s' % key.lower()] = y_holdout[key]\n",
    "        df_pred['true_location_label'] = y_holdout['Location']\n",
    "\n",
    "        df_pred['distance_to_midpoint'] = df_pred.apply(self.distance_to_midpoint, axis=1)\n",
    "        return df_pred\n",
    "\n",
    "class TwoRegressorsWrapperV2(TwoRegressorsWrapper):\n",
    "    def __init__(self, reg_dict, cv_strategy, gridsearch_params, n_jobs=n_jobs_2reg):\n",
    "        self.reg_dict = reg_dict\n",
    "        self.n_jobs = n_jobs\n",
    "        self.cv_strategy = cv_strategy\n",
    "        self.gridsearch_params = {'reg__%s' % param_name: param_values  # format <name_of_step>__<name_of_param>\n",
    "                                  for param_name, param_values in gridsearch_params.items()} \n",
    "        self.best_dict = {k: None for k in reg_dict.keys()}\n",
    "        self.gs_dict = {k: None for k in reg_dict.keys()}\n",
    "        \n",
    "    def get_gridsearch(self):\n",
    "        if any(v is None for v in self.best_dict.values()):\n",
    "            print('model has not been fitted yet')\n",
    "        return self.gs_dict\n",
    "\n",
    "        \n",
    "    def fit(self, X, y, restore_best_params_from=None, **params):\n",
    "        gs_filename = str(restore_best_params_from) + '.grid_search'\n",
    "        if ((restore_best_params_from is None) \n",
    "            or (not os.path.exists(restore_best_params_from))):\n",
    "            print('do gridsearch')\n",
    "            if not 'groups' in params:\n",
    "                raise ValueError(\"pass 'groups' parameter to make cv_strategy work correctly\")\n",
    "            best_params = {}\n",
    "            for key, reg in self.reg_dict.items():\n",
    "                gs = self._make_gs(reg)\n",
    "                gs.fit(X, y[key], **params)\n",
    "                self.best_dict[key] = gs.best_estimator_\n",
    "                best_params[key] = gs.best_params_\n",
    "#                 del gs\n",
    "                self.gs_dict[key] = gs\n",
    "            if restore_best_params_from is not None:\n",
    "                sklearn.externals.joblib.dump(best_params, restore_best_params_from, compress=0)\n",
    "                sklearn.externals.joblib.dump(self.gs_dict, gs_filename, compress=0)   \n",
    "        else:\n",
    "            print('restore best_params')\n",
    "            best_params = sklearn.externals.joblib.load(restore_best_params_from)\n",
    "            self.gs_dict = sklearn.externals.joblib.load(gs_filename)\n",
    "            \n",
    "            for key, reg in self.reg_dict.items():\n",
    "                pipe = self._make_pipeline(reg)\n",
    "                reg_best_params = best_params[key]\n",
    "                pipe.set_params(**reg_best_params)\n",
    "                fit_params = params.copy()\n",
    "                if 'groups' in fit_params:\n",
    "                    del fit_params['groups']\n",
    "                pipe.fit(X, y[key], **fit_params)\n",
    "                self.best_dict[key] = pipe            \n",
    "        return self\n",
    "\n",
    "## Keras reg\n",
    "\n",
    "def make_model():\n",
    "    model = tf.keras.Sequential()\n",
    "    model.add(tf.keras.layers.BatchNormalization(input_shape=cnn_input_shape))\n",
    "    for i in range(int(np.floor(cnn_nlayers/2))):\n",
    "        model.add(tf.keras.layers.Dense(cnn_width,activation=\"elu\"))\n",
    "    model.add(tf.keras.layers.Dropout(cnn_dropout_prop))\n",
    "    for i in range(int(np.ceil(cnn_nlayers/2))):\n",
    "        model.add(tf.keras.layers.Dense(cnn_width,activation=\"elu\"))\n",
    "    model.add(tf.keras.layers.Dense(2))\n",
    "    model.add(tf.keras.layers.Dense(2))\n",
    "    model.compile(loss='mean_squared_error', optimizer=optimizer_selected)\n",
    "    return model\n",
    "\n",
    "\n",
    "class KerasWrapper(BaseWrapper):\n",
    "    def __init__(self, make_model_func, columns, random_seed=None):\n",
    "        self.make_model_func = make_model_func\n",
    "        self.columns = columns\n",
    "        self.random_seed = random_seed\n",
    "        self.set_seed()\n",
    "        self._make_model()\n",
    "        self.best_ = None\n",
    "        \n",
    "    def _make_model(self):\n",
    "        self.model = tf.keras.wrappers.scikit_learn.KerasRegressor(build_fn=self.make_model_func,\n",
    "                                                                     epochs=cnn_max_epochs,\n",
    "                                                                     batch_size=cnn_batch_size,\n",
    "                                                                     shuffle=True,\n",
    "                                                                     verbose=keras_verbose)\n",
    "        self.pipeline = Pipeline(steps=[\n",
    "            ('imputer', BinomialImputer()),\n",
    "            ('keras', self.model),\n",
    "        ])\n",
    "\n",
    "        \n",
    "    def fit(self, X, y, **params):\n",
    "        self.set_seed()\n",
    "        self.pipeline.fit(X, y[self.columns], **params)\n",
    "        self.best_ = self.pipeline\n",
    "        return self\n",
    "    \n",
    "    def set_seed(self):\n",
    "        if self.random_seed is not None:\n",
    "            tf.random.set_seed(self.random_seed)\n",
    "    \n",
    "    @save_to_csv\n",
    "    def get_oof_predictions(self, X, y, groups, cv_strategy=None, label_enc=None, \n",
    "                            filename='keras_regr_class_oof_predictions.csv'):\n",
    "        if cv_strategy is None:\n",
    "            cv = self.cv_strategy # we pass here exactly the same cv_strategy we used for GridSearch\n",
    "        else:\n",
    "            cv = cv_strategy  # use custom strategy\n",
    "            \n",
    "        self.set_seed()\n",
    "        \n",
    "        y_test_folds = []\n",
    "        folds = []\n",
    "        true_loc_labels = []\n",
    "        _df_preds = []\n",
    "        for i, (train_index, test_index) in enumerate(cv.split(X, y, groups)):\n",
    "            if OOF_SELECTED_LOCATIONS is not None:\n",
    "                test_groups = groups.iloc[test_index]\n",
    "                if not set(test_groups).intersection(set(OOF_SELECTED_LOCATIONS)):\n",
    "                    print(i, 'skipped')\n",
    "                    continue\n",
    "            # train test split \n",
    "            print(i,\"fold\")\n",
    "            y_test_fold = y.iloc[test_index][self.columns]\n",
    "            y_train_fold = y.iloc[train_index][self.columns]\n",
    "            X_test_fold = X.iloc[test_index]\n",
    "            X_train_fold = X.iloc[train_index]\n",
    "            \n",
    "            true_loc_test_fold = y.iloc[test_index]['Location']\n",
    "            \n",
    "            # fit predict\n",
    "            self.set_seed()\n",
    "            self._make_model()\n",
    "            self.pipeline.fit(X_train_fold, y_train_fold)\n",
    "            pred = self.pipeline.predict(X_test_fold)\n",
    "            \n",
    "            # save predictions\n",
    "            y_test_folds.append(y_test_fold)\n",
    "            folds += [i] * len(test_index)\n",
    "            true_loc_labels.append(true_loc_test_fold)\n",
    "            \n",
    "            _df_preds.append(pd.DataFrame(pred, columns=[u'mid_%s' % key.lower() \n",
    "                                               for key in self.columns]))\n",
    "            \n",
    "        _df_pred = pd.concat(_df_preds, axis=0, sort=False)\n",
    "        \n",
    "        _df_pred['fold'] = folds\n",
    "        for key in self.columns:\n",
    "            _df_pred[u'true_%s' % key.lower()] = np.NaN\n",
    "        _df_pred[[u'true_%s' % key.lower() \n",
    "                    for key in self.columns]] = np.vstack(y_test_folds)\n",
    "                     \n",
    "        _df_pred['true_location_label'] = np.hstack(true_loc_labels)\n",
    "        _df_pred['distance_to_midpoint'] = _df_pred.apply(self.distance_to_midpoint, axis=1)\n",
    "        return _df_pred\n",
    "\n",
    "    @save_to_csv\n",
    "    def predict(self, X, filename='keras_wrapper_predict.csv'):\n",
    "        return self.best_.predict(X)\n",
    "    \n",
    "    def distance_to_midpoint(self, row_proba):\n",
    "        pred_loc = tuple([row_proba['mid_%s' % key.lower()] \n",
    "                          for key in sorted(self.columns)])\n",
    "        true_loc = tuple([row_proba['true_%s' % key.lower()] \n",
    "                          for key in sorted(self.columns)])\n",
    "        return geo_distance.distance(pred_loc, true_loc).km\n",
    "\n",
    "    \n",
    "    @save_to_csv\n",
    "    def evaluate_on_holdout(self, X_holdout, y_holdout, label_enc, location_dict, \n",
    "                            filename='test_keras_wrapper_evaluate_vivax.csv'):\n",
    "        preds = self.pipeline.predict(X_holdout)\n",
    "        df_pred = pd.DataFrame(preds, columns=[u'mid_%s' % key.lower() \n",
    "                                               for key in self.columns])\n",
    "\n",
    "        for key in self.columns:\n",
    "            df_pred['true_%s' % key.lower()] = y_holdout[key]\n",
    "        df_pred['true_location_label'] = y_holdout['Location']\n",
    "\n",
    "        df_pred['distance_to_midpoint'] = df_pred.apply(self.distance_to_midpoint, axis=1)\n",
    "        return df_pred\n",
    "\n",
    "class KerasClassifierWrapper(ClassificatorWrapper):\n",
    "        def __init__(self, make_model_func, random_seed=None):\n",
    "            self.make_model_func = make_model_func\n",
    "            self.random_seed = random_seed\n",
    "            self.set_seed()\n",
    "            _mm = make_model_func()\n",
    "            self.classes_ = np.arange(0, _mm.output_shape[-1])\n",
    "            self._make_model()\n",
    "            self.best_ = None\n",
    "\n",
    "        def _make_model(self):\n",
    "            self.model = tf.keras.wrappers.scikit_learn.KerasClassifier(build_fn=self.make_model_func,\n",
    "                                                                         epochs=cnn_max_epochs,\n",
    "                                                                         batch_size=cnn_batch_size,\n",
    "                                                                         shuffle=True,\n",
    "                                                                         verbose=keras_verbose)\n",
    "            self.model.classes_ = self.classes_\n",
    "            \n",
    "            self.pipeline = Pipeline(steps=[\n",
    "                ('imputer', BinomialImputer()),\n",
    "                ('keras', self.model),\n",
    "            ])\n",
    "            \n",
    "        def _prepare_y(self, y):\n",
    "            return tf.keras.utils.to_categorical(y, num_classes=len(self.classes_))\n",
    "        \n",
    "        def _init_clf(self):\n",
    "            self.set_seed()\n",
    "            self._make_model()\n",
    "            self.best_ = self.pipeline\n",
    "\n",
    "        def fit(self, X, y, **params):\n",
    "            self.set_seed()\n",
    "            self._make_model()\n",
    "            self.pipeline.fit(X, y, **params)\n",
    "            self.best_ = self.pipeline\n",
    "            return self\n",
    "        \n",
    "        def set_seed(self):\n",
    "            if self.random_seed is not None:\n",
    "                tf.random.set_seed(self.random_seed)\n",
    "\n",
    "        @save_to_csv\n",
    "        def predict(self, X, filename='keras_cls_wrapper_predict_vivax.csv'):\n",
    "            return self.best_.predict(X)\n",
    "\n",
    "        @save_to_csv\n",
    "        def predict_proba(self, X, filename='keras_clf_wrapper_predict_proba_vivax.csv'):\n",
    "            return self.best_.predict_proba(X)\n",
    "\n",
    "def summarize_crossval_accuracy(grid_result):\n",
    "    print(\"Best: %f using %s\" % (grid_result.best_score_, grid_result.best_params_))\n",
    "    means = grid_result.cv_results_['mean_test_score']\n",
    "    stds = grid_result.cv_results_['std_test_score']\n",
    "    params = grid_result.cv_results_['params']\n",
    "    print(means,\"means\")\n",
    "    print(params,\"params\")\n",
    "    for mean, stdev, param in zip(means, stds, params):\n",
    "        print(\"%f (%f) with: %r\" % (mean, stdev, param))\n",
    "    scores = np.array(means)#.reshape(len(max_depth))\n",
    "    return scores\n",
    "\n",
    "def plot_crossval(max_depth,scores,title_graph,yerr):\n",
    "    plt.plot(max_depth, scores)\n",
    "    plt.legend()\n",
    "    plt.xlabel('Regularization')\n",
    "    plt.ylabel('accuracy')\n",
    "    title=title_graph\n",
    "    plt.title(title)\n",
    "    axes = plt.gca()\n",
    "    lowerb=np.round(np.min(scores)*0.8,1)\n",
    "    axes.set_ylim([lowerb,1])\n",
    "    plt.errorbar(max_depth, scores, yerr=yerr)\n",
    "    plt.savefig(title)\n",
    "    \n",
    "def make_model():\n",
    "    model = tf.keras.Sequential()\n",
    "    model.add(tf.keras.layers.BatchNormalization(input_shape=cnn_input_shape))\n",
    "    for i in range(int(np.floor(cnn_nlayers/2))):\n",
    "        model.add(tf.keras.layers.Dense(cnn_width,activation=\"elu\"))\n",
    "    model.add(tf.keras.layers.Dropout(cnn_dropout_prop))\n",
    "    for i in range(int(np.ceil(cnn_nlayers/2))):\n",
    "        model.add(tf.keras.layers.Dense(cnn_width,activation=\"elu\"))\n",
    "    model.add(tf.keras.layers.Dense(2))\n",
    "    model.add(tf.keras.layers.Dense(2))\n",
    "    model.compile(loss='mean_squared_error', optimizer='adam')\n",
    "    return model\n",
    "\n",
    "\n",
    "def performance_curve_accuracy(history,title):\n",
    "    plotdict=history    \n",
    "    plt.plot(plotdict['acc'],color=\"blue\")\n",
    "    plt.plot(plotdict['val_acc'],color=\"orange\")\n",
    "    plt.title('model accuracy'+\"_\"+title)\n",
    "    plt.ylabel('accuracy')\n",
    "    plt.xlabel('epoch')\n",
    "    plt.legend(['train', 'validation'], loc='lower left')\n",
    "    plt.savefig('model loss_graph'+\"_\"+title+\"_\"+datestr)\n",
    "    plt.ylim(0,1)\n",
    "    plt.show()\n",
    "\n",
    "def performance_curve_loss(history,title):\n",
    "    plt.plot(history.history['loss'],color=\"blue\")\n",
    "    plt.plot(history.history['val_loss'],color=\"orange\")\n",
    "    plt.title('model loss'+\"_\"+title)\n",
    "    plt.ylabel('loss')\n",
    "    plt.xlabel('epoch')\n",
    "    plt.legend(['train', 'valiation'], loc='upper right')\n",
    "    plt.savefig('model_loss_graph'+\"_\"+title+\"_\"+source+\"_sim\")\n",
    "    plt.show()\n",
    "    \n",
    "def performance_curve_metric(history,title):\n",
    "    plotdict=history    \n",
    "    plt.plot(history.history['accuracy'],color=\"blue\")\n",
    "    plt.plot(history.history['accuracy'],color=\"orange\") #val_categorical_crossentropy\n",
    "    plt.title('model accuracy'+\"_\"+title)\n",
    "    plt.ylabel('accuracy')\n",
    "    plt.xlabel('epoch')\n",
    "    plt.legend(['train', 'validation'], loc='lower left')\n",
    "    plt.show()    \n",
    "\n",
    "def clf_wrapper_count_nonzero_coefs(clf_wrapper, tol=1e-8, return_count=True):\n",
    "    clf = clf_wrapper.best_.named_steps['clf']\n",
    "    all_coefs = np.hstack((clf.coef_.ravel(), \n",
    "                   clf.intercept_.ravel()))\n",
    "#     print(all_coefs.shape)\n",
    "    return count_nonzero_coefs(all_coefs, tol=tol, return_count=return_count)\n",
    "    \n",
    "def count_nonzero_coefs(all_coefs, tol=1e-8, return_count=True):\n",
    "    total = all_coefs.shape[0] * 1.0\n",
    "    nonzeros = np.sum(np.abs(all_coefs) > tol)\n",
    "    if return_count:\n",
    "        return nonzeros\n",
    "    else:\n",
    "        return nonzeros / total\n",
    "    \n",
    "def reg_wrapper_count_nonzero_coefs(reg_wrapper, tol=1e-8, return_count=True):\n",
    "    def get_coefs(reg):\n",
    "        return (reg.named_steps['reg'].coef_.ravel(), \n",
    "                reg.named_steps['reg'].intercept_.ravel())\n",
    "    coefs = [get_coefs(reg ) for reg in reg_wrapper.best_dict.values()]\n",
    "    all_coefs = np.hstack(sum(coefs, ()))\n",
    "    return count_nonzero_coefs(all_coefs, tol=tol, return_count=return_count)\n",
    "\n",
    "def prepare_val_data_for_clf(X_val_data, y_val_data, y_train):\n",
    "    classes_in_train = sorted(list(set(y_train)))\n",
    "    in_train = y_val_data.isin(classes_in_train)\n",
    "    val_X = X_val_data[in_train]\n",
    "    val_y = y_val_data[in_train]\n",
    "    ohe_val_y = np.zeros(shape=(len(val_y), len(classes_in_train)))\n",
    "    for i, _class in enumerate(classes_in_train):\n",
    "        ohe_val_y[:, i] = (val_y == _class).astype(int)\n",
    "    ohe_val_y = pd.DataFrame(ohe_val_y, columns=classes_in_train)\n",
    "    return (val_X, ohe_val_y)\n",
    "\n",
    "def keras_wrapper_count_nonzero_coefs(keras_wrapper, tol=1e-8, return_count=True):\n",
    "    coefs = [w.ravel() for w in keras_wrapper.best_.named_steps['keras'].model.get_weights()]\n",
    "    all_coefs = np.hstack(coefs)\n",
    "    return count_nonzero_coefs(all_coefs, tol=tol, return_count=return_count)\n",
    "                            \n",
    "def plot_all_isolate_locations(input_file_locations__plotting,verbose=0):\n",
    "    df = pd.read_excel(input_file_locations__plotting)\n",
    "    if verbose==1:\n",
    "        print(df.head())\n",
    "        print(\"####\")\n",
    "        print(df_geo_full.head())\n",
    "        print(\"####\")\n",
    "        print(df.shape, df.columns)\n",
    "        print(\"####\")\n",
    "\n",
    "    by_coord = (df_geo_full\n",
    "                .groupby(['Lat', 'Long'])\n",
    "                .agg({'Sample': 'count', 'Location': 'first'})\n",
    "                .reset_index()\n",
    "                .rename(columns={'Sample': 'points_count'}))\n",
    "    if verbose==1:\n",
    "        print(by_coord.shape)\n",
    "        print(by_coord.head())\n",
    "\n",
    "    fig = px.scatter_geo(by_coord, lat='Lat', lon='Long', color=\"Location\",hover_name=\"Location\", size=\"points_count\",text='points_count', projection=\"natural earth\")\n",
    "    config = {'displaylogo': False}\n",
    "    fig.show(config=config)\n",
    " "
   ]
  },
  {
   "cell_type": "code",
   "execution_count": 182,
   "metadata": {},
   "outputs": [
    {
     "name": "stdout",
     "output_type": "stream",
     "text": [
      "/opt/storage2/wouter\n"
     ]
    }
   ],
   "source": [
    "%cd ~"
   ]
  },
  {
   "cell_type": "code",
   "execution_count": 183,
   "metadata": {},
   "outputs": [
    {
     "name": "stdout",
     "output_type": "stream",
     "text": [
      "data shape:  (636, 461)\n",
      "geo shape:  (636, 4)\n"
     ]
    }
   ],
   "source": [
    "# Run\n",
    "outvar=1\n",
    "!echo $outvar > $code_running_success\n",
    "\n",
    "## read data\n",
    "###########################################################\n",
    "if use_simulated_data==1:\n",
    "    df_genome = load_dataset_simulated_genomic_data(simulated_inputfile_genome, holdout_locs)\n",
    "    df_geoloc= load_dataset_simulated_geo_data(simulated_inputfile_geo,holdout_locs)\n",
    "else:\n",
    "    print(\"failure to choose datafile\")"
   ]
  },
  {
   "cell_type": "code",
   "execution_count": 184,
   "metadata": {},
   "outputs": [
    {
     "name": "stdout",
     "output_type": "stream",
     "text": [
      "(636, 461)\n"
     ]
    },
    {
     "data": {
      "text/html": [
       "<div>\n",
       "<style scoped>\n",
       "    .dataframe tbody tr th:only-of-type {\n",
       "        vertical-align: middle;\n",
       "    }\n",
       "\n",
       "    .dataframe tbody tr th {\n",
       "        vertical-align: top;\n",
       "    }\n",
       "\n",
       "    .dataframe thead th {\n",
       "        text-align: right;\n",
       "    }\n",
       "</style>\n",
       "<table border=\"1\" class=\"dataframe\">\n",
       "  <thead>\n",
       "    <tr style=\"text-align: right;\">\n",
       "      <th></th>\n",
       "      <th>Sample</th>\n",
       "      <th>SNP1</th>\n",
       "      <th>SNP2</th>\n",
       "      <th>SNP3</th>\n",
       "      <th>SNP4</th>\n",
       "      <th>SNP5</th>\n",
       "      <th>SNP6</th>\n",
       "      <th>SNP7</th>\n",
       "      <th>SNP8</th>\n",
       "      <th>SNP9</th>\n",
       "      <th>...</th>\n",
       "      <th>SNP451</th>\n",
       "      <th>SNP452</th>\n",
       "      <th>SNP453</th>\n",
       "      <th>SNP454</th>\n",
       "      <th>SNP455</th>\n",
       "      <th>SNP456</th>\n",
       "      <th>SNP457</th>\n",
       "      <th>SNP458</th>\n",
       "      <th>SNP459</th>\n",
       "      <th>SNP460</th>\n",
       "    </tr>\n",
       "  </thead>\n",
       "  <tbody>\n",
       "    <tr>\n",
       "      <th>0</th>\n",
       "      <td>ERR1</td>\n",
       "      <td>1</td>\n",
       "      <td>1</td>\n",
       "      <td>0</td>\n",
       "      <td>1</td>\n",
       "      <td>0</td>\n",
       "      <td>0</td>\n",
       "      <td>0</td>\n",
       "      <td>0</td>\n",
       "      <td>0</td>\n",
       "      <td>...</td>\n",
       "      <td>1</td>\n",
       "      <td>0</td>\n",
       "      <td>0</td>\n",
       "      <td>0</td>\n",
       "      <td>0</td>\n",
       "      <td>1</td>\n",
       "      <td>0</td>\n",
       "      <td>0</td>\n",
       "      <td>0</td>\n",
       "      <td>0</td>\n",
       "    </tr>\n",
       "    <tr>\n",
       "      <th>1</th>\n",
       "      <td>ERR2</td>\n",
       "      <td>1</td>\n",
       "      <td>1</td>\n",
       "      <td>0</td>\n",
       "      <td>1</td>\n",
       "      <td>0</td>\n",
       "      <td>0</td>\n",
       "      <td>0</td>\n",
       "      <td>0</td>\n",
       "      <td>0</td>\n",
       "      <td>...</td>\n",
       "      <td>0</td>\n",
       "      <td>0</td>\n",
       "      <td>0</td>\n",
       "      <td>0</td>\n",
       "      <td>1</td>\n",
       "      <td>0</td>\n",
       "      <td>0</td>\n",
       "      <td>1</td>\n",
       "      <td>0</td>\n",
       "      <td>0</td>\n",
       "    </tr>\n",
       "    <tr>\n",
       "      <th>2</th>\n",
       "      <td>ERR3</td>\n",
       "      <td>1</td>\n",
       "      <td>1</td>\n",
       "      <td>0</td>\n",
       "      <td>0</td>\n",
       "      <td>1</td>\n",
       "      <td>0</td>\n",
       "      <td>1</td>\n",
       "      <td>0</td>\n",
       "      <td>0</td>\n",
       "      <td>...</td>\n",
       "      <td>0</td>\n",
       "      <td>0</td>\n",
       "      <td>1</td>\n",
       "      <td>0</td>\n",
       "      <td>1</td>\n",
       "      <td>0</td>\n",
       "      <td>0</td>\n",
       "      <td>1</td>\n",
       "      <td>0</td>\n",
       "      <td>0</td>\n",
       "    </tr>\n",
       "    <tr>\n",
       "      <th>3</th>\n",
       "      <td>ERR4</td>\n",
       "      <td>1</td>\n",
       "      <td>0</td>\n",
       "      <td>0</td>\n",
       "      <td>0</td>\n",
       "      <td>0</td>\n",
       "      <td>0</td>\n",
       "      <td>1</td>\n",
       "      <td>0</td>\n",
       "      <td>0</td>\n",
       "      <td>...</td>\n",
       "      <td>0</td>\n",
       "      <td>0</td>\n",
       "      <td>0</td>\n",
       "      <td>0</td>\n",
       "      <td>0</td>\n",
       "      <td>0</td>\n",
       "      <td>1</td>\n",
       "      <td>0</td>\n",
       "      <td>0</td>\n",
       "      <td>0</td>\n",
       "    </tr>\n",
       "    <tr>\n",
       "      <th>4</th>\n",
       "      <td>ERR5</td>\n",
       "      <td>1</td>\n",
       "      <td>1</td>\n",
       "      <td>0</td>\n",
       "      <td>0</td>\n",
       "      <td>0</td>\n",
       "      <td>0</td>\n",
       "      <td>0</td>\n",
       "      <td>0</td>\n",
       "      <td>0</td>\n",
       "      <td>...</td>\n",
       "      <td>0</td>\n",
       "      <td>0</td>\n",
       "      <td>0</td>\n",
       "      <td>0</td>\n",
       "      <td>0</td>\n",
       "      <td>0</td>\n",
       "      <td>0</td>\n",
       "      <td>1</td>\n",
       "      <td>1</td>\n",
       "      <td>0</td>\n",
       "    </tr>\n",
       "  </tbody>\n",
       "</table>\n",
       "<p>5 rows × 461 columns</p>\n",
       "</div>"
      ],
      "text/plain": [
       "  Sample  SNP1  SNP2  SNP3  SNP4  SNP5  SNP6  SNP7  SNP8  SNP9  ...  SNP451  \\\n",
       "0   ERR1     1     1     0     1     0     0     0     0     0  ...       1   \n",
       "1   ERR2     1     1     0     1     0     0     0     0     0  ...       0   \n",
       "2   ERR3     1     1     0     0     1     0     1     0     0  ...       0   \n",
       "3   ERR4     1     0     0     0     0     0     1     0     0  ...       0   \n",
       "4   ERR5     1     1     0     0     0     0     0     0     0  ...       0   \n",
       "\n",
       "   SNP452  SNP453  SNP454  SNP455  SNP456  SNP457  SNP458  SNP459  SNP460  \n",
       "0       0       0       0       0       1       0       0       0       0  \n",
       "1       0       0       0       1       0       0       1       0       0  \n",
       "2       0       1       0       1       0       0       1       0       0  \n",
       "3       0       0       0       0       0       1       0       0       0  \n",
       "4       0       0       0       0       0       0       1       1       0  \n",
       "\n",
       "[5 rows x 461 columns]"
      ]
     },
     "execution_count": 184,
     "metadata": {},
     "output_type": "execute_result"
    }
   ],
   "source": [
    "print(df_genome.shape)\n",
    "df_genome.head()"
   ]
  },
  {
   "cell_type": "code",
   "execution_count": 185,
   "metadata": {},
   "outputs": [
    {
     "data": {
      "text/html": [
       "<div>\n",
       "<style scoped>\n",
       "    .dataframe tbody tr th:only-of-type {\n",
       "        vertical-align: middle;\n",
       "    }\n",
       "\n",
       "    .dataframe tbody tr th {\n",
       "        vertical-align: top;\n",
       "    }\n",
       "\n",
       "    .dataframe thead th {\n",
       "        text-align: right;\n",
       "    }\n",
       "</style>\n",
       "<table border=\"1\" class=\"dataframe\">\n",
       "  <thead>\n",
       "    <tr style=\"text-align: right;\">\n",
       "      <th></th>\n",
       "      <th>Sample</th>\n",
       "      <th>Location</th>\n",
       "      <th>Lat</th>\n",
       "      <th>Long</th>\n",
       "    </tr>\n",
       "  </thead>\n",
       "  <tbody>\n",
       "    <tr>\n",
       "      <th>0</th>\n",
       "      <td>ERR1</td>\n",
       "      <td>Mauritania</td>\n",
       "      <td>15.82083</td>\n",
       "      <td>-9.4145</td>\n",
       "    </tr>\n",
       "    <tr>\n",
       "      <th>1</th>\n",
       "      <td>ERR2</td>\n",
       "      <td>Mauritania</td>\n",
       "      <td>15.82083</td>\n",
       "      <td>-9.4145</td>\n",
       "    </tr>\n",
       "    <tr>\n",
       "      <th>2</th>\n",
       "      <td>ERR3</td>\n",
       "      <td>Mauritania</td>\n",
       "      <td>15.82083</td>\n",
       "      <td>-9.4145</td>\n",
       "    </tr>\n",
       "    <tr>\n",
       "      <th>3</th>\n",
       "      <td>ERR4</td>\n",
       "      <td>Mauritania</td>\n",
       "      <td>15.82083</td>\n",
       "      <td>-9.4145</td>\n",
       "    </tr>\n",
       "    <tr>\n",
       "      <th>4</th>\n",
       "      <td>ERR5</td>\n",
       "      <td>Mauritania</td>\n",
       "      <td>15.82083</td>\n",
       "      <td>-9.4145</td>\n",
       "    </tr>\n",
       "  </tbody>\n",
       "</table>\n",
       "</div>"
      ],
      "text/plain": [
       "  Sample    Location       Lat    Long\n",
       "0   ERR1  Mauritania  15.82083 -9.4145\n",
       "1   ERR2  Mauritania  15.82083 -9.4145\n",
       "2   ERR3  Mauritania  15.82083 -9.4145\n",
       "3   ERR4  Mauritania  15.82083 -9.4145\n",
       "4   ERR5  Mauritania  15.82083 -9.4145"
      ]
     },
     "execution_count": 185,
     "metadata": {},
     "output_type": "execute_result"
    }
   ],
   "source": [
    "df_geoloc.head()"
   ]
  },
  {
   "cell_type": "code",
   "execution_count": 186,
   "metadata": {
    "scrolled": false
   },
   "outputs": [
    {
     "name": "stdout",
     "output_type": "stream",
     "text": [
      "merged shape:  (636, 464)\n",
      "number of columns with missing values: 0\n",
      "Empty DataFrame\n",
      "Columns: []\n",
      "Index: [0]\n",
      "after dropping columns with missing values merged shape =  (636, 464)\n",
      "/opt/storage2/wouter\n",
      "(508, 460) (128, 460)\n",
      "(64, 460) test shape\n",
      "(64, 460) validation shape\n",
      "['Bahamas']\n",
      "before 0\n",
      "after 23315\n",
      "same values 210365\n",
      "before 23315\n",
      "after 0\n",
      "same values 210365\n"
     ]
    }
   ],
   "source": [
    "(df_full, y_full, y_label_full, y_lat_full, y_lon_full, df_geo_full, hold_out_indicator, label_enc, location_dict) = combine_and_clean_data(df_genome, df_geoloc,holdout_locs)\n",
    "\n",
    "if verbose==1:\n",
    "    print(df_geo.head())\n",
    "    print(df_genome.head())\n",
    "if verbose==1:\n",
    "    print(df_full.head())\n",
    "\n",
    "pd.DataFrame(y_label_full).groupby(\"Location\").size()  ###y-label by location \n",
    "\n",
    "%cd ~ \n",
    "\n",
    "####first split in train and hold-out\n",
    "(df_ml_data, df_holdout, \n",
    " df_geo_ml_data, df_geo_holdout, \n",
    " y_label_ml_data, y_label_holdout,\n",
    " y_ml_data, y_holdout) = ml_data_holdout_split(hold_out_indicator, \n",
    "                                              df_full, df_geo_full, y_label_full, y_full,\n",
    "                                              test_size=holdout_size_perc, random_state=42,stratify=y_label_full) ##42\n",
    "print(df_ml_data.shape, df_holdout.shape)\n",
    "\n",
    "#####second split from hold-out in test and validation \n",
    "####train_test_split, including holdouts\n",
    "test_val_indocator = np.zeros(shape=(len(df_holdout),), dtype=np.bool)  # to make holdout split work  ### check result\n",
    "(df_test, df_validation, \n",
    " df_geo_test, df_geo_validation, \n",
    " y_label_test, y_label_validation,\n",
    " y_test, y_validation) = ml_data_holdout_split(test_val_indocator, \n",
    "                                              df_holdout, df_geo_holdout, y_label_holdout, y_holdout,\n",
    "                                              test_size=1-test_perc, # test data and val data are both 50% ofs holdout ### check result\n",
    "                                              random_state=42,stratify=y_label_holdout)\n",
    "print(df_test.shape, \"test shape\")\n",
    "print(df_validation.shape, \"validation shape\")\n",
    "\n",
    "print(holdout_locs)\n",
    "df_geo_holdout.sample(10)  \n",
    "\n",
    "if use_simulated_data==1:\n",
    "    nans_before = df_ml_data.isna().sum().sum()\n",
    "    print('before', nans_before)\n",
    "\n",
    "    df_ml_data_with_nans = add_random_nans(df_ml_data, nan_prob=0.1)\n",
    "    nans_after = df_ml_data_with_nans.isna().sum().sum()\n",
    "    print('after', nans_after)\n",
    "    print('same values', (df_ml_data == df_ml_data_with_nans).sum().sum())\n",
    "\n",
    "    nans_before = df_ml_data_with_nans.isna().sum().sum()\n",
    "    print('before', nans_before)\n",
    "\n",
    "    bi = BinomialImputer()\n",
    "    df_ml_data_imputed = bi.fit_transform(df_ml_data_with_nans, y_ml_data)\n",
    "\n",
    "    nans_after = df_ml_data_imputed.isna().sum().sum()\n",
    "    print('after', nans_after)\n",
    "    print('same values', (df_ml_data_imputed == df_ml_data_with_nans).sum().sum())\n",
    "\n",
    "outvar=df_ml_data.shape[1]\n",
    "!echo $outvar > $read_in_success"
   ]
  },
  {
   "cell_type": "code",
   "execution_count": 187,
   "metadata": {},
   "outputs": [
    {
     "data": {
      "text/html": [
       "<div>\n",
       "<style scoped>\n",
       "    .dataframe tbody tr th:only-of-type {\n",
       "        vertical-align: middle;\n",
       "    }\n",
       "\n",
       "    .dataframe tbody tr th {\n",
       "        vertical-align: top;\n",
       "    }\n",
       "\n",
       "    .dataframe thead th {\n",
       "        text-align: right;\n",
       "    }\n",
       "</style>\n",
       "<table border=\"1\" class=\"dataframe\">\n",
       "  <thead>\n",
       "    <tr style=\"text-align: right;\">\n",
       "      <th></th>\n",
       "      <th>train_count</th>\n",
       "      <th>val_count</th>\n",
       "      <th>test_count</th>\n",
       "    </tr>\n",
       "    <tr>\n",
       "      <th>Location</th>\n",
       "      <th></th>\n",
       "      <th></th>\n",
       "      <th></th>\n",
       "    </tr>\n",
       "  </thead>\n",
       "  <tbody>\n",
       "    <tr>\n",
       "      <th>Ghana</th>\n",
       "      <td>85</td>\n",
       "      <td>11</td>\n",
       "      <td>10</td>\n",
       "    </tr>\n",
       "    <tr>\n",
       "      <th>Mauritania</th>\n",
       "      <td>85</td>\n",
       "      <td>10</td>\n",
       "      <td>11</td>\n",
       "    </tr>\n",
       "    <tr>\n",
       "      <th>Peru</th>\n",
       "      <td>85</td>\n",
       "      <td>11</td>\n",
       "      <td>10</td>\n",
       "    </tr>\n",
       "    <tr>\n",
       "      <th>Tanzania</th>\n",
       "      <td>84</td>\n",
       "      <td>11</td>\n",
       "      <td>11</td>\n",
       "    </tr>\n",
       "    <tr>\n",
       "      <th>Thailand</th>\n",
       "      <td>84</td>\n",
       "      <td>11</td>\n",
       "      <td>11</td>\n",
       "    </tr>\n",
       "    <tr>\n",
       "      <th>Zambia</th>\n",
       "      <td>85</td>\n",
       "      <td>10</td>\n",
       "      <td>11</td>\n",
       "    </tr>\n",
       "  </tbody>\n",
       "</table>\n",
       "</div>"
      ],
      "text/plain": [
       "            train_count  val_count  test_count\n",
       "Location                                      \n",
       "Ghana                85         11          10\n",
       "Mauritania           85         10          11\n",
       "Peru                 85         11          10\n",
       "Tanzania             84         11          11\n",
       "Thailand             84         11          11\n",
       "Zambia               85         10          11"
      ]
     },
     "execution_count": 187,
     "metadata": {},
     "output_type": "execute_result"
    }
   ],
   "source": [
    "####overview of sample data\n",
    "df_check_val=df_geo_validation.groupby('Location')[\"Sample\"].agg(['count'])\n",
    "df_check_val.columns=[\"val_count\"]\n",
    "\n",
    "df_check_test=df_geo_test.groupby('Location')[\"Sample\"].agg(['count'])\n",
    "df_check_test.columns=[\"test_count\"]\n",
    "\n",
    "df_check_train=df_geo_ml_data.groupby('Location')[\"Sample\"].agg(['count'])\n",
    "df_check_train.columns=[\"train_count\"]\n",
    "\n",
    "df_sample_table=pd.merge(df_check_train,pd.merge(df_check_val,df_check_test,how=\"outer\",left_index=True,right_index=True),how=\"outer\",left_index=True,right_index=True)\n",
    "df_sample_table.fillna(0,inplace=True)\n",
    "df_sample_table.to_csv(source+\"_ttv_split.csv\")\n",
    "df_sample_table"
   ]
  },
  {
   "cell_type": "code",
   "execution_count": 188,
   "metadata": {},
   "outputs": [
    {
     "name": "stdout",
     "output_type": "stream",
     "text": [
      "restore best_params\n",
      "0.829144954681\n",
      "Pipeline(memory=None,\n",
      "     steps=[('imputer', BinomialImputer()), ('clf', SGDClassifier(alpha=0.1, average=False, class_weight=None,\n",
      "       early_stopping=False, epsilon=0.1, eta0=0.0, fit_intercept=True,\n",
      "       l1_ratio=0.15, learning_rate='optimal', loss='log', max_iter=1000,\n",
      "       n_iter=None, n_iter_no_change=5, n_jobs=-1, penalty='l2',\n",
      "       power_t=0.5, random_state=42, shuffle=True, tol=0.001,\n",
      "       validation_fraction=0.1, verbose=0, warm_start=False))])\n",
      "Test accuracy =  0.671875\n",
      "Mean distance error (km) =  4107.76714859\n",
      "5 fold\n",
      "1      3\n",
      "4      3\n",
      "12     3\n",
      "15     3\n",
      "16     3\n",
      "19     3\n",
      "20     3\n",
      "25     3\n",
      "28     3\n",
      "50     3\n",
      "58     3\n",
      "64     3\n",
      "66     3\n",
      "74     3\n",
      "76     3\n",
      "80     3\n",
      "84     3\n",
      "91     3\n",
      "93     3\n",
      "96     3\n",
      "119    3\n",
      "126    3\n",
      "134    3\n",
      "137    3\n",
      "147    3\n",
      "148    3\n",
      "154    3\n",
      "155    3\n",
      "157    3\n",
      "161    3\n",
      "      ..\n",
      "298    3\n",
      "300    3\n",
      "301    3\n",
      "306    3\n",
      "314    3\n",
      "317    3\n",
      "320    3\n",
      "329    3\n",
      "333    3\n",
      "345    3\n",
      "350    3\n",
      "351    3\n",
      "362    3\n",
      "363    3\n",
      "383    3\n",
      "388    3\n",
      "389    3\n",
      "393    3\n",
      "395    3\n",
      "402    3\n",
      "408    3\n",
      "414    3\n",
      "437    3\n",
      "449    3\n",
      "451    3\n",
      "455    3\n",
      "463    3\n",
      "479    3\n",
      "490    3\n",
      "502    3\n",
      "Length: 84, dtype: int64 y_test\n",
      "0      2\n",
      "2      1\n",
      "3      2\n",
      "5      1\n",
      "6      4\n",
      "7      4\n",
      "8      1\n",
      "9      0\n",
      "10     1\n",
      "11     2\n",
      "13     4\n",
      "14     5\n",
      "17     5\n",
      "18     2\n",
      "21     1\n",
      "22     5\n",
      "23     1\n",
      "24     5\n",
      "26     4\n",
      "27     5\n",
      "29     2\n",
      "30     5\n",
      "31     2\n",
      "32     2\n",
      "33     1\n",
      "34     0\n",
      "35     4\n",
      "36     1\n",
      "37     1\n",
      "38     0\n",
      "      ..\n",
      "475    2\n",
      "476    4\n",
      "477    0\n",
      "478    1\n",
      "480    5\n",
      "481    5\n",
      "482    1\n",
      "483    2\n",
      "484    0\n",
      "485    5\n",
      "486    1\n",
      "487    1\n",
      "488    4\n",
      "489    4\n",
      "491    4\n",
      "492    4\n",
      "493    2\n",
      "494    2\n",
      "495    4\n",
      "496    5\n",
      "497    4\n",
      "498    0\n",
      "499    4\n",
      "500    4\n",
      "501    4\n",
      "503    5\n",
      "504    5\n",
      "505    1\n",
      "506    0\n",
      "507    1\n",
      "Length: 424, dtype: int64 y_train\n",
      "84 check if any in y_train\n",
      "0      2\n",
      "2      1\n",
      "3      2\n",
      "5      1\n",
      "6      4\n",
      "7      4\n",
      "8      1\n",
      "9      0\n",
      "10     1\n",
      "11     2\n",
      "13     4\n",
      "14     5\n",
      "17     5\n",
      "18     2\n",
      "21     1\n",
      "22     5\n",
      "23     1\n",
      "24     5\n",
      "26     4\n",
      "27     5\n",
      "29     2\n",
      "30     5\n",
      "31     2\n",
      "32     2\n",
      "33     1\n",
      "34     0\n",
      "35     4\n",
      "36     1\n",
      "37     1\n",
      "38     0\n",
      "      ..\n",
      "475    2\n",
      "476    4\n",
      "477    0\n",
      "478    1\n",
      "480    5\n",
      "481    5\n",
      "482    1\n",
      "483    2\n",
      "484    0\n",
      "485    5\n",
      "486    1\n",
      "487    1\n",
      "488    4\n",
      "489    4\n",
      "491    4\n",
      "492    4\n",
      "493    2\n",
      "494    2\n",
      "495    4\n",
      "496    5\n",
      "497    4\n",
      "498    0\n",
      "499    4\n",
      "500    4\n",
      "501    4\n",
      "503    5\n",
      "504    5\n",
      "505    1\n",
      "506    0\n",
      "507    1\n",
      "Length: 424, dtype: int64 prepare_yold\n",
      "[4 0 0 4 5 5 5 5 0 4 5 4 2 0 0 0 0 0 1 0 1 5 0 5 4 2 4 1 1 1 1 5 4 5 0 2 1\n",
      " 5 5 0 5 4 4 2 4 5 0 4 4 4 1 5 5 1 4 5 5 0 4 2 5 5 1 0 4 1 0 1 1 0 1 2 2 0\n",
      " 1 0 2 4 0 5 1 5 4 2] pred\n",
      "[0 1 2 4 5] classes\n",
      "[[0.1995069  0.0447187  0.17997172 0.34599098 0.22981171]\n",
      " [0.30857914 0.12919875 0.17584742 0.19088277 0.19549191]\n",
      " [0.38781878 0.13885605 0.13761792 0.15364095 0.1820663 ]\n",
      " [0.15868101 0.21736471 0.17921291 0.26886834 0.17587302]\n",
      " [0.15905845 0.10336767 0.12883219 0.2682975  0.34044418]\n",
      " [0.13831104 0.18716316 0.1406771  0.23127417 0.30257453]\n",
      " [0.21558422 0.15014337 0.18532319 0.22369897 0.22525025]\n",
      " [0.17488726 0.1735951  0.1641942  0.16847002 0.31885343]\n",
      " [0.25024406 0.17652005 0.21929639 0.13986086 0.21407864]\n",
      " [0.22839022 0.15841422 0.13106754 0.28516563 0.1969624 ]\n",
      " [0.19033394 0.2515137  0.15169456 0.11165961 0.29479819]\n",
      " [0.20146733 0.1817306  0.19479321 0.26701535 0.15499351]\n",
      " [0.21327715 0.24289767 0.26060906 0.10956417 0.17365194]\n",
      " [0.25223916 0.2010866  0.21403605 0.20282084 0.12981735]\n",
      " [0.29900992 0.14718005 0.180245   0.17405213 0.19951291]\n",
      " [0.3270649  0.21424282 0.17165162 0.09804219 0.18899847]\n",
      " [0.35060716 0.12901252 0.25335358 0.12284144 0.1441853 ]\n",
      " [0.28327844 0.17696462 0.14449101 0.20574298 0.18952295]\n",
      " [0.1567858  0.30549131 0.16745451 0.15616198 0.2141064 ]\n",
      " [0.26520984 0.2088623  0.20384829 0.17188675 0.15019281]\n",
      " [0.23594805 0.23604008 0.17158483 0.14366709 0.21275995]\n",
      " [0.23338293 0.14843353 0.17852472 0.20349046 0.23616836]\n",
      " [0.30664017 0.10453162 0.16936778 0.30235816 0.11710227]\n",
      " [0.16915779 0.15730829 0.23641094 0.15266456 0.28445843]\n",
      " [0.15807058 0.18323917 0.24648898 0.29214601 0.12005526]\n",
      " [0.21201452 0.11226961 0.3404528  0.14692218 0.18834088]\n",
      " [0.21786772 0.11039651 0.19388054 0.29503082 0.18282441]\n",
      " [0.22478497 0.25093265 0.22109103 0.15478738 0.14840397]\n",
      " [0.18557154 0.30388579 0.16476596 0.18474143 0.16103528]\n",
      " [0.2810409  0.28278501 0.14525695 0.13726587 0.15365127]\n",
      " [0.19388114 0.25021449 0.15821573 0.21184821 0.18584043]\n",
      " [0.20464358 0.15980697 0.14569407 0.22295036 0.26690502]\n",
      " [0.17935559 0.23356873 0.18721475 0.24609184 0.15376909]\n",
      " [0.10103485 0.22344765 0.23635048 0.14284875 0.29631828]\n",
      " [0.27716275 0.14899987 0.17783906 0.2109938  0.18500453]\n",
      " [0.1739867  0.13993852 0.31659261 0.20549081 0.16399136]\n",
      " [0.17087091 0.49199995 0.09378734 0.07548852 0.16785329]\n",
      " [0.16184673 0.14216512 0.22834838 0.22140238 0.24623739]\n",
      " [0.15097842 0.19051129 0.21757254 0.17434865 0.2665891 ]\n",
      " [0.27252332 0.18164386 0.15753602 0.17203454 0.21626225]\n",
      " [0.21294761 0.1859689  0.14916377 0.20457962 0.2473401 ]\n",
      " [0.17175178 0.2162094  0.13041911 0.32223274 0.15938696]\n",
      " [0.21820365 0.13270656 0.15110222 0.29684381 0.20114375]\n",
      " [0.11508741 0.22161086 0.26130302 0.16007408 0.24192463]\n",
      " [0.19825691 0.20384467 0.19782604 0.20941252 0.19065986]\n",
      " [0.20643142 0.179294   0.17392909 0.20192468 0.23842082]\n",
      " [0.34911097 0.19566923 0.15053098 0.11954598 0.18514284]\n",
      " [0.24927694 0.12006097 0.1558912  0.27475216 0.20001873]\n",
      " [0.14860463 0.1252082  0.13158102 0.30632228 0.28828387]\n",
      " [0.20217204 0.129161   0.213222   0.25383905 0.2016059 ]\n",
      " [0.20361608 0.2791847  0.1375774  0.12118378 0.25843804]\n",
      " [0.14621173 0.19955815 0.17913982 0.18380113 0.29128917]\n",
      " [0.10587186 0.11870164 0.23112658 0.10200801 0.44229192]\n",
      " [0.13147758 0.37588193 0.1209997  0.16564892 0.20599188]\n",
      " [0.21119911 0.14038749 0.13974447 0.35035678 0.15831215]\n",
      " [0.16146749 0.21960387 0.12608396 0.18219242 0.31065225]\n",
      " [0.20347379 0.14464696 0.16062608 0.17835937 0.31289379]\n",
      " [0.21795198 0.20198902 0.20396815 0.16524543 0.21084541]\n",
      " [0.16187244 0.23346594 0.12456285 0.31290702 0.16719175]\n",
      " [0.21811446 0.16575894 0.2563803  0.18050098 0.17924532]\n",
      " [0.24397284 0.12736535 0.18556244 0.19207948 0.25101989]\n",
      " [0.12146181 0.20352985 0.21680777 0.22763183 0.23056874]\n",
      " [0.16874475 0.31237111 0.17100058 0.1676308  0.18025276]\n",
      " [0.26855929 0.16886705 0.20123018 0.14871051 0.21263297]\n",
      " [0.2396933  0.12280008 0.18046443 0.26397335 0.19306884]\n",
      " [0.15041196 0.36226059 0.16667495 0.12989365 0.19075886]\n",
      " [0.2798252  0.11888807 0.12150678 0.23325123 0.24652871]\n",
      " [0.10428928 0.44445909 0.08852032 0.21754999 0.14518132]\n",
      " [0.13287156 0.25667058 0.18479561 0.18884496 0.23681729]\n",
      " [0.43980831 0.16575967 0.07557972 0.15509968 0.16375262]\n",
      " [0.18544688 0.35031203 0.13926731 0.21294348 0.1120303 ]\n",
      " [0.25730456 0.18571872 0.25900821 0.1377737  0.16019481]\n",
      " [0.23397847 0.208899   0.24426835 0.13082637 0.18202782]\n",
      " [0.28150862 0.1121121  0.27578872 0.16886705 0.16172351]\n",
      " [0.1812854  0.27722643 0.22493618 0.16447281 0.15207918]\n",
      " [0.2261946  0.21963801 0.17119581 0.16985185 0.21311973]\n",
      " [0.14443242 0.16390735 0.30570244 0.1983087  0.18764909]\n",
      " [0.17155072 0.17354263 0.20414393 0.23601682 0.2147459 ]\n",
      " [0.27090248 0.12667336 0.14924337 0.25789702 0.19528376]\n",
      " [0.20577726 0.18688643 0.21915295 0.14349201 0.24469134]\n",
      " [0.16399684 0.27892631 0.17525266 0.15665438 0.22516982]\n",
      " [0.17348395 0.2430318  0.18385722 0.15352778 0.24609924]\n",
      " [0.18367842 0.18408748 0.15089588 0.32021402 0.1611242 ]\n",
      " [0.18316261 0.15523171 0.28014625 0.12328279 0.25817664]] proba_predict\n",
      "0.0\n",
      "   fold  pred_location  true_location pred_location_label true_location_label  \\\n",
      "0     5              4              3            Thailand            Tanzania   \n",
      "1     5              0              3               Ghana            Tanzania   \n",
      "2     5              0              3               Ghana            Tanzania   \n",
      "3     5              4              3            Thailand            Tanzania   \n",
      "4     5              5              3              Zambia            Tanzania   \n",
      "\n",
      "     mid_lat   mid_long  true_lat  true_long  distance_to_midpoint  \n",
      "0   9.613692  29.280963 -4.844681  38.962097           1926.021120  \n",
      "1   8.435961   6.730614 -4.844681  38.962097           3867.787084  \n",
      "2   8.619934   5.423082 -4.844681  38.962097           4009.550379  \n",
      "3  11.968769  13.212831 -4.844681  38.962097           3403.232117  \n",
      "4   4.638815  25.568248 -4.844681  38.962097           1821.453094  \n"
     ]
    },
    {
     "data": {
      "application/vnd.plotly.v1+json": {
       "config": {
        "displaylogo": false,
        "plotlyServerURL": "https://plot.ly"
       },
       "data": [
        {
         "hoverinfo": "text",
         "lat": [
          -4.844681,
          2.70065068940288
         ],
         "line": {
          "color": "red",
          "width": 1
         },
         "lon": [
          38.962097,
          14.421665456623439
         ],
         "mode": "lines",
         "opacity": 0.5,
         "showlegend": false,
         "text": "distance = 2854.05 km",
         "type": "scattergeo"
        },
        {
         "hoverinfo": "text",
         "lat": [
          -13.23,
          7.089657829930162
         ],
         "line": {
          "color": "red",
          "width": 1
         },
         "lon": [
          27,
          20.56608519609965
         ],
         "mode": "lines",
         "opacity": 0.5,
         "showlegend": false,
         "text": "distance = 2357.06 km",
         "type": "scattergeo"
        },
        {
         "hoverinfo": "text",
         "lat": [
          15.82083,
          7.2584808109967085
         ],
         "line": {
          "color": "red",
          "width": 1
         },
         "lon": [
          -9.4145,
          -0.3903163313362472
         ],
         "mode": "lines",
         "opacity": 0.5,
         "showlegend": false,
         "text": "distance = 1365.31 km",
         "type": "scattergeo"
        },
        {
         "hoverinfo": "text",
         "lat": [
          15.82083,
          8.366831058326305
         ],
         "line": {
          "color": "red",
          "width": 1
         },
         "lon": [
          -9.4145,
          6.250532026303112
         ],
         "mode": "lines",
         "opacity": 0.5,
         "showlegend": false,
         "text": "distance = 1892.83 km",
         "type": "scattergeo"
        },
        {
         "hoverinfo": "text",
         "lat": [
          -3.763541,
          3.0127532601943816
         ],
         "line": {
          "color": "red",
          "width": 1
         },
         "lon": [
          -73.267937,
          -5.334875672767402
         ],
         "mode": "lines",
         "opacity": 0.5,
         "showlegend": false,
         "text": "distance = 7594.66 km",
         "type": "scattergeo"
        },
        {
         "hoverinfo": "text",
         "lat": [
          -4.844681,
          2.157079400501436
         ],
         "line": {
          "color": "red",
          "width": 1
         },
         "lon": [
          38.962097,
          -2.153883843798086
         ],
         "mode": "lines",
         "opacity": 0.5,
         "showlegend": false,
         "text": "distance = 4637.92 km",
         "type": "scattergeo"
        },
        {
         "hoverinfo": "text",
         "lat": [
          16.771015,
          8.197643942298429
         ],
         "line": {
          "color": "red",
          "width": 1
         },
         "lon": [
          98.704491,
          19.130081525904266
         ],
         "mode": "lines",
         "opacity": 0.5,
         "showlegend": false,
         "text": "distance = 8652.78 km",
         "type": "scattergeo"
        },
        {
         "hoverinfo": "text",
         "lat": [
          -4.844681,
          5.244566065253752
         ],
         "line": {
          "color": "red",
          "width": 1
         },
         "lon": [
          38.962097,
          15.528405398612879
         ],
         "mode": "lines",
         "opacity": 0.5,
         "showlegend": false,
         "text": "distance = 2834.07 km",
         "type": "scattergeo"
        },
        {
         "hoverinfo": "text",
         "lat": [
          15.82083,
          7.421687382859574
         ],
         "line": {
          "color": "red",
          "width": 1
         },
         "lon": [
          -9.4145,
          12.724307387481918
         ],
         "mode": "lines",
         "opacity": 0.5,
         "showlegend": false,
         "text": "distance = 2584.05 km",
         "type": "scattergeo"
        },
        {
         "hoverinfo": "text",
         "lat": [
          -3.763541,
          3.0998067873660804
         ],
         "line": {
          "color": "red",
          "width": 1
         },
         "lon": [
          -73.267937,
          -22.325526622510612
         ],
         "mode": "lines",
         "opacity": 0.5,
         "showlegend": false,
         "text": "distance = 5717.95 km",
         "type": "scattergeo"
        },
        {
         "hoverinfo": "text",
         "lat": [
          -13.23,
          5.495226866853876
         ],
         "line": {
          "color": "red",
          "width": 1
         },
         "lon": [
          27,
          16.068744704178854
         ],
         "mode": "lines",
         "opacity": 0.5,
         "showlegend": false,
         "text": "distance = 2397.71 km",
         "type": "scattergeo"
        },
        {
         "hoverinfo": "text",
         "lat": [
          15.82083,
          10.307535628513826
         ],
         "line": {
          "color": "red",
          "width": 1
         },
         "lon": [
          -9.4145,
          0.3955052566374028
         ],
         "mode": "lines",
         "opacity": 0.5,
         "showlegend": false,
         "text": "distance = 1225.93 km",
         "type": "scattergeo"
        },
        {
         "hoverinfo": "text",
         "lat": [
          16.771015,
          7.419978399944688
         ],
         "line": {
          "color": "red",
          "width": 1
         },
         "lon": [
          98.704491,
          13.78269369432268
         ],
         "mode": "lines",
         "opacity": 0.5,
         "showlegend": false,
         "text": "distance = 9243.74 km",
         "type": "scattergeo"
        },
        {
         "hoverinfo": "text",
         "lat": [
          10.885568,
          8.3036094715644
         ],
         "line": {
          "color": "red",
          "width": 1
         },
         "lon": [
          -1.086617,
          4.960338570120868
         ],
         "mode": "lines",
         "opacity": 0.5,
         "showlegend": false,
         "text": "distance = 722.55 km",
         "type": "scattergeo"
        },
        {
         "hoverinfo": "text",
         "lat": [
          -13.23,
          -1.259552996934212
         ],
         "line": {
          "color": "red",
          "width": 1
         },
         "lon": [
          27,
          15.002651802452256
         ],
         "mode": "lines",
         "opacity": 0.5,
         "showlegend": false,
         "text": "distance = 1871.20 km",
         "type": "scattergeo"
        },
        {
         "hoverinfo": "text",
         "lat": [
          -4.844681,
          1.3693871694202209
         ],
         "line": {
          "color": "red",
          "width": 1
         },
         "lon": [
          38.962097,
          15.994898728411004
         ],
         "mode": "lines",
         "opacity": 0.5,
         "showlegend": false,
         "text": "distance = 2645.07 km",
         "type": "scattergeo"
        },
        {
         "hoverinfo": "text",
         "lat": [
          -13.23,
          3.514518716488322
         ],
         "line": {
          "color": "red",
          "width": 1
         },
         "lon": [
          27,
          13.527419739973853
         ],
         "mode": "lines",
         "opacity": 0.5,
         "showlegend": false,
         "text": "distance = 2376.15 km",
         "type": "scattergeo"
        },
        {
         "hoverinfo": "text",
         "lat": [
          -13.23,
          10.519518218070013
         ],
         "line": {
          "color": "red",
          "width": 1
         },
         "lon": [
          27,
          31.623710681078183
         ],
         "mode": "lines",
         "opacity": 0.5,
         "showlegend": false,
         "text": "distance = 2675.70 km",
         "type": "scattergeo"
        },
        {
         "hoverinfo": "text",
         "lat": [
          16.771015,
          4.68901610725871
         ],
         "line": {
          "color": "red",
          "width": 1
         },
         "lon": [
          98.704491,
          20.735557776874632
         ],
         "mode": "lines",
         "opacity": 0.5,
         "showlegend": false,
         "text": "distance = 8587.36 km",
         "type": "scattergeo"
        },
        {
         "hoverinfo": "text",
         "lat": [
          -4.844681,
          4.987287247924243
         ],
         "line": {
          "color": "red",
          "width": 1
         },
         "lon": [
          38.962097,
          16.248227144901673
         ],
         "mode": "lines",
         "opacity": 0.5,
         "showlegend": false,
         "text": "distance = 2749.48 km",
         "type": "scattergeo"
        },
        {
         "hoverinfo": "text",
         "lat": [
          -13.23,
          2.2662011969062994
         ],
         "line": {
          "color": "red",
          "width": 1
         },
         "lon": [
          27,
          1.0966018184237514
         ],
         "mode": "lines",
         "opacity": 0.5,
         "showlegend": false,
         "text": "distance = 3335.20 km",
         "type": "scattergeo"
        },
        {
         "hoverinfo": "text",
         "lat": [
          -4.844681,
          5.031289107223074
         ],
         "line": {
          "color": "red",
          "width": 1
         },
         "lon": [
          38.962097,
          21.77628970227972
         ],
         "mode": "lines",
         "opacity": 0.5,
         "showlegend": false,
         "text": "distance = 2200.81 km",
         "type": "scattergeo"
        },
        {
         "hoverinfo": "text",
         "lat": [
          15.82083,
          5.793571923423512
         ],
         "line": {
          "color": "red",
          "width": 1
         },
         "lon": [
          -9.4145,
          -1.7223534768271105
         ],
         "mode": "lines",
         "opacity": 0.5,
         "showlegend": false,
         "text": "distance = 1391.35 km",
         "type": "scattergeo"
        },
        {
         "hoverinfo": "text",
         "lat": [
          15.82083,
          8.662640562810068
         ],
         "line": {
          "color": "red",
          "width": 1
         },
         "lon": [
          -9.4145,
          12.670314722324632
         ],
         "mode": "lines",
         "opacity": 0.5,
         "showlegend": false,
         "text": "distance = 2527.71 km",
         "type": "scattergeo"
        },
        {
         "hoverinfo": "text",
         "lat": [
          16.771015,
          4.6107562407090485
         ],
         "line": {
          "color": "red",
          "width": 1
         },
         "lon": [
          98.704491,
          16.06196414450158
         ],
         "mode": "lines",
         "opacity": 0.5,
         "showlegend": false,
         "text": "distance = 9087.80 km",
         "type": "scattergeo"
        },
        {
         "hoverinfo": "text",
         "lat": [
          15.82083,
          8.16204914918194
         ],
         "line": {
          "color": "red",
          "width": 1
         },
         "lon": [
          -9.4145,
          0.4586908479236355
         ],
         "mode": "lines",
         "opacity": 0.5,
         "showlegend": false,
         "text": "distance = 1368.18 km",
         "type": "scattergeo"
        },
        {
         "hoverinfo": "text",
         "lat": [
          10.885568,
          4.184377863197346
         ],
         "line": {
          "color": "red",
          "width": 1
         },
         "lon": [
          -1.086617,
          -2.0662891056547865
         ],
         "mode": "lines",
         "opacity": 0.5,
         "showlegend": false,
         "text": "distance = 748.95 km",
         "type": "scattergeo"
        },
        {
         "hoverinfo": "text",
         "lat": [
          15.82083,
          5.7602955583864075
         ],
         "line": {
          "color": "red",
          "width": 1
         },
         "lon": [
          -9.4145,
          5.256826084409877
         ],
         "mode": "lines",
         "opacity": 0.5,
         "showlegend": false,
         "text": "distance = 1950.67 km",
         "type": "scattergeo"
        },
        {
         "hoverinfo": "text",
         "lat": [
          -3.763541,
          4.484851861074898
         ],
         "line": {
          "color": "red",
          "width": 1
         },
         "lon": [
          -73.267937,
          -3.862091348108762
         ],
         "mode": "lines",
         "opacity": 0.5,
         "showlegend": false,
         "text": "distance = 7772.94 km",
         "type": "scattergeo"
        },
        {
         "hoverinfo": "text",
         "lat": [
          16.771015,
          9.1029859607291
         ],
         "line": {
          "color": "red",
          "width": 1
         },
         "lon": [
          98.704491,
          24.407119089736273
         ],
         "mode": "lines",
         "opacity": 0.5,
         "showlegend": false,
         "text": "distance = 8065.99 km",
         "type": "scattergeo"
        },
        {
         "hoverinfo": "text",
         "lat": [
          10.885568,
          8.149008161197402
         ],
         "line": {
          "color": "red",
          "width": 1
         },
         "lon": [
          -1.086617,
          9.826766425918557
         ],
         "mode": "lines",
         "opacity": 0.5,
         "showlegend": false,
         "text": "distance = 1235.73 km",
         "type": "scattergeo"
        },
        {
         "hoverinfo": "text",
         "lat": [
          10.885568,
          5.055683358814396
         ],
         "line": {
          "color": "red",
          "width": 1
         },
         "lon": [
          -1.086617,
          11.59683784825505
         ],
         "mode": "lines",
         "opacity": 0.5,
         "showlegend": false,
         "text": "distance = 1539.23 km",
         "type": "scattergeo"
        },
        {
         "hoverinfo": "text",
         "lat": [
          -3.763541,
          0.21769919842099172
         ],
         "line": {
          "color": "red",
          "width": 1
         },
         "lon": [
          -73.267937,
          -11.311329949105554
         ],
         "mode": "lines",
         "opacity": 0.5,
         "showlegend": false,
         "text": "distance = 6905.97 km",
         "type": "scattergeo"
        },
        {
         "hoverinfo": "text",
         "lat": [
          -3.763541,
          5.887866244440561
         ],
         "line": {
          "color": "red",
          "width": 1
         },
         "lon": [
          -73.267937,
          1.2097312295024096
         ],
         "mode": "lines",
         "opacity": 0.5,
         "showlegend": false,
         "text": "distance = 8347.62 km",
         "type": "scattergeo"
        },
        {
         "hoverinfo": "text",
         "lat": [
          10.885568,
          7.646316985776136
         ],
         "line": {
          "color": "red",
          "width": 1
         },
         "lon": [
          -1.086617,
          10.52791870913994
         ],
         "mode": "lines",
         "opacity": 0.5,
         "showlegend": false,
         "text": "distance = 1325.27 km",
         "type": "scattergeo"
        },
        {
         "hoverinfo": "text",
         "lat": [
          16.771015,
          9.41131162354546
         ],
         "line": {
          "color": "red",
          "width": 1
         },
         "lon": [
          98.704491,
          20.703728056078212
         ],
         "mode": "lines",
         "opacity": 0.5,
         "showlegend": false,
         "text": "distance = 8450.44 km",
         "type": "scattergeo"
        },
        {
         "hoverinfo": "text",
         "lat": [
          16.771015,
          4.004138599814959
         ],
         "line": {
          "color": "red",
          "width": 1
         },
         "lon": [
          98.704491,
          21.142186047210387
         ],
         "mode": "lines",
         "opacity": 0.5,
         "showlegend": false,
         "text": "distance = 8565.12 km",
         "type": "scattergeo"
        },
        {
         "hoverinfo": "text",
         "lat": [
          -4.844681,
          9.967159493998146
         ],
         "line": {
          "color": "red",
          "width": 1
         },
         "lon": [
          38.962097,
          30.723682638321964
         ],
         "mode": "lines",
         "opacity": 0.5,
         "showlegend": false,
         "text": "distance = 1875.51 km",
         "type": "scattergeo"
        },
        {
         "hoverinfo": "text",
         "lat": [
          -3.763541,
          7.43736075118162
         ],
         "line": {
          "color": "red",
          "width": 1
         },
         "lon": [
          -73.267937,
          3.422875977987094
         ],
         "mode": "lines",
         "opacity": 0.5,
         "showlegend": false,
         "text": "distance = 8607.62 km",
         "type": "scattergeo"
        },
        {
         "hoverinfo": "text",
         "lat": [
          16.771015,
          13.21539057012125
         ],
         "line": {
          "color": "red",
          "width": 1
         },
         "lon": [
          98.704491,
          22.38605907457309
         ],
         "mode": "lines",
         "opacity": 0.5,
         "showlegend": false,
         "text": "distance = 8167.55 km",
         "type": "scattergeo"
        },
        {
         "hoverinfo": "text",
         "lat": [
          -13.23,
          1.9080918155856559
         ],
         "line": {
          "color": "red",
          "width": 1
         },
         "lon": [
          27,
          15.315511811172465
         ],
         "mode": "lines",
         "opacity": 0.5,
         "showlegend": false,
         "text": "distance = 2113.81 km",
         "type": "scattergeo"
        },
        {
         "hoverinfo": "text",
         "lat": [
          -3.763541,
          4.460518721284542
         ],
         "line": {
          "color": "red",
          "width": 1
         },
         "lon": [
          -73.267937,
          -10.172238222429783
         ],
         "mode": "lines",
         "opacity": 0.5,
         "showlegend": false,
         "text": "distance = 7076.19 km",
         "type": "scattergeo"
        },
        {
         "hoverinfo": "text",
         "lat": [
          -4.844681,
          2.4700174858355473
         ],
         "line": {
          "color": "red",
          "width": 1
         },
         "lon": [
          38.962097,
          8.70365260826448
         ],
         "mode": "lines",
         "opacity": 0.5,
         "showlegend": false,
         "text": "distance = 3461.17 km",
         "type": "scattergeo"
        },
        {
         "hoverinfo": "text",
         "lat": [
          -3.763541,
          11.766135833880691
         ],
         "line": {
          "color": "red",
          "width": 1
         },
         "lon": [
          -73.267937,
          16.33577291156741
         ],
         "mode": "lines",
         "opacity": 0.5,
         "showlegend": false,
         "text": "distance = 10059.42 km",
         "type": "scattergeo"
        },
        {
         "hoverinfo": "text",
         "lat": [
          10.885568,
          6.94243939005455
         ],
         "line": {
          "color": "red",
          "width": 1
         },
         "lon": [
          -1.086617,
          7.184566581522511
         ],
         "mode": "lines",
         "opacity": 0.5,
         "showlegend": false,
         "text": "distance = 1008.64 km",
         "type": "scattergeo"
        },
        {
         "hoverinfo": "text",
         "lat": [
          16.771015,
          9.526032254987246
         ],
         "line": {
          "color": "red",
          "width": 1
         },
         "lon": [
          98.704491,
          38.7579570935393
         ],
         "mode": "lines",
         "opacity": 0.5,
         "showlegend": false,
         "text": "distance = 6526.54 km",
         "type": "scattergeo"
        },
        {
         "hoverinfo": "text",
         "lat": [
          -13.23,
          7.843498957346246
         ],
         "line": {
          "color": "red",
          "width": 1
         },
         "lon": [
          27,
          12.479879711752108
         ],
         "mode": "lines",
         "opacity": 0.5,
         "showlegend": false,
         "text": "distance = 2829.95 km",
         "type": "scattergeo"
        },
        {
         "hoverinfo": "text",
         "lat": [
          -4.844681,
          3.115119044783372
         ],
         "line": {
          "color": "red",
          "width": 1
         },
         "lon": [
          38.962097,
          9.901770959604471
         ],
         "mode": "lines",
         "opacity": 0.5,
         "showlegend": false,
         "text": "distance = 3349.71 km",
         "type": "scattergeo"
        },
        {
         "hoverinfo": "text",
         "lat": [
          15.82083,
          6.316416122647853
         ],
         "line": {
          "color": "red",
          "width": 1
         },
         "lon": [
          -9.4145,
          9.504564094546527
         ],
         "mode": "lines",
         "opacity": 0.5,
         "showlegend": false,
         "text": "distance = 2316.48 km",
         "type": "scattergeo"
        },
        {
         "hoverinfo": "text",
         "lat": [
          -4.844681,
          6.729699803886713
         ],
         "line": {
          "color": "red",
          "width": 1
         },
         "lon": [
          38.962097,
          18.171901491610434
         ],
         "mode": "lines",
         "opacity": 0.5,
         "showlegend": false,
         "text": "distance = 2640.97 km",
         "type": "scattergeo"
        },
        {
         "hoverinfo": "text",
         "lat": [
          -13.23,
          0.36075105251312517
         ],
         "line": {
          "color": "red",
          "width": 1
         },
         "lon": [
          27,
          21.217790841161424
         ],
         "mode": "lines",
         "opacity": 0.5,
         "showlegend": false,
         "text": "distance = 1632.88 km",
         "type": "scattergeo"
        },
        {
         "hoverinfo": "text",
         "lat": [
          16.771015,
          9.931719729729382
         ],
         "line": {
          "color": "red",
          "width": 1
         },
         "lon": [
          98.704491,
          25.637890073290766
         ],
         "mode": "lines",
         "opacity": 0.5,
         "showlegend": false,
         "text": "distance = 7912.10 km",
         "type": "scattergeo"
        },
        {
         "hoverinfo": "text",
         "lat": [
          15.82083,
          8.541451128547665
         ],
         "line": {
          "color": "red",
          "width": 1
         },
         "lon": [
          -9.4145,
          5.998873168679612
         ],
         "mode": "lines",
         "opacity": 0.5,
         "showlegend": false,
         "text": "distance = 1859.35 km",
         "type": "scattergeo"
        },
        {
         "hoverinfo": "text",
         "lat": [
          10.885568,
          8.165256739510617
         ],
         "line": {
          "color": "red",
          "width": 1
         },
         "lon": [
          -1.086617,
          -0.033051960362905086
         ],
         "mode": "lines",
         "opacity": 0.5,
         "showlegend": false,
         "text": "distance = 322.35 km",
         "type": "scattergeo"
        },
        {
         "hoverinfo": "text",
         "lat": [
          -3.763541,
          6.303723270343768
         ],
         "line": {
          "color": "red",
          "width": 1
         },
         "lon": [
          -73.267937,
          23.442115072357772
         ],
         "mode": "lines",
         "opacity": 0.5,
         "showlegend": false,
         "text": "distance = 10805.20 km",
         "type": "scattergeo"
        },
        {
         "hoverinfo": "text",
         "lat": [
          -4.844681,
          2.4828974239930433
         ],
         "line": {
          "color": "red",
          "width": 1
         },
         "lon": [
          38.962097,
          21.233235913421076
         ],
         "mode": "lines",
         "opacity": 0.5,
         "showlegend": false,
         "text": "distance = 2131.79 km",
         "type": "scattergeo"
        },
        {
         "hoverinfo": "text",
         "lat": [
          -13.23,
          5.504726537940879
         ],
         "line": {
          "color": "red",
          "width": 1
         },
         "lon": [
          27,
          5.596819482437101
         ],
         "mode": "lines",
         "opacity": 0.5,
         "showlegend": false,
         "text": "distance = 3145.24 km",
         "type": "scattergeo"
        },
        {
         "hoverinfo": "text",
         "lat": [
          -13.23,
          1.875680115817329
         ],
         "line": {
          "color": "red",
          "width": 1
         },
         "lon": [
          27,
          15.64314836955899
         ],
         "mode": "lines",
         "opacity": 0.5,
         "showlegend": false,
         "text": "distance = 2089.04 km",
         "type": "scattergeo"
        },
        {
         "hoverinfo": "text",
         "lat": [
          -3.763541,
          9.340825855987832
         ],
         "line": {
          "color": "red",
          "width": 1
         },
         "lon": [
          -73.267937,
          10.301460759131308
         ],
         "mode": "lines",
         "opacity": 0.5,
         "showlegend": false,
         "text": "distance = 9380.99 km",
         "type": "scattergeo"
        },
        {
         "hoverinfo": "text",
         "lat": [
          10.885568,
          6.001383246956445
         ],
         "line": {
          "color": "red",
          "width": 1
         },
         "lon": [
          -1.086617,
          3.2411617015115035
         ],
         "mode": "lines",
         "opacity": 0.5,
         "showlegend": false,
         "text": "distance = 720.26 km",
         "type": "scattergeo"
        },
        {
         "hoverinfo": "text",
         "lat": [
          10.885568,
          6.834448767446489
         ],
         "line": {
          "color": "red",
          "width": 1
         },
         "lon": [
          -1.086617,
          8.245223854205127
         ],
         "mode": "lines",
         "opacity": 0.5,
         "showlegend": false,
         "text": "distance = 1119.79 km",
         "type": "scattergeo"
        },
        {
         "hoverinfo": "text",
         "lat": [
          10.885568,
          5.266056671347703
         ],
         "line": {
          "color": "red",
          "width": 1
         },
         "lon": [
          -1.086617,
          7.7238498844946415
         ],
         "mode": "lines",
         "opacity": 0.5,
         "showlegend": false,
         "text": "distance = 1152.60 km",
         "type": "scattergeo"
        },
        {
         "hoverinfo": "text",
         "lat": [
          15.82083,
          6.590768231148406
         ],
         "line": {
          "color": "red",
          "width": 1
         },
         "lon": [
          -9.4145,
          1.4865194143159641
         ],
         "mode": "lines",
         "opacity": 0.5,
         "showlegend": false,
         "text": "distance = 1567.23 km",
         "type": "scattergeo"
        },
        {
         "hoverinfo": "text",
         "lat": [
          16.771015,
          7.943145172512443
         ],
         "line": {
          "color": "red",
          "width": 1
         },
         "lon": [
          98.704491,
          13.85401408082912
         ],
         "mode": "lines",
         "opacity": 0.5,
         "showlegend": false,
         "text": "distance = 9220.19 km",
         "type": "scattergeo"
        },
        {
         "hoverinfo": "text",
         "lat": [
          2.70065068940288,
          7.089657829930162,
          7.2584808109967085,
          8.366831058326305,
          3.0127532601943816,
          2.157079400501436,
          8.197643942298429,
          5.244566065253752,
          7.421687382859574,
          3.0998067873660804,
          5.495226866853876,
          10.307535628513826,
          7.419978399944688,
          8.3036094715644,
          -1.259552996934212,
          1.3693871694202209,
          3.514518716488322,
          10.519518218070013,
          4.68901610725871,
          4.987287247924243,
          2.2662011969062994,
          5.031289107223074,
          5.793571923423512,
          8.662640562810068,
          4.6107562407090485,
          8.16204914918194,
          4.184377863197346,
          5.7602955583864075,
          4.484851861074898,
          9.1029859607291,
          8.149008161197402,
          5.055683358814396,
          0.21769919842099172,
          5.887866244440561,
          7.646316985776136,
          9.41131162354546,
          4.004138599814959,
          9.967159493998146,
          7.43736075118162,
          13.21539057012125,
          1.9080918155856559,
          4.460518721284542,
          2.4700174858355473,
          11.766135833880691,
          6.94243939005455,
          9.526032254987246,
          7.843498957346246,
          3.115119044783372,
          6.316416122647853,
          6.729699803886713,
          0.36075105251312517,
          9.931719729729382,
          8.541451128547665,
          8.165256739510617,
          6.303723270343768,
          2.4828974239930433,
          5.504726537940879,
          1.875680115817329,
          9.340825855987832,
          6.001383246956445,
          6.834448767446489,
          5.266056671347703,
          6.590768231148406,
          7.943145172512443
         ],
         "lon": [
          14.421665456623439,
          20.56608519609965,
          -0.3903163313362472,
          6.250532026303112,
          -5.334875672767402,
          -2.153883843798086,
          19.130081525904266,
          15.528405398612879,
          12.724307387481918,
          -22.325526622510612,
          16.068744704178854,
          0.3955052566374028,
          13.78269369432268,
          4.960338570120868,
          15.002651802452256,
          15.994898728411004,
          13.527419739973853,
          31.623710681078183,
          20.735557776874632,
          16.248227144901673,
          1.0966018184237514,
          21.77628970227972,
          -1.7223534768271105,
          12.670314722324632,
          16.06196414450158,
          0.4586908479236355,
          -2.0662891056547865,
          5.256826084409877,
          -3.862091348108762,
          24.407119089736273,
          9.826766425918557,
          11.59683784825505,
          -11.311329949105554,
          1.2097312295024096,
          10.52791870913994,
          20.703728056078212,
          21.142186047210387,
          30.723682638321964,
          3.422875977987094,
          22.38605907457309,
          15.315511811172465,
          -10.172238222429783,
          8.70365260826448,
          16.33577291156741,
          7.184566581522511,
          38.7579570935393,
          12.479879711752108,
          9.901770959604471,
          9.504564094546527,
          18.171901491610434,
          21.217790841161424,
          25.637890073290766,
          5.998873168679612,
          -0.033051960362905086,
          23.442115072357772,
          21.233235913421076,
          5.596819482437101,
          15.64314836955899,
          10.301460759131308,
          3.2411617015115035,
          8.245223854205127,
          7.7238498844946415,
          1.4865194143159641,
          13.85401408082912
         ],
         "marker": {
          "color": "rgb(255, 0, 0)"
         },
         "name": "Predicted MidPoint",
         "text": [
          "Lat = 2.701 Lon = 14.422<br>distance = 2854.0 km",
          "Lat = 7.09 Lon = 20.566<br>distance = 2357.0 km",
          "Lat = 7.258 Lon = -0.39<br>distance = 1365.0 km",
          "Lat = 8.367 Lon = 6.251<br>distance = 1893.0 km",
          "Lat = 3.013 Lon = -5.335<br>distance = 7595.0 km",
          "Lat = 2.157 Lon = -2.154<br>distance = 4638.0 km",
          "Lat = 8.198 Lon = 19.13<br>distance = 8653.0 km",
          "Lat = 5.245 Lon = 15.528<br>distance = 2834.0 km",
          "Lat = 7.422 Lon = 12.724<br>distance = 2584.0 km",
          "Lat = 3.1 Lon = -22.326<br>distance = 5718.0 km",
          "Lat = 5.495 Lon = 16.069<br>distance = 2398.0 km",
          "Lat = 10.308 Lon = 0.396<br>distance = 1226.0 km",
          "Lat = 7.42 Lon = 13.783<br>distance = 9244.0 km",
          "Lat = 8.304 Lon = 4.96<br>distance = 723.0 km",
          "Lat = -1.26 Lon = 15.003<br>distance = 1871.0 km",
          "Lat = 1.369 Lon = 15.995<br>distance = 2645.0 km",
          "Lat = 3.515 Lon = 13.527<br>distance = 2376.0 km",
          "Lat = 10.52 Lon = 31.624<br>distance = 2676.0 km",
          "Lat = 4.689 Lon = 20.736<br>distance = 8587.0 km",
          "Lat = 4.987 Lon = 16.248<br>distance = 2749.0 km",
          "Lat = 2.266 Lon = 1.097<br>distance = 3335.0 km",
          "Lat = 5.031 Lon = 21.776<br>distance = 2201.0 km",
          "Lat = 5.794 Lon = -1.722<br>distance = 1391.0 km",
          "Lat = 8.663 Lon = 12.67<br>distance = 2528.0 km",
          "Lat = 4.611 Lon = 16.062<br>distance = 9088.0 km",
          "Lat = 8.162 Lon = 0.459<br>distance = 1368.0 km",
          "Lat = 4.184 Lon = -2.066<br>distance = 749.0 km",
          "Lat = 5.76 Lon = 5.257<br>distance = 1951.0 km",
          "Lat = 4.485 Lon = -3.862<br>distance = 7773.0 km",
          "Lat = 9.103 Lon = 24.407<br>distance = 8066.0 km",
          "Lat = 8.149 Lon = 9.827<br>distance = 1236.0 km",
          "Lat = 5.056 Lon = 11.597<br>distance = 1539.0 km",
          "Lat = 0.218 Lon = -11.311<br>distance = 6906.0 km",
          "Lat = 5.888 Lon = 1.21<br>distance = 8348.0 km",
          "Lat = 7.646 Lon = 10.528<br>distance = 1325.0 km",
          "Lat = 9.411 Lon = 20.704<br>distance = 8450.0 km",
          "Lat = 4.004 Lon = 21.142<br>distance = 8565.0 km",
          "Lat = 9.967 Lon = 30.724<br>distance = 1876.0 km",
          "Lat = 7.437 Lon = 3.423<br>distance = 8608.0 km",
          "Lat = 13.215 Lon = 22.386<br>distance = 8168.0 km",
          "Lat = 1.908 Lon = 15.316<br>distance = 2114.0 km",
          "Lat = 4.461 Lon = -10.172<br>distance = 7076.0 km",
          "Lat = 2.47 Lon = 8.704<br>distance = 3461.0 km",
          "Lat = 11.766 Lon = 16.336<br>distance = 10059.0 km",
          "Lat = 6.942 Lon = 7.185<br>distance = 1009.0 km",
          "Lat = 9.526 Lon = 38.758<br>distance = 6527.0 km",
          "Lat = 7.843 Lon = 12.48<br>distance = 2830.0 km",
          "Lat = 3.115 Lon = 9.902<br>distance = 3350.0 km",
          "Lat = 6.316 Lon = 9.505<br>distance = 2316.0 km",
          "Lat = 6.73 Lon = 18.172<br>distance = 2641.0 km",
          "Lat = 0.361 Lon = 21.218<br>distance = 1633.0 km",
          "Lat = 9.932 Lon = 25.638<br>distance = 7912.0 km",
          "Lat = 8.541 Lon = 5.999<br>distance = 1859.0 km",
          "Lat = 8.165 Lon = -0.033<br>distance = 322.0 km",
          "Lat = 6.304 Lon = 23.442<br>distance = 10805.0 km",
          "Lat = 2.483 Lon = 21.233<br>distance = 2132.0 km",
          "Lat = 5.505 Lon = 5.597<br>distance = 3145.0 km",
          "Lat = 1.876 Lon = 15.643<br>distance = 2089.0 km",
          "Lat = 9.341 Lon = 10.301<br>distance = 9381.0 km",
          "Lat = 6.001 Lon = 3.241<br>distance = 720.0 km",
          "Lat = 6.834 Lon = 8.245<br>distance = 1120.0 km",
          "Lat = 5.266 Lon = 7.724<br>distance = 1153.0 km",
          "Lat = 6.591 Lon = 1.487<br>distance = 1567.0 km",
          "Lat = 7.943 Lon = 13.854<br>distance = 9220.0 km"
         ],
         "type": "scattergeo"
        },
        {
         "hoverinfo": "text",
         "lat": [
          -4.844681,
          -13.23,
          15.82083,
          -3.763541,
          16.771015,
          10.885568
         ],
         "lon": [
          38.962097,
          27,
          -9.4145,
          -73.267937,
          98.704491,
          -1.086617
         ],
         "marker": {
          "color": "rgb(0, 0, 255)"
         },
         "name": "True Location",
         "text": [
          "Tanzania<br>Lat = 2.701 Lon = 14.422",
          "Zambia<br>Lat = 7.09 Lon = 20.566",
          "Mauritania<br>Lat = 7.258 Lon = -0.39",
          "Peru <br>Lat = 3.013 Lon = -5.335",
          "Thailand<br>Lat = 8.198 Lon = 19.13",
          "Ghana<br>Lat = 8.304 Lon = 4.96"
         ],
         "type": "scattergeo"
        }
       ],
       "layout": {
        "geo": {
         "countrycolor": "rgb(204, 204, 204)",
         "landcolor": "rgb(243, 243, 243)",
         "projection": {
          "type": "natural earth"
         },
         "showland": true
        },
        "template": {
         "data": {
          "bar": [
           {
            "error_x": {
             "color": "#2a3f5f"
            },
            "error_y": {
             "color": "#2a3f5f"
            },
            "marker": {
             "line": {
              "color": "#E5ECF6",
              "width": 0.5
             }
            },
            "type": "bar"
           }
          ],
          "barpolar": [
           {
            "marker": {
             "line": {
              "color": "#E5ECF6",
              "width": 0.5
             }
            },
            "type": "barpolar"
           }
          ],
          "carpet": [
           {
            "aaxis": {
             "endlinecolor": "#2a3f5f",
             "gridcolor": "white",
             "linecolor": "white",
             "minorgridcolor": "white",
             "startlinecolor": "#2a3f5f"
            },
            "baxis": {
             "endlinecolor": "#2a3f5f",
             "gridcolor": "white",
             "linecolor": "white",
             "minorgridcolor": "white",
             "startlinecolor": "#2a3f5f"
            },
            "type": "carpet"
           }
          ],
          "choropleth": [
           {
            "colorbar": {
             "outlinewidth": 0,
             "ticks": ""
            },
            "type": "choropleth"
           }
          ],
          "contour": [
           {
            "colorbar": {
             "outlinewidth": 0,
             "ticks": ""
            },
            "colorscale": [
             [
              0,
              "#0d0887"
             ],
             [
              0.1111111111111111,
              "#46039f"
             ],
             [
              0.2222222222222222,
              "#7201a8"
             ],
             [
              0.3333333333333333,
              "#9c179e"
             ],
             [
              0.4444444444444444,
              "#bd3786"
             ],
             [
              0.5555555555555556,
              "#d8576b"
             ],
             [
              0.6666666666666666,
              "#ed7953"
             ],
             [
              0.7777777777777778,
              "#fb9f3a"
             ],
             [
              0.8888888888888888,
              "#fdca26"
             ],
             [
              1,
              "#f0f921"
             ]
            ],
            "type": "contour"
           }
          ],
          "contourcarpet": [
           {
            "colorbar": {
             "outlinewidth": 0,
             "ticks": ""
            },
            "type": "contourcarpet"
           }
          ],
          "heatmap": [
           {
            "colorbar": {
             "outlinewidth": 0,
             "ticks": ""
            },
            "colorscale": [
             [
              0,
              "#0d0887"
             ],
             [
              0.1111111111111111,
              "#46039f"
             ],
             [
              0.2222222222222222,
              "#7201a8"
             ],
             [
              0.3333333333333333,
              "#9c179e"
             ],
             [
              0.4444444444444444,
              "#bd3786"
             ],
             [
              0.5555555555555556,
              "#d8576b"
             ],
             [
              0.6666666666666666,
              "#ed7953"
             ],
             [
              0.7777777777777778,
              "#fb9f3a"
             ],
             [
              0.8888888888888888,
              "#fdca26"
             ],
             [
              1,
              "#f0f921"
             ]
            ],
            "type": "heatmap"
           }
          ],
          "heatmapgl": [
           {
            "colorbar": {
             "outlinewidth": 0,
             "ticks": ""
            },
            "colorscale": [
             [
              0,
              "#0d0887"
             ],
             [
              0.1111111111111111,
              "#46039f"
             ],
             [
              0.2222222222222222,
              "#7201a8"
             ],
             [
              0.3333333333333333,
              "#9c179e"
             ],
             [
              0.4444444444444444,
              "#bd3786"
             ],
             [
              0.5555555555555556,
              "#d8576b"
             ],
             [
              0.6666666666666666,
              "#ed7953"
             ],
             [
              0.7777777777777778,
              "#fb9f3a"
             ],
             [
              0.8888888888888888,
              "#fdca26"
             ],
             [
              1,
              "#f0f921"
             ]
            ],
            "type": "heatmapgl"
           }
          ],
          "histogram": [
           {
            "marker": {
             "colorbar": {
              "outlinewidth": 0,
              "ticks": ""
             }
            },
            "type": "histogram"
           }
          ],
          "histogram2d": [
           {
            "colorbar": {
             "outlinewidth": 0,
             "ticks": ""
            },
            "colorscale": [
             [
              0,
              "#0d0887"
             ],
             [
              0.1111111111111111,
              "#46039f"
             ],
             [
              0.2222222222222222,
              "#7201a8"
             ],
             [
              0.3333333333333333,
              "#9c179e"
             ],
             [
              0.4444444444444444,
              "#bd3786"
             ],
             [
              0.5555555555555556,
              "#d8576b"
             ],
             [
              0.6666666666666666,
              "#ed7953"
             ],
             [
              0.7777777777777778,
              "#fb9f3a"
             ],
             [
              0.8888888888888888,
              "#fdca26"
             ],
             [
              1,
              "#f0f921"
             ]
            ],
            "type": "histogram2d"
           }
          ],
          "histogram2dcontour": [
           {
            "colorbar": {
             "outlinewidth": 0,
             "ticks": ""
            },
            "colorscale": [
             [
              0,
              "#0d0887"
             ],
             [
              0.1111111111111111,
              "#46039f"
             ],
             [
              0.2222222222222222,
              "#7201a8"
             ],
             [
              0.3333333333333333,
              "#9c179e"
             ],
             [
              0.4444444444444444,
              "#bd3786"
             ],
             [
              0.5555555555555556,
              "#d8576b"
             ],
             [
              0.6666666666666666,
              "#ed7953"
             ],
             [
              0.7777777777777778,
              "#fb9f3a"
             ],
             [
              0.8888888888888888,
              "#fdca26"
             ],
             [
              1,
              "#f0f921"
             ]
            ],
            "type": "histogram2dcontour"
           }
          ],
          "mesh3d": [
           {
            "colorbar": {
             "outlinewidth": 0,
             "ticks": ""
            },
            "type": "mesh3d"
           }
          ],
          "parcoords": [
           {
            "line": {
             "colorbar": {
              "outlinewidth": 0,
              "ticks": ""
             }
            },
            "type": "parcoords"
           }
          ],
          "pie": [
           {
            "automargin": true,
            "type": "pie"
           }
          ],
          "scatter": [
           {
            "marker": {
             "colorbar": {
              "outlinewidth": 0,
              "ticks": ""
             }
            },
            "type": "scatter"
           }
          ],
          "scatter3d": [
           {
            "line": {
             "colorbar": {
              "outlinewidth": 0,
              "ticks": ""
             }
            },
            "marker": {
             "colorbar": {
              "outlinewidth": 0,
              "ticks": ""
             }
            },
            "type": "scatter3d"
           }
          ],
          "scattercarpet": [
           {
            "marker": {
             "colorbar": {
              "outlinewidth": 0,
              "ticks": ""
             }
            },
            "type": "scattercarpet"
           }
          ],
          "scattergeo": [
           {
            "marker": {
             "colorbar": {
              "outlinewidth": 0,
              "ticks": ""
             }
            },
            "type": "scattergeo"
           }
          ],
          "scattergl": [
           {
            "marker": {
             "colorbar": {
              "outlinewidth": 0,
              "ticks": ""
             }
            },
            "type": "scattergl"
           }
          ],
          "scattermapbox": [
           {
            "marker": {
             "colorbar": {
              "outlinewidth": 0,
              "ticks": ""
             }
            },
            "type": "scattermapbox"
           }
          ],
          "scatterpolar": [
           {
            "marker": {
             "colorbar": {
              "outlinewidth": 0,
              "ticks": ""
             }
            },
            "type": "scatterpolar"
           }
          ],
          "scatterpolargl": [
           {
            "marker": {
             "colorbar": {
              "outlinewidth": 0,
              "ticks": ""
             }
            },
            "type": "scatterpolargl"
           }
          ],
          "scatterternary": [
           {
            "marker": {
             "colorbar": {
              "outlinewidth": 0,
              "ticks": ""
             }
            },
            "type": "scatterternary"
           }
          ],
          "surface": [
           {
            "colorbar": {
             "outlinewidth": 0,
             "ticks": ""
            },
            "colorscale": [
             [
              0,
              "#0d0887"
             ],
             [
              0.1111111111111111,
              "#46039f"
             ],
             [
              0.2222222222222222,
              "#7201a8"
             ],
             [
              0.3333333333333333,
              "#9c179e"
             ],
             [
              0.4444444444444444,
              "#bd3786"
             ],
             [
              0.5555555555555556,
              "#d8576b"
             ],
             [
              0.6666666666666666,
              "#ed7953"
             ],
             [
              0.7777777777777778,
              "#fb9f3a"
             ],
             [
              0.8888888888888888,
              "#fdca26"
             ],
             [
              1,
              "#f0f921"
             ]
            ],
            "type": "surface"
           }
          ],
          "table": [
           {
            "cells": {
             "fill": {
              "color": "#EBF0F8"
             },
             "line": {
              "color": "white"
             }
            },
            "header": {
             "fill": {
              "color": "#C8D4E3"
             },
             "line": {
              "color": "white"
             }
            },
            "type": "table"
           }
          ]
         },
         "layout": {
          "annotationdefaults": {
           "arrowcolor": "#2a3f5f",
           "arrowhead": 0,
           "arrowwidth": 1
          },
          "coloraxis": {
           "colorbar": {
            "outlinewidth": 0,
            "ticks": ""
           }
          },
          "colorscale": {
           "diverging": [
            [
             0,
             "#8e0152"
            ],
            [
             0.1,
             "#c51b7d"
            ],
            [
             0.2,
             "#de77ae"
            ],
            [
             0.3,
             "#f1b6da"
            ],
            [
             0.4,
             "#fde0ef"
            ],
            [
             0.5,
             "#f7f7f7"
            ],
            [
             0.6,
             "#e6f5d0"
            ],
            [
             0.7,
             "#b8e186"
            ],
            [
             0.8,
             "#7fbc41"
            ],
            [
             0.9,
             "#4d9221"
            ],
            [
             1,
             "#276419"
            ]
           ],
           "sequential": [
            [
             0,
             "#0d0887"
            ],
            [
             0.1111111111111111,
             "#46039f"
            ],
            [
             0.2222222222222222,
             "#7201a8"
            ],
            [
             0.3333333333333333,
             "#9c179e"
            ],
            [
             0.4444444444444444,
             "#bd3786"
            ],
            [
             0.5555555555555556,
             "#d8576b"
            ],
            [
             0.6666666666666666,
             "#ed7953"
            ],
            [
             0.7777777777777778,
             "#fb9f3a"
            ],
            [
             0.8888888888888888,
             "#fdca26"
            ],
            [
             1,
             "#f0f921"
            ]
           ],
           "sequentialminus": [
            [
             0,
             "#0d0887"
            ],
            [
             0.1111111111111111,
             "#46039f"
            ],
            [
             0.2222222222222222,
             "#7201a8"
            ],
            [
             0.3333333333333333,
             "#9c179e"
            ],
            [
             0.4444444444444444,
             "#bd3786"
            ],
            [
             0.5555555555555556,
             "#d8576b"
            ],
            [
             0.6666666666666666,
             "#ed7953"
            ],
            [
             0.7777777777777778,
             "#fb9f3a"
            ],
            [
             0.8888888888888888,
             "#fdca26"
            ],
            [
             1,
             "#f0f921"
            ]
           ]
          },
          "colorway": [
           "#636efa",
           "#EF553B",
           "#00cc96",
           "#ab63fa",
           "#FFA15A",
           "#19d3f3",
           "#FF6692",
           "#B6E880",
           "#FF97FF",
           "#FECB52"
          ],
          "font": {
           "color": "#2a3f5f"
          },
          "geo": {
           "bgcolor": "white",
           "lakecolor": "white",
           "landcolor": "#E5ECF6",
           "showlakes": true,
           "showland": true,
           "subunitcolor": "white"
          },
          "hoverlabel": {
           "align": "left"
          },
          "hovermode": "closest",
          "mapbox": {
           "style": "light"
          },
          "paper_bgcolor": "white",
          "plot_bgcolor": "#E5ECF6",
          "polar": {
           "angularaxis": {
            "gridcolor": "white",
            "linecolor": "white",
            "ticks": ""
           },
           "bgcolor": "#E5ECF6",
           "radialaxis": {
            "gridcolor": "white",
            "linecolor": "white",
            "ticks": ""
           }
          },
          "scene": {
           "xaxis": {
            "backgroundcolor": "#E5ECF6",
            "gridcolor": "white",
            "gridwidth": 2,
            "linecolor": "white",
            "showbackground": true,
            "ticks": "",
            "zerolinecolor": "white"
           },
           "yaxis": {
            "backgroundcolor": "#E5ECF6",
            "gridcolor": "white",
            "gridwidth": 2,
            "linecolor": "white",
            "showbackground": true,
            "ticks": "",
            "zerolinecolor": "white"
           },
           "zaxis": {
            "backgroundcolor": "#E5ECF6",
            "gridcolor": "white",
            "gridwidth": 2,
            "linecolor": "white",
            "showbackground": true,
            "ticks": "",
            "zerolinecolor": "white"
           }
          },
          "shapedefaults": {
           "line": {
            "color": "#2a3f5f"
           }
          },
          "ternary": {
           "aaxis": {
            "gridcolor": "white",
            "linecolor": "white",
            "ticks": ""
           },
           "baxis": {
            "gridcolor": "white",
            "linecolor": "white",
            "ticks": ""
           },
           "bgcolor": "#E5ECF6",
           "caxis": {
            "gridcolor": "white",
            "linecolor": "white",
            "ticks": ""
           }
          },
          "title": {
           "x": 0.05
          },
          "xaxis": {
           "automargin": true,
           "gridcolor": "white",
           "linecolor": "white",
           "ticks": "",
           "title": {
            "standoff": 15
           },
           "zerolinecolor": "white",
           "zerolinewidth": 2
          },
          "yaxis": {
           "automargin": true,
           "gridcolor": "white",
           "linecolor": "white",
           "ticks": "",
           "title": {
            "standoff": 15
           },
           "zerolinecolor": "white",
           "zerolinewidth": 2
          }
         }
        }
       }
      },
      "text/html": [
       "<div>                            <div id=\"a5341355-cb4d-4a72-b3d8-2cb498581032\" class=\"plotly-graph-div\" style=\"height:525px; width:100%;\"></div>            <script type=\"text/javascript\">                require([\"plotly\"], function(Plotly) {                    window.PLOTLYENV=window.PLOTLYENV || {};                                    if (document.getElementById(\"a5341355-cb4d-4a72-b3d8-2cb498581032\")) {                    Plotly.newPlot(                        \"a5341355-cb4d-4a72-b3d8-2cb498581032\",                        [{\"hoverinfo\": \"text\", \"lat\": [-4.844681, 2.70065068940288], \"line\": {\"color\": \"red\", \"width\": 1}, \"lon\": [38.962097, 14.421665456623439], \"mode\": \"lines\", \"opacity\": 0.5, \"showlegend\": false, \"text\": \"distance = 2854.05 km\", \"type\": \"scattergeo\"}, {\"hoverinfo\": \"text\", \"lat\": [-13.23, 7.089657829930162], \"line\": {\"color\": \"red\", \"width\": 1}, \"lon\": [27.0, 20.56608519609965], \"mode\": \"lines\", \"opacity\": 0.5, \"showlegend\": false, \"text\": \"distance = 2357.06 km\", \"type\": \"scattergeo\"}, {\"hoverinfo\": \"text\", \"lat\": [15.82083, 7.2584808109967085], \"line\": {\"color\": \"red\", \"width\": 1}, \"lon\": [-9.4145, -0.3903163313362472], \"mode\": \"lines\", \"opacity\": 0.5, \"showlegend\": false, \"text\": \"distance = 1365.31 km\", \"type\": \"scattergeo\"}, {\"hoverinfo\": \"text\", \"lat\": [15.82083, 8.366831058326305], \"line\": {\"color\": \"red\", \"width\": 1}, \"lon\": [-9.4145, 6.250532026303112], \"mode\": \"lines\", \"opacity\": 0.5, \"showlegend\": false, \"text\": \"distance = 1892.83 km\", \"type\": \"scattergeo\"}, {\"hoverinfo\": \"text\", \"lat\": [-3.763541, 3.0127532601943816], \"line\": {\"color\": \"red\", \"width\": 1}, \"lon\": [-73.267937, -5.334875672767402], \"mode\": \"lines\", \"opacity\": 0.5, \"showlegend\": false, \"text\": \"distance = 7594.66 km\", \"type\": \"scattergeo\"}, {\"hoverinfo\": \"text\", \"lat\": [-4.844681, 2.157079400501436], \"line\": {\"color\": \"red\", \"width\": 1}, \"lon\": [38.962097, -2.153883843798086], \"mode\": \"lines\", \"opacity\": 0.5, \"showlegend\": false, \"text\": \"distance = 4637.92 km\", \"type\": \"scattergeo\"}, {\"hoverinfo\": \"text\", \"lat\": [16.771015, 8.197643942298429], \"line\": {\"color\": \"red\", \"width\": 1}, \"lon\": [98.704491, 19.130081525904266], \"mode\": \"lines\", \"opacity\": 0.5, \"showlegend\": false, \"text\": \"distance = 8652.78 km\", \"type\": \"scattergeo\"}, {\"hoverinfo\": \"text\", \"lat\": [-4.844681, 5.244566065253752], \"line\": {\"color\": \"red\", \"width\": 1}, \"lon\": [38.962097, 15.528405398612879], \"mode\": \"lines\", \"opacity\": 0.5, \"showlegend\": false, \"text\": \"distance = 2834.07 km\", \"type\": \"scattergeo\"}, {\"hoverinfo\": \"text\", \"lat\": [15.82083, 7.421687382859574], \"line\": {\"color\": \"red\", \"width\": 1}, \"lon\": [-9.4145, 12.724307387481918], \"mode\": \"lines\", \"opacity\": 0.5, \"showlegend\": false, \"text\": \"distance = 2584.05 km\", \"type\": \"scattergeo\"}, {\"hoverinfo\": \"text\", \"lat\": [-3.763541, 3.0998067873660804], \"line\": {\"color\": \"red\", \"width\": 1}, \"lon\": [-73.267937, -22.325526622510612], \"mode\": \"lines\", \"opacity\": 0.5, \"showlegend\": false, \"text\": \"distance = 5717.95 km\", \"type\": \"scattergeo\"}, {\"hoverinfo\": \"text\", \"lat\": [-13.23, 5.495226866853876], \"line\": {\"color\": \"red\", \"width\": 1}, \"lon\": [27.0, 16.068744704178854], \"mode\": \"lines\", \"opacity\": 0.5, \"showlegend\": false, \"text\": \"distance = 2397.71 km\", \"type\": \"scattergeo\"}, {\"hoverinfo\": \"text\", \"lat\": [15.82083, 10.307535628513826], \"line\": {\"color\": \"red\", \"width\": 1}, \"lon\": [-9.4145, 0.3955052566374028], \"mode\": \"lines\", \"opacity\": 0.5, \"showlegend\": false, \"text\": \"distance = 1225.93 km\", \"type\": \"scattergeo\"}, {\"hoverinfo\": \"text\", \"lat\": [16.771015, 7.419978399944688], \"line\": {\"color\": \"red\", \"width\": 1}, \"lon\": [98.704491, 13.78269369432268], \"mode\": \"lines\", \"opacity\": 0.5, \"showlegend\": false, \"text\": \"distance = 9243.74 km\", \"type\": \"scattergeo\"}, {\"hoverinfo\": \"text\", \"lat\": [10.885568, 8.3036094715644], \"line\": {\"color\": \"red\", \"width\": 1}, \"lon\": [-1.086617, 4.960338570120868], \"mode\": \"lines\", \"opacity\": 0.5, \"showlegend\": false, \"text\": \"distance = 722.55 km\", \"type\": \"scattergeo\"}, {\"hoverinfo\": \"text\", \"lat\": [-13.23, -1.259552996934212], \"line\": {\"color\": \"red\", \"width\": 1}, \"lon\": [27.0, 15.002651802452256], \"mode\": \"lines\", \"opacity\": 0.5, \"showlegend\": false, \"text\": \"distance = 1871.20 km\", \"type\": \"scattergeo\"}, {\"hoverinfo\": \"text\", \"lat\": [-4.844681, 1.3693871694202209], \"line\": {\"color\": \"red\", \"width\": 1}, \"lon\": [38.962097, 15.994898728411004], \"mode\": \"lines\", \"opacity\": 0.5, \"showlegend\": false, \"text\": \"distance = 2645.07 km\", \"type\": \"scattergeo\"}, {\"hoverinfo\": \"text\", \"lat\": [-13.23, 3.514518716488322], \"line\": {\"color\": \"red\", \"width\": 1}, \"lon\": [27.0, 13.527419739973853], \"mode\": \"lines\", \"opacity\": 0.5, \"showlegend\": false, \"text\": \"distance = 2376.15 km\", \"type\": \"scattergeo\"}, {\"hoverinfo\": \"text\", \"lat\": [-13.23, 10.519518218070013], \"line\": {\"color\": \"red\", \"width\": 1}, \"lon\": [27.0, 31.623710681078183], \"mode\": \"lines\", \"opacity\": 0.5, \"showlegend\": false, \"text\": \"distance = 2675.70 km\", \"type\": \"scattergeo\"}, {\"hoverinfo\": \"text\", \"lat\": [16.771015, 4.68901610725871], \"line\": {\"color\": \"red\", \"width\": 1}, \"lon\": [98.704491, 20.735557776874632], \"mode\": \"lines\", \"opacity\": 0.5, \"showlegend\": false, \"text\": \"distance = 8587.36 km\", \"type\": \"scattergeo\"}, {\"hoverinfo\": \"text\", \"lat\": [-4.844681, 4.987287247924243], \"line\": {\"color\": \"red\", \"width\": 1}, \"lon\": [38.962097, 16.248227144901673], \"mode\": \"lines\", \"opacity\": 0.5, \"showlegend\": false, \"text\": \"distance = 2749.48 km\", \"type\": \"scattergeo\"}, {\"hoverinfo\": \"text\", \"lat\": [-13.23, 2.2662011969062994], \"line\": {\"color\": \"red\", \"width\": 1}, \"lon\": [27.0, 1.0966018184237514], \"mode\": \"lines\", \"opacity\": 0.5, \"showlegend\": false, \"text\": \"distance = 3335.20 km\", \"type\": \"scattergeo\"}, {\"hoverinfo\": \"text\", \"lat\": [-4.844681, 5.031289107223074], \"line\": {\"color\": \"red\", \"width\": 1}, \"lon\": [38.962097, 21.77628970227972], \"mode\": \"lines\", \"opacity\": 0.5, \"showlegend\": false, \"text\": \"distance = 2200.81 km\", \"type\": \"scattergeo\"}, {\"hoverinfo\": \"text\", \"lat\": [15.82083, 5.793571923423512], \"line\": {\"color\": \"red\", \"width\": 1}, \"lon\": [-9.4145, -1.7223534768271105], \"mode\": \"lines\", \"opacity\": 0.5, \"showlegend\": false, \"text\": \"distance = 1391.35 km\", \"type\": \"scattergeo\"}, {\"hoverinfo\": \"text\", \"lat\": [15.82083, 8.662640562810068], \"line\": {\"color\": \"red\", \"width\": 1}, \"lon\": [-9.4145, 12.670314722324632], \"mode\": \"lines\", \"opacity\": 0.5, \"showlegend\": false, \"text\": \"distance = 2527.71 km\", \"type\": \"scattergeo\"}, {\"hoverinfo\": \"text\", \"lat\": [16.771015, 4.6107562407090485], \"line\": {\"color\": \"red\", \"width\": 1}, \"lon\": [98.704491, 16.06196414450158], \"mode\": \"lines\", \"opacity\": 0.5, \"showlegend\": false, \"text\": \"distance = 9087.80 km\", \"type\": \"scattergeo\"}, {\"hoverinfo\": \"text\", \"lat\": [15.82083, 8.16204914918194], \"line\": {\"color\": \"red\", \"width\": 1}, \"lon\": [-9.4145, 0.4586908479236355], \"mode\": \"lines\", \"opacity\": 0.5, \"showlegend\": false, \"text\": \"distance = 1368.18 km\", \"type\": \"scattergeo\"}, {\"hoverinfo\": \"text\", \"lat\": [10.885568, 4.184377863197346], \"line\": {\"color\": \"red\", \"width\": 1}, \"lon\": [-1.086617, -2.0662891056547865], \"mode\": \"lines\", \"opacity\": 0.5, \"showlegend\": false, \"text\": \"distance = 748.95 km\", \"type\": \"scattergeo\"}, {\"hoverinfo\": \"text\", \"lat\": [15.82083, 5.7602955583864075], \"line\": {\"color\": \"red\", \"width\": 1}, \"lon\": [-9.4145, 5.256826084409877], \"mode\": \"lines\", \"opacity\": 0.5, \"showlegend\": false, \"text\": \"distance = 1950.67 km\", \"type\": \"scattergeo\"}, {\"hoverinfo\": \"text\", \"lat\": [-3.763541, 4.484851861074898], \"line\": {\"color\": \"red\", \"width\": 1}, \"lon\": [-73.267937, -3.862091348108762], \"mode\": \"lines\", \"opacity\": 0.5, \"showlegend\": false, \"text\": \"distance = 7772.94 km\", \"type\": \"scattergeo\"}, {\"hoverinfo\": \"text\", \"lat\": [16.771015, 9.1029859607291], \"line\": {\"color\": \"red\", \"width\": 1}, \"lon\": [98.704491, 24.407119089736273], \"mode\": \"lines\", \"opacity\": 0.5, \"showlegend\": false, \"text\": \"distance = 8065.99 km\", \"type\": \"scattergeo\"}, {\"hoverinfo\": \"text\", \"lat\": [10.885568, 8.149008161197402], \"line\": {\"color\": \"red\", \"width\": 1}, \"lon\": [-1.086617, 9.826766425918557], \"mode\": \"lines\", \"opacity\": 0.5, \"showlegend\": false, \"text\": \"distance = 1235.73 km\", \"type\": \"scattergeo\"}, {\"hoverinfo\": \"text\", \"lat\": [10.885568, 5.055683358814396], \"line\": {\"color\": \"red\", \"width\": 1}, \"lon\": [-1.086617, 11.59683784825505], \"mode\": \"lines\", \"opacity\": 0.5, \"showlegend\": false, \"text\": \"distance = 1539.23 km\", \"type\": \"scattergeo\"}, {\"hoverinfo\": \"text\", \"lat\": [-3.763541, 0.21769919842099172], \"line\": {\"color\": \"red\", \"width\": 1}, \"lon\": [-73.267937, -11.311329949105554], \"mode\": \"lines\", \"opacity\": 0.5, \"showlegend\": false, \"text\": \"distance = 6905.97 km\", \"type\": \"scattergeo\"}, {\"hoverinfo\": \"text\", \"lat\": [-3.763541, 5.887866244440561], \"line\": {\"color\": \"red\", \"width\": 1}, \"lon\": [-73.267937, 1.2097312295024096], \"mode\": \"lines\", \"opacity\": 0.5, \"showlegend\": false, \"text\": \"distance = 8347.62 km\", \"type\": \"scattergeo\"}, {\"hoverinfo\": \"text\", \"lat\": [10.885568, 7.646316985776136], \"line\": {\"color\": \"red\", \"width\": 1}, \"lon\": [-1.086617, 10.52791870913994], \"mode\": \"lines\", \"opacity\": 0.5, \"showlegend\": false, \"text\": \"distance = 1325.27 km\", \"type\": \"scattergeo\"}, {\"hoverinfo\": \"text\", \"lat\": [16.771015, 9.41131162354546], \"line\": {\"color\": \"red\", \"width\": 1}, \"lon\": [98.704491, 20.703728056078212], \"mode\": \"lines\", \"opacity\": 0.5, \"showlegend\": false, \"text\": \"distance = 8450.44 km\", \"type\": \"scattergeo\"}, {\"hoverinfo\": \"text\", \"lat\": [16.771015, 4.004138599814959], \"line\": {\"color\": \"red\", \"width\": 1}, \"lon\": [98.704491, 21.142186047210387], \"mode\": \"lines\", \"opacity\": 0.5, \"showlegend\": false, \"text\": \"distance = 8565.12 km\", \"type\": \"scattergeo\"}, {\"hoverinfo\": \"text\", \"lat\": [-4.844681, 9.967159493998146], \"line\": {\"color\": \"red\", \"width\": 1}, \"lon\": [38.962097, 30.723682638321964], \"mode\": \"lines\", \"opacity\": 0.5, \"showlegend\": false, \"text\": \"distance = 1875.51 km\", \"type\": \"scattergeo\"}, {\"hoverinfo\": \"text\", \"lat\": [-3.763541, 7.43736075118162], \"line\": {\"color\": \"red\", \"width\": 1}, \"lon\": [-73.267937, 3.422875977987094], \"mode\": \"lines\", \"opacity\": 0.5, \"showlegend\": false, \"text\": \"distance = 8607.62 km\", \"type\": \"scattergeo\"}, {\"hoverinfo\": \"text\", \"lat\": [16.771015, 13.21539057012125], \"line\": {\"color\": \"red\", \"width\": 1}, \"lon\": [98.704491, 22.38605907457309], \"mode\": \"lines\", \"opacity\": 0.5, \"showlegend\": false, \"text\": \"distance = 8167.55 km\", \"type\": \"scattergeo\"}, {\"hoverinfo\": \"text\", \"lat\": [-13.23, 1.9080918155856559], \"line\": {\"color\": \"red\", \"width\": 1}, \"lon\": [27.0, 15.315511811172465], \"mode\": \"lines\", \"opacity\": 0.5, \"showlegend\": false, \"text\": \"distance = 2113.81 km\", \"type\": \"scattergeo\"}, {\"hoverinfo\": \"text\", \"lat\": [-3.763541, 4.460518721284542], \"line\": {\"color\": \"red\", \"width\": 1}, \"lon\": [-73.267937, -10.172238222429783], \"mode\": \"lines\", \"opacity\": 0.5, \"showlegend\": false, \"text\": \"distance = 7076.19 km\", \"type\": \"scattergeo\"}, {\"hoverinfo\": \"text\", \"lat\": [-4.844681, 2.4700174858355473], \"line\": {\"color\": \"red\", \"width\": 1}, \"lon\": [38.962097, 8.70365260826448], \"mode\": \"lines\", \"opacity\": 0.5, \"showlegend\": false, \"text\": \"distance = 3461.17 km\", \"type\": \"scattergeo\"}, {\"hoverinfo\": \"text\", \"lat\": [-3.763541, 11.766135833880691], \"line\": {\"color\": \"red\", \"width\": 1}, \"lon\": [-73.267937, 16.33577291156741], \"mode\": \"lines\", \"opacity\": 0.5, \"showlegend\": false, \"text\": \"distance = 10059.42 km\", \"type\": \"scattergeo\"}, {\"hoverinfo\": \"text\", \"lat\": [10.885568, 6.94243939005455], \"line\": {\"color\": \"red\", \"width\": 1}, \"lon\": [-1.086617, 7.184566581522511], \"mode\": \"lines\", \"opacity\": 0.5, \"showlegend\": false, \"text\": \"distance = 1008.64 km\", \"type\": \"scattergeo\"}, {\"hoverinfo\": \"text\", \"lat\": [16.771015, 9.526032254987246], \"line\": {\"color\": \"red\", \"width\": 1}, \"lon\": [98.704491, 38.7579570935393], \"mode\": \"lines\", \"opacity\": 0.5, \"showlegend\": false, \"text\": \"distance = 6526.54 km\", \"type\": \"scattergeo\"}, {\"hoverinfo\": \"text\", \"lat\": [-13.23, 7.843498957346246], \"line\": {\"color\": \"red\", \"width\": 1}, \"lon\": [27.0, 12.479879711752108], \"mode\": \"lines\", \"opacity\": 0.5, \"showlegend\": false, \"text\": \"distance = 2829.95 km\", \"type\": \"scattergeo\"}, {\"hoverinfo\": \"text\", \"lat\": [-4.844681, 3.115119044783372], \"line\": {\"color\": \"red\", \"width\": 1}, \"lon\": [38.962097, 9.901770959604471], \"mode\": \"lines\", \"opacity\": 0.5, \"showlegend\": false, \"text\": \"distance = 3349.71 km\", \"type\": \"scattergeo\"}, {\"hoverinfo\": \"text\", \"lat\": [15.82083, 6.316416122647853], \"line\": {\"color\": \"red\", \"width\": 1}, \"lon\": [-9.4145, 9.504564094546527], \"mode\": \"lines\", \"opacity\": 0.5, \"showlegend\": false, \"text\": \"distance = 2316.48 km\", \"type\": \"scattergeo\"}, {\"hoverinfo\": \"text\", \"lat\": [-4.844681, 6.729699803886713], \"line\": {\"color\": \"red\", \"width\": 1}, \"lon\": [38.962097, 18.171901491610434], \"mode\": \"lines\", \"opacity\": 0.5, \"showlegend\": false, \"text\": \"distance = 2640.97 km\", \"type\": \"scattergeo\"}, {\"hoverinfo\": \"text\", \"lat\": [-13.23, 0.36075105251312517], \"line\": {\"color\": \"red\", \"width\": 1}, \"lon\": [27.0, 21.217790841161424], \"mode\": \"lines\", \"opacity\": 0.5, \"showlegend\": false, \"text\": \"distance = 1632.88 km\", \"type\": \"scattergeo\"}, {\"hoverinfo\": \"text\", \"lat\": [16.771015, 9.931719729729382], \"line\": {\"color\": \"red\", \"width\": 1}, \"lon\": [98.704491, 25.637890073290766], \"mode\": \"lines\", \"opacity\": 0.5, \"showlegend\": false, \"text\": \"distance = 7912.10 km\", \"type\": \"scattergeo\"}, {\"hoverinfo\": \"text\", \"lat\": [15.82083, 8.541451128547665], \"line\": {\"color\": \"red\", \"width\": 1}, \"lon\": [-9.4145, 5.998873168679612], \"mode\": \"lines\", \"opacity\": 0.5, \"showlegend\": false, \"text\": \"distance = 1859.35 km\", \"type\": \"scattergeo\"}, {\"hoverinfo\": \"text\", \"lat\": [10.885568, 8.165256739510617], \"line\": {\"color\": \"red\", \"width\": 1}, \"lon\": [-1.086617, -0.033051960362905086], \"mode\": \"lines\", \"opacity\": 0.5, \"showlegend\": false, \"text\": \"distance = 322.35 km\", \"type\": \"scattergeo\"}, {\"hoverinfo\": \"text\", \"lat\": [-3.763541, 6.303723270343768], \"line\": {\"color\": \"red\", \"width\": 1}, \"lon\": [-73.267937, 23.442115072357772], \"mode\": \"lines\", \"opacity\": 0.5, \"showlegend\": false, \"text\": \"distance = 10805.20 km\", \"type\": \"scattergeo\"}, {\"hoverinfo\": \"text\", \"lat\": [-4.844681, 2.4828974239930433], \"line\": {\"color\": \"red\", \"width\": 1}, \"lon\": [38.962097, 21.233235913421076], \"mode\": \"lines\", \"opacity\": 0.5, \"showlegend\": false, \"text\": \"distance = 2131.79 km\", \"type\": \"scattergeo\"}, {\"hoverinfo\": \"text\", \"lat\": [-13.23, 5.504726537940879], \"line\": {\"color\": \"red\", \"width\": 1}, \"lon\": [27.0, 5.596819482437101], \"mode\": \"lines\", \"opacity\": 0.5, \"showlegend\": false, \"text\": \"distance = 3145.24 km\", \"type\": \"scattergeo\"}, {\"hoverinfo\": \"text\", \"lat\": [-13.23, 1.875680115817329], \"line\": {\"color\": \"red\", \"width\": 1}, \"lon\": [27.0, 15.64314836955899], \"mode\": \"lines\", \"opacity\": 0.5, \"showlegend\": false, \"text\": \"distance = 2089.04 km\", \"type\": \"scattergeo\"}, {\"hoverinfo\": \"text\", \"lat\": [-3.763541, 9.340825855987832], \"line\": {\"color\": \"red\", \"width\": 1}, \"lon\": [-73.267937, 10.301460759131308], \"mode\": \"lines\", \"opacity\": 0.5, \"showlegend\": false, \"text\": \"distance = 9380.99 km\", \"type\": \"scattergeo\"}, {\"hoverinfo\": \"text\", \"lat\": [10.885568, 6.001383246956445], \"line\": {\"color\": \"red\", \"width\": 1}, \"lon\": [-1.086617, 3.2411617015115035], \"mode\": \"lines\", \"opacity\": 0.5, \"showlegend\": false, \"text\": \"distance = 720.26 km\", \"type\": \"scattergeo\"}, {\"hoverinfo\": \"text\", \"lat\": [10.885568, 6.834448767446489], \"line\": {\"color\": \"red\", \"width\": 1}, \"lon\": [-1.086617, 8.245223854205127], \"mode\": \"lines\", \"opacity\": 0.5, \"showlegend\": false, \"text\": \"distance = 1119.79 km\", \"type\": \"scattergeo\"}, {\"hoverinfo\": \"text\", \"lat\": [10.885568, 5.266056671347703], \"line\": {\"color\": \"red\", \"width\": 1}, \"lon\": [-1.086617, 7.7238498844946415], \"mode\": \"lines\", \"opacity\": 0.5, \"showlegend\": false, \"text\": \"distance = 1152.60 km\", \"type\": \"scattergeo\"}, {\"hoverinfo\": \"text\", \"lat\": [15.82083, 6.590768231148406], \"line\": {\"color\": \"red\", \"width\": 1}, \"lon\": [-9.4145, 1.4865194143159641], \"mode\": \"lines\", \"opacity\": 0.5, \"showlegend\": false, \"text\": \"distance = 1567.23 km\", \"type\": \"scattergeo\"}, {\"hoverinfo\": \"text\", \"lat\": [16.771015, 7.943145172512443], \"line\": {\"color\": \"red\", \"width\": 1}, \"lon\": [98.704491, 13.85401408082912], \"mode\": \"lines\", \"opacity\": 0.5, \"showlegend\": false, \"text\": \"distance = 9220.19 km\", \"type\": \"scattergeo\"}, {\"hoverinfo\": \"text\", \"lat\": [2.70065068940288, 7.089657829930162, 7.2584808109967085, 8.366831058326305, 3.0127532601943816, 2.157079400501436, 8.197643942298429, 5.244566065253752, 7.421687382859574, 3.0998067873660804, 5.495226866853876, 10.307535628513826, 7.419978399944688, 8.3036094715644, -1.259552996934212, 1.3693871694202209, 3.514518716488322, 10.519518218070013, 4.68901610725871, 4.987287247924243, 2.2662011969062994, 5.031289107223074, 5.793571923423512, 8.662640562810068, 4.6107562407090485, 8.16204914918194, 4.184377863197346, 5.7602955583864075, 4.484851861074898, 9.1029859607291, 8.149008161197402, 5.055683358814396, 0.21769919842099172, 5.887866244440561, 7.646316985776136, 9.41131162354546, 4.004138599814959, 9.967159493998146, 7.43736075118162, 13.21539057012125, 1.9080918155856559, 4.460518721284542, 2.4700174858355473, 11.766135833880691, 6.94243939005455, 9.526032254987246, 7.843498957346246, 3.115119044783372, 6.316416122647853, 6.729699803886713, 0.36075105251312517, 9.931719729729382, 8.541451128547665, 8.165256739510617, 6.303723270343768, 2.4828974239930433, 5.504726537940879, 1.875680115817329, 9.340825855987832, 6.001383246956445, 6.834448767446489, 5.266056671347703, 6.590768231148406, 7.943145172512443], \"lon\": [14.421665456623439, 20.56608519609965, -0.3903163313362472, 6.250532026303112, -5.334875672767402, -2.153883843798086, 19.130081525904266, 15.528405398612879, 12.724307387481918, -22.325526622510612, 16.068744704178854, 0.3955052566374028, 13.78269369432268, 4.960338570120868, 15.002651802452256, 15.994898728411004, 13.527419739973853, 31.623710681078183, 20.735557776874632, 16.248227144901673, 1.0966018184237514, 21.77628970227972, -1.7223534768271105, 12.670314722324632, 16.06196414450158, 0.4586908479236355, -2.0662891056547865, 5.256826084409877, -3.862091348108762, 24.407119089736273, 9.826766425918557, 11.59683784825505, -11.311329949105554, 1.2097312295024096, 10.52791870913994, 20.703728056078212, 21.142186047210387, 30.723682638321964, 3.422875977987094, 22.38605907457309, 15.315511811172465, -10.172238222429783, 8.70365260826448, 16.33577291156741, 7.184566581522511, 38.7579570935393, 12.479879711752108, 9.901770959604471, 9.504564094546527, 18.171901491610434, 21.217790841161424, 25.637890073290766, 5.998873168679612, -0.033051960362905086, 23.442115072357772, 21.233235913421076, 5.596819482437101, 15.64314836955899, 10.301460759131308, 3.2411617015115035, 8.245223854205127, 7.7238498844946415, 1.4865194143159641, 13.85401408082912], \"marker\": {\"color\": \"rgb(255, 0, 0)\"}, \"name\": \"Predicted MidPoint\", \"text\": [\"Lat = 2.701 Lon = 14.422<br>distance = 2854.0 km\", \"Lat = 7.09 Lon = 20.566<br>distance = 2357.0 km\", \"Lat = 7.258 Lon = -0.39<br>distance = 1365.0 km\", \"Lat = 8.367 Lon = 6.251<br>distance = 1893.0 km\", \"Lat = 3.013 Lon = -5.335<br>distance = 7595.0 km\", \"Lat = 2.157 Lon = -2.154<br>distance = 4638.0 km\", \"Lat = 8.198 Lon = 19.13<br>distance = 8653.0 km\", \"Lat = 5.245 Lon = 15.528<br>distance = 2834.0 km\", \"Lat = 7.422 Lon = 12.724<br>distance = 2584.0 km\", \"Lat = 3.1 Lon = -22.326<br>distance = 5718.0 km\", \"Lat = 5.495 Lon = 16.069<br>distance = 2398.0 km\", \"Lat = 10.308 Lon = 0.396<br>distance = 1226.0 km\", \"Lat = 7.42 Lon = 13.783<br>distance = 9244.0 km\", \"Lat = 8.304 Lon = 4.96<br>distance = 723.0 km\", \"Lat = -1.26 Lon = 15.003<br>distance = 1871.0 km\", \"Lat = 1.369 Lon = 15.995<br>distance = 2645.0 km\", \"Lat = 3.515 Lon = 13.527<br>distance = 2376.0 km\", \"Lat = 10.52 Lon = 31.624<br>distance = 2676.0 km\", \"Lat = 4.689 Lon = 20.736<br>distance = 8587.0 km\", \"Lat = 4.987 Lon = 16.248<br>distance = 2749.0 km\", \"Lat = 2.266 Lon = 1.097<br>distance = 3335.0 km\", \"Lat = 5.031 Lon = 21.776<br>distance = 2201.0 km\", \"Lat = 5.794 Lon = -1.722<br>distance = 1391.0 km\", \"Lat = 8.663 Lon = 12.67<br>distance = 2528.0 km\", \"Lat = 4.611 Lon = 16.062<br>distance = 9088.0 km\", \"Lat = 8.162 Lon = 0.459<br>distance = 1368.0 km\", \"Lat = 4.184 Lon = -2.066<br>distance = 749.0 km\", \"Lat = 5.76 Lon = 5.257<br>distance = 1951.0 km\", \"Lat = 4.485 Lon = -3.862<br>distance = 7773.0 km\", \"Lat = 9.103 Lon = 24.407<br>distance = 8066.0 km\", \"Lat = 8.149 Lon = 9.827<br>distance = 1236.0 km\", \"Lat = 5.056 Lon = 11.597<br>distance = 1539.0 km\", \"Lat = 0.218 Lon = -11.311<br>distance = 6906.0 km\", \"Lat = 5.888 Lon = 1.21<br>distance = 8348.0 km\", \"Lat = 7.646 Lon = 10.528<br>distance = 1325.0 km\", \"Lat = 9.411 Lon = 20.704<br>distance = 8450.0 km\", \"Lat = 4.004 Lon = 21.142<br>distance = 8565.0 km\", \"Lat = 9.967 Lon = 30.724<br>distance = 1876.0 km\", \"Lat = 7.437 Lon = 3.423<br>distance = 8608.0 km\", \"Lat = 13.215 Lon = 22.386<br>distance = 8168.0 km\", \"Lat = 1.908 Lon = 15.316<br>distance = 2114.0 km\", \"Lat = 4.461 Lon = -10.172<br>distance = 7076.0 km\", \"Lat = 2.47 Lon = 8.704<br>distance = 3461.0 km\", \"Lat = 11.766 Lon = 16.336<br>distance = 10059.0 km\", \"Lat = 6.942 Lon = 7.185<br>distance = 1009.0 km\", \"Lat = 9.526 Lon = 38.758<br>distance = 6527.0 km\", \"Lat = 7.843 Lon = 12.48<br>distance = 2830.0 km\", \"Lat = 3.115 Lon = 9.902<br>distance = 3350.0 km\", \"Lat = 6.316 Lon = 9.505<br>distance = 2316.0 km\", \"Lat = 6.73 Lon = 18.172<br>distance = 2641.0 km\", \"Lat = 0.361 Lon = 21.218<br>distance = 1633.0 km\", \"Lat = 9.932 Lon = 25.638<br>distance = 7912.0 km\", \"Lat = 8.541 Lon = 5.999<br>distance = 1859.0 km\", \"Lat = 8.165 Lon = -0.033<br>distance = 322.0 km\", \"Lat = 6.304 Lon = 23.442<br>distance = 10805.0 km\", \"Lat = 2.483 Lon = 21.233<br>distance = 2132.0 km\", \"Lat = 5.505 Lon = 5.597<br>distance = 3145.0 km\", \"Lat = 1.876 Lon = 15.643<br>distance = 2089.0 km\", \"Lat = 9.341 Lon = 10.301<br>distance = 9381.0 km\", \"Lat = 6.001 Lon = 3.241<br>distance = 720.0 km\", \"Lat = 6.834 Lon = 8.245<br>distance = 1120.0 km\", \"Lat = 5.266 Lon = 7.724<br>distance = 1153.0 km\", \"Lat = 6.591 Lon = 1.487<br>distance = 1567.0 km\", \"Lat = 7.943 Lon = 13.854<br>distance = 9220.0 km\"], \"type\": \"scattergeo\"}, {\"hoverinfo\": \"text\", \"lat\": [-4.844681, -13.23, 15.82083, -3.763541, 16.771015, 10.885568], \"lon\": [38.962097, 27.0, -9.4145, -73.267937, 98.704491, -1.086617], \"marker\": {\"color\": \"rgb(0, 0, 255)\"}, \"name\": \"True Location\", \"text\": [\"Tanzania<br>Lat = 2.701 Lon = 14.422\", \"Zambia<br>Lat = 7.09 Lon = 20.566\", \"Mauritania<br>Lat = 7.258 Lon = -0.39\", \"Peru <br>Lat = 3.013 Lon = -5.335\", \"Thailand<br>Lat = 8.198 Lon = 19.13\", \"Ghana<br>Lat = 8.304 Lon = 4.96\"], \"type\": \"scattergeo\"}],                        {\"geo\": {\"countrycolor\": \"rgb(204, 204, 204)\", \"landcolor\": \"rgb(243, 243, 243)\", \"projection\": {\"type\": \"natural earth\"}, \"showland\": true}, \"template\": {\"data\": {\"bar\": [{\"error_x\": {\"color\": \"#2a3f5f\"}, \"error_y\": {\"color\": \"#2a3f5f\"}, \"marker\": {\"line\": {\"color\": \"#E5ECF6\", \"width\": 0.5}}, \"type\": \"bar\"}], \"barpolar\": [{\"marker\": {\"line\": {\"color\": \"#E5ECF6\", \"width\": 0.5}}, \"type\": \"barpolar\"}], \"carpet\": [{\"aaxis\": {\"endlinecolor\": \"#2a3f5f\", \"gridcolor\": \"white\", \"linecolor\": \"white\", \"minorgridcolor\": \"white\", \"startlinecolor\": \"#2a3f5f\"}, \"baxis\": {\"endlinecolor\": \"#2a3f5f\", \"gridcolor\": \"white\", \"linecolor\": \"white\", \"minorgridcolor\": \"white\", \"startlinecolor\": \"#2a3f5f\"}, \"type\": \"carpet\"}], \"choropleth\": [{\"colorbar\": {\"outlinewidth\": 0, \"ticks\": \"\"}, \"type\": \"choropleth\"}], \"contour\": [{\"colorbar\": {\"outlinewidth\": 0, \"ticks\": \"\"}, \"colorscale\": [[0.0, \"#0d0887\"], [0.1111111111111111, \"#46039f\"], [0.2222222222222222, \"#7201a8\"], [0.3333333333333333, \"#9c179e\"], [0.4444444444444444, \"#bd3786\"], [0.5555555555555556, \"#d8576b\"], [0.6666666666666666, \"#ed7953\"], [0.7777777777777778, \"#fb9f3a\"], [0.8888888888888888, \"#fdca26\"], [1.0, \"#f0f921\"]], \"type\": \"contour\"}], \"contourcarpet\": [{\"colorbar\": {\"outlinewidth\": 0, \"ticks\": \"\"}, \"type\": \"contourcarpet\"}], \"heatmap\": [{\"colorbar\": {\"outlinewidth\": 0, \"ticks\": \"\"}, \"colorscale\": [[0.0, \"#0d0887\"], [0.1111111111111111, \"#46039f\"], [0.2222222222222222, \"#7201a8\"], [0.3333333333333333, \"#9c179e\"], [0.4444444444444444, \"#bd3786\"], [0.5555555555555556, \"#d8576b\"], [0.6666666666666666, \"#ed7953\"], [0.7777777777777778, \"#fb9f3a\"], [0.8888888888888888, \"#fdca26\"], [1.0, \"#f0f921\"]], \"type\": \"heatmap\"}], \"heatmapgl\": [{\"colorbar\": {\"outlinewidth\": 0, \"ticks\": \"\"}, \"colorscale\": [[0.0, \"#0d0887\"], [0.1111111111111111, \"#46039f\"], [0.2222222222222222, \"#7201a8\"], [0.3333333333333333, \"#9c179e\"], [0.4444444444444444, \"#bd3786\"], [0.5555555555555556, \"#d8576b\"], [0.6666666666666666, \"#ed7953\"], [0.7777777777777778, \"#fb9f3a\"], [0.8888888888888888, \"#fdca26\"], [1.0, \"#f0f921\"]], \"type\": \"heatmapgl\"}], \"histogram\": [{\"marker\": {\"colorbar\": {\"outlinewidth\": 0, \"ticks\": \"\"}}, \"type\": \"histogram\"}], \"histogram2d\": [{\"colorbar\": {\"outlinewidth\": 0, \"ticks\": \"\"}, \"colorscale\": [[0.0, \"#0d0887\"], [0.1111111111111111, \"#46039f\"], [0.2222222222222222, \"#7201a8\"], [0.3333333333333333, \"#9c179e\"], [0.4444444444444444, \"#bd3786\"], [0.5555555555555556, \"#d8576b\"], [0.6666666666666666, \"#ed7953\"], [0.7777777777777778, \"#fb9f3a\"], [0.8888888888888888, \"#fdca26\"], [1.0, \"#f0f921\"]], \"type\": \"histogram2d\"}], \"histogram2dcontour\": [{\"colorbar\": {\"outlinewidth\": 0, \"ticks\": \"\"}, \"colorscale\": [[0.0, \"#0d0887\"], [0.1111111111111111, \"#46039f\"], [0.2222222222222222, \"#7201a8\"], [0.3333333333333333, \"#9c179e\"], [0.4444444444444444, \"#bd3786\"], [0.5555555555555556, \"#d8576b\"], [0.6666666666666666, \"#ed7953\"], [0.7777777777777778, \"#fb9f3a\"], [0.8888888888888888, \"#fdca26\"], [1.0, \"#f0f921\"]], \"type\": \"histogram2dcontour\"}], \"mesh3d\": [{\"colorbar\": {\"outlinewidth\": 0, \"ticks\": \"\"}, \"type\": \"mesh3d\"}], \"parcoords\": [{\"line\": {\"colorbar\": {\"outlinewidth\": 0, \"ticks\": \"\"}}, \"type\": \"parcoords\"}], \"pie\": [{\"automargin\": true, \"type\": \"pie\"}], \"scatter\": [{\"marker\": {\"colorbar\": {\"outlinewidth\": 0, \"ticks\": \"\"}}, \"type\": \"scatter\"}], \"scatter3d\": [{\"line\": {\"colorbar\": {\"outlinewidth\": 0, \"ticks\": \"\"}}, \"marker\": {\"colorbar\": {\"outlinewidth\": 0, \"ticks\": \"\"}}, \"type\": \"scatter3d\"}], \"scattercarpet\": [{\"marker\": {\"colorbar\": {\"outlinewidth\": 0, \"ticks\": \"\"}}, \"type\": \"scattercarpet\"}], \"scattergeo\": [{\"marker\": {\"colorbar\": {\"outlinewidth\": 0, \"ticks\": \"\"}}, \"type\": \"scattergeo\"}], \"scattergl\": [{\"marker\": {\"colorbar\": {\"outlinewidth\": 0, \"ticks\": \"\"}}, \"type\": \"scattergl\"}], \"scattermapbox\": [{\"marker\": {\"colorbar\": {\"outlinewidth\": 0, \"ticks\": \"\"}}, \"type\": \"scattermapbox\"}], \"scatterpolar\": [{\"marker\": {\"colorbar\": {\"outlinewidth\": 0, \"ticks\": \"\"}}, \"type\": \"scatterpolar\"}], \"scatterpolargl\": [{\"marker\": {\"colorbar\": {\"outlinewidth\": 0, \"ticks\": \"\"}}, \"type\": \"scatterpolargl\"}], \"scatterternary\": [{\"marker\": {\"colorbar\": {\"outlinewidth\": 0, \"ticks\": \"\"}}, \"type\": \"scatterternary\"}], \"surface\": [{\"colorbar\": {\"outlinewidth\": 0, \"ticks\": \"\"}, \"colorscale\": [[0.0, \"#0d0887\"], [0.1111111111111111, \"#46039f\"], [0.2222222222222222, \"#7201a8\"], [0.3333333333333333, \"#9c179e\"], [0.4444444444444444, \"#bd3786\"], [0.5555555555555556, \"#d8576b\"], [0.6666666666666666, \"#ed7953\"], [0.7777777777777778, \"#fb9f3a\"], [0.8888888888888888, \"#fdca26\"], [1.0, \"#f0f921\"]], \"type\": \"surface\"}], \"table\": [{\"cells\": {\"fill\": {\"color\": \"#EBF0F8\"}, \"line\": {\"color\": \"white\"}}, \"header\": {\"fill\": {\"color\": \"#C8D4E3\"}, \"line\": {\"color\": \"white\"}}, \"type\": \"table\"}]}, \"layout\": {\"annotationdefaults\": {\"arrowcolor\": \"#2a3f5f\", \"arrowhead\": 0, \"arrowwidth\": 1}, \"coloraxis\": {\"colorbar\": {\"outlinewidth\": 0, \"ticks\": \"\"}}, \"colorscale\": {\"diverging\": [[0, \"#8e0152\"], [0.1, \"#c51b7d\"], [0.2, \"#de77ae\"], [0.3, \"#f1b6da\"], [0.4, \"#fde0ef\"], [0.5, \"#f7f7f7\"], [0.6, \"#e6f5d0\"], [0.7, \"#b8e186\"], [0.8, \"#7fbc41\"], [0.9, \"#4d9221\"], [1, \"#276419\"]], \"sequential\": [[0.0, \"#0d0887\"], [0.1111111111111111, \"#46039f\"], [0.2222222222222222, \"#7201a8\"], [0.3333333333333333, \"#9c179e\"], [0.4444444444444444, \"#bd3786\"], [0.5555555555555556, \"#d8576b\"], [0.6666666666666666, \"#ed7953\"], [0.7777777777777778, \"#fb9f3a\"], [0.8888888888888888, \"#fdca26\"], [1.0, \"#f0f921\"]], \"sequentialminus\": [[0.0, \"#0d0887\"], [0.1111111111111111, \"#46039f\"], [0.2222222222222222, \"#7201a8\"], [0.3333333333333333, \"#9c179e\"], [0.4444444444444444, \"#bd3786\"], [0.5555555555555556, \"#d8576b\"], [0.6666666666666666, \"#ed7953\"], [0.7777777777777778, \"#fb9f3a\"], [0.8888888888888888, \"#fdca26\"], [1.0, \"#f0f921\"]]}, \"colorway\": [\"#636efa\", \"#EF553B\", \"#00cc96\", \"#ab63fa\", \"#FFA15A\", \"#19d3f3\", \"#FF6692\", \"#B6E880\", \"#FF97FF\", \"#FECB52\"], \"font\": {\"color\": \"#2a3f5f\"}, \"geo\": {\"bgcolor\": \"white\", \"lakecolor\": \"white\", \"landcolor\": \"#E5ECF6\", \"showlakes\": true, \"showland\": true, \"subunitcolor\": \"white\"}, \"hoverlabel\": {\"align\": \"left\"}, \"hovermode\": \"closest\", \"mapbox\": {\"style\": \"light\"}, \"paper_bgcolor\": \"white\", \"plot_bgcolor\": \"#E5ECF6\", \"polar\": {\"angularaxis\": {\"gridcolor\": \"white\", \"linecolor\": \"white\", \"ticks\": \"\"}, \"bgcolor\": \"#E5ECF6\", \"radialaxis\": {\"gridcolor\": \"white\", \"linecolor\": \"white\", \"ticks\": \"\"}}, \"scene\": {\"xaxis\": {\"backgroundcolor\": \"#E5ECF6\", \"gridcolor\": \"white\", \"gridwidth\": 2, \"linecolor\": \"white\", \"showbackground\": true, \"ticks\": \"\", \"zerolinecolor\": \"white\"}, \"yaxis\": {\"backgroundcolor\": \"#E5ECF6\", \"gridcolor\": \"white\", \"gridwidth\": 2, \"linecolor\": \"white\", \"showbackground\": true, \"ticks\": \"\", \"zerolinecolor\": \"white\"}, \"zaxis\": {\"backgroundcolor\": \"#E5ECF6\", \"gridcolor\": \"white\", \"gridwidth\": 2, \"linecolor\": \"white\", \"showbackground\": true, \"ticks\": \"\", \"zerolinecolor\": \"white\"}}, \"shapedefaults\": {\"line\": {\"color\": \"#2a3f5f\"}}, \"ternary\": {\"aaxis\": {\"gridcolor\": \"white\", \"linecolor\": \"white\", \"ticks\": \"\"}, \"baxis\": {\"gridcolor\": \"white\", \"linecolor\": \"white\", \"ticks\": \"\"}, \"bgcolor\": \"#E5ECF6\", \"caxis\": {\"gridcolor\": \"white\", \"linecolor\": \"white\", \"ticks\": \"\"}}, \"title\": {\"x\": 0.05}, \"xaxis\": {\"automargin\": true, \"gridcolor\": \"white\", \"linecolor\": \"white\", \"ticks\": \"\", \"title\": {\"standoff\": 15}, \"zerolinecolor\": \"white\", \"zerolinewidth\": 2}, \"yaxis\": {\"automargin\": true, \"gridcolor\": \"white\", \"linecolor\": \"white\", \"ticks\": \"\", \"title\": {\"standoff\": 15}, \"zerolinecolor\": \"white\", \"zerolinewidth\": 2}}}},                        {\"displaylogo\": false, \"responsive\": true}                    ).then(function(){\n",
       "                            \n",
       "var gd = document.getElementById('a5341355-cb4d-4a72-b3d8-2cb498581032');\n",
       "var x = new MutationObserver(function (mutations, observer) {{\n",
       "        var display = window.getComputedStyle(gd).display;\n",
       "        if (!display || display === 'none') {{\n",
       "            console.log([gd, 'removed!']);\n",
       "            Plotly.purge(gd);\n",
       "            observer.disconnect();\n",
       "        }}\n",
       "}});\n",
       "\n",
       "// Listen for the removal of the full notebook cells\n",
       "var notebookContainer = gd.closest('#notebook-container');\n",
       "if (notebookContainer) {{\n",
       "    x.observe(notebookContainer, {childList: true});\n",
       "}}\n",
       "\n",
       "// Listen for the clearing of the current output cell\n",
       "var outputEl = gd.closest('.output');\n",
       "if (outputEl) {{\n",
       "    x.observe(outputEl, {childList: true});\n",
       "}}\n",
       "\n",
       "                        })                };                });            </script>        </div>"
      ]
     },
     "metadata": {},
     "output_type": "display_data"
    },
    {
     "name": "stdout",
     "output_type": "stream",
     "text": [
      "Best: 0.654058 using {'clf__alpha': 0.1}\n",
      "[0.57996602 0.59555259 0.60468409 0.6405837  0.65405772 0.64060237\n",
      " 0.52614678] means\n",
      "[{'clf__alpha': 0.001}, {'clf__alpha': 0.0031622776601683794}, {'clf__alpha': 0.01}, {'clf__alpha': 0.03162277660168379}, {'clf__alpha': 0.1}, {'clf__alpha': 0.31622776601683794}, {'clf__alpha': 1.0}] params\n",
      "0.579966 (0.029835) with: {'clf__alpha': 0.001}\n",
      "0.595553 (0.025071) with: {'clf__alpha': 0.0031622776601683794}\n",
      "0.604684 (0.032899) with: {'clf__alpha': 0.01}\n",
      "0.640584 (0.051245) with: {'clf__alpha': 0.03162277660168379}\n",
      "0.654058 (0.028587) with: {'clf__alpha': 0.1}\n",
      "0.640602 (0.023826) with: {'clf__alpha': 0.31622776601683794}\n",
      "0.526147 (0.038600) with: {'clf__alpha': 1.0}\n"
     ]
    },
    {
     "data": {
      "image/png": "[encoded data removed]",
      "text/plain": [
       "<Figure size 432x288 with 1 Axes>"
      ]
     },
     "metadata": {
      "needs_background": "light"
     },
     "output_type": "display_data"
    }
   ],
   "source": [
    "########################################################################\n",
    "###### logistics classificator wrapper\n",
    "\n",
    "if \"log_clfn\" in algo_active_list:\n",
    "    t1 = time.time()\n",
    "    clf_wrapper = ClassificatorWrapper(clf=SGDClassifier(random_state=42, n_jobs=n_jobs_log_clfn,tol=1e-3,max_iter=1000,loss=\"log\"),\n",
    "                                       cv_strategy=StratifiedKFoldByGroup(n_splits=CV_FOLDS, \n",
    "                                                                          shuffle=True, \n",
    "                                                                          random_state=42),\n",
    "                                       gridsearch_params = {'alpha': cv_params_classifier}\n",
    "                                      )\n",
    "\n",
    "    clf_wrapper.fit(X=df_ml_data, y=y_ml_data, groups=y_label_ml_data\n",
    "                     , restore_best_params_from=logistic_classifier_input_file\n",
    "                   )  # GridSearch and CV are inside\n",
    "    t2 = time.time(); print(t2 - t1)\n",
    "    print(clf_wrapper.best_)  # classifier with best params retrained on whole train dataset\n",
    "\n",
    "    ### Evaluate holdout\n",
    "    eval_on_holdout = clf_wrapper.evaluate_on_holdout(df_test, y_test, label_enc, location_dict,filename=file_out_dict[\"file_out_log_clfn_holdout\"])\n",
    "    eval_on_holdout.head()\n",
    "\n",
    "    print('Test accuracy = ', clf_wrapper.get_holdout_accuracy(eval_on_holdout))\n",
    "    print('Mean distance error (km) = ', clf_wrapper.get_holdout_mean_distance_error(eval_on_holdout))\n",
    "\n",
    "    clf_wrapper.get_grouped_holdout_stats(eval_on_holdout,filename=file_out_dict[\"file_out_log_clfn_holdout_grouped\"])\n",
    "\n",
    "    if calculate_out_of_folds==1:\n",
    "        group_cv = GroupKFold(n_splits=len(set(y_label_ml_data)))\n",
    "        oof_preds_2 = clf_wrapper.get_oof_predictions(X=df_ml_data, \n",
    "                                                      y=y_ml_data, \n",
    "                                                      groups=y_label_ml_data,\n",
    "                                                      cv_strategy=group_cv,\n",
    "                                                      location_dict=location_dict,\n",
    "                                                      label_enc=label_enc,\n",
    "                                                      filename=file_out_dict[\"file_out_log_clfn_oof_preds\"]\n",
    "                                                     )  # pass exactly the same params as for fit method\n",
    "        print(accuracy_score(oof_preds_2.pred_location, oof_preds_2.true_location))\n",
    "        print(oof_preds_2.head())\n",
    "         \n",
    "    plot_eval_on_holdout_sample(eval_on_holdout,save=plotting_enabled,save_fpath=file_out_dict[\"file_out_log_clfn_plot\"]);\n",
    "\n",
    "    _gs = clf_wrapper.get_gridsearch()\n",
    "    if verbose==1:\n",
    "        print(_gs.cv_results_)\n",
    "\n",
    "    scores=summarize_crossval_accuracy(_gs)\n",
    "    param_values_for_graph=_gs.cv_results_[\"param_clf__alpha\"].compressed()\n",
    "\n",
    "    if use_simulated_data==1:\n",
    "        title_graph=\"logistic_clfn_simulated_cv_graph_vivax\"\n",
    "    else:\n",
    "        pass\n",
    "\n",
    "    plot_crossval(param_values_for_graph,scores,title_graph,_gs.cv_results_['std_test_score'])\n",
    "\n",
    "outvar=df_ml_data.shape[1]\n",
    "!echo $outvar > $log_class_success"
   ]
  },
  {
   "cell_type": "code",
   "execution_count": 189,
   "metadata": {},
   "outputs": [],
   "source": [
    "if \"log_clfn\" in algo_active_list:\n",
    "    coefficient_store=pd.DataFrame(columns=[\"values\"])\n",
    "    coefficient_store.loc[\"coef_count\"]=clf_wrapper_count_nonzero_coefs(clf_wrapper, tol=1e-3, return_count=True)\n",
    "    coefficient_store.loc[\"coef_share\"]=clf_wrapper_count_nonzero_coefs(clf_wrapper, tol=1e-3, return_count=False)\n",
    "    coefficient_store.to_csv(file_out_dict[\"file_out_log_clfn_coef\"])\n",
    "    clf_wrapper_count_nonzero_coefs(clf_wrapper, tol=1e-3, return_count=False)"
   ]
  },
  {
   "cell_type": "code",
   "execution_count": 190,
   "metadata": {},
   "outputs": [
    {
     "name": "stdout",
     "output_type": "stream",
     "text": [
      "restore best_params\n",
      "1.7010281086\n",
      "{'Lat': Pipeline(memory=None,\n",
      "     steps=[('imputer', BinomialImputer()), ('reg', Lasso(alpha=0.31622776601683794, copy_X=True, fit_intercept=True,\n",
      "   max_iter=1000, normalize=False, positive=False, precompute=False,\n",
      "   random_state=42, selection='cyclic', tol=0.0001, warm_start=False))]), 'Long': Pipeline(memory=None,\n",
      "     steps=[('imputer', BinomialImputer()), ('reg', Lasso(alpha=1.0, copy_X=True, fit_intercept=True, max_iter=1000,\n",
      "   normalize=False, positive=False, precompute=False, random_state=42,\n",
      "   selection='cyclic', tol=0.0001, warm_start=False))])}\n",
      "Mean distance error (km) =  3460.03000603\n",
      "5 fold\n",
      "5 fold\n",
      "   fold   mid_lat   mid_long  true_lat true_location_label  true_long  \\\n",
      "0     5  0.378264  -1.223240 -4.844681            Tanzania  38.962097   \n",
      "1     5  7.883773   0.342490 -4.844681            Tanzania  38.962097   \n",
      "2     5  7.883773   2.904298 -4.844681            Tanzania  38.962097   \n",
      "3     5  9.450594  32.482790 -4.844681            Tanzania  38.962097   \n",
      "4     5  4.657854  69.048625 -4.844681            Tanzania  38.962097   \n",
      "\n",
      "   distance_to_midpoint  \n",
      "0           4505.500941  \n",
      "1           4513.732165  \n",
      "2           4244.372692  \n",
      "3           1736.555803  \n",
      "4           3506.515224  \n"
     ]
    },
    {
     "data": {
      "application/vnd.plotly.v1+json": {
       "config": {
        "displaylogo": false,
        "plotlyServerURL": "https://plot.ly"
       },
       "data": [
        {
         "hoverinfo": "text",
         "lat": [
          15.82083,
          10.468717844684296
         ],
         "line": {
          "color": "red",
          "width": 1
         },
         "lon": [
          -9.4145,
          2.160390557567178
         ],
         "mode": "lines",
         "opacity": 0.5,
         "showlegend": false,
         "text": "distance = 1387.06 km",
         "type": "scattergeo"
        },
        {
         "hoverinfo": "text",
         "lat": [
          -3.763541,
          9.749456638853818
         ],
         "line": {
          "color": "red",
          "width": 1
         },
         "lon": [
          -73.267937,
          11.306833690439465
         ],
         "mode": "lines",
         "opacity": 0.5,
         "showlegend": false,
         "text": "distance = 9494.67 km",
         "type": "scattergeo"
        },
        {
         "hoverinfo": "text",
         "lat": [
          -4.844681,
          1.5327150573228183
         ],
         "line": {
          "color": "red",
          "width": 1
         },
         "lon": [
          38.962097,
          22.689289981646453
         ],
         "mode": "lines",
         "opacity": 0.5,
         "showlegend": false,
         "text": "distance = 1942.33 km",
         "type": "scattergeo"
        },
        {
         "hoverinfo": "text",
         "lat": [
          10.885568,
          5.2675963368811045
         ],
         "line": {
          "color": "red",
          "width": 1
         },
         "lon": [
          -1.086617,
          6.6243446575255245
         ],
         "mode": "lines",
         "opacity": 0.5,
         "showlegend": false,
         "text": "distance = 1052.52 km",
         "type": "scattergeo"
        },
        {
         "hoverinfo": "text",
         "lat": [
          -4.844681,
          -1.7743006707675657
         ],
         "line": {
          "color": "red",
          "width": 1
         },
         "lon": [
          38.962097,
          -15.925056975177274
         ],
         "mode": "lines",
         "opacity": 0.5,
         "showlegend": false,
         "text": "distance = 6107.73 km",
         "type": "scattergeo"
        },
        {
         "hoverinfo": "text",
         "lat": [
          16.771015,
          2.5665015474786697
         ],
         "line": {
          "color": "red",
          "width": 1
         },
         "lon": [
          98.704491,
          40.6145364147515
         ],
         "mode": "lines",
         "opacity": 0.5,
         "showlegend": false,
         "text": "distance = 6540.17 km",
         "type": "scattergeo"
        },
        {
         "hoverinfo": "text",
         "lat": [
          -13.23,
          -4.199597664620251
         ],
         "line": {
          "color": "red",
          "width": 1
         },
         "lon": [
          27,
          10.750531594856373
         ],
         "mode": "lines",
         "opacity": 0.5,
         "showlegend": false,
         "text": "distance = 2046.32 km",
         "type": "scattergeo"
        },
        {
         "hoverinfo": "text",
         "lat": [
          16.771015,
          5.6075687849017175
         ],
         "line": {
          "color": "red",
          "width": 1
         },
         "lon": [
          98.704491,
          24.38955612688221
         ],
         "mode": "lines",
         "opacity": 0.5,
         "showlegend": false,
         "text": "distance = 8169.92 km",
         "type": "scattergeo"
        },
        {
         "hoverinfo": "text",
         "lat": [
          15.82083,
          11.364632974595038
         ],
         "line": {
          "color": "red",
          "width": 1
         },
         "lon": [
          -9.4145,
          4.663932631412692
         ],
         "mode": "lines",
         "opacity": 0.5,
         "showlegend": false,
         "text": "distance = 1600.74 km",
         "type": "scattergeo"
        },
        {
         "hoverinfo": "text",
         "lat": [
          10.885568,
          6.907666069896397
         ],
         "line": {
          "color": "red",
          "width": 1
         },
         "lon": [
          -1.086617,
          10.58934192682025
         ],
         "mode": "lines",
         "opacity": 0.5,
         "showlegend": false,
         "text": "distance = 1357.19 km",
         "type": "scattergeo"
        },
        {
         "hoverinfo": "text",
         "lat": [
          10.468717844684296,
          9.749456638853818,
          1.5327150573228183,
          5.2675963368811045,
          -1.7743006707675657,
          2.5665015474786697,
          -4.199597664620251,
          5.6075687849017175,
          11.364632974595038,
          6.907666069896397
         ],
         "lon": [
          2.160390557567178,
          11.306833690439465,
          22.689289981646453,
          6.6243446575255245,
          -15.925056975177274,
          40.6145364147515,
          10.750531594856373,
          24.38955612688221,
          4.663932631412692,
          10.58934192682025
         ],
         "marker": {
          "color": "rgb(255, 0, 0)"
         },
         "name": "Predicted MidPoint",
         "text": [
          "Lat = 10.469 Lon = 2.16<br>distance = 1387.0 km",
          "Lat = 9.749 Lon = 11.307<br>distance = 9495.0 km",
          "Lat = 1.533 Lon = 22.689<br>distance = 1942.0 km",
          "Lat = 5.268 Lon = 6.624<br>distance = 1053.0 km",
          "Lat = -1.774 Lon = -15.925<br>distance = 6108.0 km",
          "Lat = 2.567 Lon = 40.615<br>distance = 6540.0 km",
          "Lat = -4.2 Lon = 10.751<br>distance = 2046.0 km",
          "Lat = 5.608 Lon = 24.39<br>distance = 8170.0 km",
          "Lat = 11.365 Lon = 4.664<br>distance = 1601.0 km",
          "Lat = 6.908 Lon = 10.589<br>distance = 1357.0 km"
         ],
         "type": "scattergeo"
        },
        {
         "hoverinfo": "text",
         "lat": [
          15.82083,
          -3.763541,
          -4.844681,
          10.885568,
          16.771015,
          -13.23
         ],
         "lon": [
          -9.4145,
          -73.267937,
          38.962097,
          -1.086617,
          98.704491,
          27
         ],
         "marker": {
          "color": "rgb(0, 0, 255)"
         },
         "name": "True Location",
         "text": [
          "Mauritania<br>Lat = 10.469 Lon = 2.16",
          "Peru <br>Lat = 9.749 Lon = 11.307",
          "Tanzania<br>Lat = 1.533 Lon = 22.689",
          "Ghana<br>Lat = 5.268 Lon = 6.624",
          "Thailand<br>Lat = 2.567 Lon = 40.615",
          "Zambia<br>Lat = -4.2 Lon = 10.751"
         ],
         "type": "scattergeo"
        }
       ],
       "layout": {
        "geo": {
         "countrycolor": "rgb(204, 204, 204)",
         "landcolor": "rgb(243, 243, 243)",
         "projection": {
          "type": "natural earth"
         },
         "showland": true
        },
        "template": {
         "data": {
          "bar": [
           {
            "error_x": {
             "color": "#2a3f5f"
            },
            "error_y": {
             "color": "#2a3f5f"
            },
            "marker": {
             "line": {
              "color": "#E5ECF6",
              "width": 0.5
             }
            },
            "type": "bar"
           }
          ],
          "barpolar": [
           {
            "marker": {
             "line": {
              "color": "#E5ECF6",
              "width": 0.5
             }
            },
            "type": "barpolar"
           }
          ],
          "carpet": [
           {
            "aaxis": {
             "endlinecolor": "#2a3f5f",
             "gridcolor": "white",
             "linecolor": "white",
             "minorgridcolor": "white",
             "startlinecolor": "#2a3f5f"
            },
            "baxis": {
             "endlinecolor": "#2a3f5f",
             "gridcolor": "white",
             "linecolor": "white",
             "minorgridcolor": "white",
             "startlinecolor": "#2a3f5f"
            },
            "type": "carpet"
           }
          ],
          "choropleth": [
           {
            "colorbar": {
             "outlinewidth": 0,
             "ticks": ""
            },
            "type": "choropleth"
           }
          ],
          "contour": [
           {
            "colorbar": {
             "outlinewidth": 0,
             "ticks": ""
            },
            "colorscale": [
             [
              0,
              "#0d0887"
             ],
             [
              0.1111111111111111,
              "#46039f"
             ],
             [
              0.2222222222222222,
              "#7201a8"
             ],
             [
              0.3333333333333333,
              "#9c179e"
             ],
             [
              0.4444444444444444,
              "#bd3786"
             ],
             [
              0.5555555555555556,
              "#d8576b"
             ],
             [
              0.6666666666666666,
              "#ed7953"
             ],
             [
              0.7777777777777778,
              "#fb9f3a"
             ],
             [
              0.8888888888888888,
              "#fdca26"
             ],
             [
              1,
              "#f0f921"
             ]
            ],
            "type": "contour"
           }
          ],
          "contourcarpet": [
           {
            "colorbar": {
             "outlinewidth": 0,
             "ticks": ""
            },
            "type": "contourcarpet"
           }
          ],
          "heatmap": [
           {
            "colorbar": {
             "outlinewidth": 0,
             "ticks": ""
            },
            "colorscale": [
             [
              0,
              "#0d0887"
             ],
             [
              0.1111111111111111,
              "#46039f"
             ],
             [
              0.2222222222222222,
              "#7201a8"
             ],
             [
              0.3333333333333333,
              "#9c179e"
             ],
             [
              0.4444444444444444,
              "#bd3786"
             ],
             [
              0.5555555555555556,
              "#d8576b"
             ],
             [
              0.6666666666666666,
              "#ed7953"
             ],
             [
              0.7777777777777778,
              "#fb9f3a"
             ],
             [
              0.8888888888888888,
              "#fdca26"
             ],
             [
              1,
              "#f0f921"
             ]
            ],
            "type": "heatmap"
           }
          ],
          "heatmapgl": [
           {
            "colorbar": {
             "outlinewidth": 0,
             "ticks": ""
            },
            "colorscale": [
             [
              0,
              "#0d0887"
             ],
             [
              0.1111111111111111,
              "#46039f"
             ],
             [
              0.2222222222222222,
              "#7201a8"
             ],
             [
              0.3333333333333333,
              "#9c179e"
             ],
             [
              0.4444444444444444,
              "#bd3786"
             ],
             [
              0.5555555555555556,
              "#d8576b"
             ],
             [
              0.6666666666666666,
              "#ed7953"
             ],
             [
              0.7777777777777778,
              "#fb9f3a"
             ],
             [
              0.8888888888888888,
              "#fdca26"
             ],
             [
              1,
              "#f0f921"
             ]
            ],
            "type": "heatmapgl"
           }
          ],
          "histogram": [
           {
            "marker": {
             "colorbar": {
              "outlinewidth": 0,
              "ticks": ""
             }
            },
            "type": "histogram"
           }
          ],
          "histogram2d": [
           {
            "colorbar": {
             "outlinewidth": 0,
             "ticks": ""
            },
            "colorscale": [
             [
              0,
              "#0d0887"
             ],
             [
              0.1111111111111111,
              "#46039f"
             ],
             [
              0.2222222222222222,
              "#7201a8"
             ],
             [
              0.3333333333333333,
              "#9c179e"
             ],
             [
              0.4444444444444444,
              "#bd3786"
             ],
             [
              0.5555555555555556,
              "#d8576b"
             ],
             [
              0.6666666666666666,
              "#ed7953"
             ],
             [
              0.7777777777777778,
              "#fb9f3a"
             ],
             [
              0.8888888888888888,
              "#fdca26"
             ],
             [
              1,
              "#f0f921"
             ]
            ],
            "type": "histogram2d"
           }
          ],
          "histogram2dcontour": [
           {
            "colorbar": {
             "outlinewidth": 0,
             "ticks": ""
            },
            "colorscale": [
             [
              0,
              "#0d0887"
             ],
             [
              0.1111111111111111,
              "#46039f"
             ],
             [
              0.2222222222222222,
              "#7201a8"
             ],
             [
              0.3333333333333333,
              "#9c179e"
             ],
             [
              0.4444444444444444,
              "#bd3786"
             ],
             [
              0.5555555555555556,
              "#d8576b"
             ],
             [
              0.6666666666666666,
              "#ed7953"
             ],
             [
              0.7777777777777778,
              "#fb9f3a"
             ],
             [
              0.8888888888888888,
              "#fdca26"
             ],
             [
              1,
              "#f0f921"
             ]
            ],
            "type": "histogram2dcontour"
           }
          ],
          "mesh3d": [
           {
            "colorbar": {
             "outlinewidth": 0,
             "ticks": ""
            },
            "type": "mesh3d"
           }
          ],
          "parcoords": [
           {
            "line": {
             "colorbar": {
              "outlinewidth": 0,
              "ticks": ""
             }
            },
            "type": "parcoords"
           }
          ],
          "pie": [
           {
            "automargin": true,
            "type": "pie"
           }
          ],
          "scatter": [
           {
            "marker": {
             "colorbar": {
              "outlinewidth": 0,
              "ticks": ""
             }
            },
            "type": "scatter"
           }
          ],
          "scatter3d": [
           {
            "line": {
             "colorbar": {
              "outlinewidth": 0,
              "ticks": ""
             }
            },
            "marker": {
             "colorbar": {
              "outlinewidth": 0,
              "ticks": ""
             }
            },
            "type": "scatter3d"
           }
          ],
          "scattercarpet": [
           {
            "marker": {
             "colorbar": {
              "outlinewidth": 0,
              "ticks": ""
             }
            },
            "type": "scattercarpet"
           }
          ],
          "scattergeo": [
           {
            "marker": {
             "colorbar": {
              "outlinewidth": 0,
              "ticks": ""
             }
            },
            "type": "scattergeo"
           }
          ],
          "scattergl": [
           {
            "marker": {
             "colorbar": {
              "outlinewidth": 0,
              "ticks": ""
             }
            },
            "type": "scattergl"
           }
          ],
          "scattermapbox": [
           {
            "marker": {
             "colorbar": {
              "outlinewidth": 0,
              "ticks": ""
             }
            },
            "type": "scattermapbox"
           }
          ],
          "scatterpolar": [
           {
            "marker": {
             "colorbar": {
              "outlinewidth": 0,
              "ticks": ""
             }
            },
            "type": "scatterpolar"
           }
          ],
          "scatterpolargl": [
           {
            "marker": {
             "colorbar": {
              "outlinewidth": 0,
              "ticks": ""
             }
            },
            "type": "scatterpolargl"
           }
          ],
          "scatterternary": [
           {
            "marker": {
             "colorbar": {
              "outlinewidth": 0,
              "ticks": ""
             }
            },
            "type": "scatterternary"
           }
          ],
          "surface": [
           {
            "colorbar": {
             "outlinewidth": 0,
             "ticks": ""
            },
            "colorscale": [
             [
              0,
              "#0d0887"
             ],
             [
              0.1111111111111111,
              "#46039f"
             ],
             [
              0.2222222222222222,
              "#7201a8"
             ],
             [
              0.3333333333333333,
              "#9c179e"
             ],
             [
              0.4444444444444444,
              "#bd3786"
             ],
             [
              0.5555555555555556,
              "#d8576b"
             ],
             [
              0.6666666666666666,
              "#ed7953"
             ],
             [
              0.7777777777777778,
              "#fb9f3a"
             ],
             [
              0.8888888888888888,
              "#fdca26"
             ],
             [
              1,
              "#f0f921"
             ]
            ],
            "type": "surface"
           }
          ],
          "table": [
           {
            "cells": {
             "fill": {
              "color": "#EBF0F8"
             },
             "line": {
              "color": "white"
             }
            },
            "header": {
             "fill": {
              "color": "#C8D4E3"
             },
             "line": {
              "color": "white"
             }
            },
            "type": "table"
           }
          ]
         },
         "layout": {
          "annotationdefaults": {
           "arrowcolor": "#2a3f5f",
           "arrowhead": 0,
           "arrowwidth": 1
          },
          "coloraxis": {
           "colorbar": {
            "outlinewidth": 0,
            "ticks": ""
           }
          },
          "colorscale": {
           "diverging": [
            [
             0,
             "#8e0152"
            ],
            [
             0.1,
             "#c51b7d"
            ],
            [
             0.2,
             "#de77ae"
            ],
            [
             0.3,
             "#f1b6da"
            ],
            [
             0.4,
             "#fde0ef"
            ],
            [
             0.5,
             "#f7f7f7"
            ],
            [
             0.6,
             "#e6f5d0"
            ],
            [
             0.7,
             "#b8e186"
            ],
            [
             0.8,
             "#7fbc41"
            ],
            [
             0.9,
             "#4d9221"
            ],
            [
             1,
             "#276419"
            ]
           ],
           "sequential": [
            [
             0,
             "#0d0887"
            ],
            [
             0.1111111111111111,
             "#46039f"
            ],
            [
             0.2222222222222222,
             "#7201a8"
            ],
            [
             0.3333333333333333,
             "#9c179e"
            ],
            [
             0.4444444444444444,
             "#bd3786"
            ],
            [
             0.5555555555555556,
             "#d8576b"
            ],
            [
             0.6666666666666666,
             "#ed7953"
            ],
            [
             0.7777777777777778,
             "#fb9f3a"
            ],
            [
             0.8888888888888888,
             "#fdca26"
            ],
            [
             1,
             "#f0f921"
            ]
           ],
           "sequentialminus": [
            [
             0,
             "#0d0887"
            ],
            [
             0.1111111111111111,
             "#46039f"
            ],
            [
             0.2222222222222222,
             "#7201a8"
            ],
            [
             0.3333333333333333,
             "#9c179e"
            ],
            [
             0.4444444444444444,
             "#bd3786"
            ],
            [
             0.5555555555555556,
             "#d8576b"
            ],
            [
             0.6666666666666666,
             "#ed7953"
            ],
            [
             0.7777777777777778,
             "#fb9f3a"
            ],
            [
             0.8888888888888888,
             "#fdca26"
            ],
            [
             1,
             "#f0f921"
            ]
           ]
          },
          "colorway": [
           "#636efa",
           "#EF553B",
           "#00cc96",
           "#ab63fa",
           "#FFA15A",
           "#19d3f3",
           "#FF6692",
           "#B6E880",
           "#FF97FF",
           "#FECB52"
          ],
          "font": {
           "color": "#2a3f5f"
          },
          "geo": {
           "bgcolor": "white",
           "lakecolor": "white",
           "landcolor": "#E5ECF6",
           "showlakes": true,
           "showland": true,
           "subunitcolor": "white"
          },
          "hoverlabel": {
           "align": "left"
          },
          "hovermode": "closest",
          "mapbox": {
           "style": "light"
          },
          "paper_bgcolor": "white",
          "plot_bgcolor": "#E5ECF6",
          "polar": {
           "angularaxis": {
            "gridcolor": "white",
            "linecolor": "white",
            "ticks": ""
           },
           "bgcolor": "#E5ECF6",
           "radialaxis": {
            "gridcolor": "white",
            "linecolor": "white",
            "ticks": ""
           }
          },
          "scene": {
           "xaxis": {
            "backgroundcolor": "#E5ECF6",
            "gridcolor": "white",
            "gridwidth": 2,
            "linecolor": "white",
            "showbackground": true,
            "ticks": "",
            "zerolinecolor": "white"
           },
           "yaxis": {
            "backgroundcolor": "#E5ECF6",
            "gridcolor": "white",
            "gridwidth": 2,
            "linecolor": "white",
            "showbackground": true,
            "ticks": "",
            "zerolinecolor": "white"
           },
           "zaxis": {
            "backgroundcolor": "#E5ECF6",
            "gridcolor": "white",
            "gridwidth": 2,
            "linecolor": "white",
            "showbackground": true,
            "ticks": "",
            "zerolinecolor": "white"
           }
          },
          "shapedefaults": {
           "line": {
            "color": "#2a3f5f"
           }
          },
          "ternary": {
           "aaxis": {
            "gridcolor": "white",
            "linecolor": "white",
            "ticks": ""
           },
           "baxis": {
            "gridcolor": "white",
            "linecolor": "white",
            "ticks": ""
           },
           "bgcolor": "#E5ECF6",
           "caxis": {
            "gridcolor": "white",
            "linecolor": "white",
            "ticks": ""
           }
          },
          "title": {
           "x": 0.05
          },
          "xaxis": {
           "automargin": true,
           "gridcolor": "white",
           "linecolor": "white",
           "ticks": "",
           "title": {
            "standoff": 15
           },
           "zerolinecolor": "white",
           "zerolinewidth": 2
          },
          "yaxis": {
           "automargin": true,
           "gridcolor": "white",
           "linecolor": "white",
           "ticks": "",
           "title": {
            "standoff": 15
           },
           "zerolinecolor": "white",
           "zerolinewidth": 2
          }
         }
        }
       }
      },
      "text/html": [
       "<div>                            <div id=\"4e58ea8e-d325-4cf4-ac8b-c3b97d4ebf56\" class=\"plotly-graph-div\" style=\"height:525px; width:100%;\"></div>            <script type=\"text/javascript\">                require([\"plotly\"], function(Plotly) {                    window.PLOTLYENV=window.PLOTLYENV || {};                                    if (document.getElementById(\"4e58ea8e-d325-4cf4-ac8b-c3b97d4ebf56\")) {                    Plotly.newPlot(                        \"4e58ea8e-d325-4cf4-ac8b-c3b97d4ebf56\",                        [{\"hoverinfo\": \"text\", \"lat\": [15.82083, 10.468717844684296], \"line\": {\"color\": \"red\", \"width\": 1}, \"lon\": [-9.4145, 2.160390557567178], \"mode\": \"lines\", \"opacity\": 0.5, \"showlegend\": false, \"text\": \"distance = 1387.06 km\", \"type\": \"scattergeo\"}, {\"hoverinfo\": \"text\", \"lat\": [-3.763541, 9.749456638853818], \"line\": {\"color\": \"red\", \"width\": 1}, \"lon\": [-73.267937, 11.306833690439465], \"mode\": \"lines\", \"opacity\": 0.5, \"showlegend\": false, \"text\": \"distance = 9494.67 km\", \"type\": \"scattergeo\"}, {\"hoverinfo\": \"text\", \"lat\": [-4.844681, 1.5327150573228183], \"line\": {\"color\": \"red\", \"width\": 1}, \"lon\": [38.962097, 22.689289981646453], \"mode\": \"lines\", \"opacity\": 0.5, \"showlegend\": false, \"text\": \"distance = 1942.33 km\", \"type\": \"scattergeo\"}, {\"hoverinfo\": \"text\", \"lat\": [10.885568, 5.2675963368811045], \"line\": {\"color\": \"red\", \"width\": 1}, \"lon\": [-1.086617, 6.6243446575255245], \"mode\": \"lines\", \"opacity\": 0.5, \"showlegend\": false, \"text\": \"distance = 1052.52 km\", \"type\": \"scattergeo\"}, {\"hoverinfo\": \"text\", \"lat\": [-4.844681, -1.7743006707675657], \"line\": {\"color\": \"red\", \"width\": 1}, \"lon\": [38.962097, -15.925056975177274], \"mode\": \"lines\", \"opacity\": 0.5, \"showlegend\": false, \"text\": \"distance = 6107.73 km\", \"type\": \"scattergeo\"}, {\"hoverinfo\": \"text\", \"lat\": [16.771015, 2.5665015474786697], \"line\": {\"color\": \"red\", \"width\": 1}, \"lon\": [98.704491, 40.6145364147515], \"mode\": \"lines\", \"opacity\": 0.5, \"showlegend\": false, \"text\": \"distance = 6540.17 km\", \"type\": \"scattergeo\"}, {\"hoverinfo\": \"text\", \"lat\": [-13.23, -4.199597664620251], \"line\": {\"color\": \"red\", \"width\": 1}, \"lon\": [27.0, 10.750531594856373], \"mode\": \"lines\", \"opacity\": 0.5, \"showlegend\": false, \"text\": \"distance = 2046.32 km\", \"type\": \"scattergeo\"}, {\"hoverinfo\": \"text\", \"lat\": [16.771015, 5.6075687849017175], \"line\": {\"color\": \"red\", \"width\": 1}, \"lon\": [98.704491, 24.38955612688221], \"mode\": \"lines\", \"opacity\": 0.5, \"showlegend\": false, \"text\": \"distance = 8169.92 km\", \"type\": \"scattergeo\"}, {\"hoverinfo\": \"text\", \"lat\": [15.82083, 11.364632974595038], \"line\": {\"color\": \"red\", \"width\": 1}, \"lon\": [-9.4145, 4.663932631412692], \"mode\": \"lines\", \"opacity\": 0.5, \"showlegend\": false, \"text\": \"distance = 1600.74 km\", \"type\": \"scattergeo\"}, {\"hoverinfo\": \"text\", \"lat\": [10.885568, 6.907666069896397], \"line\": {\"color\": \"red\", \"width\": 1}, \"lon\": [-1.086617, 10.58934192682025], \"mode\": \"lines\", \"opacity\": 0.5, \"showlegend\": false, \"text\": \"distance = 1357.19 km\", \"type\": \"scattergeo\"}, {\"hoverinfo\": \"text\", \"lat\": [10.468717844684296, 9.749456638853818, 1.5327150573228183, 5.2675963368811045, -1.7743006707675657, 2.5665015474786697, -4.199597664620251, 5.6075687849017175, 11.364632974595038, 6.907666069896397], \"lon\": [2.160390557567178, 11.306833690439465, 22.689289981646453, 6.6243446575255245, -15.925056975177274, 40.6145364147515, 10.750531594856373, 24.38955612688221, 4.663932631412692, 10.58934192682025], \"marker\": {\"color\": \"rgb(255, 0, 0)\"}, \"name\": \"Predicted MidPoint\", \"text\": [\"Lat = 10.469 Lon = 2.16<br>distance = 1387.0 km\", \"Lat = 9.749 Lon = 11.307<br>distance = 9495.0 km\", \"Lat = 1.533 Lon = 22.689<br>distance = 1942.0 km\", \"Lat = 5.268 Lon = 6.624<br>distance = 1053.0 km\", \"Lat = -1.774 Lon = -15.925<br>distance = 6108.0 km\", \"Lat = 2.567 Lon = 40.615<br>distance = 6540.0 km\", \"Lat = -4.2 Lon = 10.751<br>distance = 2046.0 km\", \"Lat = 5.608 Lon = 24.39<br>distance = 8170.0 km\", \"Lat = 11.365 Lon = 4.664<br>distance = 1601.0 km\", \"Lat = 6.908 Lon = 10.589<br>distance = 1357.0 km\"], \"type\": \"scattergeo\"}, {\"hoverinfo\": \"text\", \"lat\": [15.82083, -3.763541, -4.844681, 10.885568, 16.771015, -13.23], \"lon\": [-9.4145, -73.267937, 38.962097, -1.086617, 98.704491, 27.0], \"marker\": {\"color\": \"rgb(0, 0, 255)\"}, \"name\": \"True Location\", \"text\": [\"Mauritania<br>Lat = 10.469 Lon = 2.16\", \"Peru <br>Lat = 9.749 Lon = 11.307\", \"Tanzania<br>Lat = 1.533 Lon = 22.689\", \"Ghana<br>Lat = 5.268 Lon = 6.624\", \"Thailand<br>Lat = 2.567 Lon = 40.615\", \"Zambia<br>Lat = -4.2 Lon = 10.751\"], \"type\": \"scattergeo\"}],                        {\"geo\": {\"countrycolor\": \"rgb(204, 204, 204)\", \"landcolor\": \"rgb(243, 243, 243)\", \"projection\": {\"type\": \"natural earth\"}, \"showland\": true}, \"template\": {\"data\": {\"bar\": [{\"error_x\": {\"color\": \"#2a3f5f\"}, \"error_y\": {\"color\": \"#2a3f5f\"}, \"marker\": {\"line\": {\"color\": \"#E5ECF6\", \"width\": 0.5}}, \"type\": \"bar\"}], \"barpolar\": [{\"marker\": {\"line\": {\"color\": \"#E5ECF6\", \"width\": 0.5}}, \"type\": \"barpolar\"}], \"carpet\": [{\"aaxis\": {\"endlinecolor\": \"#2a3f5f\", \"gridcolor\": \"white\", \"linecolor\": \"white\", \"minorgridcolor\": \"white\", \"startlinecolor\": \"#2a3f5f\"}, \"baxis\": {\"endlinecolor\": \"#2a3f5f\", \"gridcolor\": \"white\", \"linecolor\": \"white\", \"minorgridcolor\": \"white\", \"startlinecolor\": \"#2a3f5f\"}, \"type\": \"carpet\"}], \"choropleth\": [{\"colorbar\": {\"outlinewidth\": 0, \"ticks\": \"\"}, \"type\": \"choropleth\"}], \"contour\": [{\"colorbar\": {\"outlinewidth\": 0, \"ticks\": \"\"}, \"colorscale\": [[0.0, \"#0d0887\"], [0.1111111111111111, \"#46039f\"], [0.2222222222222222, \"#7201a8\"], [0.3333333333333333, \"#9c179e\"], [0.4444444444444444, \"#bd3786\"], [0.5555555555555556, \"#d8576b\"], [0.6666666666666666, \"#ed7953\"], [0.7777777777777778, \"#fb9f3a\"], [0.8888888888888888, \"#fdca26\"], [1.0, \"#f0f921\"]], \"type\": \"contour\"}], \"contourcarpet\": [{\"colorbar\": {\"outlinewidth\": 0, \"ticks\": \"\"}, \"type\": \"contourcarpet\"}], \"heatmap\": [{\"colorbar\": {\"outlinewidth\": 0, \"ticks\": \"\"}, \"colorscale\": [[0.0, \"#0d0887\"], [0.1111111111111111, \"#46039f\"], [0.2222222222222222, \"#7201a8\"], [0.3333333333333333, \"#9c179e\"], [0.4444444444444444, \"#bd3786\"], [0.5555555555555556, \"#d8576b\"], [0.6666666666666666, \"#ed7953\"], [0.7777777777777778, \"#fb9f3a\"], [0.8888888888888888, \"#fdca26\"], [1.0, \"#f0f921\"]], \"type\": \"heatmap\"}], \"heatmapgl\": [{\"colorbar\": {\"outlinewidth\": 0, \"ticks\": \"\"}, \"colorscale\": [[0.0, \"#0d0887\"], [0.1111111111111111, \"#46039f\"], [0.2222222222222222, \"#7201a8\"], [0.3333333333333333, \"#9c179e\"], [0.4444444444444444, \"#bd3786\"], [0.5555555555555556, \"#d8576b\"], [0.6666666666666666, \"#ed7953\"], [0.7777777777777778, \"#fb9f3a\"], [0.8888888888888888, \"#fdca26\"], [1.0, \"#f0f921\"]], \"type\": \"heatmapgl\"}], \"histogram\": [{\"marker\": {\"colorbar\": {\"outlinewidth\": 0, \"ticks\": \"\"}}, \"type\": \"histogram\"}], \"histogram2d\": [{\"colorbar\": {\"outlinewidth\": 0, \"ticks\": \"\"}, \"colorscale\": [[0.0, \"#0d0887\"], [0.1111111111111111, \"#46039f\"], [0.2222222222222222, \"#7201a8\"], [0.3333333333333333, \"#9c179e\"], [0.4444444444444444, \"#bd3786\"], [0.5555555555555556, \"#d8576b\"], [0.6666666666666666, \"#ed7953\"], [0.7777777777777778, \"#fb9f3a\"], [0.8888888888888888, \"#fdca26\"], [1.0, \"#f0f921\"]], \"type\": \"histogram2d\"}], \"histogram2dcontour\": [{\"colorbar\": {\"outlinewidth\": 0, \"ticks\": \"\"}, \"colorscale\": [[0.0, \"#0d0887\"], [0.1111111111111111, \"#46039f\"], [0.2222222222222222, \"#7201a8\"], [0.3333333333333333, \"#9c179e\"], [0.4444444444444444, \"#bd3786\"], [0.5555555555555556, \"#d8576b\"], [0.6666666666666666, \"#ed7953\"], [0.7777777777777778, \"#fb9f3a\"], [0.8888888888888888, \"#fdca26\"], [1.0, \"#f0f921\"]], \"type\": \"histogram2dcontour\"}], \"mesh3d\": [{\"colorbar\": {\"outlinewidth\": 0, \"ticks\": \"\"}, \"type\": \"mesh3d\"}], \"parcoords\": [{\"line\": {\"colorbar\": {\"outlinewidth\": 0, \"ticks\": \"\"}}, \"type\": \"parcoords\"}], \"pie\": [{\"automargin\": true, \"type\": \"pie\"}], \"scatter\": [{\"marker\": {\"colorbar\": {\"outlinewidth\": 0, \"ticks\": \"\"}}, \"type\": \"scatter\"}], \"scatter3d\": [{\"line\": {\"colorbar\": {\"outlinewidth\": 0, \"ticks\": \"\"}}, \"marker\": {\"colorbar\": {\"outlinewidth\": 0, \"ticks\": \"\"}}, \"type\": \"scatter3d\"}], \"scattercarpet\": [{\"marker\": {\"colorbar\": {\"outlinewidth\": 0, \"ticks\": \"\"}}, \"type\": \"scattercarpet\"}], \"scattergeo\": [{\"marker\": {\"colorbar\": {\"outlinewidth\": 0, \"ticks\": \"\"}}, \"type\": \"scattergeo\"}], \"scattergl\": [{\"marker\": {\"colorbar\": {\"outlinewidth\": 0, \"ticks\": \"\"}}, \"type\": \"scattergl\"}], \"scattermapbox\": [{\"marker\": {\"colorbar\": {\"outlinewidth\": 0, \"ticks\": \"\"}}, \"type\": \"scattermapbox\"}], \"scatterpolar\": [{\"marker\": {\"colorbar\": {\"outlinewidth\": 0, \"ticks\": \"\"}}, \"type\": \"scatterpolar\"}], \"scatterpolargl\": [{\"marker\": {\"colorbar\": {\"outlinewidth\": 0, \"ticks\": \"\"}}, \"type\": \"scatterpolargl\"}], \"scatterternary\": [{\"marker\": {\"colorbar\": {\"outlinewidth\": 0, \"ticks\": \"\"}}, \"type\": \"scatterternary\"}], \"surface\": [{\"colorbar\": {\"outlinewidth\": 0, \"ticks\": \"\"}, \"colorscale\": [[0.0, \"#0d0887\"], [0.1111111111111111, \"#46039f\"], [0.2222222222222222, \"#7201a8\"], [0.3333333333333333, \"#9c179e\"], [0.4444444444444444, \"#bd3786\"], [0.5555555555555556, \"#d8576b\"], [0.6666666666666666, \"#ed7953\"], [0.7777777777777778, \"#fb9f3a\"], [0.8888888888888888, \"#fdca26\"], [1.0, \"#f0f921\"]], \"type\": \"surface\"}], \"table\": [{\"cells\": {\"fill\": {\"color\": \"#EBF0F8\"}, \"line\": {\"color\": \"white\"}}, \"header\": {\"fill\": {\"color\": \"#C8D4E3\"}, \"line\": {\"color\": \"white\"}}, \"type\": \"table\"}]}, \"layout\": {\"annotationdefaults\": {\"arrowcolor\": \"#2a3f5f\", \"arrowhead\": 0, \"arrowwidth\": 1}, \"coloraxis\": {\"colorbar\": {\"outlinewidth\": 0, \"ticks\": \"\"}}, \"colorscale\": {\"diverging\": [[0, \"#8e0152\"], [0.1, \"#c51b7d\"], [0.2, \"#de77ae\"], [0.3, \"#f1b6da\"], [0.4, \"#fde0ef\"], [0.5, \"#f7f7f7\"], [0.6, \"#e6f5d0\"], [0.7, \"#b8e186\"], [0.8, \"#7fbc41\"], [0.9, \"#4d9221\"], [1, \"#276419\"]], \"sequential\": [[0.0, \"#0d0887\"], [0.1111111111111111, \"#46039f\"], [0.2222222222222222, \"#7201a8\"], [0.3333333333333333, \"#9c179e\"], [0.4444444444444444, \"#bd3786\"], [0.5555555555555556, \"#d8576b\"], [0.6666666666666666, \"#ed7953\"], [0.7777777777777778, \"#fb9f3a\"], [0.8888888888888888, \"#fdca26\"], [1.0, \"#f0f921\"]], \"sequentialminus\": [[0.0, \"#0d0887\"], [0.1111111111111111, \"#46039f\"], [0.2222222222222222, \"#7201a8\"], [0.3333333333333333, \"#9c179e\"], [0.4444444444444444, \"#bd3786\"], [0.5555555555555556, \"#d8576b\"], [0.6666666666666666, \"#ed7953\"], [0.7777777777777778, \"#fb9f3a\"], [0.8888888888888888, \"#fdca26\"], [1.0, \"#f0f921\"]]}, \"colorway\": [\"#636efa\", \"#EF553B\", \"#00cc96\", \"#ab63fa\", \"#FFA15A\", \"#19d3f3\", \"#FF6692\", \"#B6E880\", \"#FF97FF\", \"#FECB52\"], \"font\": {\"color\": \"#2a3f5f\"}, \"geo\": {\"bgcolor\": \"white\", \"lakecolor\": \"white\", \"landcolor\": \"#E5ECF6\", \"showlakes\": true, \"showland\": true, \"subunitcolor\": \"white\"}, \"hoverlabel\": {\"align\": \"left\"}, \"hovermode\": \"closest\", \"mapbox\": {\"style\": \"light\"}, \"paper_bgcolor\": \"white\", \"plot_bgcolor\": \"#E5ECF6\", \"polar\": {\"angularaxis\": {\"gridcolor\": \"white\", \"linecolor\": \"white\", \"ticks\": \"\"}, \"bgcolor\": \"#E5ECF6\", \"radialaxis\": {\"gridcolor\": \"white\", \"linecolor\": \"white\", \"ticks\": \"\"}}, \"scene\": {\"xaxis\": {\"backgroundcolor\": \"#E5ECF6\", \"gridcolor\": \"white\", \"gridwidth\": 2, \"linecolor\": \"white\", \"showbackground\": true, \"ticks\": \"\", \"zerolinecolor\": \"white\"}, \"yaxis\": {\"backgroundcolor\": \"#E5ECF6\", \"gridcolor\": \"white\", \"gridwidth\": 2, \"linecolor\": \"white\", \"showbackground\": true, \"ticks\": \"\", \"zerolinecolor\": \"white\"}, \"zaxis\": {\"backgroundcolor\": \"#E5ECF6\", \"gridcolor\": \"white\", \"gridwidth\": 2, \"linecolor\": \"white\", \"showbackground\": true, \"ticks\": \"\", \"zerolinecolor\": \"white\"}}, \"shapedefaults\": {\"line\": {\"color\": \"#2a3f5f\"}}, \"ternary\": {\"aaxis\": {\"gridcolor\": \"white\", \"linecolor\": \"white\", \"ticks\": \"\"}, \"baxis\": {\"gridcolor\": \"white\", \"linecolor\": \"white\", \"ticks\": \"\"}, \"bgcolor\": \"#E5ECF6\", \"caxis\": {\"gridcolor\": \"white\", \"linecolor\": \"white\", \"ticks\": \"\"}}, \"title\": {\"x\": 0.05}, \"xaxis\": {\"automargin\": true, \"gridcolor\": \"white\", \"linecolor\": \"white\", \"ticks\": \"\", \"title\": {\"standoff\": 15}, \"zerolinecolor\": \"white\", \"zerolinewidth\": 2}, \"yaxis\": {\"automargin\": true, \"gridcolor\": \"white\", \"linecolor\": \"white\", \"ticks\": \"\", \"title\": {\"standoff\": 15}, \"zerolinecolor\": \"white\", \"zerolinewidth\": 2}}}},                        {\"displaylogo\": false, \"responsive\": true}                    ).then(function(){\n",
       "                            \n",
       "var gd = document.getElementById('4e58ea8e-d325-4cf4-ac8b-c3b97d4ebf56');\n",
       "var x = new MutationObserver(function (mutations, observer) {{\n",
       "        var display = window.getComputedStyle(gd).display;\n",
       "        if (!display || display === 'none') {{\n",
       "            console.log([gd, 'removed!']);\n",
       "            Plotly.purge(gd);\n",
       "            observer.disconnect();\n",
       "        }}\n",
       "}});\n",
       "\n",
       "// Listen for the removal of the full notebook cells\n",
       "var notebookContainer = gd.closest('#notebook-container');\n",
       "if (notebookContainer) {{\n",
       "    x.observe(notebookContainer, {childList: true});\n",
       "}}\n",
       "\n",
       "// Listen for the clearing of the current output cell\n",
       "var outputEl = gd.closest('.output');\n",
       "if (outputEl) {{\n",
       "    x.observe(outputEl, {childList: true});\n",
       "}}\n",
       "\n",
       "                        })                };                });            </script>        </div>"
      ]
     },
     "metadata": {},
     "output_type": "display_data"
    },
    {
     "name": "stdout",
     "output_type": "stream",
     "text": [
      "Best: -71.405122 using {'reg__alpha': 0.31622776601683794}\n",
      "[-209.99007331 -199.23508224 -162.94665835 -126.25935172  -85.8604719\n",
      "  -71.40512171 -103.00749099] means\n",
      "[{'reg__alpha': 0.001}, {'reg__alpha': 0.0031622776601683794}, {'reg__alpha': 0.01}, {'reg__alpha': 0.03162277660168379}, {'reg__alpha': 0.1}, {'reg__alpha': 0.31622776601683794}, {'reg__alpha': 1.0}] params\n",
      "-209.990073 (11.971346) with: {'reg__alpha': 0.001}\n",
      "-199.235082 (7.620393) with: {'reg__alpha': 0.0031622776601683794}\n",
      "-162.946658 (12.173392) with: {'reg__alpha': 0.01}\n",
      "-126.259352 (15.700235) with: {'reg__alpha': 0.03162277660168379}\n",
      "-85.860472 (8.621746) with: {'reg__alpha': 0.1}\n",
      "-71.405122 (3.223207) with: {'reg__alpha': 0.31622776601683794}\n",
      "-103.007491 (1.635374) with: {'reg__alpha': 1.0}\n"
     ]
    },
    {
     "data": {
      "image/png": "[encoded data removed]",
      "text/plain": [
       "<Figure size 432x288 with 1 Axes>"
      ]
     },
     "metadata": {
      "needs_background": "light"
     },
     "output_type": "display_data"
    }
   ],
   "source": [
    "########################################################################\n",
    "###### Linear Regressor wrapper\n",
    "\n",
    "# TwoRegressorsWrapper requires dictionary of regressors to pass # keys should match with column names of df_geo ('Lat' and 'Long' in our case)\n",
    "if \"lin_reg\" in algo_active_list:\n",
    "\n",
    "    t1 = time.time()\n",
    "    # We use the same gridsearch_params for all regressors\n",
    "    _reg_dict = {\n",
    "        'Lat': linear_model.Lasso(random_state=42),\n",
    "        'Long': linear_model.Lasso(random_state=42)\n",
    "        }\n",
    "    reg_wrapper = TwoRegressorsWrapperV2(reg_dict=_reg_dict,\n",
    "                                       cv_strategy=StratifiedKFoldByGroup(n_splits=CV_FOLDS, \n",
    "                                                                          shuffle=True, \n",
    "                                                                          random_state=42),\n",
    "                                       gridsearch_params = {'alpha': cv_params_regression}\n",
    "                                      )\n",
    "    reg_wrapper.fit(X=df_ml_data, y=df_geo_ml_data, \n",
    "                    groups=y_label_ml_data, \n",
    "                     restore_best_params_from=linear_regression_input_file\n",
    "                   )  # GridSearch and CV are inside\n",
    "\n",
    "    t2 = time.time(); print(t2 - t1) ; t3=(t2-t1)\n",
    "\n",
    "    print(reg_wrapper.best_dict)  # 2 regressors with best params retrained on whole train dataset\n",
    "\n",
    "    ### Evaluate holdout\n",
    "    ###>check\n",
    "    eval_on_holdout = reg_wrapper.evaluate_on_holdout(df_test, df_geo_test, label_enc, location_dict,filename=file_out_dict[\"file_out_lin_regr_holdout\"])\n",
    "    eval_on_holdout.head()\n",
    "\n",
    "    print('Mean distance error (km) = ', reg_wrapper.get_holdout_mean_distance_error(eval_on_holdout))\n",
    "\n",
    "    reg_wrapper.get_grouped_holdout_stats(eval_on_holdout,filename=file_out_dict[\"file_out_lin_regr_holdout_grouped\"])\n",
    "\n",
    "    ## Plotting\n",
    "    eval_on_holdout_sample = eval_on_holdout.sample(10, random_state=42).copy()\n",
    "\n",
    "    if calculate_out_of_folds==1:\n",
    "        group_cv = GroupKFold(n_splits=len(set(y_label_ml_data)))\n",
    "        oof_preds_2 = reg_wrapper.get_oof_predictions(X=df_ml_data, \n",
    "                                                   y=df_geo_ml_data, \n",
    "                                                   groups=y_label_ml_data,\n",
    "                                                   cv_strategy=group_cv,\n",
    "                                                   filename=file_out_dict[\"file_out_lin_regr_oof_preds\"]\n",
    "                                                  ) \n",
    "        print(oof_preds_2.head())\n",
    "\n",
    "    _gs_dict = reg_wrapper.get_gridsearch()\n",
    "    if verbose==1:\n",
    "        print(_gs_dict.keys())\n",
    "        print(_gs_dict['Lat'].cv_results_)\n",
    "    \n",
    "    plot_eval_on_holdout_sample(eval_on_holdout_sample, save=plotting_enabled,save_fpath=file_out_dict[\"file_out_lin_regr_plot\"]);\n",
    "\n",
    "####cross_validation grpah \n",
    "if \"lin_reg\" in algo_active_list:\n",
    "    scores=summarize_crossval_accuracy(_gs_dict['Lat'])\n",
    "    param_values_for_graph=_gs_dict['Lat'].cv_results_[\"param_reg__alpha\"].compressed()\n",
    "    if use_simulated_data==1:\n",
    "        title_graph=\"linear_regression_simulated_cv_graph_vivax\"\n",
    "    else:\n",
    "        pass\n",
    "    plot_crossval(param_values_for_graph,scores,title_graph,_gs_dict['Lat'].cv_results_['std_test_score'])\n",
    "\n",
    "outvar=df_ml_data.shape[1]\n",
    "!echo $outvar > $lin_regr_success"
   ]
  },
  {
   "cell_type": "code",
   "execution_count": 191,
   "metadata": {},
   "outputs": [],
   "source": [
    "if \"lin_reg\" in algo_active_list:\n",
    "    coefficient_store=pd.DataFrame(columns=[\"values\"])\n",
    "    coefficient_store.loc[\"coef_count\"]=reg_wrapper_count_nonzero_coefs(reg_wrapper, tol=1e-5, return_count=True)\n",
    "    coefficient_store.loc[\"coef_share\"]=reg_wrapper_count_nonzero_coefs(reg_wrapper, tol=1e-5, return_count=False)\n",
    "    coefficient_store.to_csv(file_out_dict[\"file_out_lin_regr_coef\"])\n",
    "    reg_wrapper_count_nonzero_coefs(reg_wrapper, tol=1e-5, return_count=False)"
   ]
  },
  {
   "cell_type": "markdown",
   "metadata": {},
   "source": [
    "##### Keras"
   ]
  },
  {
   "cell_type": "code",
   "execution_count": 192,
   "metadata": {
    "scrolled": true
   },
   "outputs": [
    {
     "name": "stdout",
     "output_type": "stream",
     "text": [
      "Model: \"sequential_14\"\n",
      "_________________________________________________________________\n",
      "Layer (type)                 Output Shape              Param #   \n",
      "=================================================================\n",
      "batch_normalization_14 (Batc (None, 460)               1840      \n",
      "_________________________________________________________________\n",
      "dense_140 (Dense)            (None, 64)                29504     \n",
      "_________________________________________________________________\n",
      "dense_141 (Dense)            (None, 64)                4160      \n",
      "_________________________________________________________________\n",
      "dense_142 (Dense)            (None, 64)                4160      \n",
      "_________________________________________________________________\n",
      "dense_143 (Dense)            (None, 64)                4160      \n",
      "_________________________________________________________________\n",
      "dropout_14 (Dropout)         (None, 64)                0         \n",
      "_________________________________________________________________\n",
      "dense_144 (Dense)            (None, 64)                4160      \n",
      "_________________________________________________________________\n",
      "dense_145 (Dense)            (None, 64)                4160      \n",
      "_________________________________________________________________\n",
      "dense_146 (Dense)            (None, 64)                4160      \n",
      "_________________________________________________________________\n",
      "dense_147 (Dense)            (None, 64)                4160      \n",
      "_________________________________________________________________\n",
      "dense_148 (Dense)            (None, 2)                 130       \n",
      "_________________________________________________________________\n",
      "dense_149 (Dense)            (None, 2)                 6         \n",
      "=================================================================\n",
      "Total params: 60,600\n",
      "Trainable params: 59,680\n",
      "Non-trainable params: 920\n",
      "_________________________________________________________________\n",
      "None\n",
      "     mid_lat   mid_long   true_lat  true_long true_location_label  \\\n",
      "0  -3.908444 -71.472916  -4.844681  38.962097            Tanzania   \n",
      "1   6.660281   4.347630 -13.230000  27.000000              Zambia   \n",
      "2  10.188457   0.310111  15.820830  -9.414500          Mauritania   \n",
      "3  16.174566  -9.864237  15.820830  -9.414500          Mauritania   \n",
      "4  -3.598190 -73.572113  -3.763541 -73.267937               Peru    \n",
      "\n",
      "   distance_to_midpoint  \n",
      "0          12240.635329  \n",
      "1           3333.462389  \n",
      "2           1224.756325  \n",
      "3             62.044296  \n",
      "4             38.420969  \n",
      "Mean distance error (km) =  4265.5144541\n",
      "0 skipped\n",
      "1 skipped\n",
      "2 skipped\n",
      "3 skipped\n",
      "4 skipped\n",
      "5 fold\n",
      "     mid_lat   mid_long  fold  true_lat  true_long true_location_label  \\\n",
      "0  16.753841  98.333954     5 -4.844681  38.962097            Tanzania   \n",
      "1  -9.814851  35.189594     5 -4.844681  38.962097            Tanzania   \n",
      "2  10.633050  -1.182994     5 -4.844681  38.962097            Tanzania   \n",
      "3  15.783151  -9.564822     5 -4.844681  38.962097            Tanzania   \n",
      "4  16.736555  98.247345     5 -4.844681  38.962097            Tanzania   \n",
      "\n",
      "   distance_to_midpoint  \n",
      "0           6952.539193  \n",
      "1            689.584808  \n",
      "2           4767.143595  \n",
      "3           5812.229475  \n",
      "4           6943.121309  \n"
     ]
    },
    {
     "data": {
      "application/vnd.plotly.v1+json": {
       "config": {
        "displaylogo": false,
        "plotlyServerURL": "https://plot.ly"
       },
       "data": [
        {
         "hoverinfo": "text",
         "lat": [
          -4.844681,
          -3.9084439277648926
         ],
         "line": {
          "color": "red",
          "width": 1
         },
         "lon": [
          38.962097,
          -71.47291564941406
         ],
         "mode": "lines",
         "opacity": 0.5,
         "showlegend": false,
         "text": "distance = 12240.64 km",
         "type": "scattergeo"
        },
        {
         "hoverinfo": "text",
         "lat": [
          -13.23,
          6.660281181335449
         ],
         "line": {
          "color": "red",
          "width": 1
         },
         "lon": [
          27,
          4.347630023956299
         ],
         "mode": "lines",
         "opacity": 0.5,
         "showlegend": false,
         "text": "distance = 3333.46 km",
         "type": "scattergeo"
        },
        {
         "hoverinfo": "text",
         "lat": [
          15.82083,
          10.188456535339355
         ],
         "line": {
          "color": "red",
          "width": 1
         },
         "lon": [
          -9.4145,
          0.3101111948490143
         ],
         "mode": "lines",
         "opacity": 0.5,
         "showlegend": false,
         "text": "distance = 1224.76 km",
         "type": "scattergeo"
        },
        {
         "hoverinfo": "text",
         "lat": [
          15.82083,
          16.1745662689209
         ],
         "line": {
          "color": "red",
          "width": 1
         },
         "lon": [
          -9.4145,
          -9.864236831665039
         ],
         "mode": "lines",
         "opacity": 0.5,
         "showlegend": false,
         "text": "distance = 62.04 km",
         "type": "scattergeo"
        },
        {
         "hoverinfo": "text",
         "lat": [
          -3.763541,
          -3.5981898307800293
         ],
         "line": {
          "color": "red",
          "width": 1
         },
         "lon": [
          -73.267937,
          -73.57211303710938
         ],
         "mode": "lines",
         "opacity": 0.5,
         "showlegend": false,
         "text": "distance = 38.42 km",
         "type": "scattergeo"
        },
        {
         "hoverinfo": "text",
         "lat": [
          -4.844681,
          -3.5928540229797363
         ],
         "line": {
          "color": "red",
          "width": 1
         },
         "lon": [
          38.962097,
          -73.35405731201172
         ],
         "mode": "lines",
         "opacity": 0.5,
         "showlegend": false,
         "text": "distance = 12452.23 km",
         "type": "scattergeo"
        },
        {
         "hoverinfo": "text",
         "lat": [
          16.771015,
          8.657755851745605
         ],
         "line": {
          "color": "red",
          "width": 1
         },
         "lon": [
          98.704491,
          2.6539952754974365
         ],
         "mode": "lines",
         "opacity": 0.5,
         "showlegend": false,
         "text": "distance = 10379.31 km",
         "type": "scattergeo"
        },
        {
         "hoverinfo": "text",
         "lat": [
          -4.844681,
          16.75127601623535
         ],
         "line": {
          "color": "red",
          "width": 1
         },
         "lon": [
          38.962097,
          99.11748504638672
         ],
         "mode": "lines",
         "opacity": 0.5,
         "showlegend": false,
         "text": "distance = 7033.33 km",
         "type": "scattergeo"
        },
        {
         "hoverinfo": "text",
         "lat": [
          15.82083,
          15.804428100585938
         ],
         "line": {
          "color": "red",
          "width": 1
         },
         "lon": [
          -9.4145,
          -9.161654472351074
         ],
         "mode": "lines",
         "opacity": 0.5,
         "showlegend": false,
         "text": "distance = 27.15 km",
         "type": "scattergeo"
        },
        {
         "hoverinfo": "text",
         "lat": [
          -3.763541,
          -3.624779224395752
         ],
         "line": {
          "color": "red",
          "width": 1
         },
         "lon": [
          -73.267937,
          -73.27397918701172
         ],
         "mode": "lines",
         "opacity": 0.5,
         "showlegend": false,
         "text": "distance = 15.36 km",
         "type": "scattergeo"
        },
        {
         "hoverinfo": "text",
         "lat": [
          -13.23,
          12.018219947814941
         ],
         "line": {
          "color": "red",
          "width": 1
         },
         "lon": [
          27,
          -3.514448881149292
         ],
         "mode": "lines",
         "opacity": 0.5,
         "showlegend": false,
         "text": "distance = 4375.72 km",
         "type": "scattergeo"
        },
        {
         "hoverinfo": "text",
         "lat": [
          15.82083,
          10.792495727539062
         ],
         "line": {
          "color": "red",
          "width": 1
         },
         "lon": [
          -9.4145,
          -1.0397566556930542
         ],
         "mode": "lines",
         "opacity": 0.5,
         "showlegend": false,
         "text": "distance = 1064.03 km",
         "type": "scattergeo"
        },
        {
         "hoverinfo": "text",
         "lat": [
          16.771015,
          8.846670150756836
         ],
         "line": {
          "color": "red",
          "width": 1
         },
         "lon": [
          98.704491,
          2.2911574840545654
         ],
         "mode": "lines",
         "opacity": 0.5,
         "showlegend": false,
         "text": "distance = 10411.08 km",
         "type": "scattergeo"
        },
        {
         "hoverinfo": "text",
         "lat": [
          10.885568,
          15.206751823425293
         ],
         "line": {
          "color": "red",
          "width": 1
         },
         "lon": [
          -1.086617,
          -8.440340042114258
         ],
         "mode": "lines",
         "opacity": 0.5,
         "showlegend": false,
         "text": "distance = 929.70 km",
         "type": "scattergeo"
        },
        {
         "hoverinfo": "text",
         "lat": [
          -13.23,
          -7.556692600250244
         ],
         "line": {
          "color": "red",
          "width": 1
         },
         "lon": [
          27,
          35.41337203979492
         ],
         "mode": "lines",
         "opacity": 0.5,
         "showlegend": false,
         "text": "distance = 1114.36 km",
         "type": "scattergeo"
        },
        {
         "hoverinfo": "text",
         "lat": [
          -4.844681,
          -12.687339782714844
         ],
         "line": {
          "color": "red",
          "width": 1
         },
         "lon": [
          38.962097,
          28.757549285888672
         ],
         "mode": "lines",
         "opacity": 0.5,
         "showlegend": false,
         "text": "distance = 1418.05 km",
         "type": "scattergeo"
        },
        {
         "hoverinfo": "text",
         "lat": [
          -13.23,
          -4.9377665519714355
         ],
         "line": {
          "color": "red",
          "width": 1
         },
         "lon": [
          27,
          39.34116744995117
         ],
         "mode": "lines",
         "opacity": 0.5,
         "showlegend": false,
         "text": "distance = 1636.51 km",
         "type": "scattergeo"
        },
        {
         "hoverinfo": "text",
         "lat": [
          -13.23,
          16.785808563232422
         ],
         "line": {
          "color": "red",
          "width": 1
         },
         "lon": [
          27,
          99.27582550048828
         ],
         "mode": "lines",
         "opacity": 0.5,
         "showlegend": false,
         "text": "distance = 8611.68 km",
         "type": "scattergeo"
        },
        {
         "hoverinfo": "text",
         "lat": [
          16.771015,
          -11.401890754699707
         ],
         "line": {
          "color": "red",
          "width": 1
         },
         "lon": [
          98.704491,
          25.480167388916016
         ],
         "mode": "lines",
         "opacity": 0.5,
         "showlegend": false,
         "text": "distance = 8637.36 km",
         "type": "scattergeo"
        },
        {
         "hoverinfo": "text",
         "lat": [
          -4.844681,
          -8.535284996032715
         ],
         "line": {
          "color": "red",
          "width": 1
         },
         "lon": [
          38.962097,
          34.07937240600586
         ],
         "mode": "lines",
         "opacity": 0.5,
         "showlegend": false,
         "text": "distance = 676.70 km",
         "type": "scattergeo"
        },
        {
         "hoverinfo": "text",
         "lat": [
          -13.23,
          -13.034637451171875
         ],
         "line": {
          "color": "red",
          "width": 1
         },
         "lon": [
          27,
          26.82855987548828
         ],
         "mode": "lines",
         "opacity": 0.5,
         "showlegend": false,
         "text": "distance = 28.51 km",
         "type": "scattergeo"
        },
        {
         "hoverinfo": "text",
         "lat": [
          -4.844681,
          4.55503511428833
         ],
         "line": {
          "color": "red",
          "width": 1
         },
         "lon": [
          38.962097,
          -44.58833694458008
         ],
         "mode": "lines",
         "opacity": 0.5,
         "showlegend": false,
         "text": "distance = 9347.96 km",
         "type": "scattergeo"
        },
        {
         "hoverinfo": "text",
         "lat": [
          15.82083,
          10.814970970153809
         ],
         "line": {
          "color": "red",
          "width": 1
         },
         "lon": [
          -9.4145,
          -1.0361803770065308
         ],
         "mode": "lines",
         "opacity": 0.5,
         "showlegend": false,
         "text": "distance = 1063.03 km",
         "type": "scattergeo"
        },
        {
         "hoverinfo": "text",
         "lat": [
          15.82083,
          13.663787841796875
         ],
         "line": {
          "color": "red",
          "width": 1
         },
         "lon": [
          -9.4145,
          -6.282468795776367
         ],
         "mode": "lines",
         "opacity": 0.5,
         "showlegend": false,
         "text": "distance = 413.14 km",
         "type": "scattergeo"
        },
        {
         "hoverinfo": "text",
         "lat": [
          16.771015,
          -3.7725605964660645
         ],
         "line": {
          "color": "red",
          "width": 1
         },
         "lon": [
          98.704491,
          -73.28059387207031
         ],
         "mode": "lines",
         "opacity": 0.5,
         "showlegend": false,
         "text": "distance = 18328.84 km",
         "type": "scattergeo"
        },
        {
         "hoverinfo": "text",
         "lat": [
          15.82083,
          15.348541259765625
         ],
         "line": {
          "color": "red",
          "width": 1
         },
         "lon": [
          -9.4145,
          -8.464397430419922
         ],
         "mode": "lines",
         "opacity": 0.5,
         "showlegend": false,
         "text": "distance = 114.52 km",
         "type": "scattergeo"
        },
        {
         "hoverinfo": "text",
         "lat": [
          10.885568,
          -3.6624016761779785
         ],
         "line": {
          "color": "red",
          "width": 1
         },
         "lon": [
          -1.086617,
          -73.35009002685547
         ],
         "mode": "lines",
         "opacity": 0.5,
         "showlegend": false,
         "text": "distance = 8163.68 km",
         "type": "scattergeo"
        },
        {
         "hoverinfo": "text",
         "lat": [
          15.82083,
          8.55105209350586
         ],
         "line": {
          "color": "red",
          "width": 1
         },
         "lon": [
          -9.4145,
          3.3104612827301025
         ],
         "mode": "lines",
         "opacity": 0.5,
         "showlegend": false,
         "text": "distance = 1600.39 km",
         "type": "scattergeo"
        },
        {
         "hoverinfo": "text",
         "lat": [
          -3.763541,
          -3.5940327644348145
         ],
         "line": {
          "color": "red",
          "width": 1
         },
         "lon": [
          -73.267937,
          -73.28675079345703
         ],
         "mode": "lines",
         "opacity": 0.5,
         "showlegend": false,
         "text": "distance = 18.86 km",
         "type": "scattergeo"
        },
        {
         "hoverinfo": "text",
         "lat": [
          16.771015,
          9.664657592773438
         ],
         "line": {
          "color": "red",
          "width": 1
         },
         "lon": [
          98.704491,
          0.8558408617973328
         ],
         "mode": "lines",
         "opacity": 0.5,
         "showlegend": false,
         "text": "distance = 10533.72 km",
         "type": "scattergeo"
        },
        {
         "hoverinfo": "text",
         "lat": [
          10.885568,
          9.016214370727539
         ],
         "line": {
          "color": "red",
          "width": 1
         },
         "lon": [
          -1.086617,
          0.9731962084770203
         ],
         "mode": "lines",
         "opacity": 0.5,
         "showlegend": false,
         "text": "distance = 306.21 km",
         "type": "scattergeo"
        },
        {
         "hoverinfo": "text",
         "lat": [
          10.885568,
          4.990584850311279
         ],
         "line": {
          "color": "red",
          "width": 1
         },
         "lon": [
          -1.086617,
          8.518815994262695
         ],
         "mode": "lines",
         "opacity": 0.5,
         "showlegend": false,
         "text": "distance = 1243.24 km",
         "type": "scattergeo"
        },
        {
         "hoverinfo": "text",
         "lat": [
          -3.763541,
          -3.6347365379333496
         ],
         "line": {
          "color": "red",
          "width": 1
         },
         "lon": [
          -73.267937,
          -73.46724700927734
         ],
         "mode": "lines",
         "opacity": 0.5,
         "showlegend": false,
         "text": "distance = 26.33 km",
         "type": "scattergeo"
        },
        {
         "hoverinfo": "text",
         "lat": [
          -3.763541,
          9.977255821228027
         ],
         "line": {
          "color": "red",
          "width": 1
         },
         "lon": [
          -73.267937,
          0.688816249370575
         ],
         "mode": "lines",
         "opacity": 0.5,
         "showlegend": false,
         "text": "distance = 8338.04 km",
         "type": "scattergeo"
        },
        {
         "hoverinfo": "text",
         "lat": [
          10.885568,
          9.535881042480469
         ],
         "line": {
          "color": "red",
          "width": 1
         },
         "lon": [
          -1.086617,
          1.1478825807571411
         ],
         "mode": "lines",
         "opacity": 0.5,
         "showlegend": false,
         "text": "distance = 286.75 km",
         "type": "scattergeo"
        },
        {
         "hoverinfo": "text",
         "lat": [
          16.771015,
          15.290975570678711
         ],
         "line": {
          "color": "red",
          "width": 1
         },
         "lon": [
          98.704491,
          93.72352600097656
         ],
         "mode": "lines",
         "opacity": 0.5,
         "showlegend": false,
         "text": "distance = 557.62 km",
         "type": "scattergeo"
        },
        {
         "hoverinfo": "text",
         "lat": [
          16.771015,
          -13.262900352478027
         ],
         "line": {
          "color": "red",
          "width": 1
         },
         "lon": [
          98.704491,
          26.901771545410156
         ],
         "mode": "lines",
         "opacity": 0.5,
         "showlegend": false,
         "text": "distance = 8564.54 km",
         "type": "scattergeo"
        },
        {
         "hoverinfo": "text",
         "lat": [
          -4.844681,
          16.683082580566406
         ],
         "line": {
          "color": "red",
          "width": 1
         },
         "lon": [
          38.962097,
          97.85591125488281
         ],
         "mode": "lines",
         "opacity": 0.5,
         "showlegend": false,
         "text": "distance = 6901.25 km",
         "type": "scattergeo"
        },
        {
         "hoverinfo": "text",
         "lat": [
          -3.763541,
          -3.375624179840088
         ],
         "line": {
          "color": "red",
          "width": 1
         },
         "lon": [
          -73.267937,
          -71.76233673095703
         ],
         "mode": "lines",
         "opacity": 0.5,
         "showlegend": false,
         "text": "distance = 172.69 km",
         "type": "scattergeo"
        },
        {
         "hoverinfo": "text",
         "lat": [
          16.771015,
          10.39109992980957
         ],
         "line": {
          "color": "red",
          "width": 1
         },
         "lon": [
          98.704491,
          0.15175262093544006
         ],
         "mode": "lines",
         "opacity": 0.5,
         "showlegend": false,
         "text": "distance = 10582.29 km",
         "type": "scattergeo"
        },
        {
         "hoverinfo": "text",
         "lat": [
          -13.23,
          -13.092470169067383
         ],
         "line": {
          "color": "red",
          "width": 1
         },
         "lon": [
          27,
          26.567243576049805
         ],
         "mode": "lines",
         "opacity": 0.5,
         "showlegend": false,
         "text": "distance = 49.32 km",
         "type": "scattergeo"
        },
        {
         "hoverinfo": "text",
         "lat": [
          -3.763541,
          -3.647066593170166
         ],
         "line": {
          "color": "red",
          "width": 1
         },
         "lon": [
          -73.267937,
          -73.42854309082031
         ],
         "mode": "lines",
         "opacity": 0.5,
         "showlegend": false,
         "text": "distance = 22.00 km",
         "type": "scattergeo"
        },
        {
         "hoverinfo": "text",
         "lat": [
          -4.844681,
          -5.007382869720459
         ],
         "line": {
          "color": "red",
          "width": 1
         },
         "lon": [
          38.962097,
          39.213802337646484
         ],
         "mode": "lines",
         "opacity": 0.5,
         "showlegend": false,
         "text": "distance = 33.21 km",
         "type": "scattergeo"
        },
        {
         "hoverinfo": "text",
         "lat": [
          -3.763541,
          10.95528507232666
         ],
         "line": {
          "color": "red",
          "width": 1
         },
         "lon": [
          -73.267937,
          -1.548761248588562
         ],
         "mode": "lines",
         "opacity": 0.5,
         "showlegend": false,
         "text": "distance = 8108.05 km",
         "type": "scattergeo"
        },
        {
         "hoverinfo": "text",
         "lat": [
          10.885568,
          15.225543975830078
         ],
         "line": {
          "color": "red",
          "width": 1
         },
         "lon": [
          -1.086617,
          -8.339609146118164
         ],
         "mode": "lines",
         "opacity": 0.5,
         "showlegend": false,
         "text": "distance = 921.41 km",
         "type": "scattergeo"
        },
        {
         "hoverinfo": "text",
         "lat": [
          16.771015,
          16.785776138305664
         ],
         "line": {
          "color": "red",
          "width": 1
         },
         "lon": [
          98.704491,
          99.23655700683594
         ],
         "mode": "lines",
         "opacity": 0.5,
         "showlegend": false,
         "text": "distance = 56.75 km",
         "type": "scattergeo"
        },
        {
         "hoverinfo": "text",
         "lat": [
          -13.23,
          9.105530738830566
         ],
         "line": {
          "color": "red",
          "width": 1
         },
         "lon": [
          27,
          1.6468631029129028
         ],
         "mode": "lines",
         "opacity": 0.5,
         "showlegend": false,
         "text": "distance = 3735.66 km",
         "type": "scattergeo"
        },
        {
         "hoverinfo": "text",
         "lat": [
          -4.844681,
          -3.679089069366455
         ],
         "line": {
          "color": "red",
          "width": 1
         },
         "lon": [
          38.962097,
          -73.37183380126953
         ],
         "mode": "lines",
         "opacity": 0.5,
         "showlegend": false,
         "text": "distance = 12453.08 km",
         "type": "scattergeo"
        },
        {
         "hoverinfo": "text",
         "lat": [
          15.82083,
          -4.852623462677002
         ],
         "line": {
          "color": "red",
          "width": 1
         },
         "lon": [
          -9.4145,
          39.102210998535156
         ],
         "mode": "lines",
         "opacity": 0.5,
         "showlegend": false,
         "text": "distance = 5812.92 km",
         "type": "scattergeo"
        },
        {
         "hoverinfo": "text",
         "lat": [
          -4.844681,
          13.919269561767578
         ],
         "line": {
          "color": "red",
          "width": 1
         },
         "lon": [
          38.962097,
          -6.4168219566345215
         ],
         "mode": "lines",
         "opacity": 0.5,
         "showlegend": false,
         "text": "distance = 5424.43 km",
         "type": "scattergeo"
        },
        {
         "hoverinfo": "text",
         "lat": [
          -13.23,
          -13.116280555725098
         ],
         "line": {
          "color": "red",
          "width": 1
         },
         "lon": [
          27,
          26.634273529052734
         ],
         "mode": "lines",
         "opacity": 0.5,
         "showlegend": false,
         "text": "distance = 41.60 km",
         "type": "scattergeo"
        },
        {
         "hoverinfo": "text",
         "lat": [
          16.771015,
          10.087981224060059
         ],
         "line": {
          "color": "red",
          "width": 1
         },
         "lon": [
          98.704491,
          0.6914607882499695
         ],
         "mode": "lines",
         "opacity": 0.5,
         "showlegend": false,
         "text": "distance = 10536.45 km",
         "type": "scattergeo"
        },
        {
         "hoverinfo": "text",
         "lat": [
          15.82083,
          14.837383270263672
         ],
         "line": {
          "color": "red",
          "width": 1
         },
         "lon": [
          -9.4145,
          -7.305830955505371
         ],
         "mode": "lines",
         "opacity": 0.5,
         "showlegend": false,
         "text": "distance = 251.22 km",
         "type": "scattergeo"
        },
        {
         "hoverinfo": "text",
         "lat": [
          10.885568,
          9.999954223632812
         ],
         "line": {
          "color": "red",
          "width": 1
         },
         "lon": [
          -1.086617,
          0.6985456347465515
         ],
         "mode": "lines",
         "opacity": 0.5,
         "showlegend": false,
         "text": "distance = 218.63 km",
         "type": "scattergeo"
        },
        {
         "hoverinfo": "text",
         "lat": [
          -3.763541,
          -13.134834289550781
         ],
         "line": {
          "color": "red",
          "width": 1
         },
         "lon": [
          -73.267937,
          26.80915069580078
         ],
         "mode": "lines",
         "opacity": 0.5,
         "showlegend": false,
         "text": "distance = 11012.20 km",
         "type": "scattergeo"
        },
        {
         "hoverinfo": "text",
         "lat": [
          -4.844681,
          -4.812148094177246
         ],
         "line": {
          "color": "red",
          "width": 1
         },
         "lon": [
          38.962097,
          39.33123779296875
         ],
         "mode": "lines",
         "opacity": 0.5,
         "showlegend": false,
         "text": "distance = 41.11 km",
         "type": "scattergeo"
        },
        {
         "hoverinfo": "text",
         "lat": [
          -13.23,
          15.387445449829102
         ],
         "line": {
          "color": "red",
          "width": 1
         },
         "lon": [
          27,
          -8.714893341064453
         ],
         "mode": "lines",
         "opacity": 0.5,
         "showlegend": false,
         "text": "distance = 5048.57 km",
         "type": "scattergeo"
        },
        {
         "hoverinfo": "text",
         "lat": [
          -13.23,
          -12.266898155212402
         ],
         "line": {
          "color": "red",
          "width": 1
         },
         "lon": [
          27,
          26.326457977294922
         ],
         "mode": "lines",
         "opacity": 0.5,
         "showlegend": false,
         "text": "distance = 129.24 km",
         "type": "scattergeo"
        },
        {
         "hoverinfo": "text",
         "lat": [
          -3.763541,
          10.172703742980957
         ],
         "line": {
          "color": "red",
          "width": 1
         },
         "lon": [
          -73.267937,
          0.4946519434452057
         ],
         "mode": "lines",
         "opacity": 0.5,
         "showlegend": false,
         "text": "distance = 8319.40 km",
         "type": "scattergeo"
        },
        {
         "hoverinfo": "text",
         "lat": [
          10.885568,
          -3.124467372894287
         ],
         "line": {
          "color": "red",
          "width": 1
         },
         "lon": [
          -1.086617,
          -70.7271957397461
         ],
         "mode": "lines",
         "opacity": 0.5,
         "showlegend": false,
         "text": "distance = 7866.24 km",
         "type": "scattergeo"
        },
        {
         "hoverinfo": "text",
         "lat": [
          10.885568,
          8.412450790405273
         ],
         "line": {
          "color": "red",
          "width": 1
         },
         "lon": [
          -1.086617,
          3.296330690383911
         ],
         "mode": "lines",
         "opacity": 0.5,
         "showlegend": false,
         "text": "distance = 553.35 km",
         "type": "scattergeo"
        },
        {
         "hoverinfo": "text",
         "lat": [
          10.885568,
          -3.5958571434020996
         ],
         "line": {
          "color": "red",
          "width": 1
         },
         "lon": [
          -1.086617,
          -73.60808563232422
         ],
         "mode": "lines",
         "opacity": 0.5,
         "showlegend": false,
         "text": "distance = 8190.09 km",
         "type": "scattergeo"
        },
        {
         "hoverinfo": "text",
         "lat": [
          15.82083,
          8.684845924377441
         ],
         "line": {
          "color": "red",
          "width": 1
         },
         "lon": [
          -9.4145,
          -0.14683851599693298
         ],
         "mode": "lines",
         "opacity": 0.5,
         "showlegend": false,
         "text": "distance = 1279.96 km",
         "type": "scattergeo"
        },
        {
         "hoverinfo": "text",
         "lat": [
          16.771015,
          8.626571655273438
         ],
         "line": {
          "color": "red",
          "width": 1
         },
         "lon": [
          98.704491,
          0.42027774453163147
         ],
         "mode": "lines",
         "opacity": 0.5,
         "showlegend": false,
         "text": "distance = 10614.57 km",
         "type": "scattergeo"
        },
        {
         "hoverinfo": "text",
         "lat": [
          -3.9084439277648926,
          6.660281181335449,
          10.188456535339355,
          16.1745662689209,
          -3.5981898307800293,
          -3.5928540229797363,
          8.657755851745605,
          16.75127601623535,
          15.804428100585938,
          -3.624779224395752,
          12.018219947814941,
          10.792495727539062,
          8.846670150756836,
          15.206751823425293,
          -7.556692600250244,
          -12.687339782714844,
          -4.9377665519714355,
          16.785808563232422,
          -11.401890754699707,
          -8.535284996032715,
          -13.034637451171875,
          4.55503511428833,
          10.814970970153809,
          13.663787841796875,
          -3.7725605964660645,
          15.348541259765625,
          -3.6624016761779785,
          8.55105209350586,
          -3.5940327644348145,
          9.664657592773438,
          9.016214370727539,
          4.990584850311279,
          -3.6347365379333496,
          9.977255821228027,
          9.535881042480469,
          15.290975570678711,
          -13.262900352478027,
          16.683082580566406,
          -3.375624179840088,
          10.39109992980957,
          -13.092470169067383,
          -3.647066593170166,
          -5.007382869720459,
          10.95528507232666,
          15.225543975830078,
          16.785776138305664,
          9.105530738830566,
          -3.679089069366455,
          -4.852623462677002,
          13.919269561767578,
          -13.116280555725098,
          10.087981224060059,
          14.837383270263672,
          9.999954223632812,
          -13.134834289550781,
          -4.812148094177246,
          15.387445449829102,
          -12.266898155212402,
          10.172703742980957,
          -3.124467372894287,
          8.412450790405273,
          -3.5958571434020996,
          8.684845924377441,
          8.626571655273438
         ],
         "lon": [
          -71.47291564941406,
          4.347630023956299,
          0.3101111948490143,
          -9.864236831665039,
          -73.57211303710938,
          -73.35405731201172,
          2.6539952754974365,
          99.11748504638672,
          -9.161654472351074,
          -73.27397918701172,
          -3.514448881149292,
          -1.0397566556930542,
          2.2911574840545654,
          -8.440340042114258,
          35.41337203979492,
          28.757549285888672,
          39.34116744995117,
          99.27582550048828,
          25.480167388916016,
          34.07937240600586,
          26.82855987548828,
          -44.58833694458008,
          -1.0361803770065308,
          -6.282468795776367,
          -73.28059387207031,
          -8.464397430419922,
          -73.35009002685547,
          3.3104612827301025,
          -73.28675079345703,
          0.8558408617973328,
          0.9731962084770203,
          8.518815994262695,
          -73.46724700927734,
          0.688816249370575,
          1.1478825807571411,
          93.72352600097656,
          26.901771545410156,
          97.85591125488281,
          -71.76233673095703,
          0.15175262093544006,
          26.567243576049805,
          -73.42854309082031,
          39.213802337646484,
          -1.548761248588562,
          -8.339609146118164,
          99.23655700683594,
          1.6468631029129028,
          -73.37183380126953,
          39.102210998535156,
          -6.4168219566345215,
          26.634273529052734,
          0.6914607882499695,
          -7.305830955505371,
          0.6985456347465515,
          26.80915069580078,
          39.33123779296875,
          -8.714893341064453,
          26.326457977294922,
          0.4946519434452057,
          -70.7271957397461,
          3.296330690383911,
          -73.60808563232422,
          -0.14683851599693298,
          0.42027774453163147
         ],
         "marker": {
          "color": "rgb(255, 0, 0)"
         },
         "name": "Predicted MidPoint",
         "text": [
          "Lat = -3.908 Lon = -71.473<br>distance = 12241.0 km",
          "Lat = 6.66 Lon = 4.348<br>distance = 3333.0 km",
          "Lat = 10.188 Lon = 0.31<br>distance = 1225.0 km",
          "Lat = 16.175 Lon = -9.864<br>distance = 62.0 km",
          "Lat = -3.598 Lon = -73.572<br>distance = 38.0 km",
          "Lat = -3.593 Lon = -73.354<br>distance = 12452.0 km",
          "Lat = 8.658 Lon = 2.654<br>distance = 10379.0 km",
          "Lat = 16.751 Lon = 99.117<br>distance = 7033.0 km",
          "Lat = 15.804 Lon = -9.162<br>distance = 27.0 km",
          "Lat = -3.625 Lon = -73.274<br>distance = 15.0 km",
          "Lat = 12.018 Lon = -3.514<br>distance = 4376.0 km",
          "Lat = 10.792 Lon = -1.04<br>distance = 1064.0 km",
          "Lat = 8.847 Lon = 2.291<br>distance = 10411.0 km",
          "Lat = 15.207 Lon = -8.44<br>distance = 930.0 km",
          "Lat = -7.557 Lon = 35.413<br>distance = 1114.0 km",
          "Lat = -12.687 Lon = 28.758<br>distance = 1418.0 km",
          "Lat = -4.938 Lon = 39.341<br>distance = 1637.0 km",
          "Lat = 16.786 Lon = 99.276<br>distance = 8612.0 km",
          "Lat = -11.402 Lon = 25.48<br>distance = 8637.0 km",
          "Lat = -8.535 Lon = 34.079<br>distance = 677.0 km",
          "Lat = -13.035 Lon = 26.829<br>distance = 29.0 km",
          "Lat = 4.555 Lon = -44.588<br>distance = 9348.0 km",
          "Lat = 10.815 Lon = -1.036<br>distance = 1063.0 km",
          "Lat = 13.664 Lon = -6.282<br>distance = 413.0 km",
          "Lat = -3.773 Lon = -73.281<br>distance = 18329.0 km",
          "Lat = 15.349 Lon = -8.464<br>distance = 115.0 km",
          "Lat = -3.662 Lon = -73.35<br>distance = 8164.0 km",
          "Lat = 8.551 Lon = 3.31<br>distance = 1600.0 km",
          "Lat = -3.594 Lon = -73.287<br>distance = 19.0 km",
          "Lat = 9.665 Lon = 0.856<br>distance = 10534.0 km",
          "Lat = 9.016 Lon = 0.973<br>distance = 306.0 km",
          "Lat = 4.991 Lon = 8.519<br>distance = 1243.0 km",
          "Lat = -3.635 Lon = -73.467<br>distance = 26.0 km",
          "Lat = 9.977 Lon = 0.689<br>distance = 8338.0 km",
          "Lat = 9.536 Lon = 1.148<br>distance = 287.0 km",
          "Lat = 15.291 Lon = 93.724<br>distance = 558.0 km",
          "Lat = -13.263 Lon = 26.902<br>distance = 8565.0 km",
          "Lat = 16.683 Lon = 97.856<br>distance = 6901.0 km",
          "Lat = -3.376 Lon = -71.762<br>distance = 173.0 km",
          "Lat = 10.391 Lon = 0.152<br>distance = 10582.0 km",
          "Lat = -13.092 Lon = 26.567<br>distance = 49.0 km",
          "Lat = -3.647 Lon = -73.429<br>distance = 22.0 km",
          "Lat = -5.007 Lon = 39.214<br>distance = 33.0 km",
          "Lat = 10.955 Lon = -1.549<br>distance = 8108.0 km",
          "Lat = 15.226 Lon = -8.34<br>distance = 921.0 km",
          "Lat = 16.786 Lon = 99.237<br>distance = 57.0 km",
          "Lat = 9.106 Lon = 1.647<br>distance = 3736.0 km",
          "Lat = -3.679 Lon = -73.372<br>distance = 12453.0 km",
          "Lat = -4.853 Lon = 39.102<br>distance = 5813.0 km",
          "Lat = 13.919 Lon = -6.417<br>distance = 5424.0 km",
          "Lat = -13.116 Lon = 26.634<br>distance = 42.0 km",
          "Lat = 10.088 Lon = 0.691<br>distance = 10536.0 km",
          "Lat = 14.837 Lon = -7.306<br>distance = 251.0 km",
          "Lat = 10.0 Lon = 0.699<br>distance = 219.0 km",
          "Lat = -13.135 Lon = 26.809<br>distance = 11012.0 km",
          "Lat = -4.812 Lon = 39.331<br>distance = 41.0 km",
          "Lat = 15.387 Lon = -8.715<br>distance = 5049.0 km",
          "Lat = -12.267 Lon = 26.326<br>distance = 129.0 km",
          "Lat = 10.173 Lon = 0.495<br>distance = 8319.0 km",
          "Lat = -3.124 Lon = -70.727<br>distance = 7866.0 km",
          "Lat = 8.412 Lon = 3.296<br>distance = 553.0 km",
          "Lat = -3.596 Lon = -73.608<br>distance = 8190.0 km",
          "Lat = 8.685 Lon = -0.147<br>distance = 1280.0 km",
          "Lat = 8.627 Lon = 0.42<br>distance = 10615.0 km"
         ],
         "type": "scattergeo"
        },
        {
         "hoverinfo": "text",
         "lat": [
          -4.844681,
          -13.23,
          15.82083,
          -3.763541,
          16.771015,
          10.885568
         ],
         "lon": [
          38.962097,
          27,
          -9.4145,
          -73.267937,
          98.704491,
          -1.086617
         ],
         "marker": {
          "color": "rgb(0, 0, 255)"
         },
         "name": "True Location",
         "text": [
          "Tanzania<br>Lat = -3.908 Lon = -71.473",
          "Zambia<br>Lat = 6.66 Lon = 4.348",
          "Mauritania<br>Lat = 10.188 Lon = 0.31",
          "Peru <br>Lat = -3.598 Lon = -73.572",
          "Thailand<br>Lat = 8.658 Lon = 2.654",
          "Ghana<br>Lat = 15.207 Lon = -8.44"
         ],
         "type": "scattergeo"
        }
       ],
       "layout": {
        "geo": {
         "countrycolor": "rgb(204, 204, 204)",
         "landcolor": "rgb(243, 243, 243)",
         "projection": {
          "type": "natural earth"
         },
         "showland": true
        },
        "template": {
         "data": {
          "bar": [
           {
            "error_x": {
             "color": "#2a3f5f"
            },
            "error_y": {
             "color": "#2a3f5f"
            },
            "marker": {
             "line": {
              "color": "#E5ECF6",
              "width": 0.5
             }
            },
            "type": "bar"
           }
          ],
          "barpolar": [
           {
            "marker": {
             "line": {
              "color": "#E5ECF6",
              "width": 0.5
             }
            },
            "type": "barpolar"
           }
          ],
          "carpet": [
           {
            "aaxis": {
             "endlinecolor": "#2a3f5f",
             "gridcolor": "white",
             "linecolor": "white",
             "minorgridcolor": "white",
             "startlinecolor": "#2a3f5f"
            },
            "baxis": {
             "endlinecolor": "#2a3f5f",
             "gridcolor": "white",
             "linecolor": "white",
             "minorgridcolor": "white",
             "startlinecolor": "#2a3f5f"
            },
            "type": "carpet"
           }
          ],
          "choropleth": [
           {
            "colorbar": {
             "outlinewidth": 0,
             "ticks": ""
            },
            "type": "choropleth"
           }
          ],
          "contour": [
           {
            "colorbar": {
             "outlinewidth": 0,
             "ticks": ""
            },
            "colorscale": [
             [
              0,
              "#0d0887"
             ],
             [
              0.1111111111111111,
              "#46039f"
             ],
             [
              0.2222222222222222,
              "#7201a8"
             ],
             [
              0.3333333333333333,
              "#9c179e"
             ],
             [
              0.4444444444444444,
              "#bd3786"
             ],
             [
              0.5555555555555556,
              "#d8576b"
             ],
             [
              0.6666666666666666,
              "#ed7953"
             ],
             [
              0.7777777777777778,
              "#fb9f3a"
             ],
             [
              0.8888888888888888,
              "#fdca26"
             ],
             [
              1,
              "#f0f921"
             ]
            ],
            "type": "contour"
           }
          ],
          "contourcarpet": [
           {
            "colorbar": {
             "outlinewidth": 0,
             "ticks": ""
            },
            "type": "contourcarpet"
           }
          ],
          "heatmap": [
           {
            "colorbar": {
             "outlinewidth": 0,
             "ticks": ""
            },
            "colorscale": [
             [
              0,
              "#0d0887"
             ],
             [
              0.1111111111111111,
              "#46039f"
             ],
             [
              0.2222222222222222,
              "#7201a8"
             ],
             [
              0.3333333333333333,
              "#9c179e"
             ],
             [
              0.4444444444444444,
              "#bd3786"
             ],
             [
              0.5555555555555556,
              "#d8576b"
             ],
             [
              0.6666666666666666,
              "#ed7953"
             ],
             [
              0.7777777777777778,
              "#fb9f3a"
             ],
             [
              0.8888888888888888,
              "#fdca26"
             ],
             [
              1,
              "#f0f921"
             ]
            ],
            "type": "heatmap"
           }
          ],
          "heatmapgl": [
           {
            "colorbar": {
             "outlinewidth": 0,
             "ticks": ""
            },
            "colorscale": [
             [
              0,
              "#0d0887"
             ],
             [
              0.1111111111111111,
              "#46039f"
             ],
             [
              0.2222222222222222,
              "#7201a8"
             ],
             [
              0.3333333333333333,
              "#9c179e"
             ],
             [
              0.4444444444444444,
              "#bd3786"
             ],
             [
              0.5555555555555556,
              "#d8576b"
             ],
             [
              0.6666666666666666,
              "#ed7953"
             ],
             [
              0.7777777777777778,
              "#fb9f3a"
             ],
             [
              0.8888888888888888,
              "#fdca26"
             ],
             [
              1,
              "#f0f921"
             ]
            ],
            "type": "heatmapgl"
           }
          ],
          "histogram": [
           {
            "marker": {
             "colorbar": {
              "outlinewidth": 0,
              "ticks": ""
             }
            },
            "type": "histogram"
           }
          ],
          "histogram2d": [
           {
            "colorbar": {
             "outlinewidth": 0,
             "ticks": ""
            },
            "colorscale": [
             [
              0,
              "#0d0887"
             ],
             [
              0.1111111111111111,
              "#46039f"
             ],
             [
              0.2222222222222222,
              "#7201a8"
             ],
             [
              0.3333333333333333,
              "#9c179e"
             ],
             [
              0.4444444444444444,
              "#bd3786"
             ],
             [
              0.5555555555555556,
              "#d8576b"
             ],
             [
              0.6666666666666666,
              "#ed7953"
             ],
             [
              0.7777777777777778,
              "#fb9f3a"
             ],
             [
              0.8888888888888888,
              "#fdca26"
             ],
             [
              1,
              "#f0f921"
             ]
            ],
            "type": "histogram2d"
           }
          ],
          "histogram2dcontour": [
           {
            "colorbar": {
             "outlinewidth": 0,
             "ticks": ""
            },
            "colorscale": [
             [
              0,
              "#0d0887"
             ],
             [
              0.1111111111111111,
              "#46039f"
             ],
             [
              0.2222222222222222,
              "#7201a8"
             ],
             [
              0.3333333333333333,
              "#9c179e"
             ],
             [
              0.4444444444444444,
              "#bd3786"
             ],
             [
              0.5555555555555556,
              "#d8576b"
             ],
             [
              0.6666666666666666,
              "#ed7953"
             ],
             [
              0.7777777777777778,
              "#fb9f3a"
             ],
             [
              0.8888888888888888,
              "#fdca26"
             ],
             [
              1,
              "#f0f921"
             ]
            ],
            "type": "histogram2dcontour"
           }
          ],
          "mesh3d": [
           {
            "colorbar": {
             "outlinewidth": 0,
             "ticks": ""
            },
            "type": "mesh3d"
           }
          ],
          "parcoords": [
           {
            "line": {
             "colorbar": {
              "outlinewidth": 0,
              "ticks": ""
             }
            },
            "type": "parcoords"
           }
          ],
          "pie": [
           {
            "automargin": true,
            "type": "pie"
           }
          ],
          "scatter": [
           {
            "marker": {
             "colorbar": {
              "outlinewidth": 0,
              "ticks": ""
             }
            },
            "type": "scatter"
           }
          ],
          "scatter3d": [
           {
            "line": {
             "colorbar": {
              "outlinewidth": 0,
              "ticks": ""
             }
            },
            "marker": {
             "colorbar": {
              "outlinewidth": 0,
              "ticks": ""
             }
            },
            "type": "scatter3d"
           }
          ],
          "scattercarpet": [
           {
            "marker": {
             "colorbar": {
              "outlinewidth": 0,
              "ticks": ""
             }
            },
            "type": "scattercarpet"
           }
          ],
          "scattergeo": [
           {
            "marker": {
             "colorbar": {
              "outlinewidth": 0,
              "ticks": ""
             }
            },
            "type": "scattergeo"
           }
          ],
          "scattergl": [
           {
            "marker": {
             "colorbar": {
              "outlinewidth": 0,
              "ticks": ""
             }
            },
            "type": "scattergl"
           }
          ],
          "scattermapbox": [
           {
            "marker": {
             "colorbar": {
              "outlinewidth": 0,
              "ticks": ""
             }
            },
            "type": "scattermapbox"
           }
          ],
          "scatterpolar": [
           {
            "marker": {
             "colorbar": {
              "outlinewidth": 0,
              "ticks": ""
             }
            },
            "type": "scatterpolar"
           }
          ],
          "scatterpolargl": [
           {
            "marker": {
             "colorbar": {
              "outlinewidth": 0,
              "ticks": ""
             }
            },
            "type": "scatterpolargl"
           }
          ],
          "scatterternary": [
           {
            "marker": {
             "colorbar": {
              "outlinewidth": 0,
              "ticks": ""
             }
            },
            "type": "scatterternary"
           }
          ],
          "surface": [
           {
            "colorbar": {
             "outlinewidth": 0,
             "ticks": ""
            },
            "colorscale": [
             [
              0,
              "#0d0887"
             ],
             [
              0.1111111111111111,
              "#46039f"
             ],
             [
              0.2222222222222222,
              "#7201a8"
             ],
             [
              0.3333333333333333,
              "#9c179e"
             ],
             [
              0.4444444444444444,
              "#bd3786"
             ],
             [
              0.5555555555555556,
              "#d8576b"
             ],
             [
              0.6666666666666666,
              "#ed7953"
             ],
             [
              0.7777777777777778,
              "#fb9f3a"
             ],
             [
              0.8888888888888888,
              "#fdca26"
             ],
             [
              1,
              "#f0f921"
             ]
            ],
            "type": "surface"
           }
          ],
          "table": [
           {
            "cells": {
             "fill": {
              "color": "#EBF0F8"
             },
             "line": {
              "color": "white"
             }
            },
            "header": {
             "fill": {
              "color": "#C8D4E3"
             },
             "line": {
              "color": "white"
             }
            },
            "type": "table"
           }
          ]
         },
         "layout": {
          "annotationdefaults": {
           "arrowcolor": "#2a3f5f",
           "arrowhead": 0,
           "arrowwidth": 1
          },
          "coloraxis": {
           "colorbar": {
            "outlinewidth": 0,
            "ticks": ""
           }
          },
          "colorscale": {
           "diverging": [
            [
             0,
             "#8e0152"
            ],
            [
             0.1,
             "#c51b7d"
            ],
            [
             0.2,
             "#de77ae"
            ],
            [
             0.3,
             "#f1b6da"
            ],
            [
             0.4,
             "#fde0ef"
            ],
            [
             0.5,
             "#f7f7f7"
            ],
            [
             0.6,
             "#e6f5d0"
            ],
            [
             0.7,
             "#b8e186"
            ],
            [
             0.8,
             "#7fbc41"
            ],
            [
             0.9,
             "#4d9221"
            ],
            [
             1,
             "#276419"
            ]
           ],
           "sequential": [
            [
             0,
             "#0d0887"
            ],
            [
             0.1111111111111111,
             "#46039f"
            ],
            [
             0.2222222222222222,
             "#7201a8"
            ],
            [
             0.3333333333333333,
             "#9c179e"
            ],
            [
             0.4444444444444444,
             "#bd3786"
            ],
            [
             0.5555555555555556,
             "#d8576b"
            ],
            [
             0.6666666666666666,
             "#ed7953"
            ],
            [
             0.7777777777777778,
             "#fb9f3a"
            ],
            [
             0.8888888888888888,
             "#fdca26"
            ],
            [
             1,
             "#f0f921"
            ]
           ],
           "sequentialminus": [
            [
             0,
             "#0d0887"
            ],
            [
             0.1111111111111111,
             "#46039f"
            ],
            [
             0.2222222222222222,
             "#7201a8"
            ],
            [
             0.3333333333333333,
             "#9c179e"
            ],
            [
             0.4444444444444444,
             "#bd3786"
            ],
            [
             0.5555555555555556,
             "#d8576b"
            ],
            [
             0.6666666666666666,
             "#ed7953"
            ],
            [
             0.7777777777777778,
             "#fb9f3a"
            ],
            [
             0.8888888888888888,
             "#fdca26"
            ],
            [
             1,
             "#f0f921"
            ]
           ]
          },
          "colorway": [
           "#636efa",
           "#EF553B",
           "#00cc96",
           "#ab63fa",
           "#FFA15A",
           "#19d3f3",
           "#FF6692",
           "#B6E880",
           "#FF97FF",
           "#FECB52"
          ],
          "font": {
           "color": "#2a3f5f"
          },
          "geo": {
           "bgcolor": "white",
           "lakecolor": "white",
           "landcolor": "#E5ECF6",
           "showlakes": true,
           "showland": true,
           "subunitcolor": "white"
          },
          "hoverlabel": {
           "align": "left"
          },
          "hovermode": "closest",
          "mapbox": {
           "style": "light"
          },
          "paper_bgcolor": "white",
          "plot_bgcolor": "#E5ECF6",
          "polar": {
           "angularaxis": {
            "gridcolor": "white",
            "linecolor": "white",
            "ticks": ""
           },
           "bgcolor": "#E5ECF6",
           "radialaxis": {
            "gridcolor": "white",
            "linecolor": "white",
            "ticks": ""
           }
          },
          "scene": {
           "xaxis": {
            "backgroundcolor": "#E5ECF6",
            "gridcolor": "white",
            "gridwidth": 2,
            "linecolor": "white",
            "showbackground": true,
            "ticks": "",
            "zerolinecolor": "white"
           },
           "yaxis": {
            "backgroundcolor": "#E5ECF6",
            "gridcolor": "white",
            "gridwidth": 2,
            "linecolor": "white",
            "showbackground": true,
            "ticks": "",
            "zerolinecolor": "white"
           },
           "zaxis": {
            "backgroundcolor": "#E5ECF6",
            "gridcolor": "white",
            "gridwidth": 2,
            "linecolor": "white",
            "showbackground": true,
            "ticks": "",
            "zerolinecolor": "white"
           }
          },
          "shapedefaults": {
           "line": {
            "color": "#2a3f5f"
           }
          },
          "ternary": {
           "aaxis": {
            "gridcolor": "white",
            "linecolor": "white",
            "ticks": ""
           },
           "baxis": {
            "gridcolor": "white",
            "linecolor": "white",
            "ticks": ""
           },
           "bgcolor": "#E5ECF6",
           "caxis": {
            "gridcolor": "white",
            "linecolor": "white",
            "ticks": ""
           }
          },
          "title": {
           "x": 0.05
          },
          "xaxis": {
           "automargin": true,
           "gridcolor": "white",
           "linecolor": "white",
           "ticks": "",
           "title": {
            "standoff": 15
           },
           "zerolinecolor": "white",
           "zerolinewidth": 2
          },
          "yaxis": {
           "automargin": true,
           "gridcolor": "white",
           "linecolor": "white",
           "ticks": "",
           "title": {
            "standoff": 15
           },
           "zerolinecolor": "white",
           "zerolinewidth": 2
          }
         }
        }
       }
      },
      "text/html": [
       "<div>                            <div id=\"38f4352a-64bc-4157-a825-744e1dca912f\" class=\"plotly-graph-div\" style=\"height:525px; width:100%;\"></div>            <script type=\"text/javascript\">                require([\"plotly\"], function(Plotly) {                    window.PLOTLYENV=window.PLOTLYENV || {};                                    if (document.getElementById(\"38f4352a-64bc-4157-a825-744e1dca912f\")) {                    Plotly.newPlot(                        \"38f4352a-64bc-4157-a825-744e1dca912f\",                        [{\"hoverinfo\": \"text\", \"lat\": [-4.844681, -3.9084439277648926], \"line\": {\"color\": \"red\", \"width\": 1}, \"lon\": [38.962097, -71.47291564941406], \"mode\": \"lines\", \"opacity\": 0.5, \"showlegend\": false, \"text\": \"distance = 12240.64 km\", \"type\": \"scattergeo\"}, {\"hoverinfo\": \"text\", \"lat\": [-13.23, 6.660281181335449], \"line\": {\"color\": \"red\", \"width\": 1}, \"lon\": [27.0, 4.347630023956299], \"mode\": \"lines\", \"opacity\": 0.5, \"showlegend\": false, \"text\": \"distance = 3333.46 km\", \"type\": \"scattergeo\"}, {\"hoverinfo\": \"text\", \"lat\": [15.82083, 10.188456535339355], \"line\": {\"color\": \"red\", \"width\": 1}, \"lon\": [-9.4145, 0.3101111948490143], \"mode\": \"lines\", \"opacity\": 0.5, \"showlegend\": false, \"text\": \"distance = 1224.76 km\", \"type\": \"scattergeo\"}, {\"hoverinfo\": \"text\", \"lat\": [15.82083, 16.1745662689209], \"line\": {\"color\": \"red\", \"width\": 1}, \"lon\": [-9.4145, -9.864236831665039], \"mode\": \"lines\", \"opacity\": 0.5, \"showlegend\": false, \"text\": \"distance = 62.04 km\", \"type\": \"scattergeo\"}, {\"hoverinfo\": \"text\", \"lat\": [-3.763541, -3.5981898307800293], \"line\": {\"color\": \"red\", \"width\": 1}, \"lon\": [-73.267937, -73.57211303710938], \"mode\": \"lines\", \"opacity\": 0.5, \"showlegend\": false, \"text\": \"distance = 38.42 km\", \"type\": \"scattergeo\"}, {\"hoverinfo\": \"text\", \"lat\": [-4.844681, -3.5928540229797363], \"line\": {\"color\": \"red\", \"width\": 1}, \"lon\": [38.962097, -73.35405731201172], \"mode\": \"lines\", \"opacity\": 0.5, \"showlegend\": false, \"text\": \"distance = 12452.23 km\", \"type\": \"scattergeo\"}, {\"hoverinfo\": \"text\", \"lat\": [16.771015, 8.657755851745605], \"line\": {\"color\": \"red\", \"width\": 1}, \"lon\": [98.704491, 2.6539952754974365], \"mode\": \"lines\", \"opacity\": 0.5, \"showlegend\": false, \"text\": \"distance = 10379.31 km\", \"type\": \"scattergeo\"}, {\"hoverinfo\": \"text\", \"lat\": [-4.844681, 16.75127601623535], \"line\": {\"color\": \"red\", \"width\": 1}, \"lon\": [38.962097, 99.11748504638672], \"mode\": \"lines\", \"opacity\": 0.5, \"showlegend\": false, \"text\": \"distance = 7033.33 km\", \"type\": \"scattergeo\"}, {\"hoverinfo\": \"text\", \"lat\": [15.82083, 15.804428100585938], \"line\": {\"color\": \"red\", \"width\": 1}, \"lon\": [-9.4145, -9.161654472351074], \"mode\": \"lines\", \"opacity\": 0.5, \"showlegend\": false, \"text\": \"distance = 27.15 km\", \"type\": \"scattergeo\"}, {\"hoverinfo\": \"text\", \"lat\": [-3.763541, -3.624779224395752], \"line\": {\"color\": \"red\", \"width\": 1}, \"lon\": [-73.267937, -73.27397918701172], \"mode\": \"lines\", \"opacity\": 0.5, \"showlegend\": false, \"text\": \"distance = 15.36 km\", \"type\": \"scattergeo\"}, {\"hoverinfo\": \"text\", \"lat\": [-13.23, 12.018219947814941], \"line\": {\"color\": \"red\", \"width\": 1}, \"lon\": [27.0, -3.514448881149292], \"mode\": \"lines\", \"opacity\": 0.5, \"showlegend\": false, \"text\": \"distance = 4375.72 km\", \"type\": \"scattergeo\"}, {\"hoverinfo\": \"text\", \"lat\": [15.82083, 10.792495727539062], \"line\": {\"color\": \"red\", \"width\": 1}, \"lon\": [-9.4145, -1.0397566556930542], \"mode\": \"lines\", \"opacity\": 0.5, \"showlegend\": false, \"text\": \"distance = 1064.03 km\", \"type\": \"scattergeo\"}, {\"hoverinfo\": \"text\", \"lat\": [16.771015, 8.846670150756836], \"line\": {\"color\": \"red\", \"width\": 1}, \"lon\": [98.704491, 2.2911574840545654], \"mode\": \"lines\", \"opacity\": 0.5, \"showlegend\": false, \"text\": \"distance = 10411.08 km\", \"type\": \"scattergeo\"}, {\"hoverinfo\": \"text\", \"lat\": [10.885568, 15.206751823425293], \"line\": {\"color\": \"red\", \"width\": 1}, \"lon\": [-1.086617, -8.440340042114258], \"mode\": \"lines\", \"opacity\": 0.5, \"showlegend\": false, \"text\": \"distance = 929.70 km\", \"type\": \"scattergeo\"}, {\"hoverinfo\": \"text\", \"lat\": [-13.23, -7.556692600250244], \"line\": {\"color\": \"red\", \"width\": 1}, \"lon\": [27.0, 35.41337203979492], \"mode\": \"lines\", \"opacity\": 0.5, \"showlegend\": false, \"text\": \"distance = 1114.36 km\", \"type\": \"scattergeo\"}, {\"hoverinfo\": \"text\", \"lat\": [-4.844681, -12.687339782714844], \"line\": {\"color\": \"red\", \"width\": 1}, \"lon\": [38.962097, 28.757549285888672], \"mode\": \"lines\", \"opacity\": 0.5, \"showlegend\": false, \"text\": \"distance = 1418.05 km\", \"type\": \"scattergeo\"}, {\"hoverinfo\": \"text\", \"lat\": [-13.23, -4.9377665519714355], \"line\": {\"color\": \"red\", \"width\": 1}, \"lon\": [27.0, 39.34116744995117], \"mode\": \"lines\", \"opacity\": 0.5, \"showlegend\": false, \"text\": \"distance = 1636.51 km\", \"type\": \"scattergeo\"}, {\"hoverinfo\": \"text\", \"lat\": [-13.23, 16.785808563232422], \"line\": {\"color\": \"red\", \"width\": 1}, \"lon\": [27.0, 99.27582550048828], \"mode\": \"lines\", \"opacity\": 0.5, \"showlegend\": false, \"text\": \"distance = 8611.68 km\", \"type\": \"scattergeo\"}, {\"hoverinfo\": \"text\", \"lat\": [16.771015, -11.401890754699707], \"line\": {\"color\": \"red\", \"width\": 1}, \"lon\": [98.704491, 25.480167388916016], \"mode\": \"lines\", \"opacity\": 0.5, \"showlegend\": false, \"text\": \"distance = 8637.36 km\", \"type\": \"scattergeo\"}, {\"hoverinfo\": \"text\", \"lat\": [-4.844681, -8.535284996032715], \"line\": {\"color\": \"red\", \"width\": 1}, \"lon\": [38.962097, 34.07937240600586], \"mode\": \"lines\", \"opacity\": 0.5, \"showlegend\": false, \"text\": \"distance = 676.70 km\", \"type\": \"scattergeo\"}, {\"hoverinfo\": \"text\", \"lat\": [-13.23, -13.034637451171875], \"line\": {\"color\": \"red\", \"width\": 1}, \"lon\": [27.0, 26.82855987548828], \"mode\": \"lines\", \"opacity\": 0.5, \"showlegend\": false, \"text\": \"distance = 28.51 km\", \"type\": \"scattergeo\"}, {\"hoverinfo\": \"text\", \"lat\": [-4.844681, 4.55503511428833], \"line\": {\"color\": \"red\", \"width\": 1}, \"lon\": [38.962097, -44.58833694458008], \"mode\": \"lines\", \"opacity\": 0.5, \"showlegend\": false, \"text\": \"distance = 9347.96 km\", \"type\": \"scattergeo\"}, {\"hoverinfo\": \"text\", \"lat\": [15.82083, 10.814970970153809], \"line\": {\"color\": \"red\", \"width\": 1}, \"lon\": [-9.4145, -1.0361803770065308], \"mode\": \"lines\", \"opacity\": 0.5, \"showlegend\": false, \"text\": \"distance = 1063.03 km\", \"type\": \"scattergeo\"}, {\"hoverinfo\": \"text\", \"lat\": [15.82083, 13.663787841796875], \"line\": {\"color\": \"red\", \"width\": 1}, \"lon\": [-9.4145, -6.282468795776367], \"mode\": \"lines\", \"opacity\": 0.5, \"showlegend\": false, \"text\": \"distance = 413.14 km\", \"type\": \"scattergeo\"}, {\"hoverinfo\": \"text\", \"lat\": [16.771015, -3.7725605964660645], \"line\": {\"color\": \"red\", \"width\": 1}, \"lon\": [98.704491, -73.28059387207031], \"mode\": \"lines\", \"opacity\": 0.5, \"showlegend\": false, \"text\": \"distance = 18328.84 km\", \"type\": \"scattergeo\"}, {\"hoverinfo\": \"text\", \"lat\": [15.82083, 15.348541259765625], \"line\": {\"color\": \"red\", \"width\": 1}, \"lon\": [-9.4145, -8.464397430419922], \"mode\": \"lines\", \"opacity\": 0.5, \"showlegend\": false, \"text\": \"distance = 114.52 km\", \"type\": \"scattergeo\"}, {\"hoverinfo\": \"text\", \"lat\": [10.885568, -3.6624016761779785], \"line\": {\"color\": \"red\", \"width\": 1}, \"lon\": [-1.086617, -73.35009002685547], \"mode\": \"lines\", \"opacity\": 0.5, \"showlegend\": false, \"text\": \"distance = 8163.68 km\", \"type\": \"scattergeo\"}, {\"hoverinfo\": \"text\", \"lat\": [15.82083, 8.55105209350586], \"line\": {\"color\": \"red\", \"width\": 1}, \"lon\": [-9.4145, 3.3104612827301025], \"mode\": \"lines\", \"opacity\": 0.5, \"showlegend\": false, \"text\": \"distance = 1600.39 km\", \"type\": \"scattergeo\"}, {\"hoverinfo\": \"text\", \"lat\": [-3.763541, -3.5940327644348145], \"line\": {\"color\": \"red\", \"width\": 1}, \"lon\": [-73.267937, -73.28675079345703], \"mode\": \"lines\", \"opacity\": 0.5, \"showlegend\": false, \"text\": \"distance = 18.86 km\", \"type\": \"scattergeo\"}, {\"hoverinfo\": \"text\", \"lat\": [16.771015, 9.664657592773438], \"line\": {\"color\": \"red\", \"width\": 1}, \"lon\": [98.704491, 0.8558408617973328], \"mode\": \"lines\", \"opacity\": 0.5, \"showlegend\": false, \"text\": \"distance = 10533.72 km\", \"type\": \"scattergeo\"}, {\"hoverinfo\": \"text\", \"lat\": [10.885568, 9.016214370727539], \"line\": {\"color\": \"red\", \"width\": 1}, \"lon\": [-1.086617, 0.9731962084770203], \"mode\": \"lines\", \"opacity\": 0.5, \"showlegend\": false, \"text\": \"distance = 306.21 km\", \"type\": \"scattergeo\"}, {\"hoverinfo\": \"text\", \"lat\": [10.885568, 4.990584850311279], \"line\": {\"color\": \"red\", \"width\": 1}, \"lon\": [-1.086617, 8.518815994262695], \"mode\": \"lines\", \"opacity\": 0.5, \"showlegend\": false, \"text\": \"distance = 1243.24 km\", \"type\": \"scattergeo\"}, {\"hoverinfo\": \"text\", \"lat\": [-3.763541, -3.6347365379333496], \"line\": {\"color\": \"red\", \"width\": 1}, \"lon\": [-73.267937, -73.46724700927734], \"mode\": \"lines\", \"opacity\": 0.5, \"showlegend\": false, \"text\": \"distance = 26.33 km\", \"type\": \"scattergeo\"}, {\"hoverinfo\": \"text\", \"lat\": [-3.763541, 9.977255821228027], \"line\": {\"color\": \"red\", \"width\": 1}, \"lon\": [-73.267937, 0.688816249370575], \"mode\": \"lines\", \"opacity\": 0.5, \"showlegend\": false, \"text\": \"distance = 8338.04 km\", \"type\": \"scattergeo\"}, {\"hoverinfo\": \"text\", \"lat\": [10.885568, 9.535881042480469], \"line\": {\"color\": \"red\", \"width\": 1}, \"lon\": [-1.086617, 1.1478825807571411], \"mode\": \"lines\", \"opacity\": 0.5, \"showlegend\": false, \"text\": \"distance = 286.75 km\", \"type\": \"scattergeo\"}, {\"hoverinfo\": \"text\", \"lat\": [16.771015, 15.290975570678711], \"line\": {\"color\": \"red\", \"width\": 1}, \"lon\": [98.704491, 93.72352600097656], \"mode\": \"lines\", \"opacity\": 0.5, \"showlegend\": false, \"text\": \"distance = 557.62 km\", \"type\": \"scattergeo\"}, {\"hoverinfo\": \"text\", \"lat\": [16.771015, -13.262900352478027], \"line\": {\"color\": \"red\", \"width\": 1}, \"lon\": [98.704491, 26.901771545410156], \"mode\": \"lines\", \"opacity\": 0.5, \"showlegend\": false, \"text\": \"distance = 8564.54 km\", \"type\": \"scattergeo\"}, {\"hoverinfo\": \"text\", \"lat\": [-4.844681, 16.683082580566406], \"line\": {\"color\": \"red\", \"width\": 1}, \"lon\": [38.962097, 97.85591125488281], \"mode\": \"lines\", \"opacity\": 0.5, \"showlegend\": false, \"text\": \"distance = 6901.25 km\", \"type\": \"scattergeo\"}, {\"hoverinfo\": \"text\", \"lat\": [-3.763541, -3.375624179840088], \"line\": {\"color\": \"red\", \"width\": 1}, \"lon\": [-73.267937, -71.76233673095703], \"mode\": \"lines\", \"opacity\": 0.5, \"showlegend\": false, \"text\": \"distance = 172.69 km\", \"type\": \"scattergeo\"}, {\"hoverinfo\": \"text\", \"lat\": [16.771015, 10.39109992980957], \"line\": {\"color\": \"red\", \"width\": 1}, \"lon\": [98.704491, 0.15175262093544006], \"mode\": \"lines\", \"opacity\": 0.5, \"showlegend\": false, \"text\": \"distance = 10582.29 km\", \"type\": \"scattergeo\"}, {\"hoverinfo\": \"text\", \"lat\": [-13.23, -13.092470169067383], \"line\": {\"color\": \"red\", \"width\": 1}, \"lon\": [27.0, 26.567243576049805], \"mode\": \"lines\", \"opacity\": 0.5, \"showlegend\": false, \"text\": \"distance = 49.32 km\", \"type\": \"scattergeo\"}, {\"hoverinfo\": \"text\", \"lat\": [-3.763541, -3.647066593170166], \"line\": {\"color\": \"red\", \"width\": 1}, \"lon\": [-73.267937, -73.42854309082031], \"mode\": \"lines\", \"opacity\": 0.5, \"showlegend\": false, \"text\": \"distance = 22.00 km\", \"type\": \"scattergeo\"}, {\"hoverinfo\": \"text\", \"lat\": [-4.844681, -5.007382869720459], \"line\": {\"color\": \"red\", \"width\": 1}, \"lon\": [38.962097, 39.213802337646484], \"mode\": \"lines\", \"opacity\": 0.5, \"showlegend\": false, \"text\": \"distance = 33.21 km\", \"type\": \"scattergeo\"}, {\"hoverinfo\": \"text\", \"lat\": [-3.763541, 10.95528507232666], \"line\": {\"color\": \"red\", \"width\": 1}, \"lon\": [-73.267937, -1.548761248588562], \"mode\": \"lines\", \"opacity\": 0.5, \"showlegend\": false, \"text\": \"distance = 8108.05 km\", \"type\": \"scattergeo\"}, {\"hoverinfo\": \"text\", \"lat\": [10.885568, 15.225543975830078], \"line\": {\"color\": \"red\", \"width\": 1}, \"lon\": [-1.086617, -8.339609146118164], \"mode\": \"lines\", \"opacity\": 0.5, \"showlegend\": false, \"text\": \"distance = 921.41 km\", \"type\": \"scattergeo\"}, {\"hoverinfo\": \"text\", \"lat\": [16.771015, 16.785776138305664], \"line\": {\"color\": \"red\", \"width\": 1}, \"lon\": [98.704491, 99.23655700683594], \"mode\": \"lines\", \"opacity\": 0.5, \"showlegend\": false, \"text\": \"distance = 56.75 km\", \"type\": \"scattergeo\"}, {\"hoverinfo\": \"text\", \"lat\": [-13.23, 9.105530738830566], \"line\": {\"color\": \"red\", \"width\": 1}, \"lon\": [27.0, 1.6468631029129028], \"mode\": \"lines\", \"opacity\": 0.5, \"showlegend\": false, \"text\": \"distance = 3735.66 km\", \"type\": \"scattergeo\"}, {\"hoverinfo\": \"text\", \"lat\": [-4.844681, -3.679089069366455], \"line\": {\"color\": \"red\", \"width\": 1}, \"lon\": [38.962097, -73.37183380126953], \"mode\": \"lines\", \"opacity\": 0.5, \"showlegend\": false, \"text\": \"distance = 12453.08 km\", \"type\": \"scattergeo\"}, {\"hoverinfo\": \"text\", \"lat\": [15.82083, -4.852623462677002], \"line\": {\"color\": \"red\", \"width\": 1}, \"lon\": [-9.4145, 39.102210998535156], \"mode\": \"lines\", \"opacity\": 0.5, \"showlegend\": false, \"text\": \"distance = 5812.92 km\", \"type\": \"scattergeo\"}, {\"hoverinfo\": \"text\", \"lat\": [-4.844681, 13.919269561767578], \"line\": {\"color\": \"red\", \"width\": 1}, \"lon\": [38.962097, -6.4168219566345215], \"mode\": \"lines\", \"opacity\": 0.5, \"showlegend\": false, \"text\": \"distance = 5424.43 km\", \"type\": \"scattergeo\"}, {\"hoverinfo\": \"text\", \"lat\": [-13.23, -13.116280555725098], \"line\": {\"color\": \"red\", \"width\": 1}, \"lon\": [27.0, 26.634273529052734], \"mode\": \"lines\", \"opacity\": 0.5, \"showlegend\": false, \"text\": \"distance = 41.60 km\", \"type\": \"scattergeo\"}, {\"hoverinfo\": \"text\", \"lat\": [16.771015, 10.087981224060059], \"line\": {\"color\": \"red\", \"width\": 1}, \"lon\": [98.704491, 0.6914607882499695], \"mode\": \"lines\", \"opacity\": 0.5, \"showlegend\": false, \"text\": \"distance = 10536.45 km\", \"type\": \"scattergeo\"}, {\"hoverinfo\": \"text\", \"lat\": [15.82083, 14.837383270263672], \"line\": {\"color\": \"red\", \"width\": 1}, \"lon\": [-9.4145, -7.305830955505371], \"mode\": \"lines\", \"opacity\": 0.5, \"showlegend\": false, \"text\": \"distance = 251.22 km\", \"type\": \"scattergeo\"}, {\"hoverinfo\": \"text\", \"lat\": [10.885568, 9.999954223632812], \"line\": {\"color\": \"red\", \"width\": 1}, \"lon\": [-1.086617, 0.6985456347465515], \"mode\": \"lines\", \"opacity\": 0.5, \"showlegend\": false, \"text\": \"distance = 218.63 km\", \"type\": \"scattergeo\"}, {\"hoverinfo\": \"text\", \"lat\": [-3.763541, -13.134834289550781], \"line\": {\"color\": \"red\", \"width\": 1}, \"lon\": [-73.267937, 26.80915069580078], \"mode\": \"lines\", \"opacity\": 0.5, \"showlegend\": false, \"text\": \"distance = 11012.20 km\", \"type\": \"scattergeo\"}, {\"hoverinfo\": \"text\", \"lat\": [-4.844681, -4.812148094177246], \"line\": {\"color\": \"red\", \"width\": 1}, \"lon\": [38.962097, 39.33123779296875], \"mode\": \"lines\", \"opacity\": 0.5, \"showlegend\": false, \"text\": \"distance = 41.11 km\", \"type\": \"scattergeo\"}, {\"hoverinfo\": \"text\", \"lat\": [-13.23, 15.387445449829102], \"line\": {\"color\": \"red\", \"width\": 1}, \"lon\": [27.0, -8.714893341064453], \"mode\": \"lines\", \"opacity\": 0.5, \"showlegend\": false, \"text\": \"distance = 5048.57 km\", \"type\": \"scattergeo\"}, {\"hoverinfo\": \"text\", \"lat\": [-13.23, -12.266898155212402], \"line\": {\"color\": \"red\", \"width\": 1}, \"lon\": [27.0, 26.326457977294922], \"mode\": \"lines\", \"opacity\": 0.5, \"showlegend\": false, \"text\": \"distance = 129.24 km\", \"type\": \"scattergeo\"}, {\"hoverinfo\": \"text\", \"lat\": [-3.763541, 10.172703742980957], \"line\": {\"color\": \"red\", \"width\": 1}, \"lon\": [-73.267937, 0.4946519434452057], \"mode\": \"lines\", \"opacity\": 0.5, \"showlegend\": false, \"text\": \"distance = 8319.40 km\", \"type\": \"scattergeo\"}, {\"hoverinfo\": \"text\", \"lat\": [10.885568, -3.124467372894287], \"line\": {\"color\": \"red\", \"width\": 1}, \"lon\": [-1.086617, -70.7271957397461], \"mode\": \"lines\", \"opacity\": 0.5, \"showlegend\": false, \"text\": \"distance = 7866.24 km\", \"type\": \"scattergeo\"}, {\"hoverinfo\": \"text\", \"lat\": [10.885568, 8.412450790405273], \"line\": {\"color\": \"red\", \"width\": 1}, \"lon\": [-1.086617, 3.296330690383911], \"mode\": \"lines\", \"opacity\": 0.5, \"showlegend\": false, \"text\": \"distance = 553.35 km\", \"type\": \"scattergeo\"}, {\"hoverinfo\": \"text\", \"lat\": [10.885568, -3.5958571434020996], \"line\": {\"color\": \"red\", \"width\": 1}, \"lon\": [-1.086617, -73.60808563232422], \"mode\": \"lines\", \"opacity\": 0.5, \"showlegend\": false, \"text\": \"distance = 8190.09 km\", \"type\": \"scattergeo\"}, {\"hoverinfo\": \"text\", \"lat\": [15.82083, 8.684845924377441], \"line\": {\"color\": \"red\", \"width\": 1}, \"lon\": [-9.4145, -0.14683851599693298], \"mode\": \"lines\", \"opacity\": 0.5, \"showlegend\": false, \"text\": \"distance = 1279.96 km\", \"type\": \"scattergeo\"}, {\"hoverinfo\": \"text\", \"lat\": [16.771015, 8.626571655273438], \"line\": {\"color\": \"red\", \"width\": 1}, \"lon\": [98.704491, 0.42027774453163147], \"mode\": \"lines\", \"opacity\": 0.5, \"showlegend\": false, \"text\": \"distance = 10614.57 km\", \"type\": \"scattergeo\"}, {\"hoverinfo\": \"text\", \"lat\": [-3.9084439277648926, 6.660281181335449, 10.188456535339355, 16.1745662689209, -3.5981898307800293, -3.5928540229797363, 8.657755851745605, 16.75127601623535, 15.804428100585938, -3.624779224395752, 12.018219947814941, 10.792495727539062, 8.846670150756836, 15.206751823425293, -7.556692600250244, -12.687339782714844, -4.9377665519714355, 16.785808563232422, -11.401890754699707, -8.535284996032715, -13.034637451171875, 4.55503511428833, 10.814970970153809, 13.663787841796875, -3.7725605964660645, 15.348541259765625, -3.6624016761779785, 8.55105209350586, -3.5940327644348145, 9.664657592773438, 9.016214370727539, 4.990584850311279, -3.6347365379333496, 9.977255821228027, 9.535881042480469, 15.290975570678711, -13.262900352478027, 16.683082580566406, -3.375624179840088, 10.39109992980957, -13.092470169067383, -3.647066593170166, -5.007382869720459, 10.95528507232666, 15.225543975830078, 16.785776138305664, 9.105530738830566, -3.679089069366455, -4.852623462677002, 13.919269561767578, -13.116280555725098, 10.087981224060059, 14.837383270263672, 9.999954223632812, -13.134834289550781, -4.812148094177246, 15.387445449829102, -12.266898155212402, 10.172703742980957, -3.124467372894287, 8.412450790405273, -3.5958571434020996, 8.684845924377441, 8.626571655273438], \"lon\": [-71.47291564941406, 4.347630023956299, 0.3101111948490143, -9.864236831665039, -73.57211303710938, -73.35405731201172, 2.6539952754974365, 99.11748504638672, -9.161654472351074, -73.27397918701172, -3.514448881149292, -1.0397566556930542, 2.2911574840545654, -8.440340042114258, 35.41337203979492, 28.757549285888672, 39.34116744995117, 99.27582550048828, 25.480167388916016, 34.07937240600586, 26.82855987548828, -44.58833694458008, -1.0361803770065308, -6.282468795776367, -73.28059387207031, -8.464397430419922, -73.35009002685547, 3.3104612827301025, -73.28675079345703, 0.8558408617973328, 0.9731962084770203, 8.518815994262695, -73.46724700927734, 0.688816249370575, 1.1478825807571411, 93.72352600097656, 26.901771545410156, 97.85591125488281, -71.76233673095703, 0.15175262093544006, 26.567243576049805, -73.42854309082031, 39.213802337646484, -1.548761248588562, -8.339609146118164, 99.23655700683594, 1.6468631029129028, -73.37183380126953, 39.102210998535156, -6.4168219566345215, 26.634273529052734, 0.6914607882499695, -7.305830955505371, 0.6985456347465515, 26.80915069580078, 39.33123779296875, -8.714893341064453, 26.326457977294922, 0.4946519434452057, -70.7271957397461, 3.296330690383911, -73.60808563232422, -0.14683851599693298, 0.42027774453163147], \"marker\": {\"color\": \"rgb(255, 0, 0)\"}, \"name\": \"Predicted MidPoint\", \"text\": [\"Lat = -3.908 Lon = -71.473<br>distance = 12241.0 km\", \"Lat = 6.66 Lon = 4.348<br>distance = 3333.0 km\", \"Lat = 10.188 Lon = 0.31<br>distance = 1225.0 km\", \"Lat = 16.175 Lon = -9.864<br>distance = 62.0 km\", \"Lat = -3.598 Lon = -73.572<br>distance = 38.0 km\", \"Lat = -3.593 Lon = -73.354<br>distance = 12452.0 km\", \"Lat = 8.658 Lon = 2.654<br>distance = 10379.0 km\", \"Lat = 16.751 Lon = 99.117<br>distance = 7033.0 km\", \"Lat = 15.804 Lon = -9.162<br>distance = 27.0 km\", \"Lat = -3.625 Lon = -73.274<br>distance = 15.0 km\", \"Lat = 12.018 Lon = -3.514<br>distance = 4376.0 km\", \"Lat = 10.792 Lon = -1.04<br>distance = 1064.0 km\", \"Lat = 8.847 Lon = 2.291<br>distance = 10411.0 km\", \"Lat = 15.207 Lon = -8.44<br>distance = 930.0 km\", \"Lat = -7.557 Lon = 35.413<br>distance = 1114.0 km\", \"Lat = -12.687 Lon = 28.758<br>distance = 1418.0 km\", \"Lat = -4.938 Lon = 39.341<br>distance = 1637.0 km\", \"Lat = 16.786 Lon = 99.276<br>distance = 8612.0 km\", \"Lat = -11.402 Lon = 25.48<br>distance = 8637.0 km\", \"Lat = -8.535 Lon = 34.079<br>distance = 677.0 km\", \"Lat = -13.035 Lon = 26.829<br>distance = 29.0 km\", \"Lat = 4.555 Lon = -44.588<br>distance = 9348.0 km\", \"Lat = 10.815 Lon = -1.036<br>distance = 1063.0 km\", \"Lat = 13.664 Lon = -6.282<br>distance = 413.0 km\", \"Lat = -3.773 Lon = -73.281<br>distance = 18329.0 km\", \"Lat = 15.349 Lon = -8.464<br>distance = 115.0 km\", \"Lat = -3.662 Lon = -73.35<br>distance = 8164.0 km\", \"Lat = 8.551 Lon = 3.31<br>distance = 1600.0 km\", \"Lat = -3.594 Lon = -73.287<br>distance = 19.0 km\", \"Lat = 9.665 Lon = 0.856<br>distance = 10534.0 km\", \"Lat = 9.016 Lon = 0.973<br>distance = 306.0 km\", \"Lat = 4.991 Lon = 8.519<br>distance = 1243.0 km\", \"Lat = -3.635 Lon = -73.467<br>distance = 26.0 km\", \"Lat = 9.977 Lon = 0.689<br>distance = 8338.0 km\", \"Lat = 9.536 Lon = 1.148<br>distance = 287.0 km\", \"Lat = 15.291 Lon = 93.724<br>distance = 558.0 km\", \"Lat = -13.263 Lon = 26.902<br>distance = 8565.0 km\", \"Lat = 16.683 Lon = 97.856<br>distance = 6901.0 km\", \"Lat = -3.376 Lon = -71.762<br>distance = 173.0 km\", \"Lat = 10.391 Lon = 0.152<br>distance = 10582.0 km\", \"Lat = -13.092 Lon = 26.567<br>distance = 49.0 km\", \"Lat = -3.647 Lon = -73.429<br>distance = 22.0 km\", \"Lat = -5.007 Lon = 39.214<br>distance = 33.0 km\", \"Lat = 10.955 Lon = -1.549<br>distance = 8108.0 km\", \"Lat = 15.226 Lon = -8.34<br>distance = 921.0 km\", \"Lat = 16.786 Lon = 99.237<br>distance = 57.0 km\", \"Lat = 9.106 Lon = 1.647<br>distance = 3736.0 km\", \"Lat = -3.679 Lon = -73.372<br>distance = 12453.0 km\", \"Lat = -4.853 Lon = 39.102<br>distance = 5813.0 km\", \"Lat = 13.919 Lon = -6.417<br>distance = 5424.0 km\", \"Lat = -13.116 Lon = 26.634<br>distance = 42.0 km\", \"Lat = 10.088 Lon = 0.691<br>distance = 10536.0 km\", \"Lat = 14.837 Lon = -7.306<br>distance = 251.0 km\", \"Lat = 10.0 Lon = 0.699<br>distance = 219.0 km\", \"Lat = -13.135 Lon = 26.809<br>distance = 11012.0 km\", \"Lat = -4.812 Lon = 39.331<br>distance = 41.0 km\", \"Lat = 15.387 Lon = -8.715<br>distance = 5049.0 km\", \"Lat = -12.267 Lon = 26.326<br>distance = 129.0 km\", \"Lat = 10.173 Lon = 0.495<br>distance = 8319.0 km\", \"Lat = -3.124 Lon = -70.727<br>distance = 7866.0 km\", \"Lat = 8.412 Lon = 3.296<br>distance = 553.0 km\", \"Lat = -3.596 Lon = -73.608<br>distance = 8190.0 km\", \"Lat = 8.685 Lon = -0.147<br>distance = 1280.0 km\", \"Lat = 8.627 Lon = 0.42<br>distance = 10615.0 km\"], \"type\": \"scattergeo\"}, {\"hoverinfo\": \"text\", \"lat\": [-4.844681, -13.23, 15.82083, -3.763541, 16.771015, 10.885568], \"lon\": [38.962097, 27.0, -9.4145, -73.267937, 98.704491, -1.086617], \"marker\": {\"color\": \"rgb(0, 0, 255)\"}, \"name\": \"True Location\", \"text\": [\"Tanzania<br>Lat = -3.908 Lon = -71.473\", \"Zambia<br>Lat = 6.66 Lon = 4.348\", \"Mauritania<br>Lat = 10.188 Lon = 0.31\", \"Peru <br>Lat = -3.598 Lon = -73.572\", \"Thailand<br>Lat = 8.658 Lon = 2.654\", \"Ghana<br>Lat = 15.207 Lon = -8.44\"], \"type\": \"scattergeo\"}],                        {\"geo\": {\"countrycolor\": \"rgb(204, 204, 204)\", \"landcolor\": \"rgb(243, 243, 243)\", \"projection\": {\"type\": \"natural earth\"}, \"showland\": true}, \"template\": {\"data\": {\"bar\": [{\"error_x\": {\"color\": \"#2a3f5f\"}, \"error_y\": {\"color\": \"#2a3f5f\"}, \"marker\": {\"line\": {\"color\": \"#E5ECF6\", \"width\": 0.5}}, \"type\": \"bar\"}], \"barpolar\": [{\"marker\": {\"line\": {\"color\": \"#E5ECF6\", \"width\": 0.5}}, \"type\": \"barpolar\"}], \"carpet\": [{\"aaxis\": {\"endlinecolor\": \"#2a3f5f\", \"gridcolor\": \"white\", \"linecolor\": \"white\", \"minorgridcolor\": \"white\", \"startlinecolor\": \"#2a3f5f\"}, \"baxis\": {\"endlinecolor\": \"#2a3f5f\", \"gridcolor\": \"white\", \"linecolor\": \"white\", \"minorgridcolor\": \"white\", \"startlinecolor\": \"#2a3f5f\"}, \"type\": \"carpet\"}], \"choropleth\": [{\"colorbar\": {\"outlinewidth\": 0, \"ticks\": \"\"}, \"type\": \"choropleth\"}], \"contour\": [{\"colorbar\": {\"outlinewidth\": 0, \"ticks\": \"\"}, \"colorscale\": [[0.0, \"#0d0887\"], [0.1111111111111111, \"#46039f\"], [0.2222222222222222, \"#7201a8\"], [0.3333333333333333, \"#9c179e\"], [0.4444444444444444, \"#bd3786\"], [0.5555555555555556, \"#d8576b\"], [0.6666666666666666, \"#ed7953\"], [0.7777777777777778, \"#fb9f3a\"], [0.8888888888888888, \"#fdca26\"], [1.0, \"#f0f921\"]], \"type\": \"contour\"}], \"contourcarpet\": [{\"colorbar\": {\"outlinewidth\": 0, \"ticks\": \"\"}, \"type\": \"contourcarpet\"}], \"heatmap\": [{\"colorbar\": {\"outlinewidth\": 0, \"ticks\": \"\"}, \"colorscale\": [[0.0, \"#0d0887\"], [0.1111111111111111, \"#46039f\"], [0.2222222222222222, \"#7201a8\"], [0.3333333333333333, \"#9c179e\"], [0.4444444444444444, \"#bd3786\"], [0.5555555555555556, \"#d8576b\"], [0.6666666666666666, \"#ed7953\"], [0.7777777777777778, \"#fb9f3a\"], [0.8888888888888888, \"#fdca26\"], [1.0, \"#f0f921\"]], \"type\": \"heatmap\"}], \"heatmapgl\": [{\"colorbar\": {\"outlinewidth\": 0, \"ticks\": \"\"}, \"colorscale\": [[0.0, \"#0d0887\"], [0.1111111111111111, \"#46039f\"], [0.2222222222222222, \"#7201a8\"], [0.3333333333333333, \"#9c179e\"], [0.4444444444444444, \"#bd3786\"], [0.5555555555555556, \"#d8576b\"], [0.6666666666666666, \"#ed7953\"], [0.7777777777777778, \"#fb9f3a\"], [0.8888888888888888, \"#fdca26\"], [1.0, \"#f0f921\"]], \"type\": \"heatmapgl\"}], \"histogram\": [{\"marker\": {\"colorbar\": {\"outlinewidth\": 0, \"ticks\": \"\"}}, \"type\": \"histogram\"}], \"histogram2d\": [{\"colorbar\": {\"outlinewidth\": 0, \"ticks\": \"\"}, \"colorscale\": [[0.0, \"#0d0887\"], [0.1111111111111111, \"#46039f\"], [0.2222222222222222, \"#7201a8\"], [0.3333333333333333, \"#9c179e\"], [0.4444444444444444, \"#bd3786\"], [0.5555555555555556, \"#d8576b\"], [0.6666666666666666, \"#ed7953\"], [0.7777777777777778, \"#fb9f3a\"], [0.8888888888888888, \"#fdca26\"], [1.0, \"#f0f921\"]], \"type\": \"histogram2d\"}], \"histogram2dcontour\": [{\"colorbar\": {\"outlinewidth\": 0, \"ticks\": \"\"}, \"colorscale\": [[0.0, \"#0d0887\"], [0.1111111111111111, \"#46039f\"], [0.2222222222222222, \"#7201a8\"], [0.3333333333333333, \"#9c179e\"], [0.4444444444444444, \"#bd3786\"], [0.5555555555555556, \"#d8576b\"], [0.6666666666666666, \"#ed7953\"], [0.7777777777777778, \"#fb9f3a\"], [0.8888888888888888, \"#fdca26\"], [1.0, \"#f0f921\"]], \"type\": \"histogram2dcontour\"}], \"mesh3d\": [{\"colorbar\": {\"outlinewidth\": 0, \"ticks\": \"\"}, \"type\": \"mesh3d\"}], \"parcoords\": [{\"line\": {\"colorbar\": {\"outlinewidth\": 0, \"ticks\": \"\"}}, \"type\": \"parcoords\"}], \"pie\": [{\"automargin\": true, \"type\": \"pie\"}], \"scatter\": [{\"marker\": {\"colorbar\": {\"outlinewidth\": 0, \"ticks\": \"\"}}, \"type\": \"scatter\"}], \"scatter3d\": [{\"line\": {\"colorbar\": {\"outlinewidth\": 0, \"ticks\": \"\"}}, \"marker\": {\"colorbar\": {\"outlinewidth\": 0, \"ticks\": \"\"}}, \"type\": \"scatter3d\"}], \"scattercarpet\": [{\"marker\": {\"colorbar\": {\"outlinewidth\": 0, \"ticks\": \"\"}}, \"type\": \"scattercarpet\"}], \"scattergeo\": [{\"marker\": {\"colorbar\": {\"outlinewidth\": 0, \"ticks\": \"\"}}, \"type\": \"scattergeo\"}], \"scattergl\": [{\"marker\": {\"colorbar\": {\"outlinewidth\": 0, \"ticks\": \"\"}}, \"type\": \"scattergl\"}], \"scattermapbox\": [{\"marker\": {\"colorbar\": {\"outlinewidth\": 0, \"ticks\": \"\"}}, \"type\": \"scattermapbox\"}], \"scatterpolar\": [{\"marker\": {\"colorbar\": {\"outlinewidth\": 0, \"ticks\": \"\"}}, \"type\": \"scatterpolar\"}], \"scatterpolargl\": [{\"marker\": {\"colorbar\": {\"outlinewidth\": 0, \"ticks\": \"\"}}, \"type\": \"scatterpolargl\"}], \"scatterternary\": [{\"marker\": {\"colorbar\": {\"outlinewidth\": 0, \"ticks\": \"\"}}, \"type\": \"scatterternary\"}], \"surface\": [{\"colorbar\": {\"outlinewidth\": 0, \"ticks\": \"\"}, \"colorscale\": [[0.0, \"#0d0887\"], [0.1111111111111111, \"#46039f\"], [0.2222222222222222, \"#7201a8\"], [0.3333333333333333, \"#9c179e\"], [0.4444444444444444, \"#bd3786\"], [0.5555555555555556, \"#d8576b\"], [0.6666666666666666, \"#ed7953\"], [0.7777777777777778, \"#fb9f3a\"], [0.8888888888888888, \"#fdca26\"], [1.0, \"#f0f921\"]], \"type\": \"surface\"}], \"table\": [{\"cells\": {\"fill\": {\"color\": \"#EBF0F8\"}, \"line\": {\"color\": \"white\"}}, \"header\": {\"fill\": {\"color\": \"#C8D4E3\"}, \"line\": {\"color\": \"white\"}}, \"type\": \"table\"}]}, \"layout\": {\"annotationdefaults\": {\"arrowcolor\": \"#2a3f5f\", \"arrowhead\": 0, \"arrowwidth\": 1}, \"coloraxis\": {\"colorbar\": {\"outlinewidth\": 0, \"ticks\": \"\"}}, \"colorscale\": {\"diverging\": [[0, \"#8e0152\"], [0.1, \"#c51b7d\"], [0.2, \"#de77ae\"], [0.3, \"#f1b6da\"], [0.4, \"#fde0ef\"], [0.5, \"#f7f7f7\"], [0.6, \"#e6f5d0\"], [0.7, \"#b8e186\"], [0.8, \"#7fbc41\"], [0.9, \"#4d9221\"], [1, \"#276419\"]], \"sequential\": [[0.0, \"#0d0887\"], [0.1111111111111111, \"#46039f\"], [0.2222222222222222, \"#7201a8\"], [0.3333333333333333, \"#9c179e\"], [0.4444444444444444, \"#bd3786\"], [0.5555555555555556, \"#d8576b\"], [0.6666666666666666, \"#ed7953\"], [0.7777777777777778, \"#fb9f3a\"], [0.8888888888888888, \"#fdca26\"], [1.0, \"#f0f921\"]], \"sequentialminus\": [[0.0, \"#0d0887\"], [0.1111111111111111, \"#46039f\"], [0.2222222222222222, \"#7201a8\"], [0.3333333333333333, \"#9c179e\"], [0.4444444444444444, \"#bd3786\"], [0.5555555555555556, \"#d8576b\"], [0.6666666666666666, \"#ed7953\"], [0.7777777777777778, \"#fb9f3a\"], [0.8888888888888888, \"#fdca26\"], [1.0, \"#f0f921\"]]}, \"colorway\": [\"#636efa\", \"#EF553B\", \"#00cc96\", \"#ab63fa\", \"#FFA15A\", \"#19d3f3\", \"#FF6692\", \"#B6E880\", \"#FF97FF\", \"#FECB52\"], \"font\": {\"color\": \"#2a3f5f\"}, \"geo\": {\"bgcolor\": \"white\", \"lakecolor\": \"white\", \"landcolor\": \"#E5ECF6\", \"showlakes\": true, \"showland\": true, \"subunitcolor\": \"white\"}, \"hoverlabel\": {\"align\": \"left\"}, \"hovermode\": \"closest\", \"mapbox\": {\"style\": \"light\"}, \"paper_bgcolor\": \"white\", \"plot_bgcolor\": \"#E5ECF6\", \"polar\": {\"angularaxis\": {\"gridcolor\": \"white\", \"linecolor\": \"white\", \"ticks\": \"\"}, \"bgcolor\": \"#E5ECF6\", \"radialaxis\": {\"gridcolor\": \"white\", \"linecolor\": \"white\", \"ticks\": \"\"}}, \"scene\": {\"xaxis\": {\"backgroundcolor\": \"#E5ECF6\", \"gridcolor\": \"white\", \"gridwidth\": 2, \"linecolor\": \"white\", \"showbackground\": true, \"ticks\": \"\", \"zerolinecolor\": \"white\"}, \"yaxis\": {\"backgroundcolor\": \"#E5ECF6\", \"gridcolor\": \"white\", \"gridwidth\": 2, \"linecolor\": \"white\", \"showbackground\": true, \"ticks\": \"\", \"zerolinecolor\": \"white\"}, \"zaxis\": {\"backgroundcolor\": \"#E5ECF6\", \"gridcolor\": \"white\", \"gridwidth\": 2, \"linecolor\": \"white\", \"showbackground\": true, \"ticks\": \"\", \"zerolinecolor\": \"white\"}}, \"shapedefaults\": {\"line\": {\"color\": \"#2a3f5f\"}}, \"ternary\": {\"aaxis\": {\"gridcolor\": \"white\", \"linecolor\": \"white\", \"ticks\": \"\"}, \"baxis\": {\"gridcolor\": \"white\", \"linecolor\": \"white\", \"ticks\": \"\"}, \"bgcolor\": \"#E5ECF6\", \"caxis\": {\"gridcolor\": \"white\", \"linecolor\": \"white\", \"ticks\": \"\"}}, \"title\": {\"x\": 0.05}, \"xaxis\": {\"automargin\": true, \"gridcolor\": \"white\", \"linecolor\": \"white\", \"ticks\": \"\", \"title\": {\"standoff\": 15}, \"zerolinecolor\": \"white\", \"zerolinewidth\": 2}, \"yaxis\": {\"automargin\": true, \"gridcolor\": \"white\", \"linecolor\": \"white\", \"ticks\": \"\", \"title\": {\"standoff\": 15}, \"zerolinecolor\": \"white\", \"zerolinewidth\": 2}}}},                        {\"displaylogo\": false, \"responsive\": true}                    ).then(function(){\n",
       "                            \n",
       "var gd = document.getElementById('38f4352a-64bc-4157-a825-744e1dca912f');\n",
       "var x = new MutationObserver(function (mutations, observer) {{\n",
       "        var display = window.getComputedStyle(gd).display;\n",
       "        if (!display || display === 'none') {{\n",
       "            console.log([gd, 'removed!']);\n",
       "            Plotly.purge(gd);\n",
       "            observer.disconnect();\n",
       "        }}\n",
       "}});\n",
       "\n",
       "// Listen for the removal of the full notebook cells\n",
       "var notebookContainer = gd.closest('#notebook-container');\n",
       "if (notebookContainer) {{\n",
       "    x.observe(notebookContainer, {childList: true});\n",
       "}}\n",
       "\n",
       "// Listen for the clearing of the current output cell\n",
       "var outputEl = gd.closest('.output');\n",
       "if (outputEl) {{\n",
       "    x.observe(outputEl, {childList: true});\n",
       "}}\n",
       "\n",
       "                        })                };                });            </script>        </div>"
      ]
     },
     "metadata": {},
     "output_type": "display_data"
    },
    {
     "name": "stdout",
     "output_type": "stream",
     "text": [
      "Epochs of train: 1200\n",
      "Pipeline(memory=None,\n",
      "     steps=[('imputer', BinomialImputer()), ('keras', <tensorflow.python.keras.wrappers.scikit_learn.KerasRegressor object at 0x7fcc34304b90>)])\n"
     ]
    },
    {
     "data": {
      "image/png": "[encoded data removed]",
      "text/plain": [
       "<Figure size 432x288 with 1 Axes>"
      ]
     },
     "metadata": {
      "needs_background": "light"
     },
     "output_type": "display_data"
    }
   ],
   "source": [
    "########################################################################\n",
    "###### Keras regression wrapper\n",
    "hh = tf.keras.callbacks.History()\n",
    "es = tf.keras.callbacks.EarlyStopping(monitor='val_loss', patience=patience_setting, verbose=2)\n",
    "\n",
    "cnn_input_shape = (df_ml_data.shape[1], )\n",
    "cnn_nclasses=len(set(y_ml_data)) ###number of geographies\n",
    "\n",
    "if \"keras_reg\" in algo_active_list:\n",
    "    m = make_model()\n",
    "    print(m.summary())\n",
    "\n",
    "    # create and fit wrapper   \n",
    "    keras_wrapper = KerasWrapper(make_model_func=make_model, columns=['Lat', 'Long'], random_seed=seed_value)\n",
    "    keras_wrapper.fit(X=df_ml_data, y=df_geo_ml_data,keras__callbacks=[hh],\n",
    "                     keras__validation_data=(df_validation, df_geo_validation[['Lat', 'Long']])\n",
    "                     )\n",
    "    if verbose==1:\n",
    "        print(keras_wrapper.best_)\n",
    "    \n",
    "     ### Evaluate holdout\n",
    "    eval_on_holdout = keras_wrapper.evaluate_on_holdout(df_test, df_geo_test, label_enc, location_dict,filename=file_out_dict[\"file_out_keras_regr_holdout\"])\n",
    "    print(eval_on_holdout.head())\n",
    "    print('Mean distance error (km) = ', keras_wrapper.get_holdout_mean_distance_error(eval_on_holdout))\n",
    "    keras_wrapper.get_grouped_holdout_stats(eval_on_holdout,\n",
    "                                            filename=file_out_dict[\"file_out_keras_regr_holdout_grouped\"])\n",
    "\n",
    "\n",
    "    ###OOF folds\n",
    "    if calculate_out_of_folds==1:\n",
    "        group_cv = GroupKFold(n_splits=len(set(y_label_ml_data)))\n",
    "        oof_preds_2 = keras_wrapper.get_oof_predictions(X=df_ml_data, \n",
    "                                                      y=df_geo_ml_data, \n",
    "                                                      groups=y_label_ml_data,\n",
    "                                                      cv_strategy=group_cv,\n",
    "                                                      label_enc=label_enc,\n",
    "                                                      filename=file_out_dict[\"file_out_keras_regr_oof_preds\"]\n",
    "                                                     )  # pass exactly the same params as for fit method\n",
    "        print(oof_preds_2.head())\n",
    "\n",
    "    plot_eval_on_holdout_sample(eval_on_holdout,save=plotting_enabled, save_fpath=file_out_dict[\"file_out_keras_regr_plot\"]);\n",
    "\n",
    "    print('Epochs of train:', len(hh.history['loss']))\n",
    "    print(keras_wrapper.best_)\n",
    "\n",
    "    try:\n",
    "        performance_curve_loss(hh,\"keras_reg\")\n",
    "    except:\n",
    "        pass\n",
    "    \n",
    "if \"keras_reg\" in algo_active_list:\n",
    "    outvar=df_ml_data.shape[1]\n",
    "    !echo $outvar > $keras_regr_success"
   ]
  },
  {
   "cell_type": "code",
   "execution_count": 193,
   "metadata": {},
   "outputs": [],
   "source": [
    "if \"keras_reg\" in algo_active_list:\n",
    "    df_eval_grouped=keras_wrapper.get_grouped_holdout_stats(eval_on_holdout)\n",
    "\n",
    "    ###get table without hold-out-locs\n",
    "    try:\n",
    "        df_eval_grouped=df_eval_grouped.drop([holdout_locs[0]])\n",
    "    except:\n",
    "        pass\n",
    "\n",
    "    df_eval_grouped.loc['mean'] = df_eval_grouped.mean()\n",
    "    df_eval_grouped=pd.DataFrame(df_eval_grouped[\"distance_to_midpoint\"])\n",
    "    df_eval_grouped"
   ]
  },
  {
   "cell_type": "code",
   "execution_count": 194,
   "metadata": {},
   "outputs": [
    {
     "name": "stdout",
     "output_type": "stream",
     "text": [
      "(64, 460) (64, 460) (64,) (64, 6)\n",
      "y before OHE: [2 3 5 4 5]\n",
      "y after OHE:\n"
     ]
    },
    {
     "data": {
      "text/html": [
       "<div>\n",
       "<style scoped>\n",
       "    .dataframe tbody tr th:only-of-type {\n",
       "        vertical-align: middle;\n",
       "    }\n",
       "\n",
       "    .dataframe tbody tr th {\n",
       "        vertical-align: top;\n",
       "    }\n",
       "\n",
       "    .dataframe thead th {\n",
       "        text-align: right;\n",
       "    }\n",
       "</style>\n",
       "<table border=\"1\" class=\"dataframe\">\n",
       "  <thead>\n",
       "    <tr style=\"text-align: right;\">\n",
       "      <th></th>\n",
       "      <th>0</th>\n",
       "      <th>1</th>\n",
       "      <th>2</th>\n",
       "      <th>3</th>\n",
       "      <th>4</th>\n",
       "      <th>5</th>\n",
       "    </tr>\n",
       "  </thead>\n",
       "  <tbody>\n",
       "    <tr>\n",
       "      <th>0</th>\n",
       "      <td>0.0</td>\n",
       "      <td>0.0</td>\n",
       "      <td>1.0</td>\n",
       "      <td>0.0</td>\n",
       "      <td>0.0</td>\n",
       "      <td>0.0</td>\n",
       "    </tr>\n",
       "    <tr>\n",
       "      <th>1</th>\n",
       "      <td>0.0</td>\n",
       "      <td>0.0</td>\n",
       "      <td>0.0</td>\n",
       "      <td>1.0</td>\n",
       "      <td>0.0</td>\n",
       "      <td>0.0</td>\n",
       "    </tr>\n",
       "    <tr>\n",
       "      <th>2</th>\n",
       "      <td>0.0</td>\n",
       "      <td>0.0</td>\n",
       "      <td>0.0</td>\n",
       "      <td>0.0</td>\n",
       "      <td>0.0</td>\n",
       "      <td>1.0</td>\n",
       "    </tr>\n",
       "    <tr>\n",
       "      <th>3</th>\n",
       "      <td>0.0</td>\n",
       "      <td>0.0</td>\n",
       "      <td>0.0</td>\n",
       "      <td>0.0</td>\n",
       "      <td>1.0</td>\n",
       "      <td>0.0</td>\n",
       "    </tr>\n",
       "    <tr>\n",
       "      <th>4</th>\n",
       "      <td>0.0</td>\n",
       "      <td>0.0</td>\n",
       "      <td>0.0</td>\n",
       "      <td>0.0</td>\n",
       "      <td>0.0</td>\n",
       "      <td>1.0</td>\n",
       "    </tr>\n",
       "  </tbody>\n",
       "</table>\n",
       "</div>"
      ],
      "text/plain": [
       "     0    1    2    3    4    5\n",
       "0  0.0  0.0  1.0  0.0  0.0  0.0\n",
       "1  0.0  0.0  0.0  1.0  0.0  0.0\n",
       "2  0.0  0.0  0.0  0.0  0.0  1.0\n",
       "3  0.0  0.0  0.0  0.0  1.0  0.0\n",
       "4  0.0  0.0  0.0  0.0  0.0  1.0"
      ]
     },
     "execution_count": 194,
     "metadata": {},
     "output_type": "execute_result"
    }
   ],
   "source": [
    "df_validation_es, y_validation_es = prepare_val_data_for_clf(df_validation, y_validation,  y_ml_data)\n",
    "\n",
    "print(df_validation.shape, df_validation_es.shape, y_validation.shape, y_validation_es.shape)\n",
    "print('y before OHE:', y_validation[y_validation.isin([1,2,3,4,5])].head().values)\n",
    "print('y after OHE:')\n",
    "y_validation_es.head()"
   ]
  },
  {
   "cell_type": "code",
   "execution_count": 195,
   "metadata": {},
   "outputs": [],
   "source": [
    "if \"keras_reg\" in algo_active_list:\n",
    "    coefficient_store=pd.DataFrame(columns=[\"values\"])\n",
    "    coefficient_store.loc[\"coef_count\"]=keras_wrapper_count_nonzero_coefs(keras_wrapper, tol=1e-3, return_count=True)\n",
    "    coefficient_store.loc[\"coef_share\"]=keras_wrapper_count_nonzero_coefs(keras_wrapper, tol=1e-3, return_count=False)\n",
    "    coefficient_store.to_csv(file_out_dict[\"file_out_keras_regr_coef\"])\n",
    "    keras_wrapper_count_nonzero_coefs(keras_wrapper, tol=1e-3, return_count=False)"
   ]
  },
  {
   "cell_type": "code",
   "execution_count": 197,
   "metadata": {},
   "outputs": [],
   "source": [
    "def make_keras_classifier():\n",
    "    model = tf.keras.Sequential()\n",
    "    #opt=tf.keras.optimizers.Adam(learning_rate=0.0005)\n",
    "    model.add(tf.keras.layers.BatchNormalization(input_shape=cnn_input_shape))\n",
    "    for i in range(int(np.floor(cnn_nlayers/2))):\n",
    "        model.add(tf.keras.layers.Dense(cnn_width,activation=\"elu\"))\n",
    "        model.add(tf.keras.layers.Dropout(cnn_dropout_prop))\n",
    "    for i in range(int(np.ceil(cnn_nlayers/2))):\n",
    "        model.add(tf.keras.layers.Dense(cnn_width,activation=\"elu\"))\n",
    "    model.add(tf.keras.layers.Dense(cnn_nclasses, activation='softmax'))\n",
    "    model.compile(loss='categorical_crossentropy', optimizer=optimizer_selected, metrics=['accuracy']) ###used to be accuracy\n",
    "    return model"
   ]
  },
  {
   "cell_type": "code",
   "execution_count": 198,
   "metadata": {
    "scrolled": false
   },
   "outputs": [
    {
     "name": "stdout",
     "output_type": "stream",
     "text": [
      "Pipeline(memory=None,\n",
      "     steps=[('imputer', BinomialImputer()), ('keras', <tensorflow.python.keras.wrappers.scikit_learn.KerasClassifier object at 0x7fcc70191790>)])\n",
      "Test accuracy =  0.53125\n",
      "Mean distance error (km) =  4063.36756715\n",
      "5 fold\n",
      "1      3\n",
      "4      3\n",
      "12     3\n",
      "15     3\n",
      "16     3\n",
      "19     3\n",
      "20     3\n",
      "25     3\n",
      "28     3\n",
      "50     3\n",
      "58     3\n",
      "64     3\n",
      "66     3\n",
      "74     3\n",
      "76     3\n",
      "80     3\n",
      "84     3\n",
      "91     3\n",
      "93     3\n",
      "96     3\n",
      "119    3\n",
      "126    3\n",
      "134    3\n",
      "137    3\n",
      "147    3\n",
      "148    3\n",
      "154    3\n",
      "155    3\n",
      "157    3\n",
      "161    3\n",
      "      ..\n",
      "298    3\n",
      "300    3\n",
      "301    3\n",
      "306    3\n",
      "314    3\n",
      "317    3\n",
      "320    3\n",
      "329    3\n",
      "333    3\n",
      "345    3\n",
      "350    3\n",
      "351    3\n",
      "362    3\n",
      "363    3\n",
      "383    3\n",
      "388    3\n",
      "389    3\n",
      "393    3\n",
      "395    3\n",
      "402    3\n",
      "408    3\n",
      "414    3\n",
      "437    3\n",
      "449    3\n",
      "451    3\n",
      "455    3\n",
      "463    3\n",
      "479    3\n",
      "490    3\n",
      "502    3\n",
      "Length: 84, dtype: int64 y_test\n",
      "0      2\n",
      "2      1\n",
      "3      2\n",
      "5      1\n",
      "6      4\n",
      "7      4\n",
      "8      1\n",
      "9      0\n",
      "10     1\n",
      "11     2\n",
      "13     4\n",
      "14     5\n",
      "17     5\n",
      "18     2\n",
      "21     1\n",
      "22     5\n",
      "23     1\n",
      "24     5\n",
      "26     4\n",
      "27     5\n",
      "29     2\n",
      "30     5\n",
      "31     2\n",
      "32     2\n",
      "33     1\n",
      "34     0\n",
      "35     4\n",
      "36     1\n",
      "37     1\n",
      "38     0\n",
      "      ..\n",
      "475    2\n",
      "476    4\n",
      "477    0\n",
      "478    1\n",
      "480    5\n",
      "481    5\n",
      "482    1\n",
      "483    2\n",
      "484    0\n",
      "485    5\n",
      "486    1\n",
      "487    1\n",
      "488    4\n",
      "489    4\n",
      "491    4\n",
      "492    4\n",
      "493    2\n",
      "494    2\n",
      "495    4\n",
      "496    5\n",
      "497    4\n",
      "498    0\n",
      "499    4\n",
      "500    4\n",
      "501    4\n",
      "503    5\n",
      "504    5\n",
      "505    1\n",
      "506    0\n",
      "507    1\n",
      "Length: 424, dtype: int64 y_train\n",
      "84 check if any in y_train\n",
      "[[0. 0. 1. 0. 0. 0.]\n",
      " [0. 1. 0. 0. 0. 0.]\n",
      " [0. 0. 1. 0. 0. 0.]\n",
      " ...\n",
      " [0. 1. 0. 0. 0. 0.]\n",
      " [1. 0. 0. 0. 0. 0.]\n",
      " [0. 1. 0. 0. 0. 0.]] prepare_yold\n",
      "[4 0 0 1 5 4 4 5 2 4 5 1 2 2 2 1 0 4 4 0 0 5 4 5 4 2 4 2 1 1 1 0 4 1 0 2 1\n",
      " 4 5 4 4 4 4 1 4 5 0 0 5 4 0 2 5 1 4 1 5 4 4 2 0 2 1 2 2 1 0 1 5 0 1 2 0 0\n",
      " 1 1 2 2 4 5 1 1 4 5] pred\n",
      "[0 1 2 3 4 5] classes\n",
      "[[1.66835485e-03 3.62875227e-07 1.10669116e-05 1.55768464e-06\n",
      "  9.98296916e-01 2.18023633e-05]\n",
      " [9.87671137e-01 8.82112636e-06 9.46510863e-03 5.62771107e-04\n",
      "  1.13053829e-03 1.16166577e-03]\n",
      " [9.99998450e-01 1.48929331e-07 2.00415595e-08 6.70112740e-07\n",
      "  6.58218426e-07 3.82908427e-10]\n",
      " [2.42942566e-04 9.66522932e-01 1.53721412e-05 1.86824072e-05\n",
      "  3.31460461e-02 5.40405235e-05]\n",
      " [3.10985888e-05 1.98096823e-05 3.63926607e-04 6.40918079e-05\n",
      "  6.60287514e-02 9.33492243e-01]\n",
      " [9.19476770e-06 3.62880994e-04 1.27541534e-06 6.78723950e-07\n",
      "  6.57186031e-01 3.42439979e-01]\n",
      " [5.53358113e-04 2.76777253e-04 5.02580006e-05 1.13285598e-04\n",
      "  7.01911986e-01 2.97094315e-01]\n",
      " [1.14446345e-06 1.95890243e-05 2.98519826e-05 3.76145476e-06\n",
      "  3.08022863e-05 9.99914885e-01]\n",
      " [2.37088278e-03 5.41024056e-05 9.97517586e-01 4.65241756e-05\n",
      "  4.21554751e-06 6.79634013e-06]\n",
      " [2.83354104e-01 1.11199603e-04 1.04413202e-05 9.71423869e-05\n",
      "  7.16423869e-01 3.21653488e-06]\n",
      " [1.57556336e-04 1.54395342e-01 5.64627983e-02 1.08331398e-04\n",
      "  9.76616284e-05 7.88778245e-01]\n",
      " [1.54208869e-01 7.95843780e-01 1.74722751e-03 6.13767828e-04\n",
      "  4.75670919e-02 1.92494099e-05]\n",
      " [4.77317808e-04 4.90000807e-02 9.50236380e-01 3.91579415e-05\n",
      "  1.64691301e-05 2.30579215e-04]\n",
      " [4.98703402e-03 3.39662395e-02 9.60472882e-01 2.86447088e-04\n",
      "  1.79689785e-04 1.07778455e-04]\n",
      " [2.13912562e-01 1.54082826e-03 7.69946635e-01 2.83633801e-03\n",
      "  2.41384798e-04 1.15222018e-02]\n",
      " [4.49381351e-01 4.56384391e-01 1.48132546e-02 1.85824651e-03\n",
      "  3.36495345e-04 7.72263184e-02]\n",
      " [9.99652147e-01 6.04585068e-07 3.43540305e-04 2.71501472e-06\n",
      "  9.52006985e-07 1.67164806e-08]\n",
      " [5.21704666e-02 1.91446114e-02 3.15350053e-06 3.63076651e-05\n",
      "  9.28235292e-01 4.10164765e-04]\n",
      " [9.61220008e-04 1.50018148e-02 1.57871145e-05 3.42046187e-05\n",
      "  9.79538381e-01 4.44860151e-03]\n",
      " [9.98356044e-01 1.63183198e-03 2.05202241e-06 5.52632355e-06\n",
      "  4.60314004e-06 1.96556140e-08]\n",
      " [9.11550403e-01 7.87892006e-03 7.91656435e-04 1.83338928e-03\n",
      "  9.29763133e-04 7.70159811e-02]\n",
      " [1.26687335e-02 1.01470798e-02 5.57848311e-04 1.87715981e-03\n",
      "  5.72508527e-03 9.69024062e-01]\n",
      " [2.83880644e-02 1.92878974e-06 8.91600575e-06 9.60256784e-06\n",
      "  9.71591473e-01 4.74321382e-08]\n",
      " [7.21315564e-06 2.04906697e-04 4.74796980e-04 3.74997398e-06\n",
      "  7.77655441e-06 9.99301553e-01]\n",
      " [4.56013686e-06 1.42727062e-04 6.14900273e-07 6.98034967e-07\n",
      "  9.99850035e-01 1.32861783e-06]\n",
      " [4.48128685e-06 7.62286334e-07 9.99408007e-01 4.18873278e-05\n",
      "  1.70070762e-05 5.27769385e-04]\n",
      " [7.22901677e-05 9.86734813e-06 4.15675743e-07 1.47494836e-06\n",
      "  9.99911308e-01 4.60561341e-06]\n",
      " [1.98462844e-01 2.86835786e-02 7.72386074e-01 3.38547485e-04\n",
      "  1.15454095e-04 1.34727898e-05]\n",
      " [7.01630279e-06 9.99972463e-01 3.58095645e-06 4.71917161e-07\n",
      "  1.52080456e-05 1.14908892e-06]\n",
      " [2.43953243e-01 7.55908847e-01 5.30414991e-06 4.16183611e-05\n",
      "  8.89467701e-05 1.97978306e-06]\n",
      " [4.93618548e-02 9.48524773e-01 7.88780108e-06 4.24037389e-05\n",
      "  2.06170068e-03 1.35057155e-06]\n",
      " [6.50717616e-01 2.28797807e-03 5.53224600e-05 7.44571153e-04\n",
      "  8.68173391e-02 2.59377092e-01]\n",
      " [1.44136211e-04 5.25135081e-03 4.90722232e-06 2.18346418e-06\n",
      "  9.94597316e-01 1.46722670e-07]\n",
      " [2.80722470e-05 6.84874237e-01 1.17407867e-03 1.44226806e-05\n",
      "  4.70281084e-04 3.13438833e-01]\n",
      " [9.99244332e-01 6.43801923e-06 2.31844956e-06 4.48481296e-05\n",
      "  7.02091958e-04 1.75540222e-07]\n",
      " [2.86041526e-04 6.12176882e-06 9.53423262e-01 5.29843790e-04\n",
      "  4.55299579e-02 2.24657721e-04]\n",
      " [3.91987641e-07 9.99999642e-01 2.50302232e-08 3.63793062e-09\n",
      "  4.51098181e-08 3.75117999e-08]\n",
      " [1.84319593e-04 6.52933340e-06 1.08552615e-06 1.99127339e-06\n",
      "  9.99801099e-01 4.98826557e-06]\n",
      " [4.60585798e-05 5.50437893e-04 9.13266279e-03 7.05798884e-05\n",
      "  1.07053667e-04 9.90093172e-01]\n",
      " [8.32659826e-02 3.35815735e-02 2.11338574e-05 3.46485846e-04\n",
      "  8.75609994e-01 7.17484346e-03]\n",
      " [2.63898924e-04 1.03309855e-03 3.74763289e-07 3.73197736e-06\n",
      "  9.98091638e-01 6.07246242e-04]\n",
      " [4.56928592e-06 9.18643855e-05 1.07791180e-08 3.60365355e-08\n",
      "  9.99903083e-01 4.63327865e-07]\n",
      " [3.14003751e-06 2.30046282e-07 6.83725432e-08 4.00632594e-08\n",
      "  9.99996424e-01 7.24239442e-08]\n",
      " [7.80750343e-05 9.94835615e-01 2.94441148e-03 4.74563058e-05\n",
      "  8.17043066e-04 1.27754582e-03]\n",
      " [5.82134875e-04 3.20799067e-04 1.24842099e-05 4.24908030e-05\n",
      "  9.99025106e-01 1.70159037e-05]\n",
      " [1.49159760e-05 4.22997327e-05 4.12065037e-06 5.59662294e-06\n",
      "  8.26831965e-04 9.99106228e-01]\n",
      " [9.99978065e-01 1.85795361e-05 7.44907823e-07 1.96456676e-06\n",
      "  6.69515202e-07 5.89053117e-09]\n",
      " [9.99959350e-01 7.02571157e-08 4.79854245e-09 3.27885374e-07\n",
      "  4.02194382e-05 1.07102383e-10]\n",
      " [5.21178981e-06 1.54655369e-04 4.56729867e-05 2.04833796e-05\n",
      "  3.02091986e-03 9.96753037e-01]\n",
      " [8.49470217e-03 7.20275875e-06 9.15796190e-05 4.96067441e-05\n",
      "  9.90972400e-01 3.84509622e-04]\n",
      " [5.01170695e-01 4.98720020e-01 1.17135505e-05 4.90836319e-05\n",
      "  4.47154125e-05 3.74037836e-06]\n",
      " [8.76452774e-04 1.91159368e-01 5.26619971e-01 4.70592175e-03\n",
      "  4.76615224e-03 2.71872163e-01]\n",
      " [2.68111702e-08 2.19467680e-07 1.11271525e-07 5.51563328e-09\n",
      "  6.28907515e-07 9.99999046e-01]\n",
      " [3.06405042e-07 9.99996901e-01 1.22049897e-07 1.29230111e-08\n",
      "  2.36843835e-06 2.07080760e-07]\n",
      " [3.22071742e-06 4.07873046e-07 7.38384145e-08 5.22467474e-08\n",
      "  9.99996185e-01 7.48006244e-08]\n",
      " [7.57931048e-05 9.13297474e-01 2.30076494e-05 6.95954895e-06\n",
      "  1.72935110e-02 6.93033785e-02]\n",
      " [4.28362837e-05 4.13543930e-05 9.92748255e-07 1.30690944e-06\n",
      "  1.63201988e-03 9.98281479e-01]\n",
      " [2.05471530e-03 1.87989734e-02 2.81800039e-05 1.78421862e-04\n",
      "  9.74311173e-01 4.62843198e-03]\n",
      " [6.80158882e-06 6.22190646e-06 1.02570300e-06 4.75423064e-07\n",
      "  9.99984980e-01 4.33756185e-07]\n",
      " [1.94471180e-02 4.85617738e-06 9.80423689e-01 1.03841143e-04\n",
      "  1.66536865e-05 4.00148429e-06]\n",
      " [9.99995828e-01 8.07812910e-08 1.82665951e-06 1.48429922e-06\n",
      "  8.89406067e-07 3.46037088e-09]\n",
      " [7.08743028e-05 5.48723228e-02 8.57851684e-01 3.54480755e-04\n",
      "  2.62184592e-04 8.65884870e-02]\n",
      " [1.81132928e-02 9.81748044e-01 7.45215584e-06 1.65529254e-05\n",
      "  1.07998349e-04 6.62113507e-06]\n",
      " [8.73870682e-03 3.61498863e-01 6.27314270e-01 9.70409135e-04\n",
      "  8.30964767e-04 6.46743574e-04]\n",
      " [4.80863600e-05 1.30743695e-06 9.92705882e-01 1.38174277e-04\n",
      "  5.02430322e-03 2.08214438e-03]\n",
      " [3.28769630e-07 9.99999404e-01 2.73471272e-08 6.42857323e-09\n",
      "  1.87263879e-07 3.26179261e-08]\n",
      " [4.85155940e-01 2.79002677e-04 2.98620929e-04 6.67187036e-04\n",
      "  5.58067933e-02 4.57792461e-01]\n",
      " [1.75255877e-06 9.99995232e-01 1.14592986e-07 3.44439570e-08\n",
      "  1.58643059e-06 1.30095361e-06]\n",
      " [1.37872979e-04 1.26600533e-03 3.76798809e-02 7.51113461e-04\n",
      "  1.22422469e-03 9.58940923e-01]\n",
      " [9.99981523e-01 2.93847648e-07 2.27657848e-09 1.94741872e-07\n",
      "  1.79560229e-05 2.00590197e-10]\n",
      " [1.31782627e-07 9.99998569e-01 8.62618244e-09 1.79954807e-09\n",
      "  1.35325706e-06 6.75115386e-09]\n",
      " [7.10995577e-04 5.74951537e-06 9.99209523e-01 4.44319267e-05\n",
      "  2.65022318e-05 2.82003793e-06]\n",
      " [9.67936277e-01 2.83649191e-04 3.17312814e-02 4.57779133e-05\n",
      "  2.55073132e-06 5.06163246e-07]\n",
      " [8.01715612e-01 2.23618226e-05 1.36053073e-03 1.37427344e-03\n",
      "  1.95341811e-01 1.85425553e-04]\n",
      " [2.04842468e-06 9.99906182e-01 8.07543765e-05 1.55529548e-07\n",
      "  1.07309706e-05 2.22981555e-07]\n",
      " [3.52047791e-04 9.86171901e-01 7.05168422e-05 2.88157371e-05\n",
      "  1.46210878e-04 1.32304365e-02]\n",
      " [2.64879304e-07 5.28532844e-08 9.99983668e-01 2.65918675e-06\n",
      "  1.30867102e-06 1.20795839e-05]\n",
      " [5.23854305e-06 7.79360926e-06 9.92701173e-01 3.49088186e-05\n",
      "  7.16649415e-03 8.44125461e-05]\n",
      " [5.92234392e-05 1.99199553e-06 2.84461752e-08 6.92209525e-08\n",
      "  9.99938607e-01 1.11352904e-07]\n",
      " [3.23038176e-03 2.80913606e-04 2.34822128e-05 3.26672744e-05\n",
      "  6.16984675e-04 9.95815575e-01]\n",
      " [1.19538279e-04 9.95254159e-01 9.35867283e-05 7.83783253e-06\n",
      "  3.00856864e-05 4.49463772e-03]\n",
      " [8.37699743e-04 9.93285418e-01 1.50304131e-05 1.23383916e-05\n",
      "  2.11958264e-04 5.63752372e-03]\n",
      " [2.04311345e-05 1.02345766e-05 1.92365643e-08 1.71465953e-08\n",
      "  9.99969244e-01 1.73531400e-09]\n",
      " [5.48029629e-06 1.32272427e-04 3.10388487e-03 1.70206386e-05\n",
      "  2.61953974e-05 9.96715188e-01]] proba_predict\n"
     ]
    },
    {
     "name": "stdout",
     "output_type": "stream",
     "text": [
      "0.0\n",
      "   fold  pred_location  true_location pred_location_label true_location_label  \\\n",
      "0     5              4              3            Thailand            Tanzania   \n",
      "1     5              0              3               Ghana            Tanzania   \n",
      "2     5              0              3               Ghana            Tanzania   \n",
      "3     5              1              3          Mauritania            Tanzania   \n",
      "4     5              5              3              Zambia            Tanzania   \n",
      "\n",
      "     mid_lat   mid_long  true_lat  true_long  distance_to_midpoint  \n",
      "0  16.792667  98.606285 -4.844681  38.962097           6981.714857  \n",
      "1  10.805717  -1.500308 -4.844681  38.962097           4806.188576  \n",
      "2  10.885572  -1.086558 -4.844681  38.962097           4766.374607  \n",
      "3  16.519151  -7.533301 -4.844681  38.962097           5635.723136  \n",
      "4 -11.812396  30.675708 -4.844681  38.962097           1194.107732  \n"
     ]
    },
    {
     "data": {
      "application/vnd.plotly.v1+json": {
       "config": {
        "displaylogo": false,
        "plotlyServerURL": "https://plot.ly"
       },
       "data": [
        {
         "hoverinfo": "text",
         "lat": [
          -4.844681,
          -6.623532838250085
         ],
         "line": {
          "color": "red",
          "width": 1
         },
         "lon": [
          38.962097,
          36.46121245645528
         ],
         "mode": "lines",
         "opacity": 0.5,
         "showlegend": false,
         "text": "distance = 339.75 km",
         "type": "scattergeo"
        },
        {
         "hoverinfo": "text",
         "lat": [
          -13.23,
          -13.076429286289333
         ],
         "line": {
          "color": "red",
          "width": 1
         },
         "lon": [
          27,
          27.24784757544956
         ],
         "mode": "lines",
         "opacity": 0.5,
         "showlegend": false,
         "text": "distance = 31.79 km",
         "type": "scattergeo"
        },
        {
         "hoverinfo": "text",
         "lat": [
          15.82083,
          15.82022875665102
         ],
         "line": {
          "color": "red",
          "width": 1
         },
         "lon": [
          -9.4145,
          -9.41755613664858
         ],
         "mode": "lines",
         "opacity": 0.5,
         "showlegend": false,
         "text": "distance = 0.33 km",
         "type": "scattergeo"
        },
        {
         "hoverinfo": "text",
         "lat": [
          15.82083,
          15.82083023811339
         ],
         "line": {
          "color": "red",
          "width": 1
         },
         "lon": [
          -9.4145,
          -9.414503600261128
         ],
         "mode": "lines",
         "opacity": 0.5,
         "showlegend": false,
         "text": "distance = 0.00 km",
         "type": "scattergeo"
        },
        {
         "hoverinfo": "text",
         "lat": [
          -3.763541,
          -3.763838307181719
         ],
         "line": {
          "color": "red",
          "width": 1
         },
         "lon": [
          -73.267937,
          -73.26635670923933
         ],
         "mode": "lines",
         "opacity": 0.5,
         "showlegend": false,
         "text": "distance = 0.18 km",
         "type": "scattergeo"
        },
        {
         "hoverinfo": "text",
         "lat": [
          -4.844681,
          -3.759202431040597
         ],
         "line": {
          "color": "red",
          "width": 1
         },
         "lon": [
          38.962097,
          -73.25413538951597
         ],
         "mode": "lines",
         "opacity": 0.5,
         "showlegend": false,
         "text": "distance = 12439.05 km",
         "type": "scattergeo"
        },
        {
         "hoverinfo": "text",
         "lat": [
          16.771015,
          10.876707457628855
         ],
         "line": {
          "color": "red",
          "width": 1
         },
         "lon": [
          98.704491,
          -1.0739836658016289
         ],
         "mode": "lines",
         "opacity": 0.5,
         "showlegend": false,
         "text": "distance = 10692.82 km",
         "type": "scattergeo"
        },
        {
         "hoverinfo": "text",
         "lat": [
          -4.844681,
          3.0398194791862347
         ],
         "line": {
          "color": "red",
          "width": 1
         },
         "lon": [
          38.962097,
          12.130605107533057
         ],
         "mode": "lines",
         "opacity": 0.5,
         "showlegend": false,
         "text": "distance = 3108.89 km",
         "type": "scattergeo"
        },
        {
         "hoverinfo": "text",
         "lat": [
          15.82083,
          15.812299456773207
         ],
         "line": {
          "color": "red",
          "width": 1
         },
         "lon": [
          -9.4145,
          -9.386968281907324
         ],
         "mode": "lines",
         "opacity": 0.5,
         "showlegend": false,
         "text": "distance = 3.10 km",
         "type": "scattergeo"
        },
        {
         "hoverinfo": "text",
         "lat": [
          -3.763541,
          -3.763539256039675
         ],
         "line": {
          "color": "red",
          "width": 1
         },
         "lon": [
          -73.267937,
          -73.26789909824642
         ],
         "mode": "lines",
         "opacity": 0.5,
         "showlegend": false,
         "text": "distance = 0.00 km",
         "type": "scattergeo"
        },
        {
         "hoverinfo": "text",
         "lat": [
          -13.23,
          -9.924803250979041
         ],
         "line": {
          "color": "red",
          "width": 1
         },
         "lon": [
          27,
          22.59481413978901
         ],
         "mode": "lines",
         "opacity": 0.5,
         "showlegend": false,
         "text": "distance = 603.70 km",
         "type": "scattergeo"
        },
        {
         "hoverinfo": "text",
         "lat": [
          15.82083,
          10.886500653289831
         ],
         "line": {
          "color": "red",
          "width": 1
         },
         "lon": [
          -9.4145,
          -1.0839202733648166
         ],
         "mode": "lines",
         "opacity": 0.5,
         "showlegend": false,
         "text": "distance = 1054.40 km",
         "type": "scattergeo"
        },
        {
         "hoverinfo": "text",
         "lat": [
          16.771015,
          9.974710413549287
         ],
         "line": {
          "color": "red",
          "width": 1
         },
         "lon": [
          98.704491,
          -6.268015778200458
         ],
         "mode": "lines",
         "opacity": 0.5,
         "showlegend": false,
         "text": "distance = 11263.09 km",
         "type": "scattergeo"
        },
        {
         "hoverinfo": "text",
         "lat": [
          10.885568,
          10.931570191366953
         ],
         "line": {
          "color": "red",
          "width": 1
         },
         "lon": [
          -1.086617,
          -1.1791101745786674
         ],
         "mode": "lines",
         "opacity": 0.5,
         "showlegend": false,
         "text": "distance = 11.32 km",
         "type": "scattergeo"
        },
        {
         "hoverinfo": "text",
         "lat": [
          -13.23,
          -13.225918822628591
         ],
         "line": {
          "color": "red",
          "width": 1
         },
         "lon": [
          27,
          27.00166386835963
         ],
         "mode": "lines",
         "opacity": 0.5,
         "showlegend": false,
         "text": "distance = 0.49 km",
         "type": "scattergeo"
        },
        {
         "hoverinfo": "text",
         "lat": [
          -4.844681,
          -1.7133383713590793
         ],
         "line": {
          "color": "red",
          "width": 1
         },
         "lon": [
          38.962097,
          30.76401801918134
         ],
         "mode": "lines",
         "opacity": 0.5,
         "showlegend": false,
         "text": "distance = 974.59 km",
         "type": "scattergeo"
        },
        {
         "hoverinfo": "text",
         "lat": [
          -13.23,
          -13.215775760333367
         ],
         "line": {
          "color": "red",
          "width": 1
         },
         "lon": [
          27,
          27.00958500144579
         ],
         "mode": "lines",
         "opacity": 0.5,
         "showlegend": false,
         "text": "distance = 1.89 km",
         "type": "scattergeo"
        },
        {
         "hoverinfo": "text",
         "lat": [
          -13.23,
          16.773315286234904
         ],
         "line": {
          "color": "red",
          "width": 1
         },
         "lon": [
          27,
          98.69426647456213
         ],
         "mode": "lines",
         "opacity": 0.5,
         "showlegend": false,
         "text": "distance = 8552.34 km",
         "type": "scattergeo"
        },
        {
         "hoverinfo": "text",
         "lat": [
          16.771015,
          -3.6736652620491053
         ],
         "line": {
          "color": "red",
          "width": 1
         },
         "lon": [
          98.704491,
          15.047767832726207
         ],
         "mode": "lines",
         "opacity": 0.5,
         "showlegend": false,
         "text": "distance = 9459.77 km",
         "type": "scattergeo"
        },
        {
         "hoverinfo": "text",
         "lat": [
          -4.844681,
          8.714995441064938
         ],
         "line": {
          "color": "red",
          "width": 1
         },
         "lon": [
          38.962097,
          4.55404565925078
         ],
         "mode": "lines",
         "opacity": 0.5,
         "showlegend": false,
         "text": "distance = 4102.88 km",
         "type": "scattergeo"
        },
        {
         "hoverinfo": "text",
         "lat": [
          -13.23,
          -3.7612465162199418
         ],
         "line": {
          "color": "red",
          "width": 1
         },
         "lon": [
          27,
          -73.24888643701607
         ],
         "mode": "lines",
         "opacity": 0.5,
         "showlegend": false,
         "text": "distance = 11029.65 km",
         "type": "scattergeo"
        },
        {
         "hoverinfo": "text",
         "lat": [
          -4.844681,
          13.703846218757942
         ],
         "line": {
          "color": "red",
          "width": 1
         },
         "lon": [
          38.962097,
          -5.488577355569352
         ],
         "mode": "lines",
         "opacity": 0.5,
         "showlegend": false,
         "text": "distance = 5321.86 km",
         "type": "scattergeo"
        },
        {
         "hoverinfo": "text",
         "lat": [
          15.82083,
          -2.1561778596971304
         ],
         "line": {
          "color": "red",
          "width": 1
         },
         "lon": [
          -9.4145,
          -68.66376537154436
         ],
         "mode": "lines",
         "opacity": 0.5,
         "showlegend": false,
         "text": "distance = 6812.50 km",
         "type": "scattergeo"
        },
        {
         "hoverinfo": "text",
         "lat": [
          15.82083,
          15.82175697796099
         ],
         "line": {
          "color": "red",
          "width": 1
         },
         "lon": [
          -9.4145,
          -9.41177474151707
         ],
         "mode": "lines",
         "opacity": 0.5,
         "showlegend": false,
         "text": "distance = 0.31 km",
         "type": "scattergeo"
        },
        {
         "hoverinfo": "text",
         "lat": [
          16.771015,
          -7.521342026013736
         ],
         "line": {
          "color": "red",
          "width": 1
         },
         "lon": [
          98.704491,
          -1.600031029838921
         ],
         "mode": "lines",
         "opacity": 0.5,
         "showlegend": false,
         "text": "distance = 11348.88 km",
         "type": "scattergeo"
        },
        {
         "hoverinfo": "text",
         "lat": [
          15.82083,
          13.047297856145745
         ],
         "line": {
          "color": "red",
          "width": 1
         },
         "lon": [
          -9.4145,
          -21.630317285437187
         ],
         "mode": "lines",
         "opacity": 0.5,
         "showlegend": false,
         "text": "distance = 1352.18 km",
         "type": "scattergeo"
        },
        {
         "hoverinfo": "text",
         "lat": [
          10.885568,
          -3.7638244654767146
         ],
         "line": {
          "color": "red",
          "width": 1
         },
         "lon": [
          -1.086617,
          -73.26411150378773
         ],
         "mode": "lines",
         "opacity": 0.5,
         "showlegend": false,
         "text": "distance = 8156.77 km",
         "type": "scattergeo"
        },
        {
         "hoverinfo": "text",
         "lat": [
          15.82083,
          15.822069467355195
         ],
         "line": {
          "color": "red",
          "width": 1
         },
         "lon": [
          -9.4145,
          -9.40827493517134
         ],
         "mode": "lines",
         "opacity": 0.5,
         "showlegend": false,
         "text": "distance = 0.68 km",
         "type": "scattergeo"
        },
        {
         "hoverinfo": "text",
         "lat": [
          -3.763541,
          -3.763186185475238
         ],
         "line": {
          "color": "red",
          "width": 1
         },
         "lon": [
          -73.267937,
          -73.26553983209335
         ],
         "mode": "lines",
         "opacity": 0.5,
         "showlegend": false,
         "text": "distance = 0.27 km",
         "type": "scattergeo"
        },
        {
         "hoverinfo": "text",
         "lat": [
          16.771015,
          11.660995808260445
         ],
         "line": {
          "color": "red",
          "width": 1
         },
         "lon": [
          98.704491,
          1.342559642365537
         ],
         "mode": "lines",
         "opacity": 0.5,
         "showlegend": false,
         "text": "distance = 10415.07 km",
         "type": "scattergeo"
        },
        {
         "hoverinfo": "text",
         "lat": [
          10.885568,
          9.647395534687082
         ],
         "line": {
          "color": "red",
          "width": 1
         },
         "lon": [
          -1.086617,
          0.3299645688787733
         ],
         "mode": "lines",
         "opacity": 0.5,
         "showlegend": false,
         "text": "distance = 206.97 km",
         "type": "scattergeo"
        },
        {
         "hoverinfo": "text",
         "lat": [
          10.885568,
          -13.222959262712507
         ],
         "line": {
          "color": "red",
          "width": 1
         },
         "lon": [
          -1.086617,
          26.994292993542235
         ],
         "mode": "lines",
         "opacity": 0.5,
         "showlegend": false,
         "text": "distance = 4090.43 km",
         "type": "scattergeo"
        },
        {
         "hoverinfo": "text",
         "lat": [
          -3.763541,
          -3.76359273451553
         ],
         "line": {
          "color": "red",
          "width": 1
         },
         "lon": [
          -73.267937,
          -73.26734288749999
         ],
         "mode": "lines",
         "opacity": 0.5,
         "showlegend": false,
         "text": "distance = 0.07 km",
         "type": "scattergeo"
        },
        {
         "hoverinfo": "text",
         "lat": [
          -3.763541,
          11.065426088387056
         ],
         "line": {
          "color": "red",
          "width": 1
         },
         "lon": [
          -73.267937,
          -1.5593822803081527
         ],
         "mode": "lines",
         "opacity": 0.5,
         "showlegend": false,
         "text": "distance = 8108.47 km",
         "type": "scattergeo"
        },
        {
         "hoverinfo": "text",
         "lat": [
          10.885568,
          10.882763700983686
         ],
         "line": {
          "color": "red",
          "width": 1
         },
         "lon": [
          -1.086617,
          -1.0774535574288118
         ],
         "mode": "lines",
         "opacity": 0.5,
         "showlegend": false,
         "text": "distance = 1.05 km",
         "type": "scattergeo"
        },
        {
         "hoverinfo": "text",
         "lat": [
          16.771015,
          -3.766072682068405
         ],
         "line": {
          "color": "red",
          "width": 1
         },
         "lon": [
          98.704491,
          -73.23167227639235
         ],
         "mode": "lines",
         "opacity": 0.5,
         "showlegend": false,
         "text": "distance = 18325.50 km",
         "type": "scattergeo"
        },
        {
         "hoverinfo": "text",
         "lat": [
          16.771015,
          -4.935914708439901
         ],
         "line": {
          "color": "red",
          "width": 1
         },
         "lon": [
          98.704491,
          38.80959326937638
         ],
         "mode": "lines",
         "opacity": 0.5,
         "showlegend": false,
         "text": "distance = 7010.68 km",
         "type": "scattergeo"
        },
        {
         "hoverinfo": "text",
         "lat": [
          -4.844681,
          16.93256338264828
         ],
         "line": {
          "color": "red",
          "width": 1
         },
         "lon": [
          38.962097,
          97.8829078529327
         ],
         "mode": "lines",
         "opacity": 0.5,
         "showlegend": false,
         "text": "distance = 6911.15 km",
         "type": "scattergeo"
        },
        {
         "hoverinfo": "text",
         "lat": [
          -3.763541,
          13.545498280682194
         ],
         "line": {
          "color": "red",
          "width": 1
         },
         "lon": [
          -73.267937,
          -18.36654687731693
         ],
         "mode": "lines",
         "opacity": 0.5,
         "showlegend": false,
         "text": "distance = 6358.60 km",
         "type": "scattergeo"
        },
        {
         "hoverinfo": "text",
         "lat": [
          16.771015,
          16.816008347221274
         ],
         "line": {
          "color": "red",
          "width": 1
         },
         "lon": [
          98.704491,
          98.50438273430362
         ],
         "mode": "lines",
         "opacity": 0.5,
         "showlegend": false,
         "text": "distance = 21.91 km",
         "type": "scattergeo"
        },
        {
         "hoverinfo": "text",
         "lat": [
          -13.23,
          -13.229432731439665
         ],
         "line": {
          "color": "red",
          "width": 1
         },
         "lon": [
          27,
          26.99914178995214
         ],
         "mode": "lines",
         "opacity": 0.5,
         "showlegend": false,
         "text": "distance = 0.11 km",
         "type": "scattergeo"
        },
        {
         "hoverinfo": "text",
         "lat": [
          -3.763541,
          -3.763634568646176
         ],
         "line": {
          "color": "red",
          "width": 1
         },
         "lon": [
          -73.267937,
          -73.26608490758964
         ],
         "mode": "lines",
         "opacity": 0.5,
         "showlegend": false,
         "text": "distance = 0.21 km",
         "type": "scattergeo"
        },
        {
         "hoverinfo": "text",
         "lat": [
          -4.844681,
          -4.844629008539336
         ],
         "line": {
          "color": "red",
          "width": 1
         },
         "lon": [
          38.962097,
          38.961842278951266
         ],
         "mode": "lines",
         "opacity": 0.5,
         "showlegend": false,
         "text": "distance = 0.03 km",
         "type": "scattergeo"
        },
        {
         "hoverinfo": "text",
         "lat": [
          -3.763541,
          16.80013757441403
         ],
         "line": {
          "color": "red",
          "width": 1
         },
         "lon": [
          -73.267937,
          98.62212285110024
         ],
         "mode": "lines",
         "opacity": 0.5,
         "showlegend": false,
         "text": "distance = 18319.95 km",
         "type": "scattergeo"
        },
        {
         "hoverinfo": "text",
         "lat": [
          10.885568,
          15.805334387026516
         ],
         "line": {
          "color": "red",
          "width": 1
         },
         "lon": [
          -1.086617,
          -9.393851202229987
         ],
         "mode": "lines",
         "opacity": 0.5,
         "showlegend": false,
         "text": "distance = 1051.43 km",
         "type": "scattergeo"
        },
        {
         "hoverinfo": "text",
         "lat": [
          16.771015,
          16.770975599512347
         ],
         "line": {
          "color": "red",
          "width": 1
         },
         "lon": [
          98.704491,
          98.70421468080306
         ],
         "mode": "lines",
         "opacity": 0.5,
         "showlegend": false,
         "text": "distance = 0.03 km",
         "type": "scattergeo"
        },
        {
         "hoverinfo": "text",
         "lat": [
          -13.23,
          10.878463225811005
         ],
         "line": {
          "color": "red",
          "width": 1
         },
         "lon": [
          27,
          -1.075428205345292
         ],
         "mode": "lines",
         "opacity": 0.5,
         "showlegend": false,
         "text": "distance = 4089.96 km",
         "type": "scattergeo"
        },
        {
         "hoverinfo": "text",
         "lat": [
          -4.844681,
          -3.9143619318544642
         ],
         "line": {
          "color": "red",
          "width": 1
         },
         "lon": [
          38.962097,
          -71.68694771287029
         ],
         "mode": "lines",
         "opacity": 0.5,
         "showlegend": false,
         "text": "distance = 12264.17 km",
         "type": "scattergeo"
        },
        {
         "hoverinfo": "text",
         "lat": [
          15.82083,
          15.80235604699091
         ],
         "line": {
          "color": "red",
          "width": 1
         },
         "lon": [
          -9.4145,
          -9.475948503117948
         ],
         "mode": "lines",
         "opacity": 0.5,
         "showlegend": false,
         "text": "distance = 6.89 km",
         "type": "scattergeo"
        },
        {
         "hoverinfo": "text",
         "lat": [
          -4.844681,
          15.731262716484983
         ],
         "line": {
          "color": "red",
          "width": 1
         },
         "lon": [
          38.962097,
          -9.140509767610983
         ],
         "mode": "lines",
         "opacity": 0.5,
         "showlegend": false,
         "text": "distance = 5767.40 km",
         "type": "scattergeo"
        },
        {
         "hoverinfo": "text",
         "lat": [
          -13.23,
          -11.708931675332094
         ],
         "line": {
          "color": "red",
          "width": 1
         },
         "lon": [
          27,
          29.248637572497664
         ],
         "mode": "lines",
         "opacity": 0.5,
         "showlegend": false,
         "text": "distance = 296.76 km",
         "type": "scattergeo"
        },
        {
         "hoverinfo": "text",
         "lat": [
          16.771015,
          11.15561021076219
         ],
         "line": {
          "color": "red",
          "width": 1
         },
         "lon": [
          98.704491,
          -0.231564072078024
         ],
         "mode": "lines",
         "opacity": 0.5,
         "showlegend": false,
         "text": "distance = 10595.73 km",
         "type": "scattergeo"
        },
        {
         "hoverinfo": "text",
         "lat": [
          15.82083,
          15.820874700644952
         ],
         "line": {
          "color": "red",
          "width": 1
         },
         "lon": [
          -9.4145,
          -9.41425673170162
         ],
         "mode": "lines",
         "opacity": 0.5,
         "showlegend": false,
         "text": "distance = 0.03 km",
         "type": "scattergeo"
        },
        {
         "hoverinfo": "text",
         "lat": [
          10.885568,
          10.885391507549139
         ],
         "line": {
          "color": "red",
          "width": 1
         },
         "lon": [
          -1.086617,
          -1.0875628588409432
         ],
         "mode": "lines",
         "opacity": 0.5,
         "showlegend": false,
         "text": "distance = 0.11 km",
         "type": "scattergeo"
        },
        {
         "hoverinfo": "text",
         "lat": [
          -3.763541,
          -4.358024847653913
         ],
         "line": {
          "color": "red",
          "width": 1
         },
         "lon": [
          -73.267937,
          39.18403078533635
         ],
         "mode": "lines",
         "opacity": 0.5,
         "showlegend": false,
         "text": "distance = 12470.60 km",
         "type": "scattergeo"
        },
        {
         "hoverinfo": "text",
         "lat": [
          -4.844681,
          -4.844650069691299
         ],
         "line": {
          "color": "red",
          "width": 1
         },
         "lon": [
          38.962097,
          38.96204373002176
         ],
         "mode": "lines",
         "opacity": 0.5,
         "showlegend": false,
         "text": "distance = 0.01 km",
         "type": "scattergeo"
        },
        {
         "hoverinfo": "text",
         "lat": [
          -13.23,
          15.819147427232439
         ],
         "line": {
          "color": "red",
          "width": 1
         },
         "lon": [
          27,
          -9.420998200228302
         ],
         "mode": "lines",
         "opacity": 0.5,
         "showlegend": false,
         "text": "distance = 5137.81 km",
         "type": "scattergeo"
        },
        {
         "hoverinfo": "text",
         "lat": [
          -13.23,
          -13.132927943040112
         ],
         "line": {
          "color": "red",
          "width": 1
         },
         "lon": [
          27,
          26.87268354861034
         ],
         "mode": "lines",
         "opacity": 0.5,
         "showlegend": false,
         "text": "distance = 17.49 km",
         "type": "scattergeo"
        },
        {
         "hoverinfo": "text",
         "lat": [
          -3.763541,
          10.885551187183912
         ],
         "line": {
          "color": "red",
          "width": 1
         },
         "lon": [
          -73.267937,
          -1.0866926634837306
         ],
         "mode": "lines",
         "opacity": 0.5,
         "showlegend": false,
         "text": "distance = 8157.17 km",
         "type": "scattergeo"
        },
        {
         "hoverinfo": "text",
         "lat": [
          10.885568,
          10.882645887767653
         ],
         "line": {
          "color": "red",
          "width": 1
         },
         "lon": [
          -1.086617,
          -1.0903829388678483
         ],
         "mode": "lines",
         "opacity": 0.5,
         "showlegend": false,
         "text": "distance = 0.52 km",
         "type": "scattergeo"
        },
        {
         "hoverinfo": "text",
         "lat": [
          10.885568,
          7.251030360268049
         ],
         "line": {
          "color": "red",
          "width": 1
         },
         "lon": [
          -1.086617,
          -23.580685656619092
         ],
         "mode": "lines",
         "opacity": 0.5,
         "showlegend": false,
         "text": "distance = 2504.56 km",
         "type": "scattergeo"
        },
        {
         "hoverinfo": "text",
         "lat": [
          10.885568,
          10.884271655296633
         ],
         "line": {
          "color": "red",
          "width": 1
         },
         "lon": [
          -1.086617,
          -1.0848153644778986
         ],
         "mode": "lines",
         "opacity": 0.5,
         "showlegend": false,
         "text": "distance = 0.24 km",
         "type": "scattergeo"
        },
        {
         "hoverinfo": "text",
         "lat": [
          15.82083,
          15.75210326643235
         ],
         "line": {
          "color": "red",
          "width": 1
         },
         "lon": [
          -9.4145,
          -9.344124457405261
         ],
         "mode": "lines",
         "opacity": 0.5,
         "showlegend": false,
         "text": "distance = 10.71 km",
         "type": "scattergeo"
        },
        {
         "hoverinfo": "text",
         "lat": [
          16.771015,
          16.081003680993902
         ],
         "line": {
          "color": "red",
          "width": 1
         },
         "lon": [
          98.704491,
          -8.45452117522874
         ],
         "mode": "lines",
         "opacity": 0.5,
         "showlegend": false,
         "text": "distance = 11250.22 km",
         "type": "scattergeo"
        },
        {
         "hoverinfo": "text",
         "lat": [
          -6.623532838250085,
          -13.076429286289333,
          15.82022875665102,
          15.82083023811339,
          -3.763838307181719,
          -3.759202431040597,
          10.876707457628855,
          3.0398194791862347,
          15.812299456773207,
          -3.763539256039675,
          -9.924803250979041,
          10.886500653289831,
          9.974710413549287,
          10.931570191366953,
          -13.225918822628591,
          -1.7133383713590793,
          -13.215775760333367,
          16.773315286234904,
          -3.6736652620491053,
          8.714995441064938,
          -3.7612465162199418,
          13.703846218757942,
          -2.1561778596971304,
          15.82175697796099,
          -7.521342026013736,
          13.047297856145745,
          -3.7638244654767146,
          15.822069467355195,
          -3.763186185475238,
          11.660995808260445,
          9.647395534687082,
          -13.222959262712507,
          -3.76359273451553,
          11.065426088387056,
          10.882763700983686,
          -3.766072682068405,
          -4.935914708439901,
          16.93256338264828,
          13.545498280682194,
          16.816008347221274,
          -13.229432731439665,
          -3.763634568646176,
          -4.844629008539336,
          16.80013757441403,
          15.805334387026516,
          16.770975599512347,
          10.878463225811005,
          -3.9143619318544642,
          15.80235604699091,
          15.731262716484983,
          -11.708931675332094,
          11.15561021076219,
          15.820874700644952,
          10.885391507549139,
          -4.358024847653913,
          -4.844650069691299,
          15.819147427232439,
          -13.132927943040112,
          10.885551187183912,
          10.882645887767653,
          7.251030360268049,
          10.884271655296633,
          15.75210326643235,
          16.081003680993902
         ],
         "lon": [
          36.46121245645528,
          27.24784757544956,
          -9.41755613664858,
          -9.414503600261128,
          -73.26635670923933,
          -73.25413538951597,
          -1.0739836658016289,
          12.130605107533057,
          -9.386968281907324,
          -73.26789909824642,
          22.59481413978901,
          -1.0839202733648166,
          -6.268015778200458,
          -1.1791101745786674,
          27.00166386835963,
          30.76401801918134,
          27.00958500144579,
          98.69426647456213,
          15.047767832726207,
          4.55404565925078,
          -73.24888643701607,
          -5.488577355569352,
          -68.66376537154436,
          -9.41177474151707,
          -1.600031029838921,
          -21.630317285437187,
          -73.26411150378773,
          -9.40827493517134,
          -73.26553983209335,
          1.342559642365537,
          0.3299645688787733,
          26.994292993542235,
          -73.26734288749999,
          -1.5593822803081527,
          -1.0774535574288118,
          -73.23167227639235,
          38.80959326937638,
          97.8829078529327,
          -18.36654687731693,
          98.50438273430362,
          26.99914178995214,
          -73.26608490758964,
          38.961842278951266,
          98.62212285110024,
          -9.393851202229987,
          98.70421468080306,
          -1.075428205345292,
          -71.68694771287029,
          -9.475948503117948,
          -9.140509767610983,
          29.248637572497664,
          -0.231564072078024,
          -9.41425673170162,
          -1.0875628588409432,
          39.18403078533635,
          38.96204373002176,
          -9.420998200228302,
          26.87268354861034,
          -1.0866926634837306,
          -1.0903829388678483,
          -23.580685656619092,
          -1.0848153644778986,
          -9.344124457405261,
          -8.45452117522874
         ],
         "marker": {
          "color": "rgb(255, 0, 0)"
         },
         "name": "Predicted MidPoint",
         "text": [
          "Lat = -6.624 Lon = 36.461<br>distance = 340.0 km",
          "Lat = -13.076 Lon = 27.248<br>distance = 32.0 km",
          "Lat = 15.82 Lon = -9.418<br>distance = 0.0 km",
          "Lat = 15.821 Lon = -9.415<br>distance = 0.0 km",
          "Lat = -3.764 Lon = -73.266<br>distance = 0.0 km",
          "Lat = -3.759 Lon = -73.254<br>distance = 12439.0 km",
          "Lat = 10.877 Lon = -1.074<br>distance = 10693.0 km",
          "Lat = 3.04 Lon = 12.131<br>distance = 3109.0 km",
          "Lat = 15.812 Lon = -9.387<br>distance = 3.0 km",
          "Lat = -3.764 Lon = -73.268<br>distance = 0.0 km",
          "Lat = -9.925 Lon = 22.595<br>distance = 604.0 km",
          "Lat = 10.887 Lon = -1.084<br>distance = 1054.0 km",
          "Lat = 9.975 Lon = -6.268<br>distance = 11263.0 km",
          "Lat = 10.932 Lon = -1.179<br>distance = 11.0 km",
          "Lat = -13.226 Lon = 27.002<br>distance = 0.0 km",
          "Lat = -1.713 Lon = 30.764<br>distance = 975.0 km",
          "Lat = -13.216 Lon = 27.01<br>distance = 2.0 km",
          "Lat = 16.773 Lon = 98.694<br>distance = 8552.0 km",
          "Lat = -3.674 Lon = 15.048<br>distance = 9460.0 km",
          "Lat = 8.715 Lon = 4.554<br>distance = 4103.0 km",
          "Lat = -3.761 Lon = -73.249<br>distance = 11030.0 km",
          "Lat = 13.704 Lon = -5.489<br>distance = 5322.0 km",
          "Lat = -2.156 Lon = -68.664<br>distance = 6812.0 km",
          "Lat = 15.822 Lon = -9.412<br>distance = 0.0 km",
          "Lat = -7.521 Lon = -1.6<br>distance = 11349.0 km",
          "Lat = 13.047 Lon = -21.63<br>distance = 1352.0 km",
          "Lat = -3.764 Lon = -73.264<br>distance = 8157.0 km",
          "Lat = 15.822 Lon = -9.408<br>distance = 1.0 km",
          "Lat = -3.763 Lon = -73.266<br>distance = 0.0 km",
          "Lat = 11.661 Lon = 1.343<br>distance = 10415.0 km",
          "Lat = 9.647 Lon = 0.33<br>distance = 207.0 km",
          "Lat = -13.223 Lon = 26.994<br>distance = 4090.0 km",
          "Lat = -3.764 Lon = -73.267<br>distance = 0.0 km",
          "Lat = 11.065 Lon = -1.559<br>distance = 8108.0 km",
          "Lat = 10.883 Lon = -1.077<br>distance = 1.0 km",
          "Lat = -3.766 Lon = -73.232<br>distance = 18326.0 km",
          "Lat = -4.936 Lon = 38.81<br>distance = 7011.0 km",
          "Lat = 16.933 Lon = 97.883<br>distance = 6911.0 km",
          "Lat = 13.545 Lon = -18.367<br>distance = 6359.0 km",
          "Lat = 16.816 Lon = 98.504<br>distance = 22.0 km",
          "Lat = -13.229 Lon = 26.999<br>distance = 0.0 km",
          "Lat = -3.764 Lon = -73.266<br>distance = 0.0 km",
          "Lat = -4.845 Lon = 38.962<br>distance = 0.0 km",
          "Lat = 16.8 Lon = 98.622<br>distance = 18320.0 km",
          "Lat = 15.805 Lon = -9.394<br>distance = 1051.0 km",
          "Lat = 16.771 Lon = 98.704<br>distance = 0.0 km",
          "Lat = 10.878 Lon = -1.075<br>distance = 4090.0 km",
          "Lat = -3.914 Lon = -71.687<br>distance = 12264.0 km",
          "Lat = 15.802 Lon = -9.476<br>distance = 7.0 km",
          "Lat = 15.731 Lon = -9.141<br>distance = 5767.0 km",
          "Lat = -11.709 Lon = 29.249<br>distance = 297.0 km",
          "Lat = 11.156 Lon = -0.232<br>distance = 10596.0 km",
          "Lat = 15.821 Lon = -9.414<br>distance = 0.0 km",
          "Lat = 10.885 Lon = -1.088<br>distance = 0.0 km",
          "Lat = -4.358 Lon = 39.184<br>distance = 12471.0 km",
          "Lat = -4.845 Lon = 38.962<br>distance = 0.0 km",
          "Lat = 15.819 Lon = -9.421<br>distance = 5138.0 km",
          "Lat = -13.133 Lon = 26.873<br>distance = 17.0 km",
          "Lat = 10.886 Lon = -1.087<br>distance = 8157.0 km",
          "Lat = 10.883 Lon = -1.09<br>distance = 1.0 km",
          "Lat = 7.251 Lon = -23.581<br>distance = 2505.0 km",
          "Lat = 10.884 Lon = -1.085<br>distance = 0.0 km",
          "Lat = 15.752 Lon = -9.344<br>distance = 11.0 km",
          "Lat = 16.081 Lon = -8.455<br>distance = 11250.0 km"
         ],
         "type": "scattergeo"
        },
        {
         "hoverinfo": "text",
         "lat": [
          -4.844681,
          -13.23,
          15.82083,
          -3.763541,
          16.771015,
          10.885568
         ],
         "lon": [
          38.962097,
          27,
          -9.4145,
          -73.267937,
          98.704491,
          -1.086617
         ],
         "marker": {
          "color": "rgb(0, 0, 255)"
         },
         "name": "True Location",
         "text": [
          "Tanzania<br>Lat = -6.624 Lon = 36.461",
          "Zambia<br>Lat = -13.076 Lon = 27.248",
          "Mauritania<br>Lat = 15.82 Lon = -9.418",
          "Peru <br>Lat = -3.764 Lon = -73.266",
          "Thailand<br>Lat = 10.877 Lon = -1.074",
          "Ghana<br>Lat = 10.932 Lon = -1.179"
         ],
         "type": "scattergeo"
        }
       ],
       "layout": {
        "geo": {
         "countrycolor": "rgb(204, 204, 204)",
         "landcolor": "rgb(243, 243, 243)",
         "projection": {
          "type": "natural earth"
         },
         "showland": true
        },
        "template": {
         "data": {
          "bar": [
           {
            "error_x": {
             "color": "#2a3f5f"
            },
            "error_y": {
             "color": "#2a3f5f"
            },
            "marker": {
             "line": {
              "color": "#E5ECF6",
              "width": 0.5
             }
            },
            "type": "bar"
           }
          ],
          "barpolar": [
           {
            "marker": {
             "line": {
              "color": "#E5ECF6",
              "width": 0.5
             }
            },
            "type": "barpolar"
           }
          ],
          "carpet": [
           {
            "aaxis": {
             "endlinecolor": "#2a3f5f",
             "gridcolor": "white",
             "linecolor": "white",
             "minorgridcolor": "white",
             "startlinecolor": "#2a3f5f"
            },
            "baxis": {
             "endlinecolor": "#2a3f5f",
             "gridcolor": "white",
             "linecolor": "white",
             "minorgridcolor": "white",
             "startlinecolor": "#2a3f5f"
            },
            "type": "carpet"
           }
          ],
          "choropleth": [
           {
            "colorbar": {
             "outlinewidth": 0,
             "ticks": ""
            },
            "type": "choropleth"
           }
          ],
          "contour": [
           {
            "colorbar": {
             "outlinewidth": 0,
             "ticks": ""
            },
            "colorscale": [
             [
              0,
              "#0d0887"
             ],
             [
              0.1111111111111111,
              "#46039f"
             ],
             [
              0.2222222222222222,
              "#7201a8"
             ],
             [
              0.3333333333333333,
              "#9c179e"
             ],
             [
              0.4444444444444444,
              "#bd3786"
             ],
             [
              0.5555555555555556,
              "#d8576b"
             ],
             [
              0.6666666666666666,
              "#ed7953"
             ],
             [
              0.7777777777777778,
              "#fb9f3a"
             ],
             [
              0.8888888888888888,
              "#fdca26"
             ],
             [
              1,
              "#f0f921"
             ]
            ],
            "type": "contour"
           }
          ],
          "contourcarpet": [
           {
            "colorbar": {
             "outlinewidth": 0,
             "ticks": ""
            },
            "type": "contourcarpet"
           }
          ],
          "heatmap": [
           {
            "colorbar": {
             "outlinewidth": 0,
             "ticks": ""
            },
            "colorscale": [
             [
              0,
              "#0d0887"
             ],
             [
              0.1111111111111111,
              "#46039f"
             ],
             [
              0.2222222222222222,
              "#7201a8"
             ],
             [
              0.3333333333333333,
              "#9c179e"
             ],
             [
              0.4444444444444444,
              "#bd3786"
             ],
             [
              0.5555555555555556,
              "#d8576b"
             ],
             [
              0.6666666666666666,
              "#ed7953"
             ],
             [
              0.7777777777777778,
              "#fb9f3a"
             ],
             [
              0.8888888888888888,
              "#fdca26"
             ],
             [
              1,
              "#f0f921"
             ]
            ],
            "type": "heatmap"
           }
          ],
          "heatmapgl": [
           {
            "colorbar": {
             "outlinewidth": 0,
             "ticks": ""
            },
            "colorscale": [
             [
              0,
              "#0d0887"
             ],
             [
              0.1111111111111111,
              "#46039f"
             ],
             [
              0.2222222222222222,
              "#7201a8"
             ],
             [
              0.3333333333333333,
              "#9c179e"
             ],
             [
              0.4444444444444444,
              "#bd3786"
             ],
             [
              0.5555555555555556,
              "#d8576b"
             ],
             [
              0.6666666666666666,
              "#ed7953"
             ],
             [
              0.7777777777777778,
              "#fb9f3a"
             ],
             [
              0.8888888888888888,
              "#fdca26"
             ],
             [
              1,
              "#f0f921"
             ]
            ],
            "type": "heatmapgl"
           }
          ],
          "histogram": [
           {
            "marker": {
             "colorbar": {
              "outlinewidth": 0,
              "ticks": ""
             }
            },
            "type": "histogram"
           }
          ],
          "histogram2d": [
           {
            "colorbar": {
             "outlinewidth": 0,
             "ticks": ""
            },
            "colorscale": [
             [
              0,
              "#0d0887"
             ],
             [
              0.1111111111111111,
              "#46039f"
             ],
             [
              0.2222222222222222,
              "#7201a8"
             ],
             [
              0.3333333333333333,
              "#9c179e"
             ],
             [
              0.4444444444444444,
              "#bd3786"
             ],
             [
              0.5555555555555556,
              "#d8576b"
             ],
             [
              0.6666666666666666,
              "#ed7953"
             ],
             [
              0.7777777777777778,
              "#fb9f3a"
             ],
             [
              0.8888888888888888,
              "#fdca26"
             ],
             [
              1,
              "#f0f921"
             ]
            ],
            "type": "histogram2d"
           }
          ],
          "histogram2dcontour": [
           {
            "colorbar": {
             "outlinewidth": 0,
             "ticks": ""
            },
            "colorscale": [
             [
              0,
              "#0d0887"
             ],
             [
              0.1111111111111111,
              "#46039f"
             ],
             [
              0.2222222222222222,
              "#7201a8"
             ],
             [
              0.3333333333333333,
              "#9c179e"
             ],
             [
              0.4444444444444444,
              "#bd3786"
             ],
             [
              0.5555555555555556,
              "#d8576b"
             ],
             [
              0.6666666666666666,
              "#ed7953"
             ],
             [
              0.7777777777777778,
              "#fb9f3a"
             ],
             [
              0.8888888888888888,
              "#fdca26"
             ],
             [
              1,
              "#f0f921"
             ]
            ],
            "type": "histogram2dcontour"
           }
          ],
          "mesh3d": [
           {
            "colorbar": {
             "outlinewidth": 0,
             "ticks": ""
            },
            "type": "mesh3d"
           }
          ],
          "parcoords": [
           {
            "line": {
             "colorbar": {
              "outlinewidth": 0,
              "ticks": ""
             }
            },
            "type": "parcoords"
           }
          ],
          "pie": [
           {
            "automargin": true,
            "type": "pie"
           }
          ],
          "scatter": [
           {
            "marker": {
             "colorbar": {
              "outlinewidth": 0,
              "ticks": ""
             }
            },
            "type": "scatter"
           }
          ],
          "scatter3d": [
           {
            "line": {
             "colorbar": {
              "outlinewidth": 0,
              "ticks": ""
             }
            },
            "marker": {
             "colorbar": {
              "outlinewidth": 0,
              "ticks": ""
             }
            },
            "type": "scatter3d"
           }
          ],
          "scattercarpet": [
           {
            "marker": {
             "colorbar": {
              "outlinewidth": 0,
              "ticks": ""
             }
            },
            "type": "scattercarpet"
           }
          ],
          "scattergeo": [
           {
            "marker": {
             "colorbar": {
              "outlinewidth": 0,
              "ticks": ""
             }
            },
            "type": "scattergeo"
           }
          ],
          "scattergl": [
           {
            "marker": {
             "colorbar": {
              "outlinewidth": 0,
              "ticks": ""
             }
            },
            "type": "scattergl"
           }
          ],
          "scattermapbox": [
           {
            "marker": {
             "colorbar": {
              "outlinewidth": 0,
              "ticks": ""
             }
            },
            "type": "scattermapbox"
           }
          ],
          "scatterpolar": [
           {
            "marker": {
             "colorbar": {
              "outlinewidth": 0,
              "ticks": ""
             }
            },
            "type": "scatterpolar"
           }
          ],
          "scatterpolargl": [
           {
            "marker": {
             "colorbar": {
              "outlinewidth": 0,
              "ticks": ""
             }
            },
            "type": "scatterpolargl"
           }
          ],
          "scatterternary": [
           {
            "marker": {
             "colorbar": {
              "outlinewidth": 0,
              "ticks": ""
             }
            },
            "type": "scatterternary"
           }
          ],
          "surface": [
           {
            "colorbar": {
             "outlinewidth": 0,
             "ticks": ""
            },
            "colorscale": [
             [
              0,
              "#0d0887"
             ],
             [
              0.1111111111111111,
              "#46039f"
             ],
             [
              0.2222222222222222,
              "#7201a8"
             ],
             [
              0.3333333333333333,
              "#9c179e"
             ],
             [
              0.4444444444444444,
              "#bd3786"
             ],
             [
              0.5555555555555556,
              "#d8576b"
             ],
             [
              0.6666666666666666,
              "#ed7953"
             ],
             [
              0.7777777777777778,
              "#fb9f3a"
             ],
             [
              0.8888888888888888,
              "#fdca26"
             ],
             [
              1,
              "#f0f921"
             ]
            ],
            "type": "surface"
           }
          ],
          "table": [
           {
            "cells": {
             "fill": {
              "color": "#EBF0F8"
             },
             "line": {
              "color": "white"
             }
            },
            "header": {
             "fill": {
              "color": "#C8D4E3"
             },
             "line": {
              "color": "white"
             }
            },
            "type": "table"
           }
          ]
         },
         "layout": {
          "annotationdefaults": {
           "arrowcolor": "#2a3f5f",
           "arrowhead": 0,
           "arrowwidth": 1
          },
          "coloraxis": {
           "colorbar": {
            "outlinewidth": 0,
            "ticks": ""
           }
          },
          "colorscale": {
           "diverging": [
            [
             0,
             "#8e0152"
            ],
            [
             0.1,
             "#c51b7d"
            ],
            [
             0.2,
             "#de77ae"
            ],
            [
             0.3,
             "#f1b6da"
            ],
            [
             0.4,
             "#fde0ef"
            ],
            [
             0.5,
             "#f7f7f7"
            ],
            [
             0.6,
             "#e6f5d0"
            ],
            [
             0.7,
             "#b8e186"
            ],
            [
             0.8,
             "#7fbc41"
            ],
            [
             0.9,
             "#4d9221"
            ],
            [
             1,
             "#276419"
            ]
           ],
           "sequential": [
            [
             0,
             "#0d0887"
            ],
            [
             0.1111111111111111,
             "#46039f"
            ],
            [
             0.2222222222222222,
             "#7201a8"
            ],
            [
             0.3333333333333333,
             "#9c179e"
            ],
            [
             0.4444444444444444,
             "#bd3786"
            ],
            [
             0.5555555555555556,
             "#d8576b"
            ],
            [
             0.6666666666666666,
             "#ed7953"
            ],
            [
             0.7777777777777778,
             "#fb9f3a"
            ],
            [
             0.8888888888888888,
             "#fdca26"
            ],
            [
             1,
             "#f0f921"
            ]
           ],
           "sequentialminus": [
            [
             0,
             "#0d0887"
            ],
            [
             0.1111111111111111,
             "#46039f"
            ],
            [
             0.2222222222222222,
             "#7201a8"
            ],
            [
             0.3333333333333333,
             "#9c179e"
            ],
            [
             0.4444444444444444,
             "#bd3786"
            ],
            [
             0.5555555555555556,
             "#d8576b"
            ],
            [
             0.6666666666666666,
             "#ed7953"
            ],
            [
             0.7777777777777778,
             "#fb9f3a"
            ],
            [
             0.8888888888888888,
             "#fdca26"
            ],
            [
             1,
             "#f0f921"
            ]
           ]
          },
          "colorway": [
           "#636efa",
           "#EF553B",
           "#00cc96",
           "#ab63fa",
           "#FFA15A",
           "#19d3f3",
           "#FF6692",
           "#B6E880",
           "#FF97FF",
           "#FECB52"
          ],
          "font": {
           "color": "#2a3f5f"
          },
          "geo": {
           "bgcolor": "white",
           "lakecolor": "white",
           "landcolor": "#E5ECF6",
           "showlakes": true,
           "showland": true,
           "subunitcolor": "white"
          },
          "hoverlabel": {
           "align": "left"
          },
          "hovermode": "closest",
          "mapbox": {
           "style": "light"
          },
          "paper_bgcolor": "white",
          "plot_bgcolor": "#E5ECF6",
          "polar": {
           "angularaxis": {
            "gridcolor": "white",
            "linecolor": "white",
            "ticks": ""
           },
           "bgcolor": "#E5ECF6",
           "radialaxis": {
            "gridcolor": "white",
            "linecolor": "white",
            "ticks": ""
           }
          },
          "scene": {
           "xaxis": {
            "backgroundcolor": "#E5ECF6",
            "gridcolor": "white",
            "gridwidth": 2,
            "linecolor": "white",
            "showbackground": true,
            "ticks": "",
            "zerolinecolor": "white"
           },
           "yaxis": {
            "backgroundcolor": "#E5ECF6",
            "gridcolor": "white",
            "gridwidth": 2,
            "linecolor": "white",
            "showbackground": true,
            "ticks": "",
            "zerolinecolor": "white"
           },
           "zaxis": {
            "backgroundcolor": "#E5ECF6",
            "gridcolor": "white",
            "gridwidth": 2,
            "linecolor": "white",
            "showbackground": true,
            "ticks": "",
            "zerolinecolor": "white"
           }
          },
          "shapedefaults": {
           "line": {
            "color": "#2a3f5f"
           }
          },
          "ternary": {
           "aaxis": {
            "gridcolor": "white",
            "linecolor": "white",
            "ticks": ""
           },
           "baxis": {
            "gridcolor": "white",
            "linecolor": "white",
            "ticks": ""
           },
           "bgcolor": "#E5ECF6",
           "caxis": {
            "gridcolor": "white",
            "linecolor": "white",
            "ticks": ""
           }
          },
          "title": {
           "x": 0.05
          },
          "xaxis": {
           "automargin": true,
           "gridcolor": "white",
           "linecolor": "white",
           "ticks": "",
           "title": {
            "standoff": 15
           },
           "zerolinecolor": "white",
           "zerolinewidth": 2
          },
          "yaxis": {
           "automargin": true,
           "gridcolor": "white",
           "linecolor": "white",
           "ticks": "",
           "title": {
            "standoff": 15
           },
           "zerolinecolor": "white",
           "zerolinewidth": 2
          }
         }
        }
       }
      },
      "text/html": [
       "<div>                            <div id=\"4b89eda2-0512-4842-97dc-1009db541b00\" class=\"plotly-graph-div\" style=\"height:525px; width:100%;\"></div>            <script type=\"text/javascript\">                require([\"plotly\"], function(Plotly) {                    window.PLOTLYENV=window.PLOTLYENV || {};                                    if (document.getElementById(\"4b89eda2-0512-4842-97dc-1009db541b00\")) {                    Plotly.newPlot(                        \"4b89eda2-0512-4842-97dc-1009db541b00\",                        [{\"hoverinfo\": \"text\", \"lat\": [-4.844681, -6.623532838250085], \"line\": {\"color\": \"red\", \"width\": 1}, \"lon\": [38.962097, 36.46121245645528], \"mode\": \"lines\", \"opacity\": 0.5, \"showlegend\": false, \"text\": \"distance = 339.75 km\", \"type\": \"scattergeo\"}, {\"hoverinfo\": \"text\", \"lat\": [-13.23, -13.076429286289333], \"line\": {\"color\": \"red\", \"width\": 1}, \"lon\": [27.0, 27.24784757544956], \"mode\": \"lines\", \"opacity\": 0.5, \"showlegend\": false, \"text\": \"distance = 31.79 km\", \"type\": \"scattergeo\"}, {\"hoverinfo\": \"text\", \"lat\": [15.82083, 15.82022875665102], \"line\": {\"color\": \"red\", \"width\": 1}, \"lon\": [-9.4145, -9.41755613664858], \"mode\": \"lines\", \"opacity\": 0.5, \"showlegend\": false, \"text\": \"distance = 0.33 km\", \"type\": \"scattergeo\"}, {\"hoverinfo\": \"text\", \"lat\": [15.82083, 15.82083023811339], \"line\": {\"color\": \"red\", \"width\": 1}, \"lon\": [-9.4145, -9.414503600261128], \"mode\": \"lines\", \"opacity\": 0.5, \"showlegend\": false, \"text\": \"distance = 0.00 km\", \"type\": \"scattergeo\"}, {\"hoverinfo\": \"text\", \"lat\": [-3.763541, -3.763838307181719], \"line\": {\"color\": \"red\", \"width\": 1}, \"lon\": [-73.267937, -73.26635670923933], \"mode\": \"lines\", \"opacity\": 0.5, \"showlegend\": false, \"text\": \"distance = 0.18 km\", \"type\": \"scattergeo\"}, {\"hoverinfo\": \"text\", \"lat\": [-4.844681, -3.759202431040597], \"line\": {\"color\": \"red\", \"width\": 1}, \"lon\": [38.962097, -73.25413538951597], \"mode\": \"lines\", \"opacity\": 0.5, \"showlegend\": false, \"text\": \"distance = 12439.05 km\", \"type\": \"scattergeo\"}, {\"hoverinfo\": \"text\", \"lat\": [16.771015, 10.876707457628855], \"line\": {\"color\": \"red\", \"width\": 1}, \"lon\": [98.704491, -1.0739836658016289], \"mode\": \"lines\", \"opacity\": 0.5, \"showlegend\": false, \"text\": \"distance = 10692.82 km\", \"type\": \"scattergeo\"}, {\"hoverinfo\": \"text\", \"lat\": [-4.844681, 3.0398194791862347], \"line\": {\"color\": \"red\", \"width\": 1}, \"lon\": [38.962097, 12.130605107533057], \"mode\": \"lines\", \"opacity\": 0.5, \"showlegend\": false, \"text\": \"distance = 3108.89 km\", \"type\": \"scattergeo\"}, {\"hoverinfo\": \"text\", \"lat\": [15.82083, 15.812299456773207], \"line\": {\"color\": \"red\", \"width\": 1}, \"lon\": [-9.4145, -9.386968281907324], \"mode\": \"lines\", \"opacity\": 0.5, \"showlegend\": false, \"text\": \"distance = 3.10 km\", \"type\": \"scattergeo\"}, {\"hoverinfo\": \"text\", \"lat\": [-3.763541, -3.763539256039675], \"line\": {\"color\": \"red\", \"width\": 1}, \"lon\": [-73.267937, -73.26789909824642], \"mode\": \"lines\", \"opacity\": 0.5, \"showlegend\": false, \"text\": \"distance = 0.00 km\", \"type\": \"scattergeo\"}, {\"hoverinfo\": \"text\", \"lat\": [-13.23, -9.924803250979041], \"line\": {\"color\": \"red\", \"width\": 1}, \"lon\": [27.0, 22.59481413978901], \"mode\": \"lines\", \"opacity\": 0.5, \"showlegend\": false, \"text\": \"distance = 603.70 km\", \"type\": \"scattergeo\"}, {\"hoverinfo\": \"text\", \"lat\": [15.82083, 10.886500653289831], \"line\": {\"color\": \"red\", \"width\": 1}, \"lon\": [-9.4145, -1.0839202733648166], \"mode\": \"lines\", \"opacity\": 0.5, \"showlegend\": false, \"text\": \"distance = 1054.40 km\", \"type\": \"scattergeo\"}, {\"hoverinfo\": \"text\", \"lat\": [16.771015, 9.974710413549287], \"line\": {\"color\": \"red\", \"width\": 1}, \"lon\": [98.704491, -6.268015778200458], \"mode\": \"lines\", \"opacity\": 0.5, \"showlegend\": false, \"text\": \"distance = 11263.09 km\", \"type\": \"scattergeo\"}, {\"hoverinfo\": \"text\", \"lat\": [10.885568, 10.931570191366953], \"line\": {\"color\": \"red\", \"width\": 1}, \"lon\": [-1.086617, -1.1791101745786674], \"mode\": \"lines\", \"opacity\": 0.5, \"showlegend\": false, \"text\": \"distance = 11.32 km\", \"type\": \"scattergeo\"}, {\"hoverinfo\": \"text\", \"lat\": [-13.23, -13.225918822628591], \"line\": {\"color\": \"red\", \"width\": 1}, \"lon\": [27.0, 27.00166386835963], \"mode\": \"lines\", \"opacity\": 0.5, \"showlegend\": false, \"text\": \"distance = 0.49 km\", \"type\": \"scattergeo\"}, {\"hoverinfo\": \"text\", \"lat\": [-4.844681, -1.7133383713590793], \"line\": {\"color\": \"red\", \"width\": 1}, \"lon\": [38.962097, 30.76401801918134], \"mode\": \"lines\", \"opacity\": 0.5, \"showlegend\": false, \"text\": \"distance = 974.59 km\", \"type\": \"scattergeo\"}, {\"hoverinfo\": \"text\", \"lat\": [-13.23, -13.215775760333367], \"line\": {\"color\": \"red\", \"width\": 1}, \"lon\": [27.0, 27.00958500144579], \"mode\": \"lines\", \"opacity\": 0.5, \"showlegend\": false, \"text\": \"distance = 1.89 km\", \"type\": \"scattergeo\"}, {\"hoverinfo\": \"text\", \"lat\": [-13.23, 16.773315286234904], \"line\": {\"color\": \"red\", \"width\": 1}, \"lon\": [27.0, 98.69426647456213], \"mode\": \"lines\", \"opacity\": 0.5, \"showlegend\": false, \"text\": \"distance = 8552.34 km\", \"type\": \"scattergeo\"}, {\"hoverinfo\": \"text\", \"lat\": [16.771015, -3.6736652620491053], \"line\": {\"color\": \"red\", \"width\": 1}, \"lon\": [98.704491, 15.047767832726207], \"mode\": \"lines\", \"opacity\": 0.5, \"showlegend\": false, \"text\": \"distance = 9459.77 km\", \"type\": \"scattergeo\"}, {\"hoverinfo\": \"text\", \"lat\": [-4.844681, 8.714995441064938], \"line\": {\"color\": \"red\", \"width\": 1}, \"lon\": [38.962097, 4.55404565925078], \"mode\": \"lines\", \"opacity\": 0.5, \"showlegend\": false, \"text\": \"distance = 4102.88 km\", \"type\": \"scattergeo\"}, {\"hoverinfo\": \"text\", \"lat\": [-13.23, -3.7612465162199418], \"line\": {\"color\": \"red\", \"width\": 1}, \"lon\": [27.0, -73.24888643701607], \"mode\": \"lines\", \"opacity\": 0.5, \"showlegend\": false, \"text\": \"distance = 11029.65 km\", \"type\": \"scattergeo\"}, {\"hoverinfo\": \"text\", \"lat\": [-4.844681, 13.703846218757942], \"line\": {\"color\": \"red\", \"width\": 1}, \"lon\": [38.962097, -5.488577355569352], \"mode\": \"lines\", \"opacity\": 0.5, \"showlegend\": false, \"text\": \"distance = 5321.86 km\", \"type\": \"scattergeo\"}, {\"hoverinfo\": \"text\", \"lat\": [15.82083, -2.1561778596971304], \"line\": {\"color\": \"red\", \"width\": 1}, \"lon\": [-9.4145, -68.66376537154436], \"mode\": \"lines\", \"opacity\": 0.5, \"showlegend\": false, \"text\": \"distance = 6812.50 km\", \"type\": \"scattergeo\"}, {\"hoverinfo\": \"text\", \"lat\": [15.82083, 15.82175697796099], \"line\": {\"color\": \"red\", \"width\": 1}, \"lon\": [-9.4145, -9.41177474151707], \"mode\": \"lines\", \"opacity\": 0.5, \"showlegend\": false, \"text\": \"distance = 0.31 km\", \"type\": \"scattergeo\"}, {\"hoverinfo\": \"text\", \"lat\": [16.771015, -7.521342026013736], \"line\": {\"color\": \"red\", \"width\": 1}, \"lon\": [98.704491, -1.600031029838921], \"mode\": \"lines\", \"opacity\": 0.5, \"showlegend\": false, \"text\": \"distance = 11348.88 km\", \"type\": \"scattergeo\"}, {\"hoverinfo\": \"text\", \"lat\": [15.82083, 13.047297856145745], \"line\": {\"color\": \"red\", \"width\": 1}, \"lon\": [-9.4145, -21.630317285437187], \"mode\": \"lines\", \"opacity\": 0.5, \"showlegend\": false, \"text\": \"distance = 1352.18 km\", \"type\": \"scattergeo\"}, {\"hoverinfo\": \"text\", \"lat\": [10.885568, -3.7638244654767146], \"line\": {\"color\": \"red\", \"width\": 1}, \"lon\": [-1.086617, -73.26411150378773], \"mode\": \"lines\", \"opacity\": 0.5, \"showlegend\": false, \"text\": \"distance = 8156.77 km\", \"type\": \"scattergeo\"}, {\"hoverinfo\": \"text\", \"lat\": [15.82083, 15.822069467355195], \"line\": {\"color\": \"red\", \"width\": 1}, \"lon\": [-9.4145, -9.40827493517134], \"mode\": \"lines\", \"opacity\": 0.5, \"showlegend\": false, \"text\": \"distance = 0.68 km\", \"type\": \"scattergeo\"}, {\"hoverinfo\": \"text\", \"lat\": [-3.763541, -3.763186185475238], \"line\": {\"color\": \"red\", \"width\": 1}, \"lon\": [-73.267937, -73.26553983209335], \"mode\": \"lines\", \"opacity\": 0.5, \"showlegend\": false, \"text\": \"distance = 0.27 km\", \"type\": \"scattergeo\"}, {\"hoverinfo\": \"text\", \"lat\": [16.771015, 11.660995808260445], \"line\": {\"color\": \"red\", \"width\": 1}, \"lon\": [98.704491, 1.342559642365537], \"mode\": \"lines\", \"opacity\": 0.5, \"showlegend\": false, \"text\": \"distance = 10415.07 km\", \"type\": \"scattergeo\"}, {\"hoverinfo\": \"text\", \"lat\": [10.885568, 9.647395534687082], \"line\": {\"color\": \"red\", \"width\": 1}, \"lon\": [-1.086617, 0.3299645688787733], \"mode\": \"lines\", \"opacity\": 0.5, \"showlegend\": false, \"text\": \"distance = 206.97 km\", \"type\": \"scattergeo\"}, {\"hoverinfo\": \"text\", \"lat\": [10.885568, -13.222959262712507], \"line\": {\"color\": \"red\", \"width\": 1}, \"lon\": [-1.086617, 26.994292993542235], \"mode\": \"lines\", \"opacity\": 0.5, \"showlegend\": false, \"text\": \"distance = 4090.43 km\", \"type\": \"scattergeo\"}, {\"hoverinfo\": \"text\", \"lat\": [-3.763541, -3.76359273451553], \"line\": {\"color\": \"red\", \"width\": 1}, \"lon\": [-73.267937, -73.26734288749999], \"mode\": \"lines\", \"opacity\": 0.5, \"showlegend\": false, \"text\": \"distance = 0.07 km\", \"type\": \"scattergeo\"}, {\"hoverinfo\": \"text\", \"lat\": [-3.763541, 11.065426088387056], \"line\": {\"color\": \"red\", \"width\": 1}, \"lon\": [-73.267937, -1.5593822803081527], \"mode\": \"lines\", \"opacity\": 0.5, \"showlegend\": false, \"text\": \"distance = 8108.47 km\", \"type\": \"scattergeo\"}, {\"hoverinfo\": \"text\", \"lat\": [10.885568, 10.882763700983686], \"line\": {\"color\": \"red\", \"width\": 1}, \"lon\": [-1.086617, -1.0774535574288118], \"mode\": \"lines\", \"opacity\": 0.5, \"showlegend\": false, \"text\": \"distance = 1.05 km\", \"type\": \"scattergeo\"}, {\"hoverinfo\": \"text\", \"lat\": [16.771015, -3.766072682068405], \"line\": {\"color\": \"red\", \"width\": 1}, \"lon\": [98.704491, -73.23167227639235], \"mode\": \"lines\", \"opacity\": 0.5, \"showlegend\": false, \"text\": \"distance = 18325.50 km\", \"type\": \"scattergeo\"}, {\"hoverinfo\": \"text\", \"lat\": [16.771015, -4.935914708439901], \"line\": {\"color\": \"red\", \"width\": 1}, \"lon\": [98.704491, 38.80959326937638], \"mode\": \"lines\", \"opacity\": 0.5, \"showlegend\": false, \"text\": \"distance = 7010.68 km\", \"type\": \"scattergeo\"}, {\"hoverinfo\": \"text\", \"lat\": [-4.844681, 16.93256338264828], \"line\": {\"color\": \"red\", \"width\": 1}, \"lon\": [38.962097, 97.8829078529327], \"mode\": \"lines\", \"opacity\": 0.5, \"showlegend\": false, \"text\": \"distance = 6911.15 km\", \"type\": \"scattergeo\"}, {\"hoverinfo\": \"text\", \"lat\": [-3.763541, 13.545498280682194], \"line\": {\"color\": \"red\", \"width\": 1}, \"lon\": [-73.267937, -18.36654687731693], \"mode\": \"lines\", \"opacity\": 0.5, \"showlegend\": false, \"text\": \"distance = 6358.60 km\", \"type\": \"scattergeo\"}, {\"hoverinfo\": \"text\", \"lat\": [16.771015, 16.816008347221274], \"line\": {\"color\": \"red\", \"width\": 1}, \"lon\": [98.704491, 98.50438273430362], \"mode\": \"lines\", \"opacity\": 0.5, \"showlegend\": false, \"text\": \"distance = 21.91 km\", \"type\": \"scattergeo\"}, {\"hoverinfo\": \"text\", \"lat\": [-13.23, -13.229432731439665], \"line\": {\"color\": \"red\", \"width\": 1}, \"lon\": [27.0, 26.99914178995214], \"mode\": \"lines\", \"opacity\": 0.5, \"showlegend\": false, \"text\": \"distance = 0.11 km\", \"type\": \"scattergeo\"}, {\"hoverinfo\": \"text\", \"lat\": [-3.763541, -3.763634568646176], \"line\": {\"color\": \"red\", \"width\": 1}, \"lon\": [-73.267937, -73.26608490758964], \"mode\": \"lines\", \"opacity\": 0.5, \"showlegend\": false, \"text\": \"distance = 0.21 km\", \"type\": \"scattergeo\"}, {\"hoverinfo\": \"text\", \"lat\": [-4.844681, -4.844629008539336], \"line\": {\"color\": \"red\", \"width\": 1}, \"lon\": [38.962097, 38.961842278951266], \"mode\": \"lines\", \"opacity\": 0.5, \"showlegend\": false, \"text\": \"distance = 0.03 km\", \"type\": \"scattergeo\"}, {\"hoverinfo\": \"text\", \"lat\": [-3.763541, 16.80013757441403], \"line\": {\"color\": \"red\", \"width\": 1}, \"lon\": [-73.267937, 98.62212285110024], \"mode\": \"lines\", \"opacity\": 0.5, \"showlegend\": false, \"text\": \"distance = 18319.95 km\", \"type\": \"scattergeo\"}, {\"hoverinfo\": \"text\", \"lat\": [10.885568, 15.805334387026516], \"line\": {\"color\": \"red\", \"width\": 1}, \"lon\": [-1.086617, -9.393851202229987], \"mode\": \"lines\", \"opacity\": 0.5, \"showlegend\": false, \"text\": \"distance = 1051.43 km\", \"type\": \"scattergeo\"}, {\"hoverinfo\": \"text\", \"lat\": [16.771015, 16.770975599512347], \"line\": {\"color\": \"red\", \"width\": 1}, \"lon\": [98.704491, 98.70421468080306], \"mode\": \"lines\", \"opacity\": 0.5, \"showlegend\": false, \"text\": \"distance = 0.03 km\", \"type\": \"scattergeo\"}, {\"hoverinfo\": \"text\", \"lat\": [-13.23, 10.878463225811005], \"line\": {\"color\": \"red\", \"width\": 1}, \"lon\": [27.0, -1.075428205345292], \"mode\": \"lines\", \"opacity\": 0.5, \"showlegend\": false, \"text\": \"distance = 4089.96 km\", \"type\": \"scattergeo\"}, {\"hoverinfo\": \"text\", \"lat\": [-4.844681, -3.9143619318544642], \"line\": {\"color\": \"red\", \"width\": 1}, \"lon\": [38.962097, -71.68694771287029], \"mode\": \"lines\", \"opacity\": 0.5, \"showlegend\": false, \"text\": \"distance = 12264.17 km\", \"type\": \"scattergeo\"}, {\"hoverinfo\": \"text\", \"lat\": [15.82083, 15.80235604699091], \"line\": {\"color\": \"red\", \"width\": 1}, \"lon\": [-9.4145, -9.475948503117948], \"mode\": \"lines\", \"opacity\": 0.5, \"showlegend\": false, \"text\": \"distance = 6.89 km\", \"type\": \"scattergeo\"}, {\"hoverinfo\": \"text\", \"lat\": [-4.844681, 15.731262716484983], \"line\": {\"color\": \"red\", \"width\": 1}, \"lon\": [38.962097, -9.140509767610983], \"mode\": \"lines\", \"opacity\": 0.5, \"showlegend\": false, \"text\": \"distance = 5767.40 km\", \"type\": \"scattergeo\"}, {\"hoverinfo\": \"text\", \"lat\": [-13.23, -11.708931675332094], \"line\": {\"color\": \"red\", \"width\": 1}, \"lon\": [27.0, 29.248637572497664], \"mode\": \"lines\", \"opacity\": 0.5, \"showlegend\": false, \"text\": \"distance = 296.76 km\", \"type\": \"scattergeo\"}, {\"hoverinfo\": \"text\", \"lat\": [16.771015, 11.15561021076219], \"line\": {\"color\": \"red\", \"width\": 1}, \"lon\": [98.704491, -0.231564072078024], \"mode\": \"lines\", \"opacity\": 0.5, \"showlegend\": false, \"text\": \"distance = 10595.73 km\", \"type\": \"scattergeo\"}, {\"hoverinfo\": \"text\", \"lat\": [15.82083, 15.820874700644952], \"line\": {\"color\": \"red\", \"width\": 1}, \"lon\": [-9.4145, -9.41425673170162], \"mode\": \"lines\", \"opacity\": 0.5, \"showlegend\": false, \"text\": \"distance = 0.03 km\", \"type\": \"scattergeo\"}, {\"hoverinfo\": \"text\", \"lat\": [10.885568, 10.885391507549139], \"line\": {\"color\": \"red\", \"width\": 1}, \"lon\": [-1.086617, -1.0875628588409432], \"mode\": \"lines\", \"opacity\": 0.5, \"showlegend\": false, \"text\": \"distance = 0.11 km\", \"type\": \"scattergeo\"}, {\"hoverinfo\": \"text\", \"lat\": [-3.763541, -4.358024847653913], \"line\": {\"color\": \"red\", \"width\": 1}, \"lon\": [-73.267937, 39.18403078533635], \"mode\": \"lines\", \"opacity\": 0.5, \"showlegend\": false, \"text\": \"distance = 12470.60 km\", \"type\": \"scattergeo\"}, {\"hoverinfo\": \"text\", \"lat\": [-4.844681, -4.844650069691299], \"line\": {\"color\": \"red\", \"width\": 1}, \"lon\": [38.962097, 38.96204373002176], \"mode\": \"lines\", \"opacity\": 0.5, \"showlegend\": false, \"text\": \"distance = 0.01 km\", \"type\": \"scattergeo\"}, {\"hoverinfo\": \"text\", \"lat\": [-13.23, 15.819147427232439], \"line\": {\"color\": \"red\", \"width\": 1}, \"lon\": [27.0, -9.420998200228302], \"mode\": \"lines\", \"opacity\": 0.5, \"showlegend\": false, \"text\": \"distance = 5137.81 km\", \"type\": \"scattergeo\"}, {\"hoverinfo\": \"text\", \"lat\": [-13.23, -13.132927943040112], \"line\": {\"color\": \"red\", \"width\": 1}, \"lon\": [27.0, 26.87268354861034], \"mode\": \"lines\", \"opacity\": 0.5, \"showlegend\": false, \"text\": \"distance = 17.49 km\", \"type\": \"scattergeo\"}, {\"hoverinfo\": \"text\", \"lat\": [-3.763541, 10.885551187183912], \"line\": {\"color\": \"red\", \"width\": 1}, \"lon\": [-73.267937, -1.0866926634837306], \"mode\": \"lines\", \"opacity\": 0.5, \"showlegend\": false, \"text\": \"distance = 8157.17 km\", \"type\": \"scattergeo\"}, {\"hoverinfo\": \"text\", \"lat\": [10.885568, 10.882645887767653], \"line\": {\"color\": \"red\", \"width\": 1}, \"lon\": [-1.086617, -1.0903829388678483], \"mode\": \"lines\", \"opacity\": 0.5, \"showlegend\": false, \"text\": \"distance = 0.52 km\", \"type\": \"scattergeo\"}, {\"hoverinfo\": \"text\", \"lat\": [10.885568, 7.251030360268049], \"line\": {\"color\": \"red\", \"width\": 1}, \"lon\": [-1.086617, -23.580685656619092], \"mode\": \"lines\", \"opacity\": 0.5, \"showlegend\": false, \"text\": \"distance = 2504.56 km\", \"type\": \"scattergeo\"}, {\"hoverinfo\": \"text\", \"lat\": [10.885568, 10.884271655296633], \"line\": {\"color\": \"red\", \"width\": 1}, \"lon\": [-1.086617, -1.0848153644778986], \"mode\": \"lines\", \"opacity\": 0.5, \"showlegend\": false, \"text\": \"distance = 0.24 km\", \"type\": \"scattergeo\"}, {\"hoverinfo\": \"text\", \"lat\": [15.82083, 15.75210326643235], \"line\": {\"color\": \"red\", \"width\": 1}, \"lon\": [-9.4145, -9.344124457405261], \"mode\": \"lines\", \"opacity\": 0.5, \"showlegend\": false, \"text\": \"distance = 10.71 km\", \"type\": \"scattergeo\"}, {\"hoverinfo\": \"text\", \"lat\": [16.771015, 16.081003680993902], \"line\": {\"color\": \"red\", \"width\": 1}, \"lon\": [98.704491, -8.45452117522874], \"mode\": \"lines\", \"opacity\": 0.5, \"showlegend\": false, \"text\": \"distance = 11250.22 km\", \"type\": \"scattergeo\"}, {\"hoverinfo\": \"text\", \"lat\": [-6.623532838250085, -13.076429286289333, 15.82022875665102, 15.82083023811339, -3.763838307181719, -3.759202431040597, 10.876707457628855, 3.0398194791862347, 15.812299456773207, -3.763539256039675, -9.924803250979041, 10.886500653289831, 9.974710413549287, 10.931570191366953, -13.225918822628591, -1.7133383713590793, -13.215775760333367, 16.773315286234904, -3.6736652620491053, 8.714995441064938, -3.7612465162199418, 13.703846218757942, -2.1561778596971304, 15.82175697796099, -7.521342026013736, 13.047297856145745, -3.7638244654767146, 15.822069467355195, -3.763186185475238, 11.660995808260445, 9.647395534687082, -13.222959262712507, -3.76359273451553, 11.065426088387056, 10.882763700983686, -3.766072682068405, -4.935914708439901, 16.93256338264828, 13.545498280682194, 16.816008347221274, -13.229432731439665, -3.763634568646176, -4.844629008539336, 16.80013757441403, 15.805334387026516, 16.770975599512347, 10.878463225811005, -3.9143619318544642, 15.80235604699091, 15.731262716484983, -11.708931675332094, 11.15561021076219, 15.820874700644952, 10.885391507549139, -4.358024847653913, -4.844650069691299, 15.819147427232439, -13.132927943040112, 10.885551187183912, 10.882645887767653, 7.251030360268049, 10.884271655296633, 15.75210326643235, 16.081003680993902], \"lon\": [36.46121245645528, 27.24784757544956, -9.41755613664858, -9.414503600261128, -73.26635670923933, -73.25413538951597, -1.0739836658016289, 12.130605107533057, -9.386968281907324, -73.26789909824642, 22.59481413978901, -1.0839202733648166, -6.268015778200458, -1.1791101745786674, 27.00166386835963, 30.76401801918134, 27.00958500144579, 98.69426647456213, 15.047767832726207, 4.55404565925078, -73.24888643701607, -5.488577355569352, -68.66376537154436, -9.41177474151707, -1.600031029838921, -21.630317285437187, -73.26411150378773, -9.40827493517134, -73.26553983209335, 1.342559642365537, 0.3299645688787733, 26.994292993542235, -73.26734288749999, -1.5593822803081527, -1.0774535574288118, -73.23167227639235, 38.80959326937638, 97.8829078529327, -18.36654687731693, 98.50438273430362, 26.99914178995214, -73.26608490758964, 38.961842278951266, 98.62212285110024, -9.393851202229987, 98.70421468080306, -1.075428205345292, -71.68694771287029, -9.475948503117948, -9.140509767610983, 29.248637572497664, -0.231564072078024, -9.41425673170162, -1.0875628588409432, 39.18403078533635, 38.96204373002176, -9.420998200228302, 26.87268354861034, -1.0866926634837306, -1.0903829388678483, -23.580685656619092, -1.0848153644778986, -9.344124457405261, -8.45452117522874], \"marker\": {\"color\": \"rgb(255, 0, 0)\"}, \"name\": \"Predicted MidPoint\", \"text\": [\"Lat = -6.624 Lon = 36.461<br>distance = 340.0 km\", \"Lat = -13.076 Lon = 27.248<br>distance = 32.0 km\", \"Lat = 15.82 Lon = -9.418<br>distance = 0.0 km\", \"Lat = 15.821 Lon = -9.415<br>distance = 0.0 km\", \"Lat = -3.764 Lon = -73.266<br>distance = 0.0 km\", \"Lat = -3.759 Lon = -73.254<br>distance = 12439.0 km\", \"Lat = 10.877 Lon = -1.074<br>distance = 10693.0 km\", \"Lat = 3.04 Lon = 12.131<br>distance = 3109.0 km\", \"Lat = 15.812 Lon = -9.387<br>distance = 3.0 km\", \"Lat = -3.764 Lon = -73.268<br>distance = 0.0 km\", \"Lat = -9.925 Lon = 22.595<br>distance = 604.0 km\", \"Lat = 10.887 Lon = -1.084<br>distance = 1054.0 km\", \"Lat = 9.975 Lon = -6.268<br>distance = 11263.0 km\", \"Lat = 10.932 Lon = -1.179<br>distance = 11.0 km\", \"Lat = -13.226 Lon = 27.002<br>distance = 0.0 km\", \"Lat = -1.713 Lon = 30.764<br>distance = 975.0 km\", \"Lat = -13.216 Lon = 27.01<br>distance = 2.0 km\", \"Lat = 16.773 Lon = 98.694<br>distance = 8552.0 km\", \"Lat = -3.674 Lon = 15.048<br>distance = 9460.0 km\", \"Lat = 8.715 Lon = 4.554<br>distance = 4103.0 km\", \"Lat = -3.761 Lon = -73.249<br>distance = 11030.0 km\", \"Lat = 13.704 Lon = -5.489<br>distance = 5322.0 km\", \"Lat = -2.156 Lon = -68.664<br>distance = 6812.0 km\", \"Lat = 15.822 Lon = -9.412<br>distance = 0.0 km\", \"Lat = -7.521 Lon = -1.6<br>distance = 11349.0 km\", \"Lat = 13.047 Lon = -21.63<br>distance = 1352.0 km\", \"Lat = -3.764 Lon = -73.264<br>distance = 8157.0 km\", \"Lat = 15.822 Lon = -9.408<br>distance = 1.0 km\", \"Lat = -3.763 Lon = -73.266<br>distance = 0.0 km\", \"Lat = 11.661 Lon = 1.343<br>distance = 10415.0 km\", \"Lat = 9.647 Lon = 0.33<br>distance = 207.0 km\", \"Lat = -13.223 Lon = 26.994<br>distance = 4090.0 km\", \"Lat = -3.764 Lon = -73.267<br>distance = 0.0 km\", \"Lat = 11.065 Lon = -1.559<br>distance = 8108.0 km\", \"Lat = 10.883 Lon = -1.077<br>distance = 1.0 km\", \"Lat = -3.766 Lon = -73.232<br>distance = 18326.0 km\", \"Lat = -4.936 Lon = 38.81<br>distance = 7011.0 km\", \"Lat = 16.933 Lon = 97.883<br>distance = 6911.0 km\", \"Lat = 13.545 Lon = -18.367<br>distance = 6359.0 km\", \"Lat = 16.816 Lon = 98.504<br>distance = 22.0 km\", \"Lat = -13.229 Lon = 26.999<br>distance = 0.0 km\", \"Lat = -3.764 Lon = -73.266<br>distance = 0.0 km\", \"Lat = -4.845 Lon = 38.962<br>distance = 0.0 km\", \"Lat = 16.8 Lon = 98.622<br>distance = 18320.0 km\", \"Lat = 15.805 Lon = -9.394<br>distance = 1051.0 km\", \"Lat = 16.771 Lon = 98.704<br>distance = 0.0 km\", \"Lat = 10.878 Lon = -1.075<br>distance = 4090.0 km\", \"Lat = -3.914 Lon = -71.687<br>distance = 12264.0 km\", \"Lat = 15.802 Lon = -9.476<br>distance = 7.0 km\", \"Lat = 15.731 Lon = -9.141<br>distance = 5767.0 km\", \"Lat = -11.709 Lon = 29.249<br>distance = 297.0 km\", \"Lat = 11.156 Lon = -0.232<br>distance = 10596.0 km\", \"Lat = 15.821 Lon = -9.414<br>distance = 0.0 km\", \"Lat = 10.885 Lon = -1.088<br>distance = 0.0 km\", \"Lat = -4.358 Lon = 39.184<br>distance = 12471.0 km\", \"Lat = -4.845 Lon = 38.962<br>distance = 0.0 km\", \"Lat = 15.819 Lon = -9.421<br>distance = 5138.0 km\", \"Lat = -13.133 Lon = 26.873<br>distance = 17.0 km\", \"Lat = 10.886 Lon = -1.087<br>distance = 8157.0 km\", \"Lat = 10.883 Lon = -1.09<br>distance = 1.0 km\", \"Lat = 7.251 Lon = -23.581<br>distance = 2505.0 km\", \"Lat = 10.884 Lon = -1.085<br>distance = 0.0 km\", \"Lat = 15.752 Lon = -9.344<br>distance = 11.0 km\", \"Lat = 16.081 Lon = -8.455<br>distance = 11250.0 km\"], \"type\": \"scattergeo\"}, {\"hoverinfo\": \"text\", \"lat\": [-4.844681, -13.23, 15.82083, -3.763541, 16.771015, 10.885568], \"lon\": [38.962097, 27.0, -9.4145, -73.267937, 98.704491, -1.086617], \"marker\": {\"color\": \"rgb(0, 0, 255)\"}, \"name\": \"True Location\", \"text\": [\"Tanzania<br>Lat = -6.624 Lon = 36.461\", \"Zambia<br>Lat = -13.076 Lon = 27.248\", \"Mauritania<br>Lat = 15.82 Lon = -9.418\", \"Peru <br>Lat = -3.764 Lon = -73.266\", \"Thailand<br>Lat = 10.877 Lon = -1.074\", \"Ghana<br>Lat = 10.932 Lon = -1.179\"], \"type\": \"scattergeo\"}],                        {\"geo\": {\"countrycolor\": \"rgb(204, 204, 204)\", \"landcolor\": \"rgb(243, 243, 243)\", \"projection\": {\"type\": \"natural earth\"}, \"showland\": true}, \"template\": {\"data\": {\"bar\": [{\"error_x\": {\"color\": \"#2a3f5f\"}, \"error_y\": {\"color\": \"#2a3f5f\"}, \"marker\": {\"line\": {\"color\": \"#E5ECF6\", \"width\": 0.5}}, \"type\": \"bar\"}], \"barpolar\": [{\"marker\": {\"line\": {\"color\": \"#E5ECF6\", \"width\": 0.5}}, \"type\": \"barpolar\"}], \"carpet\": [{\"aaxis\": {\"endlinecolor\": \"#2a3f5f\", \"gridcolor\": \"white\", \"linecolor\": \"white\", \"minorgridcolor\": \"white\", \"startlinecolor\": \"#2a3f5f\"}, \"baxis\": {\"endlinecolor\": \"#2a3f5f\", \"gridcolor\": \"white\", \"linecolor\": \"white\", \"minorgridcolor\": \"white\", \"startlinecolor\": \"#2a3f5f\"}, \"type\": \"carpet\"}], \"choropleth\": [{\"colorbar\": {\"outlinewidth\": 0, \"ticks\": \"\"}, \"type\": \"choropleth\"}], \"contour\": [{\"colorbar\": {\"outlinewidth\": 0, \"ticks\": \"\"}, \"colorscale\": [[0.0, \"#0d0887\"], [0.1111111111111111, \"#46039f\"], [0.2222222222222222, \"#7201a8\"], [0.3333333333333333, \"#9c179e\"], [0.4444444444444444, \"#bd3786\"], [0.5555555555555556, \"#d8576b\"], [0.6666666666666666, \"#ed7953\"], [0.7777777777777778, \"#fb9f3a\"], [0.8888888888888888, \"#fdca26\"], [1.0, \"#f0f921\"]], \"type\": \"contour\"}], \"contourcarpet\": [{\"colorbar\": {\"outlinewidth\": 0, \"ticks\": \"\"}, \"type\": \"contourcarpet\"}], \"heatmap\": [{\"colorbar\": {\"outlinewidth\": 0, \"ticks\": \"\"}, \"colorscale\": [[0.0, \"#0d0887\"], [0.1111111111111111, \"#46039f\"], [0.2222222222222222, \"#7201a8\"], [0.3333333333333333, \"#9c179e\"], [0.4444444444444444, \"#bd3786\"], [0.5555555555555556, \"#d8576b\"], [0.6666666666666666, \"#ed7953\"], [0.7777777777777778, \"#fb9f3a\"], [0.8888888888888888, \"#fdca26\"], [1.0, \"#f0f921\"]], \"type\": \"heatmap\"}], \"heatmapgl\": [{\"colorbar\": {\"outlinewidth\": 0, \"ticks\": \"\"}, \"colorscale\": [[0.0, \"#0d0887\"], [0.1111111111111111, \"#46039f\"], [0.2222222222222222, \"#7201a8\"], [0.3333333333333333, \"#9c179e\"], [0.4444444444444444, \"#bd3786\"], [0.5555555555555556, \"#d8576b\"], [0.6666666666666666, \"#ed7953\"], [0.7777777777777778, \"#fb9f3a\"], [0.8888888888888888, \"#fdca26\"], [1.0, \"#f0f921\"]], \"type\": \"heatmapgl\"}], \"histogram\": [{\"marker\": {\"colorbar\": {\"outlinewidth\": 0, \"ticks\": \"\"}}, \"type\": \"histogram\"}], \"histogram2d\": [{\"colorbar\": {\"outlinewidth\": 0, \"ticks\": \"\"}, \"colorscale\": [[0.0, \"#0d0887\"], [0.1111111111111111, \"#46039f\"], [0.2222222222222222, \"#7201a8\"], [0.3333333333333333, \"#9c179e\"], [0.4444444444444444, \"#bd3786\"], [0.5555555555555556, \"#d8576b\"], [0.6666666666666666, \"#ed7953\"], [0.7777777777777778, \"#fb9f3a\"], [0.8888888888888888, \"#fdca26\"], [1.0, \"#f0f921\"]], \"type\": \"histogram2d\"}], \"histogram2dcontour\": [{\"colorbar\": {\"outlinewidth\": 0, \"ticks\": \"\"}, \"colorscale\": [[0.0, \"#0d0887\"], [0.1111111111111111, \"#46039f\"], [0.2222222222222222, \"#7201a8\"], [0.3333333333333333, \"#9c179e\"], [0.4444444444444444, \"#bd3786\"], [0.5555555555555556, \"#d8576b\"], [0.6666666666666666, \"#ed7953\"], [0.7777777777777778, \"#fb9f3a\"], [0.8888888888888888, \"#fdca26\"], [1.0, \"#f0f921\"]], \"type\": \"histogram2dcontour\"}], \"mesh3d\": [{\"colorbar\": {\"outlinewidth\": 0, \"ticks\": \"\"}, \"type\": \"mesh3d\"}], \"parcoords\": [{\"line\": {\"colorbar\": {\"outlinewidth\": 0, \"ticks\": \"\"}}, \"type\": \"parcoords\"}], \"pie\": [{\"automargin\": true, \"type\": \"pie\"}], \"scatter\": [{\"marker\": {\"colorbar\": {\"outlinewidth\": 0, \"ticks\": \"\"}}, \"type\": \"scatter\"}], \"scatter3d\": [{\"line\": {\"colorbar\": {\"outlinewidth\": 0, \"ticks\": \"\"}}, \"marker\": {\"colorbar\": {\"outlinewidth\": 0, \"ticks\": \"\"}}, \"type\": \"scatter3d\"}], \"scattercarpet\": [{\"marker\": {\"colorbar\": {\"outlinewidth\": 0, \"ticks\": \"\"}}, \"type\": \"scattercarpet\"}], \"scattergeo\": [{\"marker\": {\"colorbar\": {\"outlinewidth\": 0, \"ticks\": \"\"}}, \"type\": \"scattergeo\"}], \"scattergl\": [{\"marker\": {\"colorbar\": {\"outlinewidth\": 0, \"ticks\": \"\"}}, \"type\": \"scattergl\"}], \"scattermapbox\": [{\"marker\": {\"colorbar\": {\"outlinewidth\": 0, \"ticks\": \"\"}}, \"type\": \"scattermapbox\"}], \"scatterpolar\": [{\"marker\": {\"colorbar\": {\"outlinewidth\": 0, \"ticks\": \"\"}}, \"type\": \"scatterpolar\"}], \"scatterpolargl\": [{\"marker\": {\"colorbar\": {\"outlinewidth\": 0, \"ticks\": \"\"}}, \"type\": \"scatterpolargl\"}], \"scatterternary\": [{\"marker\": {\"colorbar\": {\"outlinewidth\": 0, \"ticks\": \"\"}}, \"type\": \"scatterternary\"}], \"surface\": [{\"colorbar\": {\"outlinewidth\": 0, \"ticks\": \"\"}, \"colorscale\": [[0.0, \"#0d0887\"], [0.1111111111111111, \"#46039f\"], [0.2222222222222222, \"#7201a8\"], [0.3333333333333333, \"#9c179e\"], [0.4444444444444444, \"#bd3786\"], [0.5555555555555556, \"#d8576b\"], [0.6666666666666666, \"#ed7953\"], [0.7777777777777778, \"#fb9f3a\"], [0.8888888888888888, \"#fdca26\"], [1.0, \"#f0f921\"]], \"type\": \"surface\"}], \"table\": [{\"cells\": {\"fill\": {\"color\": \"#EBF0F8\"}, \"line\": {\"color\": \"white\"}}, \"header\": {\"fill\": {\"color\": \"#C8D4E3\"}, \"line\": {\"color\": \"white\"}}, \"type\": \"table\"}]}, \"layout\": {\"annotationdefaults\": {\"arrowcolor\": \"#2a3f5f\", \"arrowhead\": 0, \"arrowwidth\": 1}, \"coloraxis\": {\"colorbar\": {\"outlinewidth\": 0, \"ticks\": \"\"}}, \"colorscale\": {\"diverging\": [[0, \"#8e0152\"], [0.1, \"#c51b7d\"], [0.2, \"#de77ae\"], [0.3, \"#f1b6da\"], [0.4, \"#fde0ef\"], [0.5, \"#f7f7f7\"], [0.6, \"#e6f5d0\"], [0.7, \"#b8e186\"], [0.8, \"#7fbc41\"], [0.9, \"#4d9221\"], [1, \"#276419\"]], \"sequential\": [[0.0, \"#0d0887\"], [0.1111111111111111, \"#46039f\"], [0.2222222222222222, \"#7201a8\"], [0.3333333333333333, \"#9c179e\"], [0.4444444444444444, \"#bd3786\"], [0.5555555555555556, \"#d8576b\"], [0.6666666666666666, \"#ed7953\"], [0.7777777777777778, \"#fb9f3a\"], [0.8888888888888888, \"#fdca26\"], [1.0, \"#f0f921\"]], \"sequentialminus\": [[0.0, \"#0d0887\"], [0.1111111111111111, \"#46039f\"], [0.2222222222222222, \"#7201a8\"], [0.3333333333333333, \"#9c179e\"], [0.4444444444444444, \"#bd3786\"], [0.5555555555555556, \"#d8576b\"], [0.6666666666666666, \"#ed7953\"], [0.7777777777777778, \"#fb9f3a\"], [0.8888888888888888, \"#fdca26\"], [1.0, \"#f0f921\"]]}, \"colorway\": [\"#636efa\", \"#EF553B\", \"#00cc96\", \"#ab63fa\", \"#FFA15A\", \"#19d3f3\", \"#FF6692\", \"#B6E880\", \"#FF97FF\", \"#FECB52\"], \"font\": {\"color\": \"#2a3f5f\"}, \"geo\": {\"bgcolor\": \"white\", \"lakecolor\": \"white\", \"landcolor\": \"#E5ECF6\", \"showlakes\": true, \"showland\": true, \"subunitcolor\": \"white\"}, \"hoverlabel\": {\"align\": \"left\"}, \"hovermode\": \"closest\", \"mapbox\": {\"style\": \"light\"}, \"paper_bgcolor\": \"white\", \"plot_bgcolor\": \"#E5ECF6\", \"polar\": {\"angularaxis\": {\"gridcolor\": \"white\", \"linecolor\": \"white\", \"ticks\": \"\"}, \"bgcolor\": \"#E5ECF6\", \"radialaxis\": {\"gridcolor\": \"white\", \"linecolor\": \"white\", \"ticks\": \"\"}}, \"scene\": {\"xaxis\": {\"backgroundcolor\": \"#E5ECF6\", \"gridcolor\": \"white\", \"gridwidth\": 2, \"linecolor\": \"white\", \"showbackground\": true, \"ticks\": \"\", \"zerolinecolor\": \"white\"}, \"yaxis\": {\"backgroundcolor\": \"#E5ECF6\", \"gridcolor\": \"white\", \"gridwidth\": 2, \"linecolor\": \"white\", \"showbackground\": true, \"ticks\": \"\", \"zerolinecolor\": \"white\"}, \"zaxis\": {\"backgroundcolor\": \"#E5ECF6\", \"gridcolor\": \"white\", \"gridwidth\": 2, \"linecolor\": \"white\", \"showbackground\": true, \"ticks\": \"\", \"zerolinecolor\": \"white\"}}, \"shapedefaults\": {\"line\": {\"color\": \"#2a3f5f\"}}, \"ternary\": {\"aaxis\": {\"gridcolor\": \"white\", \"linecolor\": \"white\", \"ticks\": \"\"}, \"baxis\": {\"gridcolor\": \"white\", \"linecolor\": \"white\", \"ticks\": \"\"}, \"bgcolor\": \"#E5ECF6\", \"caxis\": {\"gridcolor\": \"white\", \"linecolor\": \"white\", \"ticks\": \"\"}}, \"title\": {\"x\": 0.05}, \"xaxis\": {\"automargin\": true, \"gridcolor\": \"white\", \"linecolor\": \"white\", \"ticks\": \"\", \"title\": {\"standoff\": 15}, \"zerolinecolor\": \"white\", \"zerolinewidth\": 2}, \"yaxis\": {\"automargin\": true, \"gridcolor\": \"white\", \"linecolor\": \"white\", \"ticks\": \"\", \"title\": {\"standoff\": 15}, \"zerolinecolor\": \"white\", \"zerolinewidth\": 2}}}},                        {\"displaylogo\": false, \"responsive\": true}                    ).then(function(){\n",
       "                            \n",
       "var gd = document.getElementById('4b89eda2-0512-4842-97dc-1009db541b00');\n",
       "var x = new MutationObserver(function (mutations, observer) {{\n",
       "        var display = window.getComputedStyle(gd).display;\n",
       "        if (!display || display === 'none') {{\n",
       "            console.log([gd, 'removed!']);\n",
       "            Plotly.purge(gd);\n",
       "            observer.disconnect();\n",
       "        }}\n",
       "}});\n",
       "\n",
       "// Listen for the removal of the full notebook cells\n",
       "var notebookContainer = gd.closest('#notebook-container');\n",
       "if (notebookContainer) {{\n",
       "    x.observe(notebookContainer, {childList: true});\n",
       "}}\n",
       "\n",
       "// Listen for the clearing of the current output cell\n",
       "var outputEl = gd.closest('.output');\n",
       "if (outputEl) {{\n",
       "    x.observe(outputEl, {childList: true});\n",
       "}}\n",
       "\n",
       "                        })                };                });            </script>        </div>"
      ]
     },
     "metadata": {},
     "output_type": "display_data"
    },
    {
     "name": "stdout",
     "output_type": "stream",
     "text": [
      "Epochs of train: 1200\n",
      "Pipeline(memory=None,\n",
      "     steps=[('imputer', BinomialImputer()), ('keras', <tensorflow.python.keras.wrappers.scikit_learn.KerasClassifier object at 0x7fcd14096490>)])\n"
     ]
    },
    {
     "data": {
      "image/png": "[encoded data removed]",
      "text/plain": [
       "<Figure size 432x288 with 1 Axes>"
      ]
     },
     "metadata": {
      "needs_background": "light"
     },
     "output_type": "display_data"
    },
    {
     "data": {
      "image/png": "[encoded data removed]",
      "text/plain": [
       "<Figure size 432x288 with 1 Axes>"
      ]
     },
     "metadata": {
      "needs_background": "light"
     },
     "output_type": "display_data"
    }
   ],
   "source": [
    "########################################################################\n",
    "##### Keras classification wrapper\n",
    "\n",
    "#import keras\n",
    "hh = tf.keras.callbacks.History()\n",
    "es = tf.keras.callbacks.EarlyStopping(monitor='val_accuracy', patience=patience_setting, verbose=1)\n",
    "#mc = tf.keras.callbacks.ModelCheckpoint('best_model_keras_clfn.h5', monitor='val_accuracy', mode='max', verbose=1, save_best_only=True)\n",
    "cnn_input_shape = (df_ml_data.shape[1], )\n",
    "cnn_nclasses=len(set(y_ml_data)) ###number of geographies\n",
    "\n",
    "if \"keras_clfn\" in algo_active_list:\n",
    "    #print(optimizer, \"=optimizer\")\n",
    "    m = make_keras_classifier()\n",
    "    #m.summary()\n",
    "\n",
    "    ##### model fit with callbacks \n",
    "    # create and fit wrapper   \n",
    "    keras_cls_wrapper = KerasClassifierWrapper(make_model_func=make_keras_classifier)\n",
    "    keras_cls_wrapper.fit(X=df_ml_data.iloc[:], y=y_ml_data.iloc[:],keras__callbacks=[hh],\n",
    "                    keras__validation_data=(df_validation_es,y_validation_es),\n",
    "                     )\n",
    "    keras_cls_wrapper.predict_proba(df_test, filename=None)\n",
    "    print(keras_cls_wrapper.best_)\n",
    "\n",
    "    ### Evaluate holdout\n",
    "    eval_on_holdout = keras_cls_wrapper.evaluate_on_holdout(df_test, y_test, label_enc, location_dict,\n",
    "                                                            filename=file_out_dict[\"file_out_keras_clfn_holdout\"])\n",
    "    #print(eval_on_holdout.head())\n",
    "\n",
    "    print('Test accuracy = ', keras_cls_wrapper.get_holdout_accuracy(eval_on_holdout))\n",
    "    print('Mean distance error (km) = ', keras_cls_wrapper.get_holdout_mean_distance_error(eval_on_holdout))\n",
    "\n",
    "    keras_cls_wrapper.get_grouped_holdout_stats(eval_on_holdout,\n",
    "                                                filename=file_out_dict[\"file_out_keras_clfn_holdout_grouped\"])\n",
    "\n",
    "    if calculate_out_of_folds==1:\n",
    "        group_cv = GroupKFold(n_splits=len(set(y_label_ml_data)))\n",
    "        oof_preds_2 = keras_cls_wrapper.get_oof_predictions(X=df_ml_data, \n",
    "                                                      y=y_ml_data, \n",
    "                                                      groups=y_label_ml_data,\n",
    "                                                      cv_strategy=group_cv,\n",
    "                                                      location_dict=location_dict,\n",
    "                                                      label_enc=label_enc,\n",
    "                                                      filename=file_out_dict[\"file_out_keras_clfn_oof_preds\"]\n",
    "                                                     )  # pass exactly the same params as for fit method\n",
    "        print(accuracy_score(oof_preds_2.pred_location, oof_preds_2.true_location))\n",
    "        print(oof_preds_2.head())\n",
    "\n",
    "    plot_eval_on_holdout_sample(eval_on_holdout,save=plotting_enabled,\n",
    "                                save_fpath=file_out_dict[\"file_out_keras_clfn_plot\"]);\n",
    "\n",
    "if \"keras_clfn\" in algo_active_list:\n",
    "\n",
    "    print('Epochs of train:', len(hh.history['loss']))\n",
    "    print(keras_cls_wrapper.best_)\n",
    "\n",
    "    performance_curve_loss(hh,\"keras_clfn\")\n",
    "    performance_curve_metric(hh,\"keras_clfn\")\n",
    "\n",
    "    outvar=df_ml_data.shape[1]\n",
    "    if \"keras_clfn\" in algo_active_list:\n",
    "        !echo $outvar > $keras_classifier_success"
   ]
  },
  {
   "cell_type": "code",
   "execution_count": 199,
   "metadata": {},
   "outputs": [
    {
     "data": {
      "image/png": "[encoded data removed]",
      "text/plain": [
       "<Figure size 432x288 with 1 Axes>"
      ]
     },
     "metadata": {
      "needs_background": "light"
     },
     "output_type": "display_data"
    },
    {
     "data": {
      "image/png": "[encoded data removed]",
      "text/plain": [
       "<Figure size 432x288 with 1 Axes>"
      ]
     },
     "metadata": {
      "needs_background": "light"
     },
     "output_type": "display_data"
    }
   ],
   "source": [
    "if \"keras_clfn\" in algo_active_list:\n",
    "    performance_curve_loss(hh,\"keras_clfn\")\n",
    "    performance_curve_metric(hh,\"keras_clfn\")"
   ]
  },
  {
   "cell_type": "code",
   "execution_count": 200,
   "metadata": {},
   "outputs": [
    {
     "name": "stdout",
     "output_type": "stream",
     "text": [
      "0.6\n"
     ]
    }
   ],
   "source": [
    "if \"keras_clfn\" in algo_active_list:\n",
    "    print(np.mean(hh.history['val_accuracy'][-10:]))"
   ]
  },
  {
   "cell_type": "code",
   "execution_count": 201,
   "metadata": {},
   "outputs": [],
   "source": [
    "# we can use the same function here as we did for keras regressor\n",
    "if \"keras_clfn\" in algo_active_list:\n",
    "    coefficient_store=pd.DataFrame(columns=[\"values\"])\n",
    "    coefficient_store.loc[\"coef_count\"]=keras_wrapper_count_nonzero_coefs(keras_cls_wrapper, tol=1e-30, return_count=True)\n",
    "    coefficient_store.loc[\"coef_share\"]=keras_wrapper_count_nonzero_coefs(keras_cls_wrapper, tol=1e-30, return_count=False)\n",
    "    coefficient_store.to_csv(file_out_dict[\"file_out_keras_clfn_coef\"])\n",
    "    keras_wrapper_count_nonzero_coefs(keras_cls_wrapper, tol=1e-30, return_count=True)"
   ]
  },
  {
   "cell_type": "code",
   "execution_count": 202,
   "metadata": {},
   "outputs": [],
   "source": [
    "###map countries to regions, then do pca byt region, then do by country\n",
    "df_regions=pd.read_excel(\"Country_Region_Mapping.xlsx\")\n",
    "df_regions.columns=[\"country\",\"region\"]\n",
    "df_geo_full_expanded=pd.merge(df_geo_full,df_regions,  how='left', left_on=\"Location\",right_on=\"country\")"
   ]
  },
  {
   "cell_type": "code",
   "execution_count": 203,
   "metadata": {},
   "outputs": [],
   "source": [
    "df_geo_full_expanded.to_csv(\"inspectregions.csv\")"
   ]
  },
  {
   "cell_type": "code",
   "execution_count": 204,
   "metadata": {},
   "outputs": [],
   "source": [
    "def run_and_plot_PDA(df_full,df_geo_full_expanded,subset,inverse,grouping_level,n_components=2,title_graph=None):\n",
    "    boolean=df_geo_full_expanded[\"region\"].isin([subset])\n",
    "    boolean=np.array(boolean)\n",
    "    print(boolean.shape)\n",
    "    if inverse==True:\n",
    "        boolean=~boolean\n",
    "    if subset==\"all\":\n",
    "        pass\n",
    "    else:\n",
    "        df_full=df_full[boolean]\n",
    "        df_geo_full_expanded=df_geo_full_expanded[boolean]\n",
    "    pca = PCA(n_components)\n",
    "    pca_array = pca.fit_transform(df_full.values)\n",
    "    groupslist=list(df_geo_full_expanded[grouping_level])\n",
    "\n",
    "    colors = ['r', 'b', 'g']\n",
    "    markers = ['s', 'x', 'o']\n",
    "\n",
    "    for l in np.unique(groupslist):\n",
    "        plt.scatter(pca_array[np.array(groupslist)==l, 0], \n",
    "                    pca_array[np.array(groupslist)==l, 1], \n",
    "                    label=l)    \n",
    "    #                    c=c, label=l, marker=m) \n",
    "    plt.xlabel('PC 1')\n",
    "    plt.ylabel('PC 2')\n",
    "    plt.legend(loc='upper right',bbox_to_anchor=(0, 1))\n",
    "    plt.title(title_graph)\n",
    "    plt.show()"
   ]
  },
  {
   "cell_type": "code",
   "execution_count": 205,
   "metadata": {},
   "outputs": [
    {
     "name": "stdout",
     "output_type": "stream",
     "text": [
      "(636,)\n"
     ]
    },
    {
     "data": {
      "image/png": "[encoded data removed]",
      "text/plain": [
       "<Figure size 432x288 with 1 Axes>"
      ]
     },
     "metadata": {
      "needs_background": "light"
     },
     "output_type": "display_data"
    }
   ],
   "source": [
    "###############################\n",
    "##### pca\n",
    "if \"pca\" in algo_active_list: \n",
    "    run_and_plot_PDA(df_full,df_geo_full_expanded,subset=\"all\",inverse=False,grouping_level=\"region\",n_components=2,title_graph=\"PCA All Regions_vivax\")"
   ]
  },
  {
   "cell_type": "code",
   "execution_count": 206,
   "metadata": {},
   "outputs": [
    {
     "name": "stdout",
     "output_type": "stream",
     "text": [
      "(636,)\n"
     ]
    },
    {
     "data": {
      "image/png": "[encoded data removed]",
      "text/plain": [
       "<Figure size 432x288 with 1 Axes>"
      ]
     },
     "metadata": {
      "needs_background": "light"
     },
     "output_type": "display_data"
    }
   ],
   "source": [
    "if \"pca\" in algo_active_list:\n",
    "    run_and_plot_PDA(df_full,df_geo_full_expanded,subset=\"South East Asia\",inverse=True,grouping_level=\"region\",n_components=2,title_graph=\"PCA All Regions except SEA\")"
   ]
  },
  {
   "cell_type": "code",
   "execution_count": 207,
   "metadata": {},
   "outputs": [
    {
     "name": "stdout",
     "output_type": "stream",
     "text": [
      "(636,)\n"
     ]
    },
    {
     "data": {
      "image/png": "[encoded data removed]",
      "text/plain": [
       "<Figure size 432x288 with 1 Axes>"
      ]
     },
     "metadata": {
      "needs_background": "light"
     },
     "output_type": "display_data"
    }
   ],
   "source": [
    "if \"pca\" in algo_active_list:\n",
    "    run_and_plot_PDA(df_full,df_geo_full_expanded,subset=\"South East Asia\",inverse=False,grouping_level=\"Location\",n_components=2,title_graph=\"SEA locations\")"
   ]
  },
  {
   "cell_type": "code",
   "execution_count": 208,
   "metadata": {},
   "outputs": [
    {
     "name": "stdout",
     "output_type": "stream",
     "text": [
      "(636,)\n"
     ]
    },
    {
     "data": {
      "image/png": "[encoded data removed]",
      "text/plain": [
       "<Figure size 432x288 with 1 Axes>"
      ]
     },
     "metadata": {
      "needs_background": "light"
     },
     "output_type": "display_data"
    }
   ],
   "source": [
    "if \"pca\" in algo_active_list:\n",
    "    run_and_plot_PDA(df_full,df_geo_full_expanded,subset=\"East Africa\",inverse=False,grouping_level=\"Location\",n_components=2,title_graph=\"East Africa locations\")"
   ]
  },
  {
   "cell_type": "code",
   "execution_count": 209,
   "metadata": {},
   "outputs": [
    {
     "name": "stdout",
     "output_type": "stream",
     "text": [
      "(636,)\n"
     ]
    },
    {
     "data": {
      "image/png": "[encoded data removed]",
      "text/plain": [
       "<Figure size 432x288 with 1 Axes>"
      ]
     },
     "metadata": {
      "needs_background": "light"
     },
     "output_type": "display_data"
    }
   ],
   "source": [
    "if \"pca\" in algo_active_list:\n",
    "    run_and_plot_PDA(df_full,df_geo_full_expanded,subset=\"West Africa\",inverse=False,grouping_level=\"Location\",n_components=2,title_graph=\"West Africa locations\")"
   ]
  }
 ],
 "metadata": {
  "kernelspec": {
   "display_name": "Python 2",
   "language": "python",
   "name": "python2"
  },
  "language_info": {
   "codemirror_mode": {
    "name": "ipython",
    "version": 2
   },
   "file_extension": ".py",
   "mimetype": "text/x-python",
   "name": "python",
   "nbconvert_exporter": "python",
   "pygments_lexer": "ipython2",
   "version": "2.7.16"
  },
  "toc": {
   "base_numbering": 1,
   "nav_menu": {},
   "number_sections": true,
   "sideBar": true,
   "skip_h1_title": false,
   "title_cell": "Table of Contents",
   "title_sidebar": "Contents",
   "toc_cell": false,
   "toc_position": {
    "height": "calc(100% - 180px)",
    "left": "10px",
    "top": "150px",
    "width": "165px"
   },
   "toc_section_display": true,
   "toc_window_display": true
  }
 },
 "nbformat": 4,
 "nbformat_minor": 2
}
